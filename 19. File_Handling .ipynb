{
 "cells": [
  {
   "attachments": {},
   "cell_type": "markdown",
   "id": "0cb184ba",
   "metadata": {},
   "source": [
    "# File Handling"
   ]
  },
  {
   "cell_type": "code",
   "execution_count": null,
   "id": "cb03881e",
   "metadata": {},
   "outputs": [],
   "source": [
    "# As the part of programming requirement, we have to store our data permanently for future purpose. \n",
    "# For this requirement we should go for files."
   ]
  },
  {
   "cell_type": "code",
   "execution_count": null,
   "id": "63af1b13",
   "metadata": {},
   "outputs": [],
   "source": [
    "# 1. Text Files:\n",
    "\n",
    "# Usually we can use text files to store character data\n",
    "# eg: abc.txt\n",
    "\n",
    "\n",
    "# 2. Binary Files:\n",
    "\n",
    "# Usually we can use binary files to store binary data like images,video files, audio files etc...\n"
   ]
  },
  {
   "cell_type": "code",
   "execution_count": null,
   "id": "0f5b203e",
   "metadata": {},
   "outputs": [],
   "source": [
    "# Opening a File:\n",
    "\n",
    "# Before performing any operation (like read or write) on the file,first we have to open that file.\n",
    "# For this we should use Python's inbuilt function open()\n",
    "# But at the time of open, we have to specify mode, which represents the purpose of opening the file.\n",
    "\n",
    "# opening file.\n",
    "# f = open(filename, mode)"
   ]
  },
  {
   "attachments": {},
   "cell_type": "markdown",
   "id": "00920a00",
   "metadata": {},
   "source": [
    "                                                            Text Files"
   ]
  },
  {
   "cell_type": "code",
   "execution_count": null,
   "id": "f27d771b",
   "metadata": {},
   "outputs": [],
   "source": [
    "# open file and create file\n",
    "\n",
    "f = open(\"abc.txt\",\"w\") \n",
    "\n",
    "print(\"File Name: \",f.name) \n",
    "print(\"File Mode: \",f.mode) \n",
    "print(\"Is File Readable: \",f.readable()) \n",
    "print(\"Is File Writable: \",f.writable()) \n",
    "print(\"Is File Closed : \",f.closed) \n",
    "f.close() \n",
    "print(\"Is File Closed : \",f.closed)\n",
    "# print(\"Is File Writable: \",f.writable())\n",
    "print(\"Is File Readable: \",f.readable())"
   ]
  },
  {
   "cell_type": "code",
   "execution_count": null,
   "id": "252ec42a",
   "metadata": {},
   "outputs": [],
   "source": [
    "# Various properties of File Object:\n",
    "\n",
    "# Once we opend a file and we got file object, we can get various details related to that file by using its properties.\n",
    "\n",
    "# name       -->    Name of opened file\n",
    "# mode       -->    Mode in which the file is opened\n",
    "# closed     -->    Returns boolean value indicates that file is closed or not\n",
    "# readable() -->    Returns boolean value indicates that whether file is readable or not\n",
    "# writable() -->    Returns boolean value indicates that whether file is writable or not.\n"
   ]
  },
  {
   "cell_type": "code",
   "execution_count": null,
   "id": "4161c3c5",
   "metadata": {},
   "outputs": [],
   "source": [
    "# 1. r \n",
    "\n",
    "# --> open an existing file for read operation. \n",
    "\n",
    "# The file pointer is positioned at the beginning of the file.\n",
    "# If the specified file does not exist then we will get \n",
    "# FileNotFoundError. This is default mode."
   ]
  },
  {
   "cell_type": "code",
   "execution_count": null,
   "id": "370888ea",
   "metadata": {},
   "outputs": [],
   "source": [
    "f = open(\"abcd.txt\",'r')\n",
    "data=f.read() \n",
    "print(data)\n",
    "\n",
    "print()\n",
    "f = open(\"abcd.txt\",'r')\n",
    "data1=f.read(10) \n",
    "print(data1)"
   ]
  },
  {
   "cell_type": "code",
   "execution_count": null,
   "id": "707d4919",
   "metadata": {},
   "outputs": [],
   "source": [
    "f=open(\"asdf.txt\",'r') # error"
   ]
  },
  {
   "cell_type": "code",
   "execution_count": null,
   "id": "595aa0ad",
   "metadata": {},
   "outputs": [],
   "source": [
    "# 2. w \n",
    "\n",
    "# --> open an existing file for write operation.\n",
    "\n",
    "# If the file already contains some data then it will be overridden. \n",
    "# If the specified file is not already avaialble then this mode will create that file."
   ]
  },
  {
   "cell_type": "code",
   "execution_count": null,
   "id": "34720b33",
   "metadata": {},
   "outputs": [],
   "source": [
    "# Writing data to text files:\n",
    "\n",
    "# We can write character data to the text files by using the following 2 methods.\n",
    "# write(str)\n",
    "# writelines(list of lines)\n",
    "\n",
    "# Eg 1:   \n",
    "# write(str) -- is used to write a string to an already opened file\n",
    "\n",
    "f=open(\"abcd.txt\",'w') \n",
    "f.write(\"India is my country..!!\\n\") \n",
    "f.write(\"Capital city is delhi..!!\\n\") \n",
    "f.write(\"From now on, I'll connect the dots my own way..!!\\n\") \n",
    "\n",
    "print(\"Data written to the file successfully\") \n",
    "f.close() \n",
    "\n",
    "# Eg 2: \n",
    "# writelines -- is used to write a list of strings in an opened file\n",
    "\n",
    "f=open(\"abcd.txt\",'w')\n",
    "list=[\"Shaun\\n\",\"brett\\n\",\"Mathew\\n\",\"Michal\"]\n",
    "f.writelines(list)\n",
    "print(\"List of lines written to the file successfully\")\n",
    "f.close()\n",
    "\n",
    "\n",
    "# Note: In the above program, data present in the file will be overridden everytime if we run the program.\n"
   ]
  },
  {
   "cell_type": "code",
   "execution_count": null,
   "id": "dbe2ca3d",
   "metadata": {},
   "outputs": [],
   "source": [
    "f=open(\"abcd.txt\",'r')\n",
    "data = f.read()\n",
    "print(data)\n",
    "\n",
    "current_pos = data.tell()\n",
    "data.seek(5, 1)  # Move 5 bytes forward from current position"
   ]
  },
  {
   "cell_type": "code",
   "execution_count": null,
   "id": "7bff2f0f",
   "metadata": {},
   "outputs": [],
   "source": [
    "with open(\"myfile.txt\", \"w\") as file:\n",
    "    file.write(\"This is a long file.\")\n",
    "    file.seek(10)\n",
    "    file.truncate()  # Truncates to the first 10 bytes\n"
   ]
  },
  {
   "cell_type": "code",
   "execution_count": null,
   "id": "3b4d7d2d",
   "metadata": {},
   "outputs": [],
   "source": []
  },
  {
   "cell_type": "code",
   "execution_count": null,
   "id": "cbd9af13",
   "metadata": {},
   "outputs": [],
   "source": [
    "# 3. a \n",
    "\n",
    "# --> open an existing file for append operation.\n",
    "\n",
    "# It won't override existing data.\n",
    "# The pointer of the file is at the end of the file if the file exists. \n",
    "# If the specified file is not already avaialble then this mode will create a new file."
   ]
  },
  {
   "cell_type": "code",
   "execution_count": null,
   "id": "fe51d260",
   "metadata": {},
   "outputs": [],
   "source": [
    "# Instead of overriding if we want append operation then we should open the file as follows.\n",
    "\n",
    "f = open(\"abcd.txt\",\"a\")\n",
    "\n",
    "f.write(\"India is my country..!!\\n\") \n",
    "f.write(\"Capital city is delhi..!!\\n\")\n",
    "f.write(\"From now on, I'll connect the dots my own way..!!\\n\") \n",
    "\n",
    "print(\"data append successfully\") \n",
    "f.close() "
   ]
  },
  {
   "cell_type": "code",
   "execution_count": null,
   "id": "d6b2d756",
   "metadata": {},
   "outputs": [],
   "source": [
    "# 4. r+ \n",
    "\n",
    "# --> To read and write data into the file. \n",
    "\n",
    "# The file pointer is placed at the beginning of the file.\n",
    "# It will not override existing data in the file.\n",
    "# If the specified file does not exist then we will get \n",
    "# FileNotFoundError.This is default mode."
   ]
  },
  {
   "cell_type": "code",
   "execution_count": null,
   "id": "f6881397",
   "metadata": {},
   "outputs": [],
   "source": [
    "# Open the file in \"r+\" mode\n",
    "\n",
    "# file = open(\"example.txt\",\"w\")\n",
    "\n",
    "file = open(\"example.txt\", \"r+\")\n",
    "\n",
    "data = file.read() # Read the existing data from the file\n",
    "\n",
    "print(\"Existing data in the file:\")\n",
    "print(data) # Print the data\n",
    "\n",
    "# file.seek(0) # Move the file pointer to the beginning of the file\n",
    "\n",
    "file.write(\"\\nThis is new data that has been added to the file.\") # Write new data to the file\n",
    "\n",
    "# file.seek(0) # Move the file pointer back to the beginning of the file\n",
    "\n",
    "updated_data = file.read() # Read the updated data from the file\n",
    "\n",
    "print(\"Updated data in the file:\")\n",
    "print(updated_data) # Print the updated data\n",
    "\n",
    " \n",
    "file.close() # Close the file\n"
   ]
  },
  {
   "cell_type": "code",
   "execution_count": null,
   "id": "09554b95",
   "metadata": {},
   "outputs": [],
   "source": [
    "# 5. w+ \n",
    "\n",
    "# --> To write and read data. \n",
    "\n",
    "# It will override existing data.\n",
    "# If the specified file is not already avaialble then this mode will create that file."
   ]
  },
  {
   "cell_type": "code",
   "execution_count": null,
   "id": "de8265be",
   "metadata": {},
   "outputs": [],
   "source": [
    "# Open the file in \"w+\" mode\n",
    "\n",
    "file = open(\"example.txt\", \"w+\")\n",
    "\n",
    "\n",
    "file.write(\"Hello, World!\") # Write data to the file\n",
    "\n",
    "file.seek(0) # Move the file pointer to the beginning of the file\n",
    "\n",
    "data = file.read() # Read the data from the file\n",
    "\n",
    "print(data) # Print the data\n",
    "\n",
    "\n",
    "file.close() # Close the file\n"
   ]
  },
  {
   "cell_type": "code",
   "execution_count": null,
   "id": "bc038cd3",
   "metadata": {},
   "outputs": [],
   "source": [
    "# 6. a+ \n",
    "\n",
    "# --> To append and read data from the file. \n",
    "\n",
    "# It won't override existing data.\n",
    "# The pointer of the file is at the end of the file if the file exists. \n",
    "# If the specified file is not already avaialble then this mode will create a new file."
   ]
  },
  {
   "cell_type": "code",
   "execution_count": null,
   "id": "2319c2dd",
   "metadata": {},
   "outputs": [],
   "source": [
    "# Open the file in \"a+\" mode\n",
    "\n",
    "file = open(\"example.txt\", \"a+\")\n",
    "\n",
    "\n",
    "file.write(\"\\nThis is some new data that has been appended to the file.\") # Append data to the file\n",
    "\n",
    "file.seek(0) # Move the file pointer to the beginning of the file\n",
    "\n",
    "data = file.read() # Read the data from the file\n",
    "\n",
    "print(data) # Print the data\n",
    "\n",
    "\n",
    "file.close() # Close the file\n"
   ]
  },
  {
   "cell_type": "code",
   "execution_count": null,
   "id": "870193f1",
   "metadata": {},
   "outputs": [],
   "source": [
    "# 1. r\n",
    "#...\n",
    "# Reading Character Data from text files:\n",
    "    \n",
    "# We can read character data from text file by using the following read methods:\n",
    "\n",
    "# read()        -->   To read total data from the file\n",
    "# read(n)       -->   To read 'n' characters from the file\n",
    "# readline()    -->   To read only one line\n",
    "# readlines()   -->   To read all lines into a list"
   ]
  },
  {
   "cell_type": "code",
   "execution_count": null,
   "id": "75d10cd4",
   "metadata": {},
   "outputs": [],
   "source": [
    "# Eg 1: To read total data from the file\n",
    "\n",
    "f=open(\"abcd.txt\",'r') \n",
    "data=f.read() \n",
    "print(data) \n",
    "f.close() "
   ]
  },
  {
   "cell_type": "code",
   "execution_count": null,
   "id": "188f091d",
   "metadata": {},
   "outputs": [],
   "source": [
    "# Eg 2: To read only first 10 characters:\n",
    "\n",
    "f=open(\"abcd.txt\",'r') \n",
    "data=f.read(10) \n",
    "print(data) \n",
    "f.close()"
   ]
  },
  {
   "cell_type": "code",
   "execution_count": 4,
   "id": "43972eca",
   "metadata": {},
   "outputs": [
    {
     "name": "stdout",
     "output_type": "stream",
     "text": [
      "Shaun\n",
      "brett\n",
      "Mathew\n"
     ]
    }
   ],
   "source": [
    "# Eg 3: To read data line by line:\n",
    "\n",
    "f=open(\"abcd.txt\",'r') \n",
    "\n",
    "line1=f.readline() \n",
    "print(line1,end='') \n",
    "\n",
    "line2=f.readline() \n",
    "print(line2,end='') \n",
    "\n",
    "line3=f.readline() \n",
    "print(line3,end='') \n",
    "\n",
    "f.close()"
   ]
  },
  {
   "cell_type": "code",
   "execution_count": 1,
   "id": "e6f23510",
   "metadata": {},
   "outputs": [
    {
     "name": "stdout",
     "output_type": "stream",
     "text": [
      "Shaun\n",
      "\n",
      "brett\n",
      "\n",
      "Mathew\n",
      "\n",
      "MichalIndia is my country..!!\n",
      "\n",
      "Capital city is delhi..!!\n",
      "\n",
      "From now on, I'll connect the dots my own way..!!\n",
      "\n"
     ]
    }
   ],
   "source": [
    "# Eg 4: To read all lines into list:\n",
    "\n",
    "f=open(\"abcd.txt\",'r') \n",
    "\n",
    "lines = f.readlines() \n",
    "\n",
    "for line in lines:\n",
    "    print((line))\n",
    "\n",
    "f.close()"
   ]
  },
  {
   "cell_type": "code",
   "execution_count": null,
   "id": "9f676d15",
   "metadata": {},
   "outputs": [],
   "source": [
    "# tell() method:\n",
    "\n",
    "# The tell() method returns the current file position in a file stream.\n",
    "\n",
    "\n",
    "f = open(\"abcd.txt\",\"r\") \n",
    "\n",
    "print(f.tell())\n",
    "\n",
    "print(f.read(5)) \n",
    "print(f.tell())\n",
    "\n",
    "print(f.read(7)) \n",
    "print(f.tell()) \n",
    "\n",
    "print(f.read(9)) \n"
   ]
  },
  {
   "cell_type": "code",
   "execution_count": null,
   "id": "67a3be59",
   "metadata": {},
   "outputs": [],
   "source": [
    "# seek() method:\n",
    "\n",
    "# In Python, seek() function is used to change the position of the File Handle to a given specific position. \n",
    "    # File handle is like a cursor, which defines from where the data has to be read or written in the file.\n",
    "\n",
    "print(f.read(5)) \n",
    "print(f.tell())\n",
    "\n",
    "f.seek(12) # now the cursor is shifter to 12th position\n",
    "\n",
    "print(f.read(10))  # hence this will read from 12th position\n",
    "print(f.tell()) \n"
   ]
  },
  {
   "attachments": {},
   "cell_type": "markdown",
   "id": "88845bee",
   "metadata": {},
   "source": [
    "Closing file"
   ]
  },
  {
   "cell_type": "code",
   "execution_count": null,
   "id": "806c6ff4",
   "metadata": {},
   "outputs": [],
   "source": [
    "# closing a file is important the reason being:\n",
    "\n",
    "# -- Freeing up system resources\n",
    "# -- Saving changes to the file\n",
    "# -- Preventing data corruption"
   ]
  },
  {
   "cell_type": "code",
   "execution_count": null,
   "id": "212682a7",
   "metadata": {},
   "outputs": [],
   "source": [
    "# 1. using close() function\n",
    "\n",
    "f = open(\"Brainwork.txt\",\"w\")\n",
    "f.write(\"Java full stack \\n\")\n",
    "f.write(\"Python full stack \\n\")\n",
    "f.write(\"SalesForce \\n\")\n",
    "f.write(\"DataScience \\n\")\n",
    "f.close()\n",
    "\n",
    "# it may happen that one of the statements before f.close() may show an error. then the close() function would not be executed\n"
   ]
  },
  {
   "cell_type": "code",
   "execution_count": null,
   "id": "ec3cda64",
   "metadata": {},
   "outputs": [],
   "source": [
    "# 2. using exception handling\n",
    "\n",
    "# to avoid the above mentioned proplem exception handling is used.\n",
    "\n",
    "try:\n",
    "    f = open(\"Brainwork.txt\",\"w\")\n",
    "    f.write(\"Java full stack \\n\")\n",
    "    f.write(\"Python full stack \\n\")\n",
    "    f.write(\"SalesForce \\n\")\n",
    "    f.write(\"DataScience \\n\")\n",
    "finally:\n",
    "    f.close()\n"
   ]
  },
  {
   "cell_type": "code",
   "execution_count": null,
   "id": "da4d0eb0",
   "metadata": {},
   "outputs": [],
   "source": [
    "# 3. using the with statement:\n",
    "    \n",
    "# The with statement can be used while opening a file. \n",
    "# We can use this to group file operation statements within a block.\n",
    "\n",
    "# The advantage of with statement is it will take care of closing the file, \n",
    "    # after completing all operations automatically even in the case of exceptions also, and we are not required to close explicitly.\n",
    "\n",
    "# -- can be used as a block\n",
    "# -- file closes automatically"
   ]
  },
  {
   "cell_type": "code",
   "execution_count": null,
   "id": "ed071a19",
   "metadata": {},
   "outputs": [],
   "source": [
    "# syntax:\n",
    "\n",
    "    # with open('dile_name',mode) as f:\n",
    "        # -- operations --"
   ]
  },
  {
   "cell_type": "code",
   "execution_count": null,
   "id": "5b919301",
   "metadata": {},
   "outputs": [],
   "source": [
    "\n",
    "with open(\"abc.txt\",\"w\") as f: \n",
    "    f.write(\"Hiii\\n\") \n",
    "    f.write(\"Hellooo\\n\") \n",
    "    f.write(\"Good Morning\\n\")\n",
    "    \n",
    "\n",
    "print(\"Is File Closed:\",f.closed) \n",
    "\n",
    "f = open('abc.txt','r')\n",
    "f.read()"
   ]
  },
  {
   "cell_type": "code",
   "execution_count": null,
   "id": "5944c020",
   "metadata": {},
   "outputs": [],
   "source": [
    "\n",
    "with open('file.txt', 'w+') as f:   # create a new file or truncates it\n",
    "    f.write(\"test 1\\n\")\n",
    "    f.write(\"test 2\\n\")\n",
    "    f.write(\"test 3\\n\") \n",
    "\n",
    "\n",
    "f.read() # error because the file is closed"
   ]
  },
  {
   "attachments": {},
   "cell_type": "markdown",
   "id": "69e8015b",
   "metadata": {},
   "source": [
    "                                                            csv files"
   ]
  },
  {
   "cell_type": "code",
   "execution_count": null,
   "id": "7ef4adcf",
   "metadata": {},
   "outputs": [],
   "source": [
    "# Handling csv files: \n",
    "\n",
    "# CSV --> Comma seperated values\n",
    "\n",
    "# As the part of programming, it is very common requirement to write and read data wrt csv files. \n",
    "# Python provides csv module to handle csv files.\n"
   ]
  },
  {
   "cell_type": "code",
   "execution_count": null,
   "id": "5efbce71",
   "metadata": {},
   "outputs": [],
   "source": [
    "import csv\n",
    "\n",
    "with open(\"emp.csv\",\"w\",newline='') as f: \n",
    "    w = csv.writer(f) # ---------------------------> returns csv writer object \n",
    "    w.writerow([\"ENO\",\"ENAME\",\"ESAL\",\"EADDR\"]) \n",
    "    \n",
    "    n = int(input(\"Enter Number of Employees:\")) \n",
    "    \n",
    "    for i in range(n): \n",
    "        eno=input(\"Enter Employee No:\") \n",
    "        ename=input(\"Enter Employee Name:\") \n",
    "        esal=input(\"Enter Employee Salary:\") \n",
    "        eaddr=input(\"Enter Employee Address:\") \n",
    "        w.writerow([eno,ename,esal,eaddr]) \n",
    "        \n",
    "print(\"Total Employees data written to csv file successfully\")"
   ]
  },
  {
   "cell_type": "code",
   "execution_count": null,
   "id": "51f8b7a6",
   "metadata": {},
   "outputs": [],
   "source": [
    "# error ?????\n",
    "\n",
    "\n",
    "import csv \n",
    "\n",
    "f=open(\"emp.csv\",'r') \n",
    "r=csv.reader(f) #returns csv reader object \n",
    "data = list(r) \n",
    "\n",
    "#print(data) \n",
    "for line in data: \n",
    "    for word in line: \n",
    "        print(word,\"\\t\",end='') \n",
    "    print()"
   ]
  },
  {
   "attachments": {},
   "cell_type": "markdown",
   "id": "e8677eba",
   "metadata": {},
   "source": [
    "# Exercises"
   ]
  },
  {
   "cell_type": "code",
   "execution_count": null,
   "id": "794e74a6",
   "metadata": {},
   "outputs": [],
   "source": [
    "# 1. r+ --> Read and write a file\n"
   ]
  },
  {
   "cell_type": "code",
   "execution_count": null,
   "id": "c4d45bfe",
   "metadata": {},
   "outputs": [],
   "source": [
    "# exercise\n",
    "\n",
    "file = open(\"myfile.txt\",\"r+\") \n",
    "file.write(\"India is my country..!!\\n\") \n",
    "file.write(\"Capital city is delhi..!!\\n\") \n",
    "file.write(\"From now on, I'll connect the dots my own way..!!\\n\") \n",
    "\n",
    "data = file.read()\n",
    "print(data)"
   ]
  },
  {
   "cell_type": "code",
   "execution_count": null,
   "id": "590f4f01",
   "metadata": {},
   "outputs": [],
   "source": [
    "# exercise\n",
    "\n",
    "f = open(\"Brainwork.txt\",\"w\")\n",
    "f.write(\"Java full stack \\n\")\n",
    "f.write(\"Python full stack \\n\")\n",
    "f.write(\"SalesForce \\n\")\n",
    "f.write(\"DataScience \\n\")\n",
    "f.close()\n",
    "\n",
    "# look if the file is created"
   ]
  },
  {
   "cell_type": "code",
   "execution_count": null,
   "id": "4e4a7623",
   "metadata": {},
   "outputs": [],
   "source": [
    "# exercise\n",
    "\n",
    "f = open(\"India.txt\",\"w\")\n",
    "f.write(\"Maharashtra \\n\")\n",
    "f.write(\"karnatka \\n\")\n",
    "f.write(\"Andhra pradesh \\n\")\n",
    "f.write(\"Rajasthan \\n\")\n",
    "f.close()\n",
    "\n",
    "with open('India.txt', 'r+') as f:\n",
    "    f.read()                # move file pointer to the end of the file.\n",
    "    f.write(\"West bengal \\n\")\n",
    "    f.write(\"Bihar \\n\")"
   ]
  },
  {
   "cell_type": "code",
   "execution_count": null,
   "id": "807c6c49",
   "metadata": {},
   "outputs": [],
   "source": [
    "# 2. w+ --> adds reading file to the existing w mode."
   ]
  },
  {
   "cell_type": "code",
   "execution_count": null,
   "id": "6a78eee6",
   "metadata": {},
   "outputs": [],
   "source": [
    "with open('file.txt', 'w+') as f:   # create a new file or truncates it\n",
    "    f.write(\"test 1\\n\")\n",
    "    f.write(\"test 2\\n\")\n",
    "    f.write(\"test 3\\n\") \n",
    " "
   ]
  },
  {
   "cell_type": "code",
   "execution_count": null,
   "id": "cbe1b39b",
   "metadata": {},
   "outputs": [],
   "source": [
    "with open('file.txt', 'w+') as f:   # create a new file or truncates it\n",
    "    f.write(\"test 1\\n\")\n",
    "    f.write(\"test 2\\n\")\n",
    "    f.write(\"test 3\\n\")             # now the file pointer is at the end\n",
    "    f.seek(0)                       # move the file pointer to the beginning\n",
    "    lines = f.read()                # read it, now we can read!\n",
    "    print(lines)     "
   ]
  },
  {
   "cell_type": "code",
   "execution_count": null,
   "id": "1949f9e1",
   "metadata": {},
   "outputs": [],
   "source": [
    "# 3. a --> Append file "
   ]
  },
  {
   "cell_type": "code",
   "execution_count": null,
   "id": "5c9f2cb5",
   "metadata": {},
   "outputs": [],
   "source": [
    "with open('file.txt', 'a') as f:\n",
    "    f.write(\"5\")\n",
    "    f.write(\"6\")"
   ]
  },
  {
   "cell_type": "code",
   "execution_count": null,
   "id": "dba8cb1c",
   "metadata": {},
   "outputs": [],
   "source": [
    "with open('file.txt', 'a+') as f:\n",
    "    f.seek(0)                       # file pointer at end, move to beginning\n",
    "    lines = f.readlines()           # read all and file pointer at end again\n",
    "    f.write(\"\\n\" + str(len(lines))) # append number of lines to a file"
   ]
  },
  {
   "cell_type": "code",
   "execution_count": null,
   "id": "7a5e5937",
   "metadata": {},
   "outputs": [],
   "source": [
    "# exercise\n",
    "\n",
    "try:\n",
    "    file = open(\"file.txt\", \"r\")\n",
    "    file_contents = file.read()\n",
    "    print(file_contents)\n",
    "except FileNotFoundError:\n",
    "    print(\"The file does not exist.\")\n",
    "except Exception as e:\n",
    "    print(\"Something went wrong: \", e)\n",
    "finally:\n",
    "    if file:\n",
    "        file.close()\n",
    "    print(\"End of program.\")\n"
   ]
  },
  {
   "cell_type": "code",
   "execution_count": null,
   "id": "d350f114",
   "metadata": {},
   "outputs": [],
   "source": [
    "# exercise\n",
    "\n",
    "try:\n",
    "    file = open(\"file.txt\", \"w\")\n",
    "    file_contents = file.read()\n",
    "    print(file_contents)\n",
    "except FileNotFoundError:\n",
    "    print(\"The file does not exist.\")\n",
    "except Exception as e:\n",
    "    print(\"Something went wrong: \", e)\n",
    "finally:\n",
    "    if file:\n",
    "        file.close()\n",
    "    print(\"End of program.\")\n"
   ]
  },
  {
   "cell_type": "code",
   "execution_count": null,
   "id": "5f834058",
   "metadata": {},
   "outputs": [],
   "source": [
    "# ??????\n",
    "\n",
    "import os,sys\n",
    "fname=input(\"Enter File Name: \")\n",
    "if os.path.isfile(fname):\n",
    "    print(\"File exists:\",fname)\n",
    "    f=open(fname,\"r\")\n",
    "else:\n",
    "    print(\"File does not exist:\",fname)\n",
    "    sys.exit(0)\n",
    "\n",
    "print(\"The content of file is:\")\n",
    "data=f.read()\n",
    "print(data)"
   ]
  },
  {
   "cell_type": "code",
   "execution_count": null,
   "id": "a4e1fdc9",
   "metadata": {},
   "outputs": [],
   "source": []
  }
 ],
 "metadata": {
  "kernelspec": {
   "display_name": "Python 3 (ipykernel)",
   "language": "python",
   "name": "python3"
  },
  "language_info": {
   "codemirror_mode": {
    "name": "ipython",
    "version": 3
   },
   "file_extension": ".py",
   "mimetype": "text/x-python",
   "name": "python",
   "nbconvert_exporter": "python",
   "pygments_lexer": "ipython3",
   "version": "3.11.3"
  }
 },
 "nbformat": 4,
 "nbformat_minor": 5
}

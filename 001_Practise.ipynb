{
  "cells": [
    {
      "cell_type": "markdown",
      "source": [
        "<table align=\"left\">\n",
        "  <td>\n",
        "    <a href=\"https://colab.research.google.com/github/pavanhalde21/Python_lecture_files/blob/dev_pavan_branch/001_Practise.ipynb\" target=\"_parent\"><img src=\"https://colab.research.google.com/assets/colab-badge.svg\" alt=\"Open In Colab\"/></a>\n",
        "  </td>\n",
        "</table>"
      ],
      "metadata": {
        "id": "5A3ahj5P-bl0"
      }
    },
    {
      "cell_type": "code",
      "execution_count": null,
      "metadata": {
        "id": "WtBVtPMs-a4l",
        "outputId": "a49a71f1-779e-48f0-eb31-ab4d404e7a09"
      },
      "outputs": [
        {
          "name": "stdout",
          "output_type": "stream",
          "text": [
            "God was Ram\n"
          ]
        }
      ],
      "source": [
        "# 1. reverse words in a sentence\n",
        "\n",
        "a = \"Ram was God\"\n",
        "l = a.split()\n",
        "\n",
        "l.reverse()\n",
        "s1 = \" \".join(l)\n",
        "print(s1)\n",
        "print(s1,s1,s1,s1)"
      ]
    },
    {
      "cell_type": "code",
      "execution_count": null,
      "metadata": {
        "id": "K0YsFQN5-a4o",
        "outputId": "7de83818-7086-4649-f462-96d423fdfc5c"
      },
      "outputs": [
        {
          "name": "stdout",
          "output_type": "stream",
          "text": [
            "God was Ram \n"
          ]
        }
      ],
      "source": [
        "# 2. reverse words in a sentence\n",
        "\n",
        "a = \"Ram was God\"\n",
        "l = a.split(' ')\n",
        "\n",
        "c = ''\n",
        "\n",
        "for i in l:\n",
        "    c = i+' '+c\n",
        "\n",
        "print(c)\n"
      ]
    },
    {
      "cell_type": "code",
      "execution_count": null,
      "metadata": {
        "id": "Ruegf0t--a4o",
        "outputId": "91806b7e-f160-4dea-f124-3a6ce0a974bc"
      },
      "outputs": [
        {
          "name": "stdout",
          "output_type": "stream",
          "text": [
            "10\n"
          ]
        }
      ],
      "source": [
        "# 3. longest string in a list\n",
        "\n",
        "languages = ['Python', 'Java', 'JavaScript', 'C', 'C++', 'PHP']\n",
        "\n",
        "longest = None\n",
        "for i in languages:\n",
        "    if longest == None:\n",
        "        longest = i\n",
        "    elif len(i) > len(longest):\n",
        "        longest = i\n",
        "\n",
        "print(len(longest))\n"
      ]
    },
    {
      "cell_type": "code",
      "execution_count": null,
      "metadata": {
        "id": "tRQ-kxno-a4p",
        "outputId": "168c4007-a350-43f5-b113-11308ac86c54"
      },
      "outputs": [
        {
          "name": "stdout",
          "output_type": "stream",
          "text": [
            "10\n"
          ]
        }
      ],
      "source": [
        "# 4. longest string in a list\n",
        "\n",
        "la = ['Python', 'Java', 'JavaScript', 'C', 'C++', 'PHP']\n",
        "\n",
        "b = len(la[0])\n",
        "for i in la:\n",
        "    if len(i)>b:\n",
        "        b=len(i)\n",
        "\n",
        "print(b)"
      ]
    },
    {
      "cell_type": "code",
      "execution_count": null,
      "metadata": {
        "id": "v6O290WL-a4p",
        "outputId": "493a5476-8d7e-4b51-b7fd-c7ce1501e754"
      },
      "outputs": [
        {
          "name": "stdout",
          "output_type": "stream",
          "text": [
            "21.333333333333332\n"
          ]
        }
      ],
      "source": [
        "# 5. average of ages\n",
        "\n",
        "d1 = {'ram': 20, 'sita': 26, 'laxman': 18}\n",
        "\n",
        "sum = 0\n",
        "for i,j in enumerate(d1.values()):\n",
        "    sum += j\n",
        "\n",
        "\n",
        "avg = sum/(i+1)\n",
        "\n",
        "print(avg)\n"
      ]
    },
    {
      "cell_type": "code",
      "execution_count": null,
      "metadata": {
        "id": "JDBC_AaB-a4p"
      },
      "outputs": [],
      "source": [
        "# 6. shortest length of a string\n",
        "\n",
        "languages = ['Python', 'Java', 'JavaScript', 'C', 'C++', 'PHP']\n",
        "\n",
        "shortest = None\n",
        "for i in languages:\n",
        "    if shortest == None:\n",
        "        shortest = i\n",
        "    elif len(i) < len(shortest):\n",
        "        shortest = i\n",
        "\n",
        "print(len(shortest))"
      ]
    },
    {
      "cell_type": "code",
      "execution_count": null,
      "metadata": {
        "id": "GYDqCR_4-a4p",
        "outputId": "6930e15e-d8cb-4b0a-8994-ac428032d44f"
      },
      "outputs": [
        {
          "name": "stdout",
          "output_type": "stream",
          "text": [
            "sita\n"
          ]
        }
      ],
      "source": [
        "# 7. oldest person\n",
        "\n",
        "l1 = [('ram',20),('sita',26),('laxman',18)]\n",
        "\n",
        "old = None\n",
        "for i in l1:\n",
        "    if old == None:\n",
        "        old = i[1]\n",
        "        name_old = i[0]\n",
        "    elif i[1] > old:\n",
        "        old = i[1]\n",
        "        name_old = i[0]\n",
        "\n",
        "print(name_old)"
      ]
    },
    {
      "cell_type": "code",
      "execution_count": null,
      "metadata": {
        "id": "9EVLoFXm-a4q",
        "outputId": "746ff426-29d6-41d0-9ef9-727cb7435e04"
      },
      "outputs": [
        {
          "name": "stdout",
          "output_type": "stream",
          "text": [
            "sita\n"
          ]
        }
      ],
      "source": [
        "l1 = [('ram',20),('sita',26),('laxman',18)]\n",
        "\n",
        "s = l1[0][1]\n",
        "n = l1[0][0]\n",
        "\n",
        "for i in l1:\n",
        "    if i[1]> s:\n",
        "        s = i[1]\n",
        "        n = i[0]\n",
        "\n",
        "print(n)\n"
      ]
    },
    {
      "cell_type": "code",
      "execution_count": null,
      "metadata": {
        "id": "PzzfcNjI-a4q",
        "outputId": "9afcadd6-401d-4f70-ef69-9d6f5a7cab6c"
      },
      "outputs": [
        {
          "name": "stdout",
          "output_type": "stream",
          "text": [
            "ram\n",
            "sita\n"
          ]
        }
      ],
      "source": [
        "# 8. print names of people having age greater than 18\n",
        "\n",
        "l1 = [('ram',20),('sita',26),('laxman',18)]\n",
        "\n",
        "for i in l1:\n",
        "    if i[1] > 18:\n",
        "        print(i[0])"
      ]
    },
    {
      "cell_type": "code",
      "execution_count": null,
      "metadata": {
        "id": "SR7vZYUk-a4r",
        "outputId": "ec729653-d610-458a-afd1-c9383b122798"
      },
      "outputs": [
        {
          "name": "stdout",
          "output_type": "stream",
          "text": [
            "ram\n",
            "sita\n"
          ]
        }
      ],
      "source": [
        "# 9. age greater than 18\n",
        "\n",
        "d1 = {'ram': 20, 'sita': 26, 'laxman': 17}\n",
        "\n",
        "for i,j in d1.items():\n",
        "    if j>18:\n",
        "        print(i)"
      ]
    },
    {
      "cell_type": "code",
      "execution_count": null,
      "metadata": {
        "id": "elY2ljNF-a4r",
        "outputId": "db5d2185-1d29-41db-92b6-43913c606a0e"
      },
      "outputs": [
        {
          "name": "stdout",
          "output_type": "stream",
          "text": [
            "avihs\n"
          ]
        }
      ],
      "source": [
        "# 10. reverse string\n",
        "\n",
        "s = \"shiva\"\n",
        "\n",
        "n = ''\n",
        "\n",
        "for i in s:\n",
        "    n = i + n\n",
        "\n",
        "print(n)"
      ]
    },
    {
      "cell_type": "code",
      "execution_count": null,
      "metadata": {
        "id": "qRxySjCr-a4r",
        "outputId": "ca4c96b5-ed7d-4686-dbae-0765a58bb509"
      },
      "outputs": [
        {
          "name": "stdout",
          "output_type": "stream",
          "text": [
            "navap\n"
          ]
        }
      ],
      "source": [
        "\n",
        "s='pavan'\n",
        "\n",
        "c = ''\n",
        "\n",
        "for i in s:\n",
        "    c = i + c\n",
        "\n",
        "print(c)"
      ]
    },
    {
      "cell_type": "code",
      "execution_count": null,
      "metadata": {
        "id": "vejK-WsR-a4r",
        "outputId": "e59af915-fb8e-4b04-d95d-77dc6914c9a2"
      },
      "outputs": [
        {
          "name": "stdout",
          "output_type": "stream",
          "text": [
            "456 123\n"
          ]
        }
      ],
      "source": [
        "# 11. swap numbers without using temperory variable\n",
        "\n",
        "a = 123\n",
        "b = 456\n",
        "\n",
        "a,b = b,a\n",
        "\n",
        "print(a,b)"
      ]
    },
    {
      "cell_type": "code",
      "execution_count": null,
      "metadata": {
        "id": "ppnWGXLY-a4s",
        "outputId": "2cbb1b03-013b-476a-c3d5-7ff706ae1bf1"
      },
      "outputs": [
        {
          "name": "stdout",
          "output_type": "stream",
          "text": [
            "3 1\n"
          ]
        }
      ],
      "source": [
        "a = 1\n",
        "b = 3\n",
        "\n",
        "a=a+b\n",
        "\n",
        "b=a-b\n",
        "a=a-b\n",
        "print(a,b)"
      ]
    },
    {
      "cell_type": "code",
      "execution_count": null,
      "metadata": {
        "id": "nKwJeocM-a4s",
        "outputId": "587ffd2a-9c29-4894-cdaa-4c8ae0ea3b42"
      },
      "outputs": [
        {
          "name": "stdout",
          "output_type": "stream",
          "text": [
            "{'p': 1, 'a': 2, 'v': 1, 'n': 1}\n"
          ]
        }
      ],
      "source": [
        "# 12. number of occurances of a character in a string\n",
        "\n",
        "s = 'pavan'\n",
        "d1 = {}\n",
        "\n",
        "for i in s:\n",
        "    if i not in d1.keys():\n",
        "        d1[i] = 1\n",
        "    else:\n",
        "        d1[i] = d1[i] + 1\n",
        "\n",
        "print(d1)"
      ]
    },
    {
      "cell_type": "code",
      "execution_count": null,
      "metadata": {
        "id": "qqxhr15F-a4s",
        "outputId": "95573049-2bca-4561-c239-ebc1f4aa9f3d"
      },
      "outputs": [
        {
          "name": "stdout",
          "output_type": "stream",
          "text": [
            "{'p': 1, 'a': 2, 'v': 1, 'n': 1}\n"
          ]
        }
      ],
      "source": [
        "s = 'pavan'\n",
        "d2 = {}\n",
        "\n",
        "for i in s:\n",
        "    if i not in d2.keys():\n",
        "        d2[i] = s.count(i)\n",
        "\n",
        "print(d2)"
      ]
    },
    {
      "cell_type": "code",
      "execution_count": null,
      "metadata": {
        "id": "NcXczeHD-a4s",
        "outputId": "c8b5f672-c4dd-43b1-c07b-a8e1109c1299"
      },
      "outputs": [
        {
          "name": "stdout",
          "output_type": "stream",
          "text": [
            "Counter({'a': 2, 'p': 1, 'v': 1, 'n': 1})\n"
          ]
        }
      ],
      "source": [
        "from collections import Counter\n",
        "\n",
        "s = 'pavan'\n",
        "d2 = Counter(s)\n",
        "\n",
        "print(d2)\n"
      ]
    },
    {
      "cell_type": "code",
      "execution_count": null,
      "metadata": {
        "id": "Ye2xlTFV-a4s",
        "outputId": "4f54acb6-22fb-46d6-897c-b9eeed37fc6a"
      },
      "outputs": [
        {
          "name": "stdout",
          "output_type": "stream",
          "text": [
            "[1, 2, 3, 4, 5]\n"
          ]
        }
      ],
      "source": [
        "# 13. remove dublicates from a list and create a new list\n",
        "\n",
        "l = [1,2,2,3,4,3,5]\n",
        "\n",
        "l1 = []\n",
        "\n",
        "for i in l:\n",
        "    if i not in l1:\n",
        "        l1.append(i)\n",
        "\n",
        "print(l1)"
      ]
    },
    {
      "cell_type": "code",
      "execution_count": null,
      "metadata": {
        "id": "-91RkVT3-a4s",
        "outputId": "91d1910f-72f5-4f4a-9f40-17369467d157"
      },
      "outputs": [
        {
          "name": "stdout",
          "output_type": "stream",
          "text": [
            "1716432340544\n",
            "[1, 2, 3, 4, 5]\n",
            "[1, 2, 4, 5]\n",
            "1716432340544\n"
          ]
        }
      ],
      "source": [
        "l = [1,2,2,3,4,3,5]\n",
        "print(id(l))\n",
        "l2 = []\n",
        "l3 = []\n",
        "for i in l:\n",
        "    if i not in l3:\n",
        "        l3.append(i)\n",
        "    else:\n",
        "        l2.append(i)\n",
        "print(l3)\n",
        "\n",
        "for i in l:\n",
        "    if i in l2:\n",
        "        l.remove(i)\n",
        "\n",
        "print(l)\n",
        "print(id(l))\n"
      ]
    },
    {
      "cell_type": "code",
      "execution_count": null,
      "metadata": {
        "id": "pY8ejC-f-a4s",
        "outputId": "86bea8b8-0e3b-4cab-c9b6-9f8aeb9864be"
      },
      "outputs": [
        {
          "name": "stdout",
          "output_type": "stream",
          "text": [
            " My Name Is Pavan\n"
          ]
        }
      ],
      "source": [
        "# 14. convert into title case\n",
        "\n",
        "s = 'my name is pavan'\n",
        "s1 = s.split()\n",
        "s2 = ''\n",
        "\n",
        "for i in s1:\n",
        "    i = i.capitalize()\n",
        "    s2 = s2 + ' ' + i\n",
        "\n",
        "print(s2)\n"
      ]
    },
    {
      "cell_type": "code",
      "execution_count": null,
      "metadata": {
        "id": "IXP8mgHB-a4s"
      },
      "outputs": [],
      "source": [
        "\n",
        "s = 'my name is pavan'\n",
        "l = s.title()\n",
        "print(l)\n"
      ]
    },
    {
      "cell_type": "code",
      "execution_count": null,
      "metadata": {
        "id": "O9FJ9kAs-a4s",
        "outputId": "17bd1277-af0e-4676-a2bd-3f0777aace10"
      },
      "outputs": [
        {
          "name": "stdout",
          "output_type": "stream",
          "text": [
            "[21, 22, 23, 24, 24, 25, 26, 26, 27, 27, 28, 29, 30, 31, 32]\n",
            "[{'name': 'sakshi', 'age': 21, 'city': 'Lucknow'}, {'name': 'rutuja', 'age': 22, 'city': 'Pune'}, {'name': 'pavan', 'age': 23, 'city': 'Pune'}, {'name': 'rahul', 'age': 24, 'city': 'Bangalore'}, {'name': 'aditi', 'age': 24, 'city': 'Bhopal'}, {'name': 'rahul', 'age': 24, 'city': 'Bangalore'}, {'name': 'aditi', 'age': 24, 'city': 'Bhopal'}, {'name': 'sneha', 'age': 25, 'city': 'Pune'}, {'name': 'priya', 'age': 26, 'city': 'Delhi'}, {'name': 'arjun', 'age': 26, 'city': 'Patna'}, {'name': 'priya', 'age': 26, 'city': 'Delhi'}, {'name': 'arjun', 'age': 26, 'city': 'Patna'}, {'name': 'ananya', 'age': 27, 'city': 'Hyderabad'}, {'name': 'nisha', 'age': 27, 'city': 'Guwahati'}, {'name': 'ananya', 'age': 27, 'city': 'Hyderabad'}, {'name': 'nisha', 'age': 27, 'city': 'Guwahati'}, {'name': 'vikram', 'age': 28, 'city': 'Mumbai'}, {'name': 'ishaan', 'age': 29, 'city': 'Kolkata'}, {'name': 'akash', 'age': 30, 'city': 'Chennai'}, {'name': 'divya', 'age': 31, 'city': 'Ahmedabad'}, {'name': 'varun', 'age': 32, 'city': 'Jaipur'}]\n"
          ]
        }
      ],
      "source": [
        "\n",
        "# 15. sort the list of dictionary by age in ascending order.\n",
        "\n",
        "l = [\n",
        "    {'name': 'pavan', 'age': 23, 'city': 'Pune'},\n",
        "    {'name': 'rutuja', 'age': 22, 'city': 'Pune'},\n",
        "    {'name': 'sneha', 'age': 25, 'city': 'Pune'},\n",
        "    {'name': 'vikram', 'age': 28, 'city': 'Mumbai'},\n",
        "    {'name': 'priya', 'age': 26, 'city': 'Delhi'},\n",
        "    {'name': 'rahul', 'age': 24, 'city': 'Bangalore'},\n",
        "    {'name': 'ananya', 'age': 27, 'city': 'Hyderabad'},\n",
        "    {'name': 'akash', 'age': 30, 'city': 'Chennai'},\n",
        "    {'name': 'ishaan', 'age': 29, 'city': 'Kolkata'},\n",
        "    {'name': 'divya', 'age': 31, 'city': 'Ahmedabad'},\n",
        "    {'name': 'varun', 'age': 32, 'city': 'Jaipur'},\n",
        "    {'name': 'sakshi', 'age': 21, 'city': 'Lucknow'},\n",
        "    {'name': 'arjun', 'age': 26, 'city': 'Patna'},\n",
        "    {'name': 'nisha', 'age': 27, 'city': 'Guwahati'},\n",
        "    {'name': 'aditi', 'age': 24, 'city': 'Bhopal'}\n",
        "]\n",
        "l2 = []\n",
        "l3 = []\n",
        "for i in l:\n",
        "    l3.append(i['age'])\n",
        "\n",
        "l3.sort()\n",
        "print(l3)\n",
        "\n",
        "for i in l3:\n",
        "    for j in range(len(l3)):\n",
        "        if l[j]['age'] == i:\n",
        "            l2.append(l[j])\n",
        "\n",
        "print(l2)\n"
      ]
    },
    {
      "cell_type": "code",
      "execution_count": null,
      "metadata": {
        "id": "vlNVsClU-a4t"
      },
      "outputs": [],
      "source": [
        "l = [{'name': 'pavan', 'age': 23, 'city': 'Pune'},\n",
        "     {'name': 'rutuja', 'age': 22, 'city': 'Pune'},\n",
        "     {'name': 'sneha', 'age': 25, 'city': 'Pune'}]\n",
        "\n",
        "# Sort the list of dictionaries based on the 'age' key\n",
        "l2 = sorted(l, key=lambda x: x['age'])\n",
        "\n",
        "print(l2)\n"
      ]
    },
    {
      "cell_type": "code",
      "execution_count": null,
      "metadata": {
        "id": "VauM0Gkt-a4t"
      },
      "outputs": [],
      "source": [
        "item_prices = {'apple': 90, 'banana': 50, 'orange': 60, 'mango': 110}\n"
      ]
    },
    {
      "cell_type": "code",
      "execution_count": null,
      "metadata": {
        "id": "_aZMJXsW-a4t"
      },
      "outputs": [],
      "source": [
        "tu = 1,2,34,5,6,7,8\n",
        "maxx = None\n",
        "minn = None\n",
        "for i in tu:\n",
        "    if maxx == None:\n",
        "        maxx = i\n",
        "    if maxx<i:\n",
        "        maxx = i\n",
        "\n",
        "    if minn == None:\n",
        "        minn = i\n",
        "    if minn>i:\n",
        "        minn = i\n",
        "\n",
        "print(maxx,minn)\n",
        "print(maxx-minn)\n"
      ]
    },
    {
      "cell_type": "code",
      "execution_count": null,
      "metadata": {
        "id": "NUyqisi5-a4t"
      },
      "outputs": [],
      "source": [
        "l = [[1,2,3,4],[5,6,7,8],[9,10,11,12],[13,14,15,16]]\n",
        "print(id(l))\n",
        "l2 = []\n",
        "\n",
        "for i in l:\n",
        "    l2.append(i[0])\n",
        "    i.pop(0)\n",
        "\n",
        "l2.reverse()\n",
        "\n",
        "# print(l2)\n",
        "\n",
        "for j,i in enumerate(l2):\n",
        "    (l[j]).insert(0,i)\n",
        "\n",
        "print(l)\n",
        "print(id(l))\n",
        "\n",
        "# changes made in the original list"
      ]
    },
    {
      "cell_type": "code",
      "execution_count": null,
      "metadata": {
        "id": "3EW9Ykif-a4t"
      },
      "outputs": [],
      "source": [
        "l = [[1,2,3,4],[5,6,7,8],[9,10,11,12],[13,14,15,16]]\n",
        "\n",
        "d = l[::-1]\n",
        "\n",
        "print(d)\n",
        "\n",
        "l1 = []\n",
        "\n",
        "for i,j in enumerate(d):\n",
        "    l1.append([j[0]] + l[i][1:])\n",
        "\n",
        "print(l1)"
      ]
    },
    {
      "cell_type": "code",
      "execution_count": null,
      "metadata": {
        "id": "P3wM3coK-a4t"
      },
      "outputs": [],
      "source": [
        "s = 'pavan'\n",
        "\n",
        "c = 0\n",
        "\n",
        "for i in s:\n",
        "    if i in 'aeiou':\n",
        "        c += 1\n",
        "\n",
        "print(c)"
      ]
    },
    {
      "cell_type": "code",
      "execution_count": null,
      "metadata": {
        "id": "Nl1n54pc-a4t"
      },
      "outputs": [],
      "source": [
        "l = ['Python', 'Java', 'JavaScript', 'C', 'C++', 'PHP']\n",
        "a = l[0]\n",
        "for i in l:\n",
        "    if len(a)<len(i):\n",
        "        a = i\n",
        "\n",
        "print(a)"
      ]
    },
    {
      "cell_type": "code",
      "execution_count": null,
      "metadata": {
        "id": "gq1aHnap-a4t"
      },
      "outputs": [],
      "source": [
        "l = ['Python', 'Java', 'JavaScript', 'C', 'C++', 'PHP']\n",
        "for i in l:\n",
        "    if i.startswith('J'):\n",
        "        print(i)\n"
      ]
    },
    {
      "cell_type": "code",
      "execution_count": null,
      "metadata": {
        "id": "vrw9y84k-a4t"
      },
      "outputs": [],
      "source": [
        "s = 'you have a string and you need to count'\n",
        "l = s.split()\n",
        "\n",
        "\n",
        "d = {}\n",
        "\n",
        "for i in l:\n",
        "    if i not in d.keys():\n",
        "        d[i]=1\n",
        "\n",
        "    else:\n",
        "        d[i] += 1\n",
        "\n",
        "print(d)\n",
        "\n",
        "\n"
      ]
    },
    {
      "cell_type": "code",
      "execution_count": null,
      "metadata": {
        "id": "wpBP8Q5Y-a4t"
      },
      "outputs": [],
      "source": [
        "l1 = [1,2,3]\n",
        "l2 = [4,5,6]\n",
        "output = []\n",
        "for i,j in enumerate(l1):\n",
        "    output.append(l2[i] + j)\n",
        "\n",
        "print(output)"
      ]
    },
    {
      "cell_type": "code",
      "execution_count": null,
      "metadata": {
        "id": "uWMTjHK_-a4u"
      },
      "outputs": [],
      "source": [
        "l1 = [1,2,3]\n",
        "l2 = ['a','b','c']\n",
        "output = {}\n",
        "for i,j in enumerate(l1):\n",
        "    output[j] = l2[i]\n",
        "\n",
        "print(output)"
      ]
    },
    {
      "cell_type": "code",
      "execution_count": null,
      "metadata": {
        "id": "XYTuF8Ka-a4u"
      },
      "outputs": [],
      "source": [
        "a = 'aaaabbbcc'\n",
        "d = {}\n",
        "for i in a:\n",
        "    if i not in d:\n",
        "        d[i] = 1\n",
        "\n",
        "    else:\n",
        "        d[i] += 1\n",
        "\n",
        "print(d)\n",
        "\n",
        "c = ''\n",
        "\n",
        "for i in d.values():\n",
        "    c = c+ str(i)\n",
        "\n",
        "print(int(c))\n",
        "\n",
        "\n",
        "\n"
      ]
    },
    {
      "cell_type": "code",
      "execution_count": null,
      "metadata": {
        "id": "jhlYkjvN-a4u"
      },
      "outputs": [],
      "source": [
        "a = 'aaaabbbcc'\n",
        "d = {}\n",
        "for i in a:\n",
        "    if i not in d:\n",
        "        d[i] = 1\n",
        "\n",
        "    else:\n",
        "        d[i] += 1\n",
        "\n",
        "print(d)\n",
        "\n",
        "for i in d.values():\n",
        "\n"
      ]
    },
    {
      "cell_type": "code",
      "execution_count": null,
      "metadata": {
        "id": "Y3o95Efl-a4u"
      },
      "outputs": [],
      "source": [
        "li = [10,20,4,45,88]\n",
        "\n",
        "maxx = None\n",
        "\n",
        "for i in li:\n",
        "    if maxx == None:\n",
        "        maxx = i\n",
        "    if maxx < i:\n",
        "        maxx = i\n",
        "\n",
        "print(maxx)\n",
        "smaxx = None\n",
        "\n",
        "\n",
        "\n",
        "for i in li:\n",
        "    if smaxx == None:\n",
        "        smaxx = i\n",
        "        # print(smaxx)\n",
        "    if smaxx < i and smaxx != maxx:\n",
        "        smaxx = i\n",
        "\n",
        "print(smaxx)\n",
        "####################################################???????????????????????????????\n"
      ]
    },
    {
      "cell_type": "code",
      "execution_count": null,
      "metadata": {
        "id": "J2PiKEld-a4u"
      },
      "outputs": [],
      "source": [
        "l = ['pavan']\n",
        "\n",
        "print(map(str,l))\n",
        "\n",
        "mew = \"\".join(map(str,l))\n",
        "\n",
        "print(mew)\n",
        "\n",
        "print(type(mew))"
      ]
    },
    {
      "cell_type": "code",
      "execution_count": null,
      "metadata": {
        "id": "_CKOcCC6-a4u"
      },
      "outputs": [],
      "source": [
        "a = 121\n",
        "sums = 0\n",
        "for i in range(len(str(a))):\n",
        "    rem = a%10\n",
        "    sums = sums * 10 + rem\n"
      ]
    },
    {
      "cell_type": "code",
      "execution_count": null,
      "metadata": {
        "id": "7MpzSNTb-a4u",
        "outputId": "6360ab98-182f-4ea6-aed3-ad7368ec88c1"
      },
      "outputs": [
        {
          "name": "stdout",
          "output_type": "stream",
          "text": [
            "{'ASE': [1, 3], 'SE': [2]}\n"
          ]
        }
      ],
      "source": [
        "\n",
        "a = [{'role': 'ASE', 'id':1}, {'role': 'SE', 'id':2},{'role': 'ASE', 'id':3}]\n",
        "#o/p: ('ASE':[1,3], 'SE':[2])\n",
        "l = []\n",
        "l1 = []\n",
        "d = {}\n",
        "\n",
        "for i in a:\n",
        "    for k,v in i.items():\n",
        "        if v == 'ASE':\n",
        "            l.append(i['id'])\n",
        "            d[v] = l\n",
        "\n",
        "        elif v == 'SE':\n",
        "            l1.append(i['id'])\n",
        "            d[v] = l1\n",
        "print(d)\n"
      ]
    },
    {
      "cell_type": "code",
      "execution_count": null,
      "metadata": {
        "id": "ObWcRQ0P-a4z",
        "outputId": "6cfd9f57-e998-4f27-b3da-1cbe2edff5b2"
      },
      "outputs": [
        {
          "name": "stdout",
          "output_type": "stream",
          "text": [
            "{'ASE': [1, 3], 'SE': [2]}\n"
          ]
        }
      ],
      "source": [
        "a = [{'role': 'ASE', 'id':1}, {'role': 'SE', 'id':2},{'role': 'ASE', 'id':3}]\n",
        "#o/p: ('ASE':[1,3], 'SE':[2])\n",
        "l = []\n",
        "l1 = []\n",
        "d = {}\n",
        "\n",
        "for i in a:\n",
        "    for k,v in i.items():\n",
        "        if v == 'ASE':\n",
        "            l.append(i['id'])\n",
        "\n",
        "        elif v == 'SE':\n",
        "            l1.append(i['id'])\n",
        "\n",
        "d.setdefault('ASE',l)\n",
        "d.setdefault('SE',l1)\n",
        "print(d)"
      ]
    },
    {
      "cell_type": "code",
      "execution_count": null,
      "metadata": {
        "id": "90D1y7yS-a40",
        "outputId": "71ab78d7-51cf-4fe8-895e-469de7f0b37c"
      },
      "outputs": [
        {
          "name": "stdout",
          "output_type": "stream",
          "text": [
            "{1: 'a', 2: 'b', 3: 'c'}\n"
          ]
        }
      ],
      "source": [
        "a = [1,2,3]\n",
        "b = ['a','b','c']\n",
        "d ={}\n",
        "for i,j in zip(a,b):\n",
        "    d[i] = j\n",
        "\n",
        "print(d)\n"
      ]
    },
    {
      "cell_type": "code",
      "execution_count": null,
      "metadata": {
        "id": "pK67ydqI-a40",
        "outputId": "68fdc23b-4abd-4e13-da59-023bed9a5699"
      },
      "outputs": [
        {
          "name": "stdout",
          "output_type": "stream",
          "text": [
            "[1, 4, 27, 16, 125, 36]\n"
          ]
        }
      ],
      "source": [
        "a = [1,2,3,4,5,6]\n",
        "\n",
        "l = [i*i if i%2==0 else i*i*i for i in a]\n",
        "\n",
        "print(l)"
      ]
    },
    {
      "cell_type": "code",
      "execution_count": null,
      "metadata": {
        "id": "0wDPT5FR-a40",
        "outputId": "bdd66ef4-bf42-49f2-e78e-c802c903cd2a"
      },
      "outputs": [
        {
          "name": "stdout",
          "output_type": "stream",
          "text": [
            "[(3, 6), (4, 5), (0, 9)]\n"
          ]
        }
      ],
      "source": [
        "a = [3,4,5,6,0]\n",
        "\n",
        "b = [9,5,6,1,8]\n",
        "\n",
        "l = []\n",
        "for i in a:\n",
        "    for j in b:\n",
        "        if i+j == 9:\n",
        "            l.append((i,j))\n",
        "\n",
        "print(l)\n"
      ]
    },
    {
      "cell_type": "code",
      "execution_count": null,
      "metadata": {
        "id": "fKmlZdlY-a40",
        "outputId": "50e0cbd8-0914-40b9-d212-11cf6e8c25ad"
      },
      "outputs": [
        {
          "name": "stdout",
          "output_type": "stream",
          "text": [
            "[(3, 6), (4, 5), (0, 9)]\n"
          ]
        }
      ],
      "source": [
        "a = [3,4,5,6,0]\n",
        "\n",
        "b = [9,5,6,1,8]\n",
        "\n",
        "l = [(i,j) for i in a for j in b if i+j ==9]\n",
        "\n",
        "print(l)\n"
      ]
    },
    {
      "cell_type": "code",
      "execution_count": null,
      "metadata": {
        "id": "58ashaOv-a40",
        "outputId": "64061980-704f-4e93-e7c2-8a3f1395949a"
      },
      "outputs": [
        {
          "name": "stdout",
          "output_type": "stream",
          "text": [
            "098$4765%4432*1^\n"
          ]
        }
      ],
      "source": [
        "str1  = '123$4456%7489*0^'\n",
        "\n",
        "# 098$4765%4432*1^\n",
        "\n",
        "l = []\n",
        "l1 = []\n",
        "\n",
        "for i in str1:\n",
        "    if i.isdigit():\n",
        "        l.append(i)\n",
        "\n",
        "l.reverse()\n",
        "# print(l)\n",
        "s = 0\n",
        "\n",
        "for i,j in enumerate(str1):\n",
        "    if j.isdigit():\n",
        "        # print(l[i-s])\n",
        "        l1.append(l[i-s])\n",
        "    else:\n",
        "        l1.append(j)\n",
        "        s+=1\n",
        "\n",
        "# print(l1)\n",
        "v = ''.join(l1)\n",
        "print(v)\n",
        "\n"
      ]
    },
    {
      "cell_type": "code",
      "execution_count": null,
      "metadata": {
        "id": "qxqliiFC-a40",
        "outputId": "2be5409e-5b6e-49f4-8006-2dadfe72010c"
      },
      "outputs": [
        {
          "name": "stdout",
          "output_type": "stream",
          "text": [
            "098$4765%4432*1^\n"
          ]
        }
      ],
      "source": [
        "str1  = '123$4456%7489*0^'\n",
        "\n",
        "# 098$4765%4432*1^\n",
        "l = []\n",
        "\n",
        "for i in str1:\n",
        "    if i.isdigit():\n",
        "        l.append(i)\n",
        "\n",
        "l.reverse()\n",
        "\n",
        "for i,j in enumerate(str1):\n",
        "    if j.isdigit():\n",
        "        pass\n",
        "    else:\n",
        "        l.insert(i,j)\n",
        "\n",
        "v = ''.join(l)\n",
        "print(v)"
      ]
    },
    {
      "cell_type": "code",
      "execution_count": null,
      "metadata": {
        "id": "FiPTWdqR-a40",
        "outputId": "b26fab6a-e3b4-4757-cc0a-bb170bce8334"
      },
      "outputs": [
        {
          "name": "stdout",
          "output_type": "stream",
          "text": [
            "[0, 0, 0, 0, 0, 1, 1, 1, 1]\n"
          ]
        }
      ],
      "source": [
        "l = [0,1,1,0,0,1,0,0,1]\n",
        "\n",
        "l.sort()\n",
        "print(l)"
      ]
    },
    {
      "cell_type": "code",
      "execution_count": null,
      "metadata": {
        "id": "8OCKEWR--a40",
        "outputId": "003c2138-58fe-42c8-c0d4-09ec69873a5a"
      },
      "outputs": [
        {
          "name": "stdout",
          "output_type": "stream",
          "text": [
            "1\n",
            "3\n",
            "5\n",
            "7\n",
            "9\n"
          ]
        }
      ],
      "source": [
        "for i in range(10):\n",
        "    if i%2==0:\n",
        "        pass\n",
        "    else:\n",
        "        print(i)"
      ]
    },
    {
      "cell_type": "code",
      "execution_count": null,
      "metadata": {
        "id": "Ajo4SEYz-a40",
        "outputId": "b897566d-2e20-402a-bdad-5e831a8775c2"
      },
      "outputs": [
        {
          "name": "stdout",
          "output_type": "stream",
          "text": [
            "{'p': 1, 'a': 2, 'v': 1, 'n': 1}\n"
          ]
        }
      ],
      "source": [
        "str1 = 'pavan'\n",
        "\n",
        "d = {a : str1.count(a) for a in str1}\n",
        "\n",
        "print(d)"
      ]
    },
    {
      "cell_type": "code",
      "execution_count": null,
      "metadata": {
        "id": "uMGmGNHA-a40",
        "outputId": "c4a7b3f6-7d69-48cc-d6c9-fee23c2a3a1f"
      },
      "outputs": [
        {
          "name": "stdout",
          "output_type": "stream",
          "text": [
            "aaabbbbcccccd\n"
          ]
        }
      ],
      "source": [
        "a = ['3a','4b','5c','1d']\n",
        "\n",
        "c = ''\n",
        "for j in a:\n",
        "    for n in range(int(j[0])):\n",
        "        c += j[1]\n",
        "\n",
        "print(c)\n"
      ]
    },
    {
      "cell_type": "code",
      "execution_count": null,
      "metadata": {
        "id": "EZx7GynH-a40",
        "outputId": "ac9fc2e6-86f7-4dd8-a32e-bf2f2de1b020"
      },
      "outputs": [
        {
          "name": "stdout",
          "output_type": "stream",
          "text": [
            "aaabbbbcccccd\n"
          ]
        }
      ],
      "source": [
        "a = ['3a','4b','5c','1d']\n",
        "\n",
        "c = ''\n",
        "for j in a:\n",
        "    c = c + (j[1])*(int(j[0]))\n",
        "\n",
        "print(c)"
      ]
    },
    {
      "cell_type": "code",
      "execution_count": null,
      "metadata": {
        "id": "ujIiVzWK-a40",
        "outputId": "9c30c3d0-d652-450e-f2e0-ec62a90d0b7f"
      },
      "outputs": [
        {
          "name": "stdout",
          "output_type": "stream",
          "text": [
            "Tendulkar S. R.\n"
          ]
        }
      ],
      "source": [
        "a = 'Sachin Ramesh Tendulkar'\n",
        "\n",
        "l = a.split()\n",
        "\n",
        "for i in l[0:2]:\n",
        "    l.remove(i)\n",
        "    c = i[0] + '.'\n",
        "    l.append(c)\n",
        "\n",
        "b = ' '.join(l)\n",
        "print(b)\n"
      ]
    },
    {
      "cell_type": "code",
      "execution_count": null,
      "metadata": {
        "id": "0_mxPwfK-a41",
        "outputId": "3889a66e-a61b-43fc-b1b5-5f66944aa008"
      },
      "outputs": [
        {
          "name": "stdout",
          "output_type": "stream",
          "text": [
            "ADGKBD\n"
          ]
        }
      ],
      "source": [
        "a = 'A3G4B2'\n",
        "b = ''\n",
        "for i in a:\n",
        "    if i.isalpha():\n",
        "        b=b+i\n",
        "        x=i\n",
        "    else:\n",
        "        a=int(i)\n",
        "        c=chr(ord(x)+a)\n",
        "        b=b+c\n",
        "\n",
        "print(b)"
      ]
    },
    {
      "cell_type": "code",
      "execution_count": null,
      "metadata": {
        "id": "Km_ChnXs-a41",
        "outputId": "045b29ee-ca51-4469-8560-151e4c49416f"
      },
      "outputs": [
        {
          "name": "stdout",
          "output_type": "stream",
          "text": [
            "a8b1h5\n"
          ]
        }
      ],
      "source": [
        "s = 'aaaabahhhhhaaa'\n",
        "\n",
        "c = ''\n",
        "\n",
        "for i in s:\n",
        "    if i not in c:\n",
        "        c = c + i + str(s.count(i))\n",
        "\n",
        "print(c)"
      ]
    },
    {
      "cell_type": "code",
      "execution_count": null,
      "metadata": {
        "id": "M2PKdinc-a41",
        "outputId": "a90dd921-c8b8-4161-dd4b-9d7d34133adf"
      },
      "outputs": [
        {
          "name": "stdout",
          "output_type": "stream",
          "text": [
            "[700, 700, 634, 552, 500, 232, 200, 45]\n"
          ]
        }
      ],
      "source": [
        "s = [700,232,552,634,45,700,500,200]\n",
        "l = []\n",
        "for i in range(len(s)):\n",
        "    t = s[0]\n",
        "    for j in s:\n",
        "        if j > t:\n",
        "            t = j\n",
        "    l.append(t)\n",
        "    s.remove(t)\n",
        "\n",
        "print(l)"
      ]
    },
    {
      "cell_type": "code",
      "execution_count": null,
      "metadata": {
        "id": "GJpY5fOa-a41",
        "outputId": "8866b754-e988-4c47-ebad-bd1b8b12e5f4"
      },
      "outputs": [
        {
          "name": "stdout",
          "output_type": "stream",
          "text": [
            "words\n",
            "jargon\n"
          ]
        }
      ],
      "source": [
        "l = 'This is a list of words that contains some technical jargon and abbreviations'\n",
        "\n",
        "a = l.split()\n",
        "# print(a)\n",
        "\n",
        "for i in a:\n",
        "    if len(i) in range(5,8):\n",
        "        print(i)\n"
      ]
    },
    {
      "cell_type": "code",
      "execution_count": null,
      "metadata": {
        "id": "xa5sCwKJ-a41",
        "outputId": "0786d2db-0585-48a3-bdf0-7dee05f49a4d"
      },
      "outputs": [
        {
          "name": "stdout",
          "output_type": "stream",
          "text": [
            "[]\n"
          ]
        }
      ],
      "source": [
        "l = [1,2,3,4]\n",
        "\n",
        "l1 = l.copy()\n",
        "\n",
        "for i in l1:\n",
        "    l.remove(i)\n",
        "\n",
        "print(l)"
      ]
    },
    {
      "cell_type": "code",
      "execution_count": null,
      "metadata": {
        "id": "hdpo6l7h-a41"
      },
      "outputs": [],
      "source": [
        "#############################################################################################################\n",
        "#############################################################################################################\n",
        "#############################################################################################################\n",
        "#############################################################################################################\n",
        "#############################################################################################################\n",
        "#############################################################################################################\n",
        "#############################################################################################################\n",
        "#############################################################################################################\n",
        "#############################################################################################################"
      ]
    },
    {
      "cell_type": "code",
      "execution_count": null,
      "metadata": {
        "id": "PxUrgclt-a41"
      },
      "outputs": [],
      "source": []
    },
    {
      "cell_type": "code",
      "execution_count": null,
      "metadata": {
        "id": "O9ffGxwQ-a41"
      },
      "outputs": [],
      "source": []
    },
    {
      "cell_type": "code",
      "execution_count": null,
      "metadata": {
        "id": "Rp9fd_Ra-a41",
        "outputId": "9a6c03eb-299c-43d7-922f-bc8f69927c56"
      },
      "outputs": [
        {
          "name": "stdout",
          "output_type": "stream",
          "text": [
            "*****\n",
            " ****\n",
            "  ***\n",
            "   **\n",
            "    *\n",
            "     \n"
          ]
        }
      ],
      "source": [
        "\n",
        "for i in range(0,6):\n",
        "    print(' '*(i) + '*'*(5-i))\n",
        ""
      ]
    },
    {
      "cell_type": "code",
      "execution_count": null,
      "metadata": {
        "id": "_pkIIF4J-a41",
        "outputId": "4a8bc117-fc2d-45e4-cc94-0b54a9079a97"
      },
      "outputs": [
        {
          "name": "stdout",
          "output_type": "stream",
          "text": [
            "200 is greater\n"
          ]
        }
      ],
      "source": [
        "user_input1 = int(input())\n",
        "user_input2 = int(input())\n",
        "\n",
        "if user_input1 > user_input2:\n",
        "    print(user_input1, 'is greater')\n",
        "\n",
        "else:\n",
        "    print(user_input2, 'is greater')\n",
        "\n"
      ]
    },
    {
      "cell_type": "code",
      "execution_count": null,
      "metadata": {
        "id": "P67bj1rs-a41",
        "outputId": "6d7c566e-0d99-4655-ce7a-3ee8d74775d2"
      },
      "outputs": [
        {
          "name": "stdout",
          "output_type": "stream",
          "text": [
            "34000.0\n"
          ]
        }
      ],
      "source": [
        "salary = int(input())\n",
        "\n",
        "dearness_allowance = salary*0.45\n",
        "\n",
        "home_allowance = salary*0.25\n",
        "\n",
        "gross_salary = salary + dearness_allowance + home_allowance\n",
        "\n",
        "print(gross_salary)"
      ]
    },
    {
      "cell_type": "code",
      "execution_count": null,
      "metadata": {
        "id": "xsiab-aw-a41",
        "outputId": "45c94dfd-283b-4481-9183-ea19facc787c"
      },
      "outputs": [
        {
          "name": "stdout",
          "output_type": "stream",
          "text": [
            "50005000\n"
          ]
        }
      ],
      "source": [
        "n = int(input())\n",
        "sum = 0\n",
        "for i in range(1,n+1):\n",
        "    sum = sum + i\n",
        "\n",
        "print(sum)\n"
      ]
    },
    {
      "cell_type": "code",
      "execution_count": null,
      "metadata": {
        "id": "eoBWDJV7-a41"
      },
      "outputs": [],
      "source": [
        "# dynamically typed\n",
        "\n",
        "x = 4\n",
        "y = 'pavan'\n",
        "z = [1,2,3]\n"
      ]
    },
    {
      "cell_type": "code",
      "execution_count": null,
      "metadata": {
        "id": "UBg-ufx8-a41"
      },
      "outputs": [],
      "source": [
        "print(\"Square root of 16:\", math.sqrt(16))\n"
      ]
    },
    {
      "cell_type": "code",
      "execution_count": null,
      "metadata": {
        "id": "MuAEg0ju-a41",
        "outputId": "34720104-1d9b-46ba-cf46-68331126d645"
      },
      "outputs": [
        {
          "name": "stdout",
          "output_type": "stream",
          "text": [
            "Random float between 0 and 1: 0.8692425679780342\n"
          ]
        }
      ],
      "source": []
    },
    {
      "cell_type": "code",
      "execution_count": null,
      "metadata": {
        "id": "ILN7ds0G-a42",
        "outputId": "cb49ec2e-5adc-40d0-bad1-53004af9c902"
      },
      "outputs": [
        {
          "name": "stdout",
          "output_type": "stream",
          "text": [
            "2\n"
          ]
        }
      ],
      "source": [
        "import random\n",
        "\n",
        "# Generate a random integer between 1 and 10 (inclusive)\n",
        "print( random.randint(1, 10))"
      ]
    },
    {
      "cell_type": "code",
      "execution_count": null,
      "metadata": {
        "id": "x2MWtSGS-a42",
        "outputId": "d2ce992e-5c87-4f08-fad2-8681d0124089"
      },
      "outputs": [
        {
          "name": "stdout",
          "output_type": "stream",
          "text": [
            "15\n"
          ]
        }
      ],
      "source": [
        "\n",
        "n = int(input('enter a number:  '))\n",
        "sum = 0\n",
        "for i in range(1,n+1):\n",
        "    sum = sum + i\n",
        "\n",
        "print(sum)\n",
        "\n"
      ]
    },
    {
      "cell_type": "code",
      "execution_count": null,
      "metadata": {
        "id": "6L0hS7-7-a42",
        "outputId": "ca9bb730-1f18-479c-d47f-b5d539fd9eb2"
      },
      "outputs": [
        {
          "name": "stdout",
          "output_type": "stream",
          "text": [
            "21\n",
            "10\n",
            "36\n"
          ]
        }
      ],
      "source": [
        "\n",
        "\n",
        "def func(*y):\n",
        "    z = 0\n",
        "    for i in y:\n",
        "        z = i + z\n",
        "\n",
        "    print(z)\n",
        "\n",
        "func(1,2,3,4,5,6)\n",
        "func(1,2,3,4)\n",
        "func(1,2,3,4,5,6,7,8)"
      ]
    },
    {
      "cell_type": "code",
      "execution_count": null,
      "metadata": {
        "id": "5IrbrqAx-a42",
        "outputId": "a36e564a-6cec-4131-ede8-b8f3196c19db"
      },
      "outputs": [
        {
          "name": "stdout",
          "output_type": "stream",
          "text": [
            "2\n"
          ]
        }
      ],
      "source": [
        "def fun1(days):\n",
        "    if days < 5:\n",
        "        fine = 1\n",
        "    elif 5 < days < 20:\n",
        "        fine = 2\n",
        "\n",
        "    return fine\n",
        "\n",
        "x = fun1(7)\n",
        "\n",
        "print(x)"
      ]
    },
    {
      "cell_type": "code",
      "execution_count": null,
      "metadata": {
        "id": "wk7HV7gR-a42"
      },
      "outputs": [],
      "source": [
        "# lambda funcion is an anonomous (no name) function\n",
        "# lambda function uses lambda keyword instead of def\n",
        "# lambda function has only one expression\n"
      ]
    },
    {
      "cell_type": "code",
      "execution_count": null,
      "metadata": {
        "id": "k35IB5Ja-a42",
        "outputId": "f9bb3719-b6ff-4347-8f81-8279eed3547d"
      },
      "outputs": [
        {
          "name": "stdout",
          "output_type": "stream",
          "text": [
            "[1]\n",
            "[1, 4]\n",
            "[1, 4, 9]\n",
            "[1, 4, 9, 16]\n"
          ]
        }
      ],
      "source": [
        "# list comphrension\n",
        "list1 = [1,2,3,4]\n",
        "\n",
        "list2 = []\n",
        "\n",
        "for i in list1:\n",
        "    list2.append(i**2)\n",
        "    print(list2)\n"
      ]
    },
    {
      "cell_type": "code",
      "execution_count": null,
      "metadata": {
        "id": "GZ98gFhD-a42",
        "outputId": "de397be9-e2e4-4616-ac39-e5b442bb2976"
      },
      "outputs": [
        {
          "name": "stdout",
          "output_type": "stream",
          "text": [
            "[1, 4, 9, 16]\n"
          ]
        }
      ],
      "source": [
        "list2 = [i**2 for i in list1]\n",
        "# list2 = [expression for element in existing_list]\n",
        "print(list2)"
      ]
    },
    {
      "cell_type": "code",
      "execution_count": null,
      "metadata": {
        "id": "VRNKkrAb-a42",
        "outputId": "78b70926-2a08-48c2-c508-85a308c6ec75"
      },
      "outputs": [
        {
          "name": "stdout",
          "output_type": "stream",
          "text": [
            "{'pavan', 1, 2, 3}\n",
            "{'pavan', 1, 2, 3, 'shiva'}\n"
          ]
        }
      ],
      "source": [
        "set1 = {1,2,3,1,1,1,1,1,'pavan'}\n",
        "\n",
        "print(set1)\n",
        "\n",
        "set1.add('shiva')\n",
        "print(set1)"
      ]
    },
    {
      "cell_type": "code",
      "execution_count": null,
      "metadata": {
        "id": "8Wx9e6BX-a42",
        "outputId": "0bcd1627-372c-424b-e488-338b28043505"
      },
      "outputs": [
        {
          "name": "stdout",
          "output_type": "stream",
          "text": [
            "2343874395136\n",
            "[1, 'pavan', [2], {'key1': 'value2'}, 'shiva']\n",
            "2343874395136\n",
            "2\n"
          ]
        }
      ],
      "source": [
        "list1 = [1,'pavan',[2],{'key1':'value2'}]\n",
        "print(id(list1))\n",
        "list1.append('shiva')\n",
        "\n",
        "print(list1)\n",
        "print(id(list1))\n",
        "\n",
        "list1 = 2\n",
        "\n",
        "print(list1)"
      ]
    },
    {
      "cell_type": "code",
      "execution_count": null,
      "metadata": {
        "id": "zBeCza3r-a42",
        "outputId": "3171264b-f191-4e10-cc84-b8b63eb02724"
      },
      "outputs": [
        {
          "name": "stdout",
          "output_type": "stream",
          "text": [
            "(1, 'pavan', [2], {'key1': 'value2'}, 1, 2, 2, 2, 2, 2)\n"
          ]
        }
      ],
      "source": [
        "tup1 = (1,'pavan',[2],{'key1':'value2'},1,2,2,2,2,2)\n",
        "\n",
        "print(tup1)"
      ]
    },
    {
      "cell_type": "code",
      "execution_count": null,
      "metadata": {
        "id": "ONm8PiPM-a42",
        "outputId": "2bdbbde5-059d-49fe-ab68-aa36f13380c6"
      },
      "outputs": [
        {
          "name": "stdout",
          "output_type": "stream",
          "text": [
            "2343874452672\n",
            "{1: 'one', 2: 'two'}\n",
            "2343874452672\n",
            "{1: 'one', 2: 'two', 3: 'three'}\n"
          ]
        }
      ],
      "source": [
        "dict1= {1:'one',2:'two'}\n",
        "print(id(dict1))\n",
        "print(dict1)\n",
        "\n",
        "dict1[3] = 'three'\n",
        "print(id(dict1))\n",
        "\n",
        "print(dict1)"
      ]
    },
    {
      "cell_type": "code",
      "execution_count": null,
      "metadata": {
        "id": "MONTqRre-a42"
      },
      "outputs": [],
      "source": [
        "# mutable\n",
        "# list\n",
        "# dictionary\n",
        "# set"
      ]
    },
    {
      "cell_type": "code",
      "execution_count": null,
      "metadata": {
        "id": "ijd_kiQi-a42"
      },
      "outputs": [],
      "source": [
        "# immutable\n",
        "# tuple\n",
        "# string\n",
        "# integer\n"
      ]
    },
    {
      "cell_type": "code",
      "execution_count": null,
      "metadata": {
        "id": "aSjva-Cu-a42"
      },
      "outputs": [],
      "source": [
        "# arethematic operator\n",
        "\n",
        "a = 2+1\n",
        "b = 2-1\n",
        "c = 2*3\n",
        "d = 4/2\n",
        "e = 2**2 # power\n",
        "\n",
        "\n",
        "\n"
      ]
    },
    {
      "cell_type": "code",
      "execution_count": null,
      "metadata": {
        "id": "t__7rgvl-a42"
      },
      "outputs": [],
      "source": [
        "# comparison operator\n",
        "a<b\n",
        "c>b\n",
        "d<=g\n",
        "g>= f\n"
      ]
    },
    {
      "cell_type": "code",
      "execution_count": null,
      "metadata": {
        "id": "yKZSJY2C-a43",
        "outputId": "51c6b338-5edd-4086-adca-f299a662a3ed"
      },
      "outputs": [
        {
          "name": "stdout",
          "output_type": "stream",
          "text": [
            "pavan\n"
          ]
        }
      ],
      "source": [
        "a = 'pavan' # global variable # scope is everywhere\n",
        "\n",
        "def neet(a):\n",
        "    b = 'om' # local variable # scope limited to this function only\n",
        "\n",
        "print(a)"
      ]
    },
    {
      "cell_type": "code",
      "execution_count": null,
      "metadata": {
        "id": "OU3E8Sbz-a43",
        "outputId": "2a775dc5-6ec4-4252-b444-d3400e67596c"
      },
      "outputs": [
        {
          "name": "stdout",
          "output_type": "stream",
          "text": [
            "enter amount greater than 50\n",
            "0 - 200 rupees notes\n",
            "0 - 100 rupees notes\n",
            "0 - 50 rupees notes\n"
          ]
        }
      ],
      "source": [
        "# 10, 50, 100, 200\n",
        "\n",
        "amount = int(input('enter amount: '))\n",
        "\n",
        "n1 = 0\n",
        "n2 = 0\n",
        "n3 = 0\n",
        "\n",
        "if amount >= 200:\n",
        "    n1 = amount//200\n",
        "    amount = amount%200\n",
        "\n",
        "if amount >= 100:\n",
        "    n2 = amount//100\n",
        "    amount = amount%100\n",
        "\n",
        "if amount >= 50:\n",
        "    n3 = amount//50\n",
        "    amount = amount%100\n",
        "\n",
        "else:\n",
        "    print('enter amount greater than 50')\n",
        "\n",
        "print(n1, '- 200 rupees notes')\n",
        "print(n2, '- 100 rupees notes')\n",
        "print(n3, '- 50 rupees notes')\n",
        "\n",
        "\n",
        "\n"
      ]
    },
    {
      "cell_type": "code",
      "execution_count": null,
      "metadata": {
        "id": "BhCPjWWB-a43"
      },
      "outputs": [],
      "source": [
        "a = 'pavan'\n",
        "\n"
      ]
    },
    {
      "cell_type": "code",
      "execution_count": null,
      "metadata": {
        "id": "Zv-iRS4N-a43"
      },
      "outputs": [],
      "source": [
        "class Person:\n",
        "    def __init__(self,a,b):\n",
        "\n",
        "\n",
        "\n",
        "    def fun(a,b):\n",
        "        return a/b\n",
        "\n"
      ]
    },
    {
      "cell_type": "code",
      "execution_count": null,
      "metadata": {
        "id": "nHAZ7U5z-a43"
      },
      "outputs": [],
      "source": [
        "# The __init__() method / Constructor.\n",
        "# Constructor is a special method in a class used to create and initialize an object of a class.\n",
        "\n",
        "# -- The name of the constructor should be __init__(self)\n",
        "# -- Constructor is invoked automatically when an object of a class is created.\n",
        "# -- The main purpose of a constructor is to initialize or assign values to the data members of that class. It cannot return any value other than None.\n",
        "# -- __init__() can be used to perform other operations that are necessary when the object is being created.\n",
        "# -- Per object constructor will be exeucted only once.\n",
        "# -- Constructor takes at least one argument(i.e. self)\n",
        "# -- Constructor is optional and if we are not providing any constructor then python will provide default constructor.\n",
        "\n",
        "\n",
        "########### constructor is called only once whenever an object is created\n"
      ]
    },
    {
      "cell_type": "code",
      "execution_count": null,
      "metadata": {
        "id": "K3Lh3c5S-a43"
      },
      "outputs": [],
      "source": []
    }
  ],
  "metadata": {
    "kernelspec": {
      "display_name": "Python 3",
      "language": "python",
      "name": "python3"
    },
    "language_info": {
      "codemirror_mode": {
        "name": "ipython",
        "version": 3
      },
      "file_extension": ".py",
      "mimetype": "text/x-python",
      "name": "python",
      "nbconvert_exporter": "python",
      "pygments_lexer": "ipython3",
      "version": "3.11.3"
    },
    "colab": {
      "provenance": []
    }
  },
  "nbformat": 4,
  "nbformat_minor": 0
}
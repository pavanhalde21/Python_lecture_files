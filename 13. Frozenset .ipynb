{
 "cells": [
  {
   "attachments": {},
   "cell_type": "markdown",
   "id": "f77b682c",
   "metadata": {},
   "source": [
    "# Frozenset()"
   ]
  },
  {
   "cell_type": "code",
   "execution_count": null,
   "id": "cbb8f949",
   "metadata": {},
   "outputs": [],
   "source": [
    "# The frozenset() is an inbuilt function in Python which takes an iterable object as input and makes them immutable. \n",
    "# Simply it freezes the iterable objects and makes them unchangeable.\n",
    "\n",
    "# In Python, frozenset is the same as set except the frozensets are immutable.\n",
    "# This function takes input as any iterable object and converts them into an immutable object. \n",
    "# The order of elements is not guaranteed to be preserved.\n",
    "\n",
    "# -- immutable\n",
    "# -- unordered (no question of indexing)\n",
    "# -- unique"
   ]
  },
  {
   "cell_type": "code",
   "execution_count": null,
   "id": "1f93b8ec",
   "metadata": {},
   "outputs": [],
   "source": [
    "# Syntax : frozenset(iterable_object_name)"
   ]
  },
  {
   "cell_type": "code",
   "execution_count": null,
   "id": "b53cfad7",
   "metadata": {},
   "outputs": [],
   "source": [
    "# tuple of numbers\n",
    "num = {1,1,1, 2, 3, 4, 5, 6, 7, 8, 9}\n",
    "print(num)\n",
    "\n",
    "\n",
    "# converting tuple to frozenset\n",
    "fnum = frozenset(num)\n",
    "print(fnum)\n",
    "\n",
    "# printing details\n",
    "print(\"frozenset Object is : \", fnum)\n",
    "\n",
    "\n",
    "# difference between tuple and forzen set:\n",
    "        # tuples are immutable lists , frozensets are immutable sets .\n",
    "\n",
    "# lists are ordered. sets are unordered"
   ]
  },
  {
   "cell_type": "code",
   "execution_count": 1,
   "id": "fb6e8178",
   "metadata": {},
   "outputs": [
    {
     "name": "stdout",
     "output_type": "stream",
     "text": [
      "frozenset({'name', 'age', 'team'})\n"
     ]
    }
   ],
   "source": [
    "# use of frozenset function\n",
    " \n",
    "player = frozenset({\"name\": \"johm\", \"age\": 34,\n",
    "           \"team\": \"Brazil\"})\n",
    "\n",
    "print(player) # see that it returns set of keys"
   ]
  },
  {
   "cell_type": "code",
   "execution_count": null,
   "id": "9ca12085",
   "metadata": {},
   "outputs": [],
   "source": [
    "# player[1] = \"Networking\" # error(now it has become immutable)"
   ]
  },
  {
   "cell_type": "code",
   "execution_count": null,
   "id": "551084e0",
   "metadata": {},
   "outputs": [],
   "source": [
    "# player[1] # indexing not possible"
   ]
  },
  {
   "cell_type": "code",
   "execution_count": 3,
   "id": "4b5645c9",
   "metadata": {},
   "outputs": [
    {
     "name": "stdout",
     "output_type": "stream",
     "text": [
      "frozenset({'DBMS', 'Algo', 'OS'})\n"
     ]
    }
   ],
   "source": [
    "# creating a list\n",
    "favourite_subject = [\"OS\", \"DBMS\", \"Algo\"]\n",
    "\n",
    "# making it frozenset type\n",
    "f_subject = frozenset(favourite_subject)\n",
    "\n",
    "print(f_subject)\n",
    "# f_subject.insert(2,20) # error\n"
   ]
  },
  {
   "cell_type": "code",
   "execution_count": null,
   "id": "861e1f13",
   "metadata": {},
   "outputs": [],
   "source": [
    "# difference between tuple and forzen set:\n",
    "        # tuples are immutable lists , frozensets are immutable sets .\n",
    "\n",
    "#lists are ordered. sets are unordered"
   ]
  }
 ],
 "metadata": {
  "kernelspec": {
   "display_name": "Python 3 (ipykernel)",
   "language": "python",
   "name": "python3"
  },
  "language_info": {
   "codemirror_mode": {
    "name": "ipython",
    "version": 3
   },
   "file_extension": ".py",
   "mimetype": "text/x-python",
   "name": "python",
   "nbconvert_exporter": "python",
   "pygments_lexer": "ipython3",
   "version": "3.11.3"
  }
 },
 "nbformat": 4,
 "nbformat_minor": 5
}

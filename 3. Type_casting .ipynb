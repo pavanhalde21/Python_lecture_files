{
 "cells": [
  {
   "attachments": {},
   "cell_type": "markdown",
   "id": "3288e9d7",
   "metadata": {},
   "source": [
    "# Type Casting\n"
   ]
  },
  {
   "cell_type": "code",
   "execution_count": null,
   "id": "928faa9d",
   "metadata": {},
   "outputs": [],
   "source": [
    "# convert one type of data into another"
   ]
  },
  {
   "cell_type": "code",
   "execution_count": 1,
   "id": "1b58327d",
   "metadata": {},
   "outputs": [
    {
     "name": "stdout",
     "output_type": "stream",
     "text": [
      "<class 'str'>\n",
      "42\n",
      "<class 'int'>\n",
      "3\n"
     ]
    }
   ],
   "source": [
    "# 1. int() #convert string to integer\n",
    "\n",
    "num_str = \"42\"\n",
    "print(type(num_str))\n",
    "\n",
    "num_int = int(num_str)\n",
    "print(num_int)\n",
    "print(type(num_int))\n",
    "\n",
    "# int() #convert float to integer \n",
    "\n",
    "num_float = 3.64\n",
    "num_int = int(num_float)\n",
    "print(num_int)  # output: 3\n"
   ]
  },
  {
   "cell_type": "code",
   "execution_count": 1,
   "metadata": {},
   "outputs": [
    {
     "ename": "ValueError",
     "evalue": "invalid literal for int() with base 10: '3.14'",
     "output_type": "error",
     "traceback": [
      "\u001b[1;31m---------------------------------------------------------------------------\u001b[0m",
      "\u001b[1;31mValueError\u001b[0m                                Traceback (most recent call last)",
      "Cell \u001b[1;32mIn[1], line 2\u001b[0m\n\u001b[0;32m      1\u001b[0m num_str \u001b[38;5;241m=\u001b[39m \u001b[38;5;124m\"\u001b[39m\u001b[38;5;124m3.14\u001b[39m\u001b[38;5;124m\"\u001b[39m\n\u001b[1;32m----> 2\u001b[0m num_int \u001b[38;5;241m=\u001b[39m \u001b[38;5;28;43mint\u001b[39;49m\u001b[43m(\u001b[49m\u001b[43mnum_str\u001b[49m\u001b[43m)\u001b[49m  \u001b[38;5;66;03m# error\u001b[39;00m\n\u001b[0;32m      3\u001b[0m \u001b[38;5;28mprint\u001b[39m(num_int)  \n",
      "\u001b[1;31mValueError\u001b[0m: invalid literal for int() with base 10: '3.14'"
     ]
    }
   ],
   "source": [
    "num_str = \"3.14\"\n",
    "num_int = int(num_str)  # error\n",
    "print(num_int)  \n"
   ]
  },
  {
   "cell_type": "code",
   "execution_count": 2,
   "id": "4ac7ce96",
   "metadata": {},
   "outputs": [
    {
     "name": "stdout",
     "output_type": "stream",
     "text": [
      "3\n"
     ]
    }
   ],
   "source": [
    "num_str = \"3.14\"\n",
    "num_flt = float(num_str)  # error\n",
    "num_int = int(num_flt)\n",
    "print(num_int) "
   ]
  },
  {
   "cell_type": "code",
   "execution_count": null,
   "id": "3b30a170",
   "metadata": {},
   "outputs": [],
   "source": [
    "print(num_int)  \n"
   ]
  },
  {
   "cell_type": "code",
   "execution_count": 3,
   "id": "ac7cf444",
   "metadata": {},
   "outputs": [
    {
     "name": "stdout",
     "output_type": "stream",
     "text": [
      "42.0\n",
      "3.14\n"
     ]
    }
   ],
   "source": [
    "# 2. float() \n",
    "\n",
    "#convert integer to float\n",
    "num_int = 42\n",
    "num_float = float(num_int)\n",
    "print(num_float)  # output: 42.0\n",
    "\n",
    "# convert string to float\n",
    "num_str = \"3.14\"\n",
    "num_float = float(num_str)\n",
    "print(num_float)  # output: 3.14\n",
    "\n"
   ]
  },
  {
   "cell_type": "code",
   "execution_count": 5,
   "id": "7567cb91",
   "metadata": {},
   "outputs": [
    {
     "name": "stdout",
     "output_type": "stream",
     "text": [
      "42\n",
      "<class 'str'>\n",
      "3.14\n",
      "<class 'str'>\n"
     ]
    }
   ],
   "source": [
    "# 3 str()  \n",
    "\n",
    "#convert int,float to string\n",
    "num_int = 42\n",
    "num_str = str(num_int)\n",
    "print(num_str)  \n",
    "print(type(num_str))\n",
    "\n",
    "# convert float to string\n",
    "num_float = 3.14\n",
    "num_str = str(num_float)\n",
    "print(num_str)\n",
    "print(type(num_str))# output: \"3.14\"\n"
   ]
  },
  {
   "cell_type": "code",
   "execution_count": 6,
   "id": "0391ac9a",
   "metadata": {},
   "outputs": [
    {
     "name": "stdout",
     "output_type": "stream",
     "text": [
      "['h', 'e', 'l', 'l', 'o']\n",
      "('h', 'e', 'l', 'l', 'o')\n",
      "('h', 'e', 'l', 'l', 'o')\n",
      "['h', 'e', 'l', 'l', 'o']\n",
      "{'o', 'e', 'h', 'l'}\n",
      "['o', 'e', 'h', 'l']\n"
     ]
    }
   ],
   "source": [
    "# 4. list(), tuple() and set()\n",
    "\n",
    "# string ---> list\n",
    "my_str = \"hello\"\n",
    "my_list = list(my_str) ###\n",
    "print(my_list)  # output: ['h', 'e', 'l', 'l', 'o']\n",
    "\n",
    "# list ---> tuple\n",
    "my_tuple = tuple(my_str)\n",
    "print(my_tuple)  # output: ('h', 'e', 'l', 'l', 'o')\n",
    "my_tuple1 = tuple(my_list)\n",
    "print(my_tuple1)\n",
    "\n",
    "# tuple ---> list\n",
    "make_list = list(my_tuple)\n",
    "print(make_list)\n",
    "\n",
    "# list ---> set \n",
    "my_set = set(my_list)\n",
    "print(my_set)  # output: {'h', 'e', 'l', 'o'}\n",
    "\n",
    "# set ---> list\n",
    "myl = list(my_set)\n",
    "print(myl)\n"
   ]
  },
  {
   "cell_type": "code",
   "execution_count": null,
   "id": "3271c444",
   "metadata": {},
   "outputs": [],
   "source": [
    "# 5. dict() \n",
    "\n",
    "#convert list of tuple to dictionay\n",
    "my_list = [(\"a\", 1), (\"b\", 2), (\"c\", 3)]\n",
    "my_dict = dict(my_list)\n",
    "print(my_dict)  # output: {'a': 1, 'b': 2, 'c': 3}\n"
   ]
  },
  {
   "cell_type": "code",
   "execution_count": 1,
   "id": "847e65d3",
   "metadata": {},
   "outputs": [
    {
     "name": "stdout",
     "output_type": "stream",
     "text": [
      "(4+3j)\n",
      "<class 'complex'>\n",
      "(2+3j)\n",
      "(4.5-2.7j)\n",
      "3.0\n",
      "2.0\n",
      "(5+0j)\n",
      "(5.12+0j)\n"
     ]
    }
   ],
   "source": [
    "# 6. complex() function in Python is used to create a complex number.\n",
    "\n",
    "# A complex number is a number that consists of a real part and an imaginary part.\n",
    "# The imaginary part is represented by a letter j.\n",
    "# The syntax for creating a complex number using complex() function is:\n",
    "# complex(real,imaginary)\n",
    "\n",
    "c = 4+3j\n",
    "\n",
    "print(c)\n",
    "print(type(c))\n",
    "\n",
    "# Creating a complex number using integer values\n",
    "z1 = complex(2, 3)\n",
    "print(z1)  # Output: (2+3j)\n",
    "\n",
    "# Creating a complex number using float values\n",
    "z2 = complex(4.5, -2.7)\n",
    "print(z2)  # Output: (4.5-2.7j)\n",
    "\n",
    "# Accessing real and imaginary parts of a complex number\n",
    "z = complex(3, 2)\n",
    "print(z.real)  # Output: 3.0\n",
    "print(z.imag)  # Output: 2.0\n",
    "\n",
    "# Converting an integer to a complex number\n",
    "x = 5\n",
    "z = complex(x)\n",
    "print(z)  # Output: (5+0j)\n",
    "\n",
    "m = 5.12\n",
    "k = complex(m)\n",
    "print(k)\n"
   ]
  },
  {
   "cell_type": "code",
   "execution_count": null,
   "id": "3c348632",
   "metadata": {},
   "outputs": [],
   "source": [
    "dict1= {1:2}\n",
    "x= complex(dict1) # error"
   ]
  },
  {
   "cell_type": "code",
   "execution_count": null,
   "id": "81853b5d",
   "metadata": {},
   "outputs": [],
   "source": [
    "lst1= [1,2]\n",
    "x= complex(lst1) # error"
   ]
  },
  {
   "cell_type": "code",
   "execution_count": 2,
   "id": "714deeb9",
   "metadata": {},
   "outputs": [
    {
     "name": "stdout",
     "output_type": "stream",
     "text": [
      "1200.0\n"
     ]
    }
   ],
   "source": [
    "a = 1.2e3\n",
    "print(a)"
   ]
  }
 ],
 "metadata": {
  "kernelspec": {
   "display_name": "Python 3 (ipykernel)",
   "language": "python",
   "name": "python3"
  },
  "language_info": {
   "codemirror_mode": {
    "name": "ipython",
    "version": 3
   },
   "file_extension": ".py",
   "mimetype": "text/x-python",
   "name": "python",
   "nbconvert_exporter": "python",
   "pygments_lexer": "ipython3",
   "version": "3.11.3"
  }
 },
 "nbformat": 4,
 "nbformat_minor": 5
}

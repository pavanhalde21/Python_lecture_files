{
 "cells": [
  {
   "attachments": {},
   "cell_type": "markdown",
   "id": "3f6ba415",
   "metadata": {},
   "source": [
    "# Fundamental Data types"
   ]
  },
  {
   "cell_type": "code",
   "execution_count": null,
   "id": "e24dbeb6",
   "metadata": {},
   "outputs": [],
   "source": [
    "\n",
    "# A data type in programming is a classification or category of data that defines the possible values that can be assigned to a variable, \n",
    "# how the values can be used, and the operations that can be performed on them.\n",
    "\n",
    "# Data types are used to define the type of data like integer, float, string, list, dictionary, tuple, set."
   ]
  },
  {
   "cell_type": "code",
   "execution_count": 1,
   "id": "6e8a15cd",
   "metadata": {},
   "outputs": [
    {
     "name": "stdout",
     "output_type": "stream",
     "text": [
      "140718185639816\n",
      "<class 'int'>\n",
      "100\n"
     ]
    }
   ],
   "source": [
    "# 1. int\n",
    "\n",
    "a = 100\n",
    "print(id(a))\n",
    "print(type(a))\n",
    "print(a)\n",
    "# 1. id()     -- address of the object\n",
    "# 2. type()   -- data type"
   ]
  },
  {
   "cell_type": "code",
   "execution_count": 1,
   "id": "32929e37",
   "metadata": {},
   "outputs": [
    {
     "name": "stdout",
     "output_type": "stream",
     "text": [
      "10\n"
     ]
    }
   ],
   "source": [
    "print(int(10.1))"
   ]
  },
  {
   "cell_type": "code",
   "execution_count": null,
   "id": "3d0a6049",
   "metadata": {},
   "outputs": [],
   "source": [
    "# 2. float\n",
    "\n",
    "b = 10.0\n",
    "print(type(b))\n",
    "print(b)\n",
    "\n",
    "c = float(10)\n",
    "print(c)\n"
   ]
  },
  {
   "cell_type": "code",
   "execution_count": 2,
   "id": "973fe9d5",
   "metadata": {},
   "outputs": [
    {
     "name": "stdout",
     "output_type": "stream",
     "text": [
      "1200.0\n",
      "<class 'float'>\n"
     ]
    }
   ],
   "source": [
    "f=1.2e3\n",
    "print(f) \n",
    "print(type(f))\n",
    "# instead of 'e' we can use 'E'\n",
    "# The main advantage of exponential form is we can represent big values in less memory.\n"
   ]
  },
  {
   "cell_type": "code",
   "execution_count": 3,
   "id": "6280e3dc",
   "metadata": {},
   "outputs": [
    {
     "name": "stdout",
     "output_type": "stream",
     "text": [
      "24\n",
      "28\n",
      "24\n"
     ]
    }
   ],
   "source": [
    "import sys # module \n",
    "\n",
    "size = sys.getsizeof(f) \n",
    "print(size)\n",
    "\n",
    "print(sys.getsizeof(1200))\n",
    "\n",
    "print(sys.getsizeof(1200.0))"
   ]
  },
  {
   "cell_type": "code",
   "execution_count": 1,
   "id": "725e661e",
   "metadata": {},
   "outputs": [
    {
     "name": "stdout",
     "output_type": "stream",
     "text": [
      "(30+4j)\n",
      "<class 'complex'>\n",
      "(1+0j)\n",
      "0j\n"
     ]
    }
   ],
   "source": [
    "# 3. complex\n",
    "\n",
    "a=10+1.5j \n",
    "b=20+2.5j \n",
    "c=a+b\n",
    "print(c)\n",
    "print(type(c))\n",
    "\n",
    "print(complex(True))\n",
    "print(complex(False))\n"
   ]
  },
  {
   "cell_type": "code",
   "execution_count": null,
   "id": "fa8a1ec6",
   "metadata": {},
   "outputs": [],
   "source": []
  },
  {
   "cell_type": "code",
   "execution_count": 6,
   "id": "d83def20",
   "metadata": {},
   "outputs": [
    {
     "name": "stdout",
     "output_type": "stream",
     "text": [
      "<class 'bool'>\n",
      "<class 'bool'>\n",
      "True\n"
     ]
    }
   ],
   "source": [
    "# 4. bool\n",
    "\n",
    "# The only allowed values for this data type are:- True and False\n",
    "d = True\n",
    "e = False\n",
    "print(type(d))\n",
    "print(type(e))\n",
    "\n",
    "\n",
    "# use\n",
    "a = 10\n",
    "b = 20\n",
    "c = a < b\n",
    "print(c)\n"
   ]
  },
  {
   "cell_type": "code",
   "execution_count": null,
   "id": "f41f6ea7",
   "metadata": {},
   "outputs": [],
   "source": [
    "print(bool(0) )"
   ]
  },
  {
   "cell_type": "code",
   "execution_count": null,
   "id": "38e4c87d",
   "metadata": {},
   "outputs": [],
   "source": [
    "print(bool(1) )\n",
    "print(bool(10))\n",
    "print(bool(10.5))\n",
    "print(bool(0.178)) "
   ]
  },
  {
   "cell_type": "code",
   "execution_count": null,
   "id": "32891c0a",
   "metadata": {},
   "outputs": [],
   "source": [
    "print(bool(0.0))"
   ]
  },
  {
   "cell_type": "code",
   "execution_count": 4,
   "id": "7a6989a6",
   "metadata": {},
   "outputs": [
    {
     "name": "stdout",
     "output_type": "stream",
     "text": [
      "True\n",
      "True\n"
     ]
    }
   ],
   "source": [
    "print(bool(10-2j))\n",
    "print(bool(0+1.5j)) "
   ]
  },
  {
   "cell_type": "code",
   "execution_count": 3,
   "id": "5e616628",
   "metadata": {},
   "outputs": [
    {
     "name": "stdout",
     "output_type": "stream",
     "text": [
      "False\n"
     ]
    }
   ],
   "source": [
    "print(bool(0+0j))"
   ]
  },
  {
   "cell_type": "code",
   "execution_count": 2,
   "id": "697836a9",
   "metadata": {},
   "outputs": [
    {
     "name": "stdout",
     "output_type": "stream",
     "text": [
      "True\n",
      "True\n"
     ]
    }
   ],
   "source": [
    "print(bool(\"True\")) \n",
    "print(bool(\"False\")) "
   ]
  },
  {
   "cell_type": "code",
   "execution_count": 1,
   "id": "4c11969e",
   "metadata": {},
   "outputs": [
    {
     "name": "stdout",
     "output_type": "stream",
     "text": [
      "False\n"
     ]
    }
   ],
   "source": [
    "print(bool(\"\"))"
   ]
  },
  {
   "cell_type": "code",
   "execution_count": 7,
   "id": "d10ae560",
   "metadata": {},
   "outputs": [
    {
     "name": "stdout",
     "output_type": "stream",
     "text": [
      "Meluha Meluha's capital is Ayodhya.\n",
      " He said, \"I want a Book.\" and then went away. May be is wants Pavan's book\n",
      "75\n"
     ]
    }
   ],
   "source": [
    "# 5. String \n",
    "\n",
    "# A String is a sequence of characters enclosed within single quotes or double quotes or triple quotes.\n",
    "# str represents String data type.\n",
    "\n",
    "s1 = 'Meluha'\n",
    "s2 = \"Meluha's capital is Ayodhya.\"\n",
    "\n",
    "print(s1,s2)\n",
    "\n",
    "# By using single quotes or double quotes we cannot represent multi line string literals. we have to use three single quotes or three double quotes\n",
    "s3 = \"\"\" He said, \"I want a Book.\" and then went away. May be is wants Pavan's book\"\"\"\n",
    "print(s3)\n",
    "print(len(s3))\n"
   ]
  },
  {
   "cell_type": "code",
   "execution_count": 4,
   "id": "e97b9956",
   "metadata": {},
   "outputs": [
    {
     "name": "stdout",
     "output_type": "stream",
     "text": [
      "[10, 20, 'a', 'b', 10.0, [11, 12, 13], {'a': 1, 'b': 2}, {1, 2, 3}]\n",
      "[10, 20, 'a', 'b', 10.0, [11, 12, 13], {'a': 1, 'b': 2}, {1, 2, 3}, 'pavan']\n",
      "[10, 20, 'a', 'b', 10.0, [11, 12, 13], {'a': 1, 'b': 2}, {1, 2, 3}]\n"
     ]
    }
   ],
   "source": [
    "# 6. List Datatype\n",
    "# mutable -- can change\n",
    "\n",
    "l = [ 10, 20, \"a\",'b',10.0, [11, 12, 13], {\"a\":1,\"b\":2}, {1,2,3} ]\n",
    "print(l)\n",
    "l.append(\"pavan\")\n",
    "print(l)\n",
    "l.pop()\n",
    "print(l)\n"
   ]
  },
  {
   "cell_type": "code",
   "execution_count": 9,
   "id": "8d61f113",
   "metadata": {},
   "outputs": [
    {
     "name": "stdout",
     "output_type": "stream",
     "text": [
      "(10, 20, 'a', 'b', 10.0, [11, 12, 13], {'a': 1, 'b': 2}, {1, 2, 3})\n"
     ]
    }
   ],
   "source": [
    "# 7. tuple\n",
    "# immutable -- cannot change\n",
    "\n",
    "t = (10, 20, \"a\",'b',10.0, [11, 12, 13], {\"a\":1,\"b\":2}, {1,2,3})\n",
    "print(t)"
   ]
  },
  {
   "cell_type": "code",
   "execution_count": null,
   "id": "5ca0ca9e",
   "metadata": {},
   "outputs": [
    {
     "name": "stdout",
     "output_type": "stream",
     "text": [
      "{(1, 2), 20, 10, 'a', 30}\n"
     ]
    }
   ],
   "source": [
    "# 8. set\n",
    "# mutable -- can change\n",
    "\n",
    "s = {10,20,20,30,30, \"a\",(1,2)} # can contain only immutable objects\n",
    "print(s) # does not print dublicate values\n",
    "\n",
    "# s = {10,20,20,30,30, \"a\", [0]}  # error  # set cannot contain list, dict\n",
    "# print(s)"
   ]
  },
  {
   "cell_type": "code",
   "execution_count": 9,
   "id": "fcef964c",
   "metadata": {},
   "outputs": [
    {
     "ename": "TypeError",
     "evalue": "unhashable type: 'set'",
     "output_type": "error",
     "traceback": [
      "\u001b[31m---------------------------------------------------------------------------\u001b[39m",
      "\u001b[31mTypeError\u001b[39m                                 Traceback (most recent call last)",
      "\u001b[36mCell\u001b[39m\u001b[36m \u001b[39m\u001b[32mIn[9]\u001b[39m\u001b[32m, line 3\u001b[39m\n\u001b[32m      1\u001b[39m s1 = {\u001b[32m9\u001b[39m,(\u001b[32m1\u001b[39m,\u001b[32m2\u001b[39m)} \u001b[38;5;66;03m# -- correct\u001b[39;00m\n\u001b[32m      2\u001b[39m \u001b[38;5;66;03m# s1 = {9,[1,2]} # -- incorrect\u001b[39;00m\n\u001b[32m----> \u001b[39m\u001b[32m3\u001b[39m s1 = {\u001b[32m9\u001b[39m,{\u001b[32m1\u001b[39m,\u001b[32m2\u001b[39m}} \u001b[38;5;66;03m# -- incorrect\u001b[39;00m\n",
      "\u001b[31mTypeError\u001b[39m: unhashable type: 'set'"
     ]
    }
   ],
   "source": [
    "s1 = {9,(1,2)} # -- correct\n",
    "# s1 = {9,[1,2]} # -- incorrect\n",
    "s1 = {9,{1,2}} # -- incorrect\n"
   ]
  },
  {
   "cell_type": "code",
   "execution_count": 9,
   "id": "55812166",
   "metadata": {},
   "outputs": [
    {
     "name": "stdout",
     "output_type": "stream",
     "text": [
      "{10, 20, 30}\n",
      "{2000, 10, 20, 30}\n"
     ]
    }
   ],
   "source": [
    "s = {10,20,20,30,30}\n",
    "print(s) \n",
    "\n",
    "s.add(2000)\n",
    "print(s)"
   ]
  },
  {
   "cell_type": "code",
   "execution_count": 11,
   "id": "980377a0",
   "metadata": {},
   "outputs": [
    {
     "name": "stdout",
     "output_type": "stream",
     "text": [
      "[10, 20, 30]\n"
     ]
    }
   ],
   "source": [
    "s = [10,20,20,30,30]\n",
    "\n",
    "s1 = set(s)\n",
    "s2 = list(s1)\n",
    "print(s2)"
   ]
  },
  {
   "cell_type": "code",
   "execution_count": 12,
   "id": "6c888733",
   "metadata": {},
   "outputs": [
    {
     "name": "stdout",
     "output_type": "stream",
     "text": [
      "{'name': 'abc', 'age': 25, 'add': 'pune'}\n",
      "{'name': 123, 'age': 25, 'add': 'pune'}\n"
     ]
    }
   ],
   "source": [
    "# 9. Dictionary\n",
    "# mutable but key is immutable\n",
    "\n",
    "a = {\"name\":\"abc\",  \"age\":25,  \"add\":\"pune\"}  # key value pair \n",
    "print(a)\n",
    "\n",
    "a[\"name\"] = 123\n",
    "\n",
    "print(a)"
   ]
  },
  {
   "cell_type": "code",
   "execution_count": 19,
   "id": "2e1c9be0",
   "metadata": {},
   "outputs": [
    {
     "name": "stdout",
     "output_type": "stream",
     "text": [
      "frozenset({10, 20, 30})\n"
     ]
    }
   ],
   "source": [
    "# 10. frozenset\n",
    "# immutable -- cannot change\n",
    "\n",
    "# In Python, the frozenset type is used to represent an immutable set,\n",
    "# which means that once created, its contents cannot be modified\n",
    "\n",
    "a = frozenset({10,20,30,30})\n",
    "\n",
    "\n",
    "print(a)"
   ]
  },
  {
   "cell_type": "code",
   "execution_count": null,
   "id": "3df2cd1b",
   "metadata": {},
   "outputs": [],
   "source": [
    "\n",
    "a.add(30)\n",
    "# we cannot add elements in frozenset.\n"
   ]
  },
  {
   "cell_type": "code",
   "execution_count": 11,
   "id": "895a5cef",
   "metadata": {},
   "outputs": [
    {
     "name": "stdout",
     "output_type": "stream",
     "text": [
      "None\n",
      "<class 'NoneType'>\n",
      "[None, None, 10]\n",
      "<class 'list'>\n",
      "my_arg is not provided\n",
      "my_arg is 42\n"
     ]
    }
   ],
   "source": [
    "# 11. None\n",
    "\n",
    "# None is a special constant value in Python that represents the absence of a value. \n",
    "# It is used to indicate that a function or method does not return anything, or that a variable does not have a value.\n",
    "\n",
    "a = None\n",
    "b = [None,None,10]\n",
    "\n",
    "print(a)\n",
    "print(type(a))\n",
    "print(b)\n",
    "print(type(b))\n",
    "\n",
    "def my_function(my_arg=None):\n",
    "    if my_arg is None:\n",
    "        print(\"my_arg is not provided\")\n",
    "    else:\n",
    "        print(f\"my_arg is {my_arg}\")\n",
    "\n",
    "my_function()  # prints \"my_arg is not provided\"\n",
    "my_function(42)  # prints \"my_arg is 42\"\n"
   ]
  },
  {
   "cell_type": "code",
   "execution_count": 6,
   "id": "0c6c04e3",
   "metadata": {},
   "outputs": [
    {
     "name": "stdout",
     "output_type": "stream",
     "text": [
      "0\n",
      "1\n",
      "2\n",
      "3\n",
      "4\n",
      "5\n",
      "6\n",
      "7\n",
      "8\n",
      "9\n",
      "done\n"
     ]
    }
   ],
   "source": [
    "# 12. range\n",
    "\n",
    "# -- immutable datatype\n",
    "# range datatype is used to represent an immutable(not changing) sequence of numbers\n",
    "\n",
    "# range(10) --> 0,1,2,3,4,5,6,7,8,9\n",
    "\n",
    "for i in range(10):\n",
    "    print(i)   \n",
    "\n",
    "print(\"done\")\n"
   ]
  },
  {
   "cell_type": "code",
   "execution_count": null,
   "id": "8361994a",
   "metadata": {},
   "outputs": [],
   "source": [
    "\n",
    "a = range(10)\n",
    "print(type(a))\n"
   ]
  },
  {
   "cell_type": "code",
   "execution_count": null,
   "id": "377282d4",
   "metadata": {},
   "outputs": [],
   "source": [
    "\n",
    "for i in range(0,10):\n",
    "    print(i)   \n",
    "print()\n"
   ]
  },
  {
   "cell_type": "code",
   "execution_count": null,
   "id": "0d4fd07e",
   "metadata": {},
   "outputs": [],
   "source": [
    "\n",
    "for i in range(0,10,3):\n",
    "    print(i)   \n",
    "print()\n",
    "\n",
    "# 0 = start , 10 = end 3 = step \n"
   ]
  },
  {
   "cell_type": "code",
   "execution_count": null,
   "id": "44450a96",
   "metadata": {},
   "outputs": [],
   "source": [
    "\n",
    "for i in range(10,20,-3):\n",
    "    print(\"hi\")  # it is not even entering in the for loop\n",
    "    print(i)   \n",
    "\n"
   ]
  },
  {
   "cell_type": "code",
   "execution_count": null,
   "id": "3fc08573",
   "metadata": {},
   "outputs": [],
   "source": [
    "a = range(10)\n",
    "print(a)"
   ]
  },
  {
   "cell_type": "code",
   "execution_count": null,
   "id": "ccd39a91",
   "metadata": {},
   "outputs": [],
   "source": [
    "\n",
    "for i in range(10,0,-1):  # reverse\n",
    "    print(i)   \n",
    "a = range(10)\n",
    "print(type(a))"
   ]
  },
  {
   "cell_type": "code",
   "execution_count": 13,
   "id": "36cfc4e6",
   "metadata": {},
   "outputs": [
    {
     "name": "stdout",
     "output_type": "stream",
     "text": [
      "b'\\x01\\x02\\x03\\x01'\n",
      "<class 'bytes'>\n"
     ]
    }
   ],
   "source": [
    "# 13. bytes \n",
    "\n",
    "# -- immutable\n",
    "# bytes data type represents a group of numbers just like an array\n",
    "\n",
    "x = [1,2,3,1]\n",
    "b = bytes(x)\n",
    "print(b)\n",
    "print(type(b))"
   ]
  },
  {
   "cell_type": "code",
   "execution_count": null,
   "id": "c9e965be",
   "metadata": {},
   "outputs": [],
   "source": [
    "print(b[0])"
   ]
  },
  {
   "cell_type": "code",
   "execution_count": null,
   "id": "a56aa099",
   "metadata": {},
   "outputs": [],
   "source": [
    "for i in b:\n",
    "    print(i)"
   ]
  },
  {
   "cell_type": "code",
   "execution_count": null,
   "id": "0306acb0",
   "metadata": {},
   "outputs": [],
   "source": [
    "x = [1,2,3,257]\n",
    "c = bytes(x)\n",
    "print(c)\n",
    "print(type(c))\n",
    "\n",
    "# error\n",
    "# The only allowed values for byte data type are 0 to 256. By mistake if we are trying to \n",
    "# provide any other values then we will get value error."
   ]
  },
  {
   "cell_type": "code",
   "execution_count": null,
   "id": "7119d4e1",
   "metadata": {},
   "outputs": [],
   "source": [
    "b[0] = 100\n",
    "# error\n",
    "# Once we creates bytes data type value, we cannot change its values,otherwise we will get TypeError"
   ]
  },
  {
   "cell_type": "code",
   "execution_count": 14,
   "id": "3526a528",
   "metadata": {},
   "outputs": [
    {
     "name": "stdout",
     "output_type": "stream",
     "text": [
      "bytearray(b'\\n\\x14\\x002')\n",
      "10\n",
      "20\n",
      "0\n",
      "50\n",
      "bytearray(b'd\\x14\\x002')\n",
      "100\n",
      "20\n",
      "0\n",
      "50\n"
     ]
    }
   ],
   "source": [
    "# 14. bytearray\n",
    "\n",
    "# -- mutable\n",
    "# bytearray is same as byte datatype except that it is mutable\n",
    "\n",
    "x = [10,20,0,50]\n",
    "\n",
    "b1 = bytearray(x)\n",
    "print(b1)\n",
    "for i in b1:\n",
    "    print(i)\n",
    "\n",
    "b1[0]=100\n",
    "print(b1)\n",
    "for i in b1:\n",
    "    print(i)"
   ]
  },
  {
   "cell_type": "code",
   "execution_count": null,
   "id": "d0237fd1",
   "metadata": {},
   "outputs": [],
   "source": []
  },
  {
   "cell_type": "code",
   "execution_count": null,
   "id": "86c8df60",
   "metadata": {},
   "outputs": [],
   "source": []
  }
 ],
 "metadata": {
  "kernelspec": {
   "display_name": "Python 3",
   "language": "python",
   "name": "python3"
  },
  "language_info": {
   "codemirror_mode": {
    "name": "ipython",
    "version": 3
   },
   "file_extension": ".py",
   "mimetype": "text/x-python",
   "name": "python",
   "nbconvert_exporter": "python",
   "pygments_lexer": "ipython3",
   "version": "3.13.5"
  }
 },
 "nbformat": 4,
 "nbformat_minor": 5
}

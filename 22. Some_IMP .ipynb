{
 "cells": [
  {
   "cell_type": "code",
   "execution_count": null,
   "id": "33cedd6c",
   "metadata": {},
   "outputs": [],
   "source": [
    "a, b, c = [1, 2, 3]\n",
    "print(a)\n",
    "print(b)\n",
    "print(c)\n",
    "\n",
    "#{10,20,30}\n",
    "#10,20,30\n",
    "#(10,20,30)\n",
    "#[1, 2, 3]"
   ]
  },
  {
   "cell_type": "code",
   "execution_count": 1,
   "id": "233e8f80",
   "metadata": {},
   "outputs": [
    {
     "name": "stdout",
     "output_type": "stream",
     "text": [
      "14\n",
      "15\n",
      "6\n",
      "50\n"
     ]
    }
   ],
   "source": [
    "# eval()\n",
    "\n",
    "# The eval() function in Python is a built-in function that allows you to evaluate a string as a Python expression.\n",
    "# syntax\n",
    "# result = eval(expression)\n",
    "\n",
    "result = eval(\"2 + 3 * 4\")\n",
    "print(result)  # Output: 14\n",
    "\n",
    "x = 5\n",
    "y = 10\n",
    "result = eval(\"x + y\")\n",
    "print(result)  # Output: 15\n",
    "\n",
    "a = 2\n",
    "b = 3\n",
    "expression = \"a * b\"\n",
    "result = eval(expression)\n",
    "print(result)  # Output: 6\n",
    "\n",
    "my_dict = {'a': 10, 'b': 5}\n",
    "expression = \"a * b\"\n",
    "result = eval(expression, my_dict)\n",
    "print(result)  # Output: 50\n"
   ]
  },
  {
   "cell_type": "code",
   "execution_count": null,
   "id": "a9c6640a",
   "metadata": {},
   "outputs": [],
   "source": [
    "import pprint\n",
    "\n",
    "text = \"It's the first of April. It's still cold in the UK. But I'm going to the museum so it should be a wonderful day\"\n",
    "\n",
    "counts = {}\n",
    "for word in text.split():\n",
    "    counts.setdefault(word, 0)\n",
    "    counts[word] += 1\n",
    "\n",
    "pprint.pprint(counts)\n",
    "print(counts)"
   ]
  },
  {
   "cell_type": "code",
   "execution_count": null,
   "id": "f86c7438",
   "metadata": {},
   "outputs": [],
   "source": [
    "import itertools\n",
    "a = [[1, 2], [3, 4], [5, 6]]\n",
    "b = list(itertools.chain.from_iterable(a))\n",
    "print(b)"
   ]
  },
  {
   "cell_type": "code",
   "execution_count": null,
   "id": "4ea9ec46",
   "metadata": {},
   "outputs": [],
   "source": [
    "a = [1, 2, 3, 4, 2, 2, 3, 1, 4, 4, 4]\n",
    "print(max(set(a), key = a.count))"
   ]
  },
  {
   "cell_type": "code",
   "execution_count": null,
   "id": "75c6022f",
   "metadata": {},
   "outputs": [],
   "source": [
    "from collections import Counter\n",
    "\n",
    "str1 = 'taste'\n",
    "str2 = 'state'\n",
    "Counter(str1) == Counter(str2)\n",
    "\n",
    "print(Counter(str1))"
   ]
  },
  {
   "cell_type": "code",
   "execution_count": null,
   "id": "d2d8e9d9",
   "metadata": {},
   "outputs": [],
   "source": [
    "# transporse matrix\n",
    "mat = [[8, 9, 10], [11, 12, 13]]\n",
    "\n",
    "new_mat=zip(*mat)\n",
    "for row in new_mat:\n",
    "    print(list(row))"
   ]
  },
  {
   "cell_type": "code",
   "execution_count": null,
   "id": "ab730946",
   "metadata": {},
   "outputs": [],
   "source": [
    "# Initializing lists filled with numbers\n",
    "\n",
    "#listA contains 100 10's\n",
    "listA=[10]*100\n",
    "\n",
    "\n",
    "listA = [10, 10, 10, 10, 10, 10, 10, 10, 10, 10, 10, 10, 10, 10, 10, 10,\n",
    "         10, 10, 10, 10, 10, 10, 10, 10, 10, 10, 10, 10, 10, 10, 10, 10, \n",
    "         10, 10, 10, 10, 10, 10, 10, 10, 10, 10, 10, 10, 10, 10, 10, 10, \n",
    "         10, 10, 10, 10, 10, 10, 10, 10, 10, 10, 10, 10, 10, 10, 10, 10,\n",
    "         10, 10, 10, 10, 10, 10, 10, 10, 10, 10, 10, 10, 10, 10, 10, 10, \n",
    "         10, 10, 10, 10, 10, 10, 10, 10, 10, 10, 10, 10, 10, 10, 10, 10,\n",
    "         10, 10, 10, 10]\n",
    "print(listA)\n",
    "# listB contains 100 20's\n",
    "listB=[20]*100\n",
    "print(listB)"
   ]
  },
  {
   "cell_type": "code",
   "execution_count": null,
   "id": "0c28b814",
   "metadata": {},
   "outputs": [],
   "source": [
    "# swapping values\n",
    "\n",
    "x, y = 13, 26\n",
    "x, y = y, x\n",
    "print(x, y)"
   ]
  },
  {
   "cell_type": "code",
   "execution_count": null,
   "id": "88aaab5e",
   "metadata": {},
   "outputs": [],
   "source": [
    "# “Else” condition inside a “for” loop\n",
    "\n",
    "numbers = [2, 4, 6, 8, 9]\n",
    "\n",
    "for number in numbers:\n",
    "    if number % 2 == 1:\n",
    "        print(number)\n",
    "        break\n",
    "else:\n",
    "    print(\"No odd numbers\")"
   ]
  },
  {
   "cell_type": "code",
   "execution_count": null,
   "id": "11963bd1",
   "metadata": {},
   "outputs": [],
   "source": [
    "import heapq\n",
    "\n",
    "scores = [51, 33, 64, 87, 91, 75, 15, 49, 33, 82]\n",
    "\n",
    "print(heapq.nlargest(6, scores)) \n",
    "print(heapq.nsmallest(4, scores))  "
   ]
  },
  {
   "cell_type": "code",
   "execution_count": null,
   "id": "e6a329e4",
   "metadata": {},
   "outputs": [],
   "source": [
    "x = 10\n",
    "y = 12\n",
    "result = (x - False)/(y * True)\n",
    "print(result) \n",
    "\n",
    "print(x-False)\n",
    "print(y*True)\n",
    "print(y*False)\n",
    "\n",
    "# True and False behave as 1 and 0 respectively."
   ]
  },
  {
   "cell_type": "code",
   "execution_count": null,
   "id": "eff0d1da",
   "metadata": {},
   "outputs": [],
   "source": [
    "_ = [10,20,30]\n",
    "\n",
    "for i in _:\n",
    "    print(i)"
   ]
  },
  {
   "cell_type": "code",
   "execution_count": null,
   "id": "83dc5d7f",
   "metadata": {},
   "outputs": [],
   "source": [
    "# del statemen\n",
    "# del is a keyword in Python.\n",
    "# After using a variable, it is highly recommended to delete that variable if it is no longer \n",
    "# required,so that the corresponding object is eligible for Garbage Collection.\n",
    "# We can delete variable by using del keyword.\n",
    "# Eg:\n",
    "x=10 \n",
    "print(x) \n",
    "del x \n",
    "# print(x) # error"
   ]
  },
  {
   "cell_type": "code",
   "execution_count": null,
   "id": "fe80b1d3",
   "metadata": {},
   "outputs": [],
   "source": [
    "lst = [1,2,3,4]\n",
    "del lst[2]\n",
    "print(lst)"
   ]
  },
  {
   "cell_type": "code",
   "execution_count": null,
   "id": "f74d30a4",
   "metadata": {},
   "outputs": [],
   "source": [
    "lst = [1,2,3,4]\n",
    "del lst\n",
    "# print(lst) # error list is deleted"
   ]
  },
  {
   "cell_type": "code",
   "execution_count": null,
   "id": "06a8a863",
   "metadata": {},
   "outputs": [],
   "source": [
    "# Note:\n",
    "# We can delete variables which are pointing to immutable objects.But we cannot delete \n",
    "# the elements present inside immutable object."
   ]
  },
  {
   "cell_type": "code",
   "execution_count": null,
   "id": "8e728f72",
   "metadata": {},
   "outputs": [],
   "source": [
    "tup = (1,2,3,4)\n",
    "print(tup[2])\n",
    "del tup[2]  # error\n",
    "print(tup)"
   ]
  },
  {
   "cell_type": "code",
   "execution_count": null,
   "id": "c4ef94a7",
   "metadata": {},
   "outputs": [],
   "source": [
    "# Difference between del and None:\n",
    "\n",
    "# In the case del, the variable will be removed and we cannot access that variable(unbind operation)\n",
    "\n",
    "# But in the case of None assignment the variable won't be removed but the corresponding \n",
    "# object is eligible for Garbage Collection (re bind operation). \n",
    "# Hence after assigning with None value,we can access that variable."
   ]
  },
  {
   "cell_type": "code",
   "execution_count": null,
   "id": "80cac493",
   "metadata": {},
   "outputs": [],
   "source": []
  },
  {
   "cell_type": "code",
   "execution_count": null,
   "id": "7d1a4be8",
   "metadata": {},
   "outputs": [],
   "source": [
    "a = (5,)\n",
    "b = (5,)\n",
    "print(id(a))\n",
    "print(id(b))\n",
    "\n",
    "# fundamental datatype"
   ]
  },
  {
   "cell_type": "code",
   "execution_count": 1,
   "metadata": {},
   "outputs": [
    {
     "name": "stdout",
     "output_type": "stream",
     "text": [
      ".\\area.py\n",
      ".\\argparse_1.py\n",
      ".\\argparse_2.py\n",
      ".\\argparse_t.py\n",
      ".\\caller.py\n"
     ]
    }
   ],
   "source": [
    "import os\n",
    "\n",
    "# Set the directory path to search files in\n",
    "directory_path = '.'\n",
    "\n",
    "# Set the file extension to search for\n",
    "file_extension = '.py'\n",
    "\n",
    "# Search for files with the specified extension\n",
    "for dirpath, dirnames, filenames in os.walk(directory_path):\n",
    "    for filename in filenames:\n",
    "        if filename.endswith(file_extension):\n",
    "            print(os.path.join(dirpath, filename))"
   ]
  }
 ],
 "metadata": {
  "kernelspec": {
   "display_name": "Python 3 (ipykernel)",
   "language": "python",
   "name": "python3"
  },
  "language_info": {
   "codemirror_mode": {
    "name": "ipython",
    "version": 3
   },
   "file_extension": ".py",
   "mimetype": "text/x-python",
   "name": "python",
   "nbconvert_exporter": "python",
   "pygments_lexer": "ipython3",
   "version": "3.11.3"
  }
 },
 "nbformat": 4,
 "nbformat_minor": 5
}

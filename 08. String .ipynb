{
 "cells": [
  {
   "attachments": {},
   "cell_type": "markdown",
   "id": "8e3daecc",
   "metadata": {},
   "source": [
    "# STRING DATA TYPE"
   ]
  },
  {
   "cell_type": "code",
   "execution_count": null,
   "id": "464ca288",
   "metadata": {},
   "outputs": [],
   "source": [
    "\n",
    "# -- A string is a sequence of characters enclosed in quotation marks.eg. \"string\".\n",
    "# -- immutable(cannot be modified) \n",
    "# -- If you want to modify a string, you need to create a new string that contains the modified content.\n",
    "\n",
    "# -- immutable\n",
    "# -- ordered\n",
    "# -- indexing can be done\n"
   ]
  },
  {
   "cell_type": "code",
   "execution_count": null,
   "id": "e7ad035b",
   "metadata": {},
   "outputs": [],
   "source": [
    "# How to access characters of a String:(indexing)\n",
    "\n",
    "s = \"PYTHON\"\n",
    "\n",
    "print(s[0])\n",
    "\n",
    "print(s[2])\n",
    "\n",
    "print(s[-5])\n",
    "\n",
    "print(s[-20]) #error\n"
   ]
  },
  {
   "cell_type": "code",
   "execution_count": 1,
   "id": "573160dd",
   "metadata": {},
   "outputs": [
    {
     "name": "stdout",
     "output_type": "stream",
     "text": [
      "string1: Idas\n",
      "string2: ndiaIs\n",
      "string3: niI\n",
      "string4: ytuCM\n",
      "string5: IndiaIs\n",
      "string6: IndiaIsMyCountry\n",
      "string7: yrtnuoCyMsIaidnI\n",
      "string8: diaIsMyCountry\n",
      "string9: IndiaIsMyCountry\n",
      "string8: try\n",
      "string8: \n"
     ]
    }
   ],
   "source": [
    "# 1. Accessing characters by using slice operator\n",
    "\n",
    "str1 = \"IndiaIsMyCountry\"\n",
    "\n",
    "\n",
    "string1 = str1[0:7:2] # every second letter is selected including the first letter string\n",
    "print('string1:',string1)\n",
    "\n",
    "string2 = str1[1:7] \n",
    "print('string2:',string2)\n",
    "\n",
    "string3 = str1[1:7:2]\n",
    "print('string3:',string3)\n",
    "\n",
    "string4 = str1[-1:-10:-2] ## starting from reverse order it gives every second letter till -10th position\n",
    "print('string4:',string4)\n",
    "\n",
    "string5 = str1[:7] \n",
    "print('string5:',string5)\n",
    "\n",
    "string6 = str1[::] # prints all\n",
    "print('string6:',string6)\n",
    "\n",
    "string7 = str1[::-1] ### reverse\n",
    "print('string7:',string7)\n",
    "\n",
    "string8 = str1[2:] \n",
    "print('string8:',string8)\n",
    "\n",
    "string9 = str1[:27] # no error (error in case of indexing)\n",
    "print('string9:',string9)\n",
    "\n",
    "string10 = str1[-3:] \n",
    "print('string8:',string10)\n",
    "\n",
    "string11 = str1[:-1:-1] \n",
    "print('string8:',string11)\n",
    "\n",
    "# str1[] "
   ]
  },
  {
   "cell_type": "code",
   "execution_count": null,
   "id": "d6650688",
   "metadata": {},
   "outputs": [],
   "source": [
    "## 2. String Concatenation in Python\n",
    "# + operator\n",
    "\n",
    "\n",
    "var1 = \"Rohit\"\n",
    "var2 = \"Sharma\"\n",
    "var3 = var1 + var2\n",
    "print(var3)\n",
    "\n",
    "# not valid\n",
    "# var4 = var1*var2\n",
    "# print(var4)\n",
    "\n",
    "\n",
    "string = 'john'\n",
    "integer = 10\n",
    "\n",
    "print(string +\" \"+ \"you roll no. is:\"+\" \"+str(integer))\n"
   ]
  },
  {
   "cell_type": "code",
   "execution_count": null,
   "id": "bc2111fa",
   "metadata": {},
   "outputs": [],
   "source": [
    "# +====>String concatenation operator\n",
    "# * ===>String multiplication operator\n",
    "\n",
    "# We can use +,* operators for str type also\n",
    "\n",
    "print(2*\"durga\")\n",
    "print(\"durga\"*2)"
   ]
  },
  {
   "cell_type": "code",
   "execution_count": 1,
   "id": "ac3a7116",
   "metadata": {},
   "outputs": [
    {
     "name": "stdout",
     "output_type": "stream",
     "text": [
      "virat kohli\n",
      "<class 'str'>\n"
     ]
    }
   ],
   "source": [
    "## Join method\n",
    "\n",
    "var1 = \"virat\"\n",
    "var2 = \"kohli\"\n",
    " \n",
    "#var3 = \" \".join(var1, var2) #error\n",
    "var3 = \" \".join([var1, var2])\n",
    " \n",
    "print(var3)\n",
    "print(type(var3))"
   ]
  },
  {
   "cell_type": "code",
   "execution_count": 7,
   "id": "2c764659",
   "metadata": {},
   "outputs": [
    {
     "name": "stdout",
     "output_type": "stream",
     "text": [
      "virat\n"
     ]
    }
   ],
   "source": [
    "# converting list into string\n",
    "\n",
    "lst = [\"v\",\"i\",\"r\",\"a\",\"t\"]\n",
    "var4 = \"\".join(lst)\n",
    "print(var4)"
   ]
  },
  {
   "cell_type": "code",
   "execution_count": 13,
   "id": "4c44feb0",
   "metadata": {},
   "outputs": [
    {
     "name": "stdout",
     "output_type": "stream",
     "text": [
      "Ajay Jadeja cricket\n"
     ]
    }
   ],
   "source": [
    "# % operator\n",
    "\n",
    "var1 = \"Ajay\"\n",
    "var2 = \"Jadeja\"\n",
    "var3 = \"cricket\"\n",
    " \n",
    "print(\"%s %s %s\" % (var1, var2, var3)) # space between each %s counts"
   ]
  },
  {
   "cell_type": "code",
   "execution_count": 14,
   "id": "23f0c994",
   "metadata": {},
   "outputs": [
    {
     "name": "stdout",
     "output_type": "stream",
     "text": [
      "Ravan and Kumbhakarna both are Naga\n"
     ]
    }
   ],
   "source": [
    "var1 = \"Ravan\"\n",
    "var2 = \"Kumbhakarna\"\n",
    "var3 = \"Naga\"\n",
    "\n",
    "print(\"%s and %s both are %s\" % (var1, var2, var3)) "
   ]
  },
  {
   "cell_type": "code",
   "execution_count": 15,
   "id": "f40f10e5",
   "metadata": {},
   "outputs": [
    {
     "name": "stdout",
     "output_type": "stream",
     "text": [
      "Sachin Tendulkar\n",
      "Sachin Tendulkar\n"
     ]
    }
   ],
   "source": [
    "# format method\n",
    "\n",
    "var1 = \"Sachin\"\n",
    "var2 = \"Tendulkar\"\n",
    "\n",
    "# format()\n",
    "\n",
    "print(\"{} {}\".format(var1, var2))\n",
    " \n",
    "var3 = \"{} {}\".format(var1, var2)\n",
    " \n",
    "print(var3)\n"
   ]
  },
  {
   "cell_type": "code",
   "execution_count": 6,
   "id": "d87ee879",
   "metadata": {},
   "outputs": [
    {
     "name": "stdout",
     "output_type": "stream",
     "text": [
      "My name is Sam and I am 30 years old\n",
      "Sam 's salary is 2000 and his age is 30\n"
     ]
    }
   ],
   "source": [
    "\n",
    "name = 'Sam'\n",
    "age = 30\n",
    "salary = 2000\n",
    "print(\"My name is {} and I am {} years old\".format(name,age))\n",
    "\n",
    "print(\"{x} 's salary is {y} and his age is {z}\".format(z=age,y=salary,x=name))\n"
   ]
  },
  {
   "cell_type": "code",
   "execution_count": null,
   "id": "5c47a45c",
   "metadata": {},
   "outputs": [],
   "source": [
    "# (,) this is not exactly concatenation but we can print two string with this approach\n",
    "\n",
    "var1 = \"Rahul\"\n",
    "var2 = \"Dravid\"\n",
    "var3 = \"cricket\"  \n",
    "print(var1,var2,var3)\n"
   ]
  },
  {
   "cell_type": "code",
   "execution_count": 16,
   "id": "78491669",
   "metadata": {},
   "outputs": [
    {
     "name": "stdout",
     "output_type": "stream",
     "text": [
      "Rahul Dravid was a good captian of his time. He was a good cricketer as well.\n"
     ]
    }
   ],
   "source": [
    "## 3. f function\n",
    "\n",
    "var1 = \"Rahul\"\n",
    "var2 = \"Dravid\"\n",
    "var3 = \"cricketer\"\n",
    "print(f\"{var1} {var2} was a good captian of his time. He was a good {var3} as well.\")\n"
   ]
  },
  {
   "cell_type": "code",
   "execution_count": null,
   "id": "48b3c983",
   "metadata": {},
   "outputs": [],
   "source": [
    "# 4. Checking Membership: sub string present or not\n",
    "\n",
    "str2 = \"INDIAN\"\n",
    "print(\"D\" in str2)\n",
    "print(\"I\" not in str2)   "
   ]
  },
  {
   "cell_type": "code",
   "execution_count": 3,
   "id": "415ce744",
   "metadata": {},
   "outputs": [
    {
     "name": "stdout",
     "output_type": "stream",
     "text": [
      "49\n",
      "49\n",
      "2\n",
      "49\n",
      "75\n",
      "-1\n"
     ]
    },
    {
     "ename": "ValueError",
     "evalue": "substring not found",
     "output_type": "error",
     "traceback": [
      "\u001b[1;31m---------------------------------------------------------------------------\u001b[0m",
      "\u001b[1;31mValueError\u001b[0m                                Traceback (most recent call last)",
      "\u001b[1;32md:\\_02_CS\\02_PYTHON\\Lecture_Files\\8. String .ipynb Cell 16\u001b[0m line \u001b[0;36m1\n\u001b[0;32m     <a href='vscode-notebook-cell:/d%3A/_02_CS/02_PYTHON/Lecture_Files/8.%20String%20.ipynb#X21sZmlsZQ%3D%3D?line=11'>12</a>\u001b[0m \u001b[39mprint\u001b[39m(second_is)\n\u001b[0;32m     <a href='vscode-notebook-cell:/d%3A/_02_CS/02_PYTHON/Lecture_Files/8.%20String%20.ipynb#X21sZmlsZQ%3D%3D?line=14'>15</a>\u001b[0m \u001b[39mprint\u001b[39m(str3\u001b[39m.\u001b[39mfind(\u001b[39m'\u001b[39m\u001b[39moooo\u001b[39m\u001b[39m'\u001b[39m)) \u001b[39m# -1\u001b[39;00m\n\u001b[1;32m---> <a href='vscode-notebook-cell:/d%3A/_02_CS/02_PYTHON/Lecture_Files/8.%20String%20.ipynb#X21sZmlsZQ%3D%3D?line=15'>16</a>\u001b[0m \u001b[39mprint\u001b[39m(str3\u001b[39m.\u001b[39;49mindex(\u001b[39m'\u001b[39;49m\u001b[39moooo\u001b[39;49m\u001b[39m'\u001b[39;49m)) \u001b[39m# error\u001b[39;00m\n\u001b[0;32m     <a href='vscode-notebook-cell:/d%3A/_02_CS/02_PYTHON/Lecture_Files/8.%20String%20.ipynb#X21sZmlsZQ%3D%3D?line=17'>18</a>\u001b[0m \u001b[39m# Both index() and find() are identical in that they return the index position of the first occurrence of the substring from the main string. \u001b[39;00m\n\u001b[0;32m     <a href='vscode-notebook-cell:/d%3A/_02_CS/02_PYTHON/Lecture_Files/8.%20String%20.ipynb#X21sZmlsZQ%3D%3D?line=18'>19</a>\u001b[0m \u001b[39m# The main difference is that Python find() produces -1 as output if it is unable to find the substring, whereas index() throws a ValueError exception.\u001b[39;00m\n",
      "\u001b[1;31mValueError\u001b[0m: substring not found"
     ]
    }
   ],
   "source": [
    "# 5. Finding, indexing and counting of substring.\n",
    "\n",
    "str3 = \"The empire Saptha Sindhu got it's name for being the land of seven rivers. the\"\n",
    "print(str3.find(\"the\")) # returns the position of the mentioned string(counts from 0)\n",
    "print(str3.index(\"the\"))\n",
    "print(str3.count(\"the\"))\n",
    "\n",
    "# ---------------------------------------------------- second is index ----------------\n",
    "first_is = str3.find(\"the\")\n",
    "print(first_is)\n",
    "second_is = str3.find(\"the\", first_is + 1) # this is done to find second is in the string\n",
    "print(second_is)\n",
    "\n",
    "\n",
    "print(str3.find('oooo')) # -1\n",
    "print(str3.index('oooo')) # error\n",
    "\n",
    "# Both index() and find() are identical in that they return the index position of the first occurrence of the substring from the main string. \n",
    "# The main difference is that Python find() produces -1 as output if it is unable to find the substring, whereas index() throws a ValueError exception.\n"
   ]
  },
  {
   "cell_type": "code",
   "execution_count": 11,
   "id": "54ee19d1",
   "metadata": {},
   "outputs": [
    {
     "name": "stdout",
     "output_type": "stream",
     "text": [
      "Python is awesome and hard to learn.\n",
      "Python is awesome and EASY to learn.\n",
      "Python is awesome and  to learn.\n"
     ]
    }
   ],
   "source": [
    "# 6. Replacing string with another string\n",
    "\n",
    "str4 = \"Python is awesome and hard to learn.\"\n",
    "\n",
    "print(str4)\n",
    "\n",
    "str_replace = str4.replace(\"hard\",\"EASY\")\n",
    "str_replace2 = str4.replace(\"hard\",\"\")\n",
    "\n",
    "print(str_replace)\n",
    "print(str_replace2)\n",
    "\n",
    "# Python replace():\n",
    "# The replace() method is commonly used in data cleaning. However, given strings are immutable, \n",
    "# the function replaces characters on a copy of the original string. \n",
    "# So ensure you save the new string in case you intend to further use it.\n"
   ]
  },
  {
   "cell_type": "code",
   "execution_count": 17,
   "id": "5369bc76",
   "metadata": {},
   "outputs": [
    {
     "name": "stdout",
     "output_type": "stream",
     "text": [
      "1569200400176\n",
      "Python is awesome and hard to learn.\n",
      "1569194854800\n",
      "Python is awesome and EASY to learn.\n"
     ]
    }
   ],
   "source": [
    "\n",
    "str4 = \"Python is awesome and hard to learn.\"\n",
    "print(id(str4)) #-----------(1)\n",
    "print(str4)\n",
    "\n",
    "str4 = str4.replace(\"hard\",\"EASY\")\n",
    "print(id(str4)) #-----------(2)\n",
    "print(str4)\n",
    "# from (1) and (2) see that the stirng has not changed as it is immutable. we are using the same variable to referance the new string"
   ]
  },
  {
   "cell_type": "code",
   "execution_count": 4,
   "id": "6c1d2190",
   "metadata": {},
   "outputs": [
    {
     "name": "stdout",
     "output_type": "stream",
     "text": [
      "Hard work beats talent when talent doesn’t work hard.\n",
      "result ['Hard', 'work', 'beats', 'talent', 'when', 'talent', 'doesn’t', 'work', 'hard.']\n",
      "\n",
      "Hard work beats talent when talent doesn’t work hard. result2 ['AB', 'DC', 'SK', 'RK', 'RB', 'KK']\n",
      "<class 'list'>\n",
      "SS@DD@KK@RR@RB@PR\n"
     ]
    }
   ],
   "source": [
    "#### 7. Splitting of Strings:\n",
    "\n",
    "# We can split the given string according to specified seperator by using split() method\n",
    "\n",
    "str5 = \"Hard work beats talent when talent doesn’t work hard.\"\n",
    "\n",
    "for j in str5:\n",
    "    print(j,end='') # know the use of end='' here  \n",
    "print() # because using end='' the next print statement will print in the same line if we don't use this print()\n",
    "\n",
    "\n",
    "result = str5.split()\n",
    "print('result',result)          ### will store the output in list\n",
    "print()\n",
    "for i in result:\n",
    "    print(i,end=' ') # we have added space it is not assigned automatically\n",
    "\n",
    "\n",
    "# Spliting\n",
    "str6 = \"AB-DC-SK-RK-RB-KK\"\n",
    "    \n",
    "result2 = str6.split(\"-\")\n",
    "print('result2',result2)\n",
    "print(type(result2))\n",
    "\n",
    "# # JOINING WITH Seperator\n",
    "str7 = ['SS', 'DD', 'KK', 'RR', 'RB', 'PR']\n",
    "\n",
    "result3 =\"@\".join(str7)\n",
    "print(result3)\n"
   ]
  },
  {
   "cell_type": "code",
   "execution_count": 12,
   "id": "fe86aac3",
   "metadata": {
    "scrolled": true
   },
   "outputs": [
    {
     "name": "stdout",
     "output_type": "stream",
     "text": [
      "TWO GREAT TASTES THAT TASTE GREAT TOGETHER\n",
      "two great tastes that taste great together\n",
      "tWO GREAT TASTES THAT TASTE GREAT TOGETHER\n",
      "Two Great Tastes That Taste Great Together\n",
      "Two great tastes that taste great together\n",
      "Two great tastes that taste great together\n",
      "Two great tastes that taste great together           \n",
      "          Two great tastes that taste great together\n"
     ]
    }
   ],
   "source": [
    "# 8. Changing case of a String:\n",
    "s = \"Two great tastes that taste great together\"\n",
    "\n",
    "print(s.upper())\n",
    "print(s.lower())\n",
    "print(s.swapcase())\n",
    "print(s.title())\n",
    "print(s.capitalize())\n",
    "\n",
    "#removing end space\n",
    "v = \"          Two great tastes that taste great together           \"\n",
    "print(v.strip())\n",
    "print(v.lstrip())\n",
    "print(v.rstrip())"
   ]
  },
  {
   "cell_type": "code",
   "execution_count": 18,
   "metadata": {},
   "outputs": [
    {
     "name": "stdout",
     "output_type": "stream",
     "text": [
      "ashd\n"
     ]
    }
   ],
   "source": [
    "\n",
    "v = \"ashdnnn\"\n",
    "print(v.rstrip('nn'))"
   ]
  },
  {
   "cell_type": "code",
   "execution_count": 10,
   "metadata": {},
   "outputs": [
    {
     "name": "stdout",
     "output_type": "stream",
     "text": [
      "ashd\n",
      "ashdnnn\n"
     ]
    }
   ],
   "source": [
    "\n",
    "v = \"nnnashdnnn\"\n",
    "print(v.strip('n'))\n",
    "print(v.lstrip('n'))"
   ]
  },
  {
   "cell_type": "code",
   "execution_count": 19,
   "id": "f66c1db4",
   "metadata": {},
   "outputs": [
    {
     "name": "stdout",
     "output_type": "stream",
     "text": [
      "True\n",
      "True\n"
     ]
    }
   ],
   "source": [
    "# 9. Checking starting and ending part of the string:\n",
    "\n",
    "# 1. s.startswith(substring)\n",
    "# 2. s.endswith(substring)\n",
    "\n",
    "s1 = \"Indian\"\n",
    "print(s1.startswith(\"I\")) #only used to get True of False\n",
    "print(s1.endswith(\"n\"))"
   ]
  },
  {
   "cell_type": "code",
   "execution_count": 20,
   "id": "c485fc7e",
   "metadata": {},
   "outputs": [
    {
     "name": "stdout",
     "output_type": "stream",
     "text": [
      "4 4\n",
      "['L', 'F', 'Y', 'L']\n",
      "\n",
      "66 66\n",
      "['e', 'a', 'r', 'n', 'r', 'o', 'm', 't', 'h', 'e', 'm', 'i', 's', 't', 'a', 'k', 'e', 's', 'o', 'f', 'o', 't', 'h', 'e', 'r', 's', 'o', 'u', 'c', 'a', 'n', 't', 'i', 'v', 'e', 'l', 'o', 'n', 'g', 'e', 'n', 'o', 'u', 'g', 'h', 't', 'o', 'm', 'a', 'k', 'e', 't', 'h', 'e', 'm', 'a', 'l', 'l', 'y', 'o', 'u', 'r', 's', 'e', 'l', 'f']\n",
      "88\n"
     ]
    }
   ],
   "source": [
    "# exercise\n",
    "\n",
    "str1 = \"Learn From the mistakes of others. You can't Live long enough to make them all yourself.\"\n",
    "count = 0\n",
    "count1 = 0\n",
    "lst_CAPITAL = []\n",
    "lst_SMALL = []\n",
    "for char in str1:\n",
    "    if char.isupper() == True:\n",
    "        lst_CAPITAL.append(char)\n",
    "        count +=1\n",
    "    elif char.islower() == True:\n",
    "        lst_SMALL.append(char)\n",
    "        count1 +=1\n",
    "\n",
    "print(count,len(lst_CAPITAL))\n",
    "print(lst_CAPITAL)\n",
    "print()\n",
    "print(count1,len(lst_SMALL))\n",
    "print(lst_SMALL)\n",
    "\n",
    "print(len(str1))"
   ]
  },
  {
   "cell_type": "code",
   "execution_count": 2,
   "id": "ffc2ee35",
   "metadata": {},
   "outputs": [
    {
     "name": "stdout",
     "output_type": "stream",
     "text": [
      "['walk', 'wall', 'warm']\n",
      "['cat', 'mat', 'bat']\n"
     ]
    }
   ],
   "source": [
    "# exercise\n",
    "\n",
    "lst1 = [\"cat\",\"mat\",\"bat\",\"walk\",\"wall\",\"warm\"]\n",
    "start = []\n",
    "end = []\n",
    "for i in lst1:\n",
    "    if i.startswith(\"w\") == True:\n",
    "        start.append(i)\n",
    "    elif i.endswith(\"t\") == True:\n",
    "        end.append(i)\n",
    "        \n",
    "print(start)\n",
    "print(end)\n",
    "        "
   ]
  },
  {
   "cell_type": "code",
   "execution_count": 21,
   "id": "d61ec635",
   "metadata": {},
   "outputs": [
    {
     "name": "stdout",
     "output_type": "stream",
     "text": [
      "Hello\n"
     ]
    }
   ],
   "source": [
    "### 10. modify string by creating new object\n",
    "\n",
    "my_string = \"hello\"\n",
    "# my_string[0] = \"H\" # This will raise a TypeError\n",
    "\n",
    "my_string = \"hello\"\n",
    "new_string = \"H\" + my_string[1:]\n",
    "print(new_string) \n"
   ]
  },
  {
   "cell_type": "code",
   "execution_count": null,
   "id": "6d385201",
   "metadata": {},
   "outputs": [],
   "source": [
    "# exercise\n",
    "\n",
    "str1 = ['did','mam','pip','hat','dog']\n",
    "\n",
    "for i in str1:\n",
    "    if i == i[::-1]:\n",
    "        print('string is palindrome')\n",
    "    else:\n",
    "        print('not palindrome')"
   ]
  },
  {
   "cell_type": "code",
   "execution_count": 3,
   "id": "4ec03f54",
   "metadata": {},
   "outputs": [
    {
     "name": "stdout",
     "output_type": "stream",
     "text": [
      "['__add__', '__class__', '__contains__', '__delattr__', '__dir__', '__doc__', '__eq__', '__format__', '__ge__', '__getattribute__', '__getitem__', '__getnewargs__', '__getstate__', '__gt__', '__hash__', '__init__', '__init_subclass__', '__iter__', '__le__', '__len__', '__lt__', '__mod__', '__mul__', '__ne__', '__new__', '__reduce__', '__reduce_ex__', '__repr__', '__rmod__', '__rmul__', '__setattr__', '__sizeof__', '__str__', '__subclasshook__', 'capitalize', 'casefold', 'center', 'count', 'encode', 'endswith', 'expandtabs', 'find', 'format', 'format_map', 'index', 'isalnum', 'isalpha', 'isascii', 'isdecimal', 'isdigit', 'isidentifier', 'islower', 'isnumeric', 'isprintable', 'isspace', 'istitle', 'isupper', 'join', 'ljust', 'lower', 'lstrip', 'maketrans', 'partition', 'removeprefix', 'removesuffix', 'replace', 'rfind', 'rindex', 'rjust', 'rpartition', 'rsplit', 'rstrip', 'split', 'splitlines', 'startswith', 'strip', 'swapcase', 'title', 'translate', 'upper', 'zfill']\n"
     ]
    }
   ],
   "source": [
    "print(dir(str))"
   ]
  },
  {
   "cell_type": "code",
   "execution_count": 2,
   "id": "f77f0bb8",
   "metadata": {},
   "outputs": [
    {
     "name": "stdout",
     "output_type": "stream",
     "text": [
      "The Monk Who Sold His Ferreri\n"
     ]
    }
   ],
   "source": [
    "a = \"The Monk Who Sold His Ferreri\"\n",
    "print(a.istitle())"
   ]
  },
  {
   "cell_type": "code",
   "execution_count": 4,
   "id": "c2c1cde9",
   "metadata": {},
   "outputs": [
    {
     "name": "stdout",
     "output_type": "stream",
     "text": [
      "The Monk Who Sold His Ferreri\n"
     ]
    }
   ],
   "source": [
    "a = \"The monk Who sold His Ferreri\"\n",
    "print(a.title())"
   ]
  },
  {
   "cell_type": "code",
   "execution_count": null,
   "id": "002fb80c",
   "metadata": {},
   "outputs": [],
   "source": [
    "# isalnum(): Returns True if all characters are alphanumeric( a to z , A to Z ,0 to)\n",
    "# istitle(): Returns True if string is in title case\n",
    "# isspace(): Returns True if string contains only spaces"
   ]
  },
  {
   "cell_type": "code",
   "execution_count": null,
   "id": "459b765e",
   "metadata": {},
   "outputs": [],
   "source": [
    "#String methods: --\n",
    "    \n",
    "# casefold()\tConverts string into lower case\n",
    "# center()\tReturns a centered string\n",
    "# count()\tReturns the number of times a specified value occurs in a string\n",
    "# encode()\tReturns an encoded version of the string\n",
    "# endswith()\tReturns true if the string ends with the specified value\n",
    "# expandtabs()\tSets the tab size of the string\n",
    "# find()\tSearches the string for a specified value and returns the position of where it was found\n",
    "# format()\tFormats specified values in a string\n",
    "# format_map()\tFormats specified values in a string\n",
    "# index()\tSearches the string for a specified value and returns the position of where it was found\n",
    "# isalnum()\tReturns True if all characters in the string are alphanumeric\n",
    "# isalpha()\tReturns True if all characters in the string are in the alphabet\n",
    "# isascii()\tReturns True if all characters in the string are ascii characters\n",
    "# isdecimal()\tReturns True if all characters in the string are decimals\n",
    "# isdigit()\tReturns True if all characters in the string are digits\n",
    "# isidentifier()\tReturns True if the string is an identifier\n",
    "# islower()\tReturns True if all characters in the string are lower case\n",
    "# isnumeric()\tReturns True if all characters in the string are numeric\n",
    "# isprintable()\tReturns True if all characters in the string are printable\n",
    "# isspace()\tReturns True if all characters in the string are whitespaces\n",
    "# istitle()\tReturns True if the string follows the rules of a title\n",
    "# isupper()\tReturns True if all characters in the string are upper case\n",
    "# join()\tConverts the elements of an iterable into a string\n",
    "# ljust()\tReturns a left justified version of the string\n",
    "# lower()\tConverts a string into lower case\n",
    "# lstrip()\tReturns a left trim version of the string\n",
    "# maketrans()\tReturns a translation table to be used in translations\n",
    "# partition()\tReturns a tuple where the string is parted into three parts\n",
    "# replace()\tReturns a string where a specified value is replaced with a specified value\n",
    "# rfind()\tSearches the string for a specified value and returns the last position of where it was found\n",
    "# rindex()\tSearches the string for a specified value and returns the last position of where it was found\n",
    "# rjust()\tReturns a right justified version of the string\n",
    "# rpartition()\tReturns a tuple where the string is parted into three parts\n",
    "# rsplit()\tSplits the string at the specified separator, and returns a list\n",
    "# rstrip()\tReturns a right trim version of the string\n",
    "# split()\tSplits the string at the specified separator, and returns a list\n",
    "# splitlines()\tSplits the string at line breaks and returns a list\n",
    "# startswith()\tReturns true if the string starts with the specified value\n",
    "# strip()\tReturns a trimmed version of the string\n",
    "# swapcase()\tSwaps cases, lower case becomes upper case and vice versa\n",
    "# title()\tConverts the first character of each word to upper case\n",
    "# translate()\tReturns a translated string\n",
    "# upper()\tConverts a string into upper case\n",
    "# zfill()\tFills the string with a specified number of 0 values at the beginning"
   ]
  },
  {
   "cell_type": "code",
   "execution_count": 8,
   "id": "c2a81732",
   "metadata": {},
   "outputs": [
    {
     "name": "stdout",
     "output_type": "stream",
     "text": [
      "The intEger number is: 123\n",
      "The intEger number is: 123\n",
      "The intEger number is:   123\n",
      "The intEger number is: 00123\n",
      "The float number is:  123.457\n",
      "The float number is: 0123.457\n",
      "The float number is: 0123.450\n",
      "The float number is: 786786123.450\n"
     ]
    }
   ],
   "source": [
    "# Formatting Numbers\n",
    "\n",
    "# d--->Decimal IntEger\n",
    "# f----->Fixed point number(float).The default precision is 6\n",
    "# b-->Binary format\n",
    "# o--->Octal Format\n",
    "# x-->Hexa Decimal Format(Lower case)\n",
    "# X-->Hexa Decimal Format(Upper case)\n",
    "# Eg-1:\n",
    "\n",
    "print(\"The intEger number is: {}\".format(123))\n",
    "print(\"The intEger number is: {:d}\".format(123))\n",
    "print(\"The intEger number is: {:5d}\".format(123))\n",
    "print(\"The intEger number is: {:05d}\".format(123))\n",
    "\n",
    "\n",
    "print(\"The float number is: {:8.3f}\".format(123.4567))\n",
    "print(\"The float number is: {:08.3f}\".format(123.4567))\n",
    "print(\"The float number is: {:08.3f}\".format(123.45))\n",
    "print(\"The float number is: {:08.3f}\".format(786786123.45))"
   ]
  },
  {
   "attachments": {},
   "cell_type": "markdown",
   "id": "faf30887",
   "metadata": {},
   "source": [
    "# Practice"
   ]
  },
  {
   "cell_type": "code",
   "execution_count": null,
   "id": "c8dc2c68",
   "metadata": {},
   "outputs": [],
   "source": [
    "# Quotation marks\n",
    "\n",
    "b = \"Harry's\" # --> Use this if you have single quotes in your strings\n",
    "print(b)\n",
    "\n",
    "b = 'Harry\"s'\n",
    "print(b)\n",
    "\n",
    "b = '''Harry\"s and \n",
    "       Harry's'''\n",
    "\n",
    "print(b)\n",
    "\n",
    "print(type(b))\n"
   ]
  },
  {
   "cell_type": "code",
   "execution_count": 22,
   "id": "d002249c",
   "metadata": {},
   "outputs": [
    {
     "name": "stdout",
     "output_type": "stream",
     "text": [
      "<class 'str'>\n",
      "Good Morning, Harry\n",
      "Good Afternoon, sa\n"
     ]
    }
   ],
   "source": [
    "# Concatenating two strings\n",
    "\n",
    "greeting = \"Good Morning, \"\n",
    "name = \"Harry\"\n",
    "print(type(name))\n",
    "\n",
    "c = greeting + name\n",
    "print(c)\n",
    "\n",
    "\n",
    "name = input(\"Enter your name\\n\")\n",
    "print(\"Good Afternoon, \" + name)"
   ]
  },
  {
   "cell_type": "code",
   "execution_count": 2,
   "id": "099d62bb",
   "metadata": {},
   "outputs": [
    {
     "name": "stdout",
     "output_type": "stream",
     "text": [
      "y\n",
      "arr\n",
      "Harr\n",
      "arry\n",
      "arr\n"
     ]
    }
   ],
   "source": [
    "# Sclicing\n",
    "\n",
    "name = \"Harry\"\n",
    "print(name[4])\n",
    "# name[3] = \"d\" --> Does not work--because immutable\n",
    "\n",
    "print(name[1:4])\n",
    "print(name[:4]) # is same as name[0:4]\n",
    "print(name[1:]) # is same as name[1:5]\n",
    "c = name[-4:-1] # is same is name[1:4] ###\n",
    "print(c)\n"
   ]
  },
  {
   "cell_type": "code",
   "execution_count": 3,
   "id": "0adf0fa2",
   "metadata": {},
   "outputs": [
    {
     "name": "stdout",
     "output_type": "stream",
     "text": [
      "Hrso\n",
      "dooGsIyrra\n",
      "dosyr\n"
     ]
    }
   ],
   "source": [
    "\n",
    "name = \"HarryIsGood\"\n",
    "d = name[0::3] # every third number (gap of two)\n",
    "print(d)\n",
    "d = name[:0:-1] \n",
    "print(d) \n",
    "d = name[:0:-2]\n",
    "print(d) \n"
   ]
  },
  {
   "cell_type": "code",
   "execution_count": 4,
   "id": "6d1ea751",
   "metadata": {},
   "outputs": [
    {
     "name": "stdout",
     "output_type": "stream",
     "text": [
      "93\n",
      "False\n",
      "2\n",
      "Once upon a time there was a youtuber named harry who uploaded python course with notes harry\n",
      "5\n",
      "once upon a time there was a youtuber named CodeWithHarry who uploaded python course with notes CodeWithHarry\n"
     ]
    }
   ],
   "source": [
    "# String methods\n",
    "\n",
    "story = \"once upon a time there was a youtuber named Harry who uploaded python course with notes Harry\"\n",
    "\n",
    "print(len(story))\n",
    "print(story.endswith(\"notes\"))\n",
    "print(story.count(\"c\"))\n",
    "print(story.capitalize())\n",
    "print(story.find(\"upon\"))\n",
    "print(story.replace(\"Harry\", \"CodeWithHarry\"))\n"
   ]
  },
  {
   "cell_type": "code",
   "execution_count": 4,
   "id": "7e6de5c8",
   "metadata": {},
   "outputs": [
    {
     "name": "stdout",
     "output_type": "stream",
     "text": [
      "28\n"
     ]
    }
   ],
   "source": [
    "st = \"This is a string with double  spaces\"\n",
    "\n",
    "doubleSpaces = st.find(\"  \")\n",
    "print(doubleSpaces)\n",
    "# if there is no doublespace then it returns -1"
   ]
  },
  {
   "cell_type": "code",
   "execution_count": null,
   "id": "17bd2d16",
   "metadata": {},
   "outputs": [],
   "source": [
    "st = \"This is a string with double  spaces     ok\" #four spaces are converted into 2 spaces\n",
    "\n",
    "st = st.replace(\"  \", \" \")\n",
    "print(st)"
   ]
  },
  {
   "cell_type": "code",
   "execution_count": null,
   "id": "cd5a0510",
   "metadata": {},
   "outputs": [],
   "source": [
    " # Email Template\n",
    "\n",
    "letter = '''Dear <|NAME|>,\n",
    "Greetings from ABC coding house. I am happy to tell you about your selection\n",
    "You are selected!\n",
    "Have a great day ahead!\n",
    "Thanks and regards,\n",
    "Bill\n",
    "Date: <|DATE|>\n",
    "'''\n",
    "name = input(\"Enter Your Name\\n\")\n",
    "date = input(\"Enter Date\\n\")\n",
    "letter = letter.replace(\"<|NAME|>\", name)\n",
    "letter = letter.replace(\"<|DATE|>\", date)\n",
    "print(letter)"
   ]
  },
  {
   "cell_type": "code",
   "execution_count": null,
   "id": "45e954ac",
   "metadata": {},
   "outputs": [],
   "source": [
    "# \n",
    "\n",
    "story = \"Harry is good.\\nHe\\tis ve\\\\ry good\"\n",
    "print(story)\n",
    "\n",
    "# \\n next line\n",
    "# \\t tab\n",
    "# \\\\ to print \\"
   ]
  },
  {
   "cell_type": "code",
   "execution_count": null,
   "id": "d50bcdf3",
   "metadata": {},
   "outputs": [],
   "source": [
    "letter = \"Dear Harry, This Python course is nice! Thanks!\"\n",
    "print(letter)\n",
    "\n",
    "formatted_letter = \"Dear Harry,\\n\\tThis Python course is nice!\\nThanks!\"\n",
    "print(formatted_letter)"
   ]
  },
  {
   "cell_type": "code",
   "execution_count": 25,
   "id": "bef2718f",
   "metadata": {},
   "outputs": [
    {
     "name": "stdout",
     "output_type": "stream",
     "text": [
      "True\n"
     ]
    }
   ],
   "source": [
    "# 1. Python program to check whether the string is Symmetrical or Palindrome\n",
    "\n",
    "str1 = \"Pavap\"\n",
    "str0 = str1.lower()\n",
    "if str0 == str0[::-1]:\n",
    "    print(True)\n",
    "else:\n",
    "    print(False)\n"
   ]
  },
  {
   "cell_type": "code",
   "execution_count": 5,
   "id": "84954930",
   "metadata": {},
   "outputs": [
    {
     "name": "stdout",
     "output_type": "stream",
     "text": [
      "Navap\n"
     ]
    }
   ],
   "source": [
    "# 2. Reverse string in Python\n",
    "str0 = \"Pavan\"\n",
    "str0 = str0.lower()\n",
    "str0 = str0[::-1]\n",
    "str0 = str0.capitalize()\n",
    "print(str0)"
   ]
  },
  {
   "cell_type": "code",
   "execution_count": 6,
   "id": "fcef1cf3",
   "metadata": {},
   "outputs": [
    {
     "name": "stdout",
     "output_type": "stream",
     "text": [
      "Shivay Namah\n",
      "Shivay Namah\n"
     ]
    }
   ],
   "source": [
    "# 3. Reverse words in a string in Python\n",
    "str0 = \"Om Namah Shivay\"\n",
    "lst = str0.split()\n",
    "lst.reverse()\n",
    "str0 = \" \".join(lst)\n",
    "print(str0[0:-3])\n",
    "print(str0[:-3])\n"
   ]
  },
  {
   "cell_type": "code",
   "execution_count": 7,
   "id": "632e216b",
   "metadata": {},
   "outputs": [
    {
     "name": "stdout",
     "output_type": "stream",
     "text": [
      "['B', 'a', 'g', 'h', 'i', 'r', 'a', 't', 'h', 'i']\n",
      "Baghirati\n"
     ]
    }
   ],
   "source": [
    "# 4. Ways to remove i’th character from string in Python\n",
    "str0 = \"Baghirathi\"\n",
    "j = 8\n",
    "lst = list(str0)\n",
    "print(lst)\n",
    "for i in str0:\n",
    "    if i == str0[j]:\n",
    "        lst.pop(j)\n",
    "        break\n",
    "str0 = \"\".join(lst)\n",
    "print(str0)\n"
   ]
  },
  {
   "cell_type": "code",
   "execution_count": null,
   "id": "3e6efaa8",
   "metadata": {},
   "outputs": [],
   "source": [
    "# 5. Python | Find length of a string in python (4 ways) \n",
    "str0 = \"Sati\"\n",
    "\n",
    "#1\n",
    "print(len(str0))\n",
    "\n",
    "#2 \n",
    "j = 0\n",
    "for i in str0:\n",
    "    j += 1\n",
    "print(j)\n",
    "\n",
    "#3\n",
    "j = 0\n",
    "while str0[j:]: ####\n",
    "    j += 1\n",
    "print(j)\n",
    "\n",
    "#4\n",
    "def count1(str0):\n",
    "    return sum(1 for i in str0)\n",
    "print(count1(\"Mithra\"))\n",
    "\n",
    "#5\n",
    "str0 = \"Bahmandokht\"\n",
    "j = 0\n",
    "for i,k in enumerate(str0):\n",
    "    pass\n",
    "print(i+1)\n"
   ]
  },
  {
   "cell_type": "code",
   "execution_count": 31,
   "id": "434e6c51",
   "metadata": {},
   "outputs": [
    {
     "name": "stdout",
     "output_type": "stream",
     "text": [
      "22\n",
      "19\n"
     ]
    }
   ],
   "source": [
    "# 6. Python – Avoid Spaces in string length\n",
    "\n",
    "str0 = \"The Oath of Vayuputras\"\n",
    "print(len(str0))\n",
    "j = 0\n",
    "for i in str0:\n",
    "    if i != \" \":\n",
    "        j += 1\n",
    "print(j)\n"
   ]
  },
  {
   "cell_type": "code",
   "execution_count": 32,
   "id": "85024be1",
   "metadata": {},
   "outputs": [
    {
     "name": "stdout",
     "output_type": "stream",
     "text": [
      "Oath of Vayuputras\n"
     ]
    }
   ],
   "source": [
    "# 7. Python program to print even length words in a string\n",
    "\n",
    "str1 = \"The Oath of Vayuputras\"\n",
    "lst = str1.split()\n",
    "new_lst = []\n",
    "for i in lst:\n",
    "    if len(i) % 2 == 0:\n",
    "        new_lst.append(i)\n",
    "str1 = \" \".join(new_lst)\n",
    "print(str1)"
   ]
  },
  {
   "cell_type": "code",
   "execution_count": null,
   "id": "ca1d064f",
   "metadata": {},
   "outputs": [],
   "source": [
    "# 8. Python – Uppercase Half String\n",
    "\n",
    "def fun(str1):\n",
    "    lst = list(str1)\n",
    "    if len(str1)%2 == 0:\n",
    "        i = int(len(str1)/2)\n",
    "        str1 = str1[0:i]\n",
    "        str1 = str1.upper() \n",
    "    else:\n",
    "        i = round(len(str1)/2) \n",
    "        str1 = str1[:i]\n",
    "        str1 = str1.upper()\n",
    "\n",
    "    str2 = str1 + str1[i:]\n",
    "    return str2\n",
    "\n",
    "str1 = \"Vayu-vata\"\n",
    "print(fun(str1))      \n"
   ]
  },
  {
   "cell_type": "code",
   "execution_count": null,
   "id": "ab86337d",
   "metadata": {},
   "outputs": [],
   "source": [
    "# 9. Python program to capitalize the first and last character of each word in a string\n",
    "str0 = \"geekforgeeks\"\n",
    "str0 = str0.capitalize()\n",
    "str0 = str0[:-2] + str0[-1].upper()\n",
    "print(str0)\n"
   ]
  },
  {
   "cell_type": "code",
   "execution_count": 6,
   "id": "82caae7b",
   "metadata": {},
   "outputs": [
    {
     "name": "stdout",
     "output_type": "stream",
     "text": [
      "True\n"
     ]
    }
   ],
   "source": [
    "# 10. Python program to check if a string has at least one letter and one number\n",
    "\n",
    "str1 = \"Dhoni07\"\n",
    "c_num = False\n",
    "c_alpha = False\n",
    "def fun(str):\n",
    "    for i in str1:\n",
    "        if i.isalpha():\n",
    "            c_alpha = True\n",
    "        if i.isdigit():\n",
    "            c_num = True\n",
    "        \n",
    "    return c_num and c_alpha\n",
    "\n",
    "print(fun(str1))\n"
   ]
  },
  {
   "cell_type": "code",
   "execution_count": null,
   "id": "bc9d9d83",
   "metadata": {},
   "outputs": [],
   "source": [
    "# 11. Python | Program to accept the strings which contains all vowels\n",
    "\n",
    "str1 = \"Sequoia\"\n",
    "vowels = \"aeiou\"\n",
    "str1 = str1.lower()\n",
    "j = 0\n",
    "for i in vowels:   \n",
    "    if i in str1:\n",
    "        j += 1\n",
    "        print(j)\n",
    "\n",
    "if j == 5:\n",
    "    print(f\"{str1} has all vowels in it\")\n",
    "else:\n",
    "    print('no')   \n"
   ]
  },
  {
   "cell_type": "code",
   "execution_count": null,
   "id": "6b1f3a6c",
   "metadata": {},
   "outputs": [],
   "source": [
    "# 12. Python | Count the Number of matching characters in a pair of string \n",
    "\n",
    "str1 = \"Pariha\"\n",
    "str2 = \"Persia\"\n",
    "lst = []\n",
    "j = 0\n",
    "for i in str1:\n",
    "    if i in str2:\n",
    "        if i not in lst:\n",
    "            lst.append(i)\n",
    "            j += 1\n",
    "print(j)"
   ]
  },
  {
   "cell_type": "code",
   "execution_count": 1,
   "id": "5345261a",
   "metadata": {},
   "outputs": [
    {
     "name": "stdout",
     "output_type": "stream",
     "text": [
      "2\n"
     ]
    }
   ],
   "source": [
    "# 13. Python program to count number of vowels using sets in given string \n",
    "\n",
    "def fun(str1):\n",
    "    vowels = \"aeiou\"\n",
    "    str2 = str1.lower()\n",
    "    set2 = set()\n",
    "    for i in str2:\n",
    "        if i in vowels:\n",
    "            set2.add(i)\n",
    "    return len(set2)\n",
    "\n",
    "str1 = \"Fravashi\"\n",
    "print(fun(str1)) # here double a is not counted"
   ]
  },
  {
   "cell_type": "code",
   "execution_count": 2,
   "id": "71ba50f5",
   "metadata": {},
   "outputs": [
    {
     "name": "stdout",
     "output_type": "stream",
     "text": [
      "pashutir\n",
      "thuisrpa\n"
     ]
    }
   ],
   "source": [
    "# 14. Remove all duplicates from a given string in Python\n",
    "\n",
    "str4 = \"Pashupatiastra\"\n",
    "def fun(str4):\n",
    "    str4 = str4.lower()\n",
    "    lst = []\n",
    "    for i in str4:\n",
    "        if i not in lst:\n",
    "            lst.append(i)\n",
    "    str1 = \"\".join(lst)\n",
    "    return str1\n",
    "print(fun(str4))\n",
    "\n",
    "#\n",
    "set1 = set()\n",
    "for i in str4.lower():\n",
    "    set1.add(i)\n",
    "str2 = \"\".join(set1)\n",
    "print(str2)"
   ]
  },
  {
   "cell_type": "code",
   "execution_count": 3,
   "id": "ae6f6dda",
   "metadata": {},
   "outputs": [
    {
     "name": "stdout",
     "output_type": "stream",
     "text": [
      "['f', 'o', 'r', 's']\n",
      "['f', 'o', 'r', 's']\n"
     ]
    }
   ],
   "source": [
    "# 15. Python – Least Frequent Character in String\n",
    "\n",
    "str5 = \"Geekforgeeks\"\n",
    "\n",
    "def fun(str0):\n",
    "    str0 = str5.lower()\n",
    "    dict0 = {}\n",
    "    lst = []\n",
    "    for i in str0:\n",
    "        if i not in dict0:\n",
    "            dict0[i] = 1\n",
    "        else:\n",
    "            dict0[i] += 1\n",
    "    a = min(dict0.values())\n",
    "    for i,j in dict0.items():\n",
    "        if j == a:\n",
    "            lst.append(i)\n",
    "    return lst\n",
    "\n",
    "print(fun(str5))\n",
    "\n",
    "##\n",
    "def fun(str0):\n",
    "    str0 = str5.lower()\n",
    "    dict0 = {}\n",
    "    lst = list(str0)\n",
    "    lst1 = []\n",
    "    for i in str0:\n",
    "        dict0[i] = lst.count(i)\n",
    "    a = min(dict0.values())\n",
    "    for key,value in dict0.items():\n",
    "        if value == a:\n",
    "            lst1.append(key)\n",
    "    return lst1\n",
    "\n",
    "print(fun(str5))\n"
   ]
  },
  {
   "cell_type": "code",
   "execution_count": 4,
   "id": "6711ef06",
   "metadata": {},
   "outputs": [
    {
     "name": "stdout",
     "output_type": "stream",
     "text": [
      "['e']\n"
     ]
    }
   ],
   "source": [
    "# 16. Python | Maximum frequency character in String\n",
    "str0 = \"Geekforgeeks\"\n",
    "\n",
    "def fun(str0):\n",
    "    str0 = str0.lower()\n",
    "    dict0 = {}\n",
    "    lst = []\n",
    "    for i in str0:\n",
    "        j = 0\n",
    "        if i not in dict0:\n",
    "            j += 1\n",
    "            dict0[i] = j\n",
    "        else:\n",
    "            dict0[i] += 1\n",
    "    a = max(dict0.values())\n",
    "    for i,j in dict0.items():\n",
    "        if j == a:\n",
    "            lst.append(i)\n",
    "    return lst\n",
    "\n",
    "\n",
    "print(fun(str0))\n"
   ]
  },
  {
   "cell_type": "code",
   "execution_count": 5,
   "id": "57a24998",
   "metadata": {},
   "outputs": [
    {
     "name": "stdout",
     "output_type": "stream",
     "text": [
      "['g', 'f', 'o', 'r', 's']\n"
     ]
    }
   ],
   "source": [
    "# 17. Python – Odd Frequency Characters\n",
    "str5 = \"Geekforggeeks\"\n",
    "\n",
    "def fun(str):\n",
    "    str0 = str5.lower()\n",
    "    dict0 = {}\n",
    "    lst = []\n",
    "    for i in str0:\n",
    "        j = 0\n",
    "        if i not in dict0:\n",
    "            j += 1\n",
    "            dict0[i] = j\n",
    "        else:\n",
    "            dict0[i] += 1\n",
    "    for i,j in dict0.items():\n",
    "        if j%2 != 0:\n",
    "            lst.append(i)\n",
    "    return lst\n",
    "\n",
    "print(fun(str5))\n"
   ]
  },
  {
   "cell_type": "code",
   "execution_count": 6,
   "id": "52f29590",
   "metadata": {},
   "outputs": [
    {
     "name": "stdout",
     "output_type": "stream",
     "text": [
      "{'g': 3, 'e': 4}\n"
     ]
    }
   ],
   "source": [
    "# 18. Python – Specific Characters Frequency in String List\n",
    "\n",
    "str5 = \"Geekforggeeks\"\n",
    "\n",
    "def fun(str5):\n",
    "    str0 = str5.lower()\n",
    "    lst0 = [\"g\",\"e\"]\n",
    "    dict0 = {}\n",
    "    dict1 = {}\n",
    "    for i in str0:\n",
    "        j = 0\n",
    "        if i not in dict0:\n",
    "            j += 1\n",
    "            dict0[i] = j\n",
    "        else:\n",
    "            dict0[i] += 1\n",
    "    for key,value in dict0.items():\n",
    "        if key in lst0:\n",
    "            dict1[key] = value\n",
    "            \n",
    "    return dict1\n",
    "\n",
    "\n",
    "print(fun(str5))\n"
   ]
  },
  {
   "cell_type": "code",
   "execution_count": null,
   "id": "8e9155e4",
   "metadata": {},
   "outputs": [],
   "source": [
    "# 19. Python | Frequency of numbers in String\n",
    "str0 = \"X AE-12 Musk\"\n",
    "j = 0\n",
    "for i in str0:\n",
    "    if i.isdigit():\n",
    "        j += 1\n",
    "print(\"The number of digits in the string is\", j)"
   ]
  },
  {
   "cell_type": "code",
   "execution_count": null,
   "id": "e2432605",
   "metadata": {},
   "outputs": [],
   "source": [
    "# 20. Program to check if a string contains any special character\n",
    "str0 = \"welcome@abd*jdjn%jdfl33#pav21\"\n",
    "str2 = \"\"\" !@#$%^&*(){[?:\"><;'/\".,'\"]} \"\"\" \n",
    "spe_char = False\n",
    "for i in str0:\n",
    "    if i in str2:\n",
    "        spe_char = True\n",
    "        break\n",
    "print(spe_char) \n",
    "\n",
    "\n",
    "# import re\n",
    "# str0 = \"welcome@abd*jdjn%jdfl33#pav21\"\n",
    "# regex = re.compile(\"\"\"!@#$%^&*(){[?:\"><;'/\".,'\"]}\"\"\")\n",
    "\n",
    "# if regex.search(str0) == None:\n",
    "#     print(\"No special character present\")\n",
    "\n",
    "# else:\n",
    "#     print(\"special characters present\", regex.search(str0))\n",
    "\n",
    "# above code does not produce required output\n"
   ]
  },
  {
   "cell_type": "code",
   "execution_count": 7,
   "id": "97296948",
   "metadata": {},
   "outputs": [
    {
     "name": "stdout",
     "output_type": "stream",
     "text": [
      ",yI.\n",
      "prhb\n",
      "Jj E\n",
      "t6gf\n",
      "gvWo\n",
      "qgTL\n",
      "pLIb\n",
      "Vxmz\n",
      "Vpxq\n",
      "8TwV\n",
      "zgIb\n",
      "M 5R\n",
      "fb0P\n",
      " ea1\n",
      "k1!1\n",
      "rRdb\n",
      "2Dbw\n",
      "cBcb\n",
      "j7SB\n",
      " 5j,\n",
      "t,8k\n",
      "KY2n\n",
      "dxQ \n",
      "sk;f\n",
      "6;.R\n",
      "UH;5\n",
      "pf1o\n",
      "dcxX\n",
      "9bN!\n",
      "0hb \n",
      "3GRZ\n",
      "LwY6\n",
      "?vba\n",
      "gl1.\n",
      "vMX;\n",
      "9zQ,\n",
      "W9r0\n",
      "It.n\n",
      "IcyD\n",
      "nO8F\n",
      "q;t.\n",
      "f;tE\n",
      " ptB\n",
      "EMti\n",
      "Miti\n",
      "odti\n",
      "CZti\n",
      "r.ti\n",
      "1Jti\n",
      "oTti\n",
      "3Dti\n",
      "7;ti\n",
      "wPti\n",
      "2eti\n",
      "Rnti\n",
      " zti\n",
      " 9ti\n",
      "HLti\n",
      "BKti\n",
      "5qti\n",
      "nYti\n",
      "Viti\n",
      "wzti\n",
      "fUti\n",
      "!Mti\n",
      "1yti\n",
      "JZti\n",
      "WCti\n",
      "rWti\n",
      "0uti\n",
      ": ti\n",
      "CWti\n",
      "1Ati\n",
      "s3ti\n",
      "e ti\n",
      "i:ti\n",
      ";Eti\n",
      "Yati\n",
      "3ati\n",
      "5ati\n",
      "lati\n",
      "Jati\n",
      "?ati\n",
      " ati\n",
      "Hati\n",
      "Xati\n",
      "Mati\n",
      "0ati\n",
      "3ati\n",
      "Wati\n",
      "fati\n",
      "xati\n",
      "9ati\n",
      "xati\n",
      ":ati\n",
      "Uati\n",
      "9ati\n",
      ":ati\n",
      "pati\n",
      " ati\n",
      "dati\n",
      "xati\n",
      "Cati\n",
      "Nati\n",
      "wati\n",
      "7ati\n",
      "Qati\n",
      "Tati\n",
      "8ati\n",
      "Wati\n",
      "Uati\n",
      "Jati\n",
      "Cati\n",
      ",ati\n",
      "6ati\n",
      "0ati\n",
      "!ati\n",
      "uati\n",
      "Vati\n",
      ":ati\n",
      "eati\n",
      "Oati\n",
      " ati\n",
      "Mati\n",
      "8ati\n",
      "xati\n",
      "6ati\n",
      ":ati\n",
      "3ati\n",
      "bati\n",
      "!ati\n",
      "mati\n",
      ":ati\n",
      "xati\n",
      "Tati\n",
      "Iati\n",
      "Iati\n",
      "Kati\n",
      "3ati\n",
      ".ati\n",
      "0ati\n",
      "Wati\n",
      "Yati\n",
      "2ati\n",
      "9ati\n",
      "rati\n",
      "Bati\n",
      "eati\n",
      "oati\n",
      "Lati\n",
      "Xati\n",
      "Zati\n",
      "oati\n",
      "Nati\n",
      "fati\n",
      "Vati\n",
      "iati\n",
      "oati\n",
      "Aati\n",
      "Lati\n",
      "2ati\n",
      "Iati\n",
      "eati\n",
      "xati\n",
      "Nati\n",
      "Xati\n",
      "fati\n",
      "eati\n",
      "lati\n",
      " ati\n",
      "jati\n",
      "fati\n",
      "gati\n",
      "Fati\n",
      "jati\n",
      "Pati\n",
      "dati\n",
      "yati\n",
      "mati\n",
      "Sati\n",
      "Target matched after 180 iterations\n"
     ]
    }
   ],
   "source": [
    "\n",
    "### 21. Python program to generate and match the string from all random strings of same length\n",
    "  \n",
    "# Importing string, random and time modules\n",
    "import string\n",
    "import random\n",
    "import time\n",
    "  \n",
    "# all possible characters including lowercase, uppercase and special symbols\n",
    "possibleCharacters = string.ascii_lowercase + string.digits + string.ascii_uppercase + ' ., !?;:'\n",
    "  \n",
    "# string to be generated\n",
    "t = \"Sati\"\n",
    "  \n",
    "attemptThis = ''.join(random.choice(possibleCharacters) for i in range(len(t)))\n",
    "attemptNext = ''\n",
    "  \n",
    "completed = False\n",
    "iteration = 0\n",
    "  \n",
    "# Iterate while completed is false\n",
    "while completed == False:\n",
    "    print(attemptThis)\n",
    "      \n",
    "    attemptNext = ''\n",
    "    completed = True\n",
    "      \n",
    "    # Fix the index if matches with the strings to be generated\n",
    "    for i in range(len(t)):\n",
    "        if attemptThis[i] != t[i]:\n",
    "            completed = False\n",
    "            attemptNext += random.choice(possibleCharacters)\n",
    "        else:\n",
    "            attemptNext += t[i]\n",
    "              \n",
    "    # increment the iteration \n",
    "    iteration += 1\n",
    "    attemptThis = attemptNext\n",
    "    time.sleep(0.1)\n",
    "  \n",
    "# Driver Code\n",
    "print(\"Target matched after \" + str(iteration) + \" iterations\")"
   ]
  },
  {
   "cell_type": "code",
   "execution_count": null,
   "id": "cfe82c2d",
   "metadata": {},
   "outputs": [],
   "source": [
    "print(string.ascii_lowercase)\n",
    "print(string.digits)\n",
    "print(string.ascii_uppercase )"
   ]
  },
  {
   "cell_type": "code",
   "execution_count": 8,
   "id": "52615ef6",
   "metadata": {},
   "outputs": [
    {
     "name": "stdout",
     "output_type": "stream",
     "text": [
      "{'butter', 'bought', 'Betty', 'better', 'bitter'}\n"
     ]
    }
   ],
   "source": [
    "# 22. Find words which are greater than given length k\n",
    "str0 = \"Betty bought a butter but the butter was bitter , to make the bitter butter better Betty bought a better butter\"\n",
    "\n",
    "k = 4 #suppose\n",
    "lst = str0.split()\n",
    "set1 = set()\n",
    "for i in lst:\n",
    "    if len(i) > k:\n",
    "        set1.add(i)\n",
    "print(set1)"
   ]
  },
  {
   "cell_type": "code",
   "execution_count": 9,
   "id": "52759a33",
   "metadata": {},
   "outputs": [
    {
     "name": "stdout",
     "output_type": "stream",
     "text": [
      "Vayuvata\n"
     ]
    }
   ],
   "source": [
    "# 23. Python program for removing i-th character from a string\n",
    "str0 = \"Vayu-vata\"\n",
    "\n",
    "new_str = \"\"\n",
    "\n",
    "for i in range(len(str0)):\n",
    "    if i != 4:\n",
    "        new_str = new_str + str0[i]\n",
    "\n",
    "print(new_str)"
   ]
  },
  {
   "cell_type": "code",
   "execution_count": 10,
   "id": "5bfe1855",
   "metadata": {},
   "outputs": [
    {
     "name": "stdout",
     "output_type": "stream",
     "text": [
      "Chambal river is near Ujjain.\n"
     ]
    }
   ],
   "source": [
    "# 24. Python program to split and join a string \n",
    "str0 = \"Chambal river is near Ujjain.\"\n",
    "lst = str0.split()\n",
    "str1 = \" \".join(lst)\n",
    "print(str1)"
   ]
  },
  {
   "cell_type": "code",
   "execution_count": 11,
   "id": "1b500b05",
   "metadata": {},
   "outputs": [
    {
     "name": "stdout",
     "output_type": "stream",
     "text": [
      "binary\n"
     ]
    }
   ],
   "source": [
    "# 25. Python | Check if a given string is binary string or not \n",
    "\n",
    "str0 = \"01010111101\"\n",
    "set1 = set(str0)\n",
    "s = (\"0\",\"1\")\n",
    "\n",
    "for i in str0:\n",
    "    if i in s:\n",
    "        pass\n",
    "    else:\n",
    "        print(\"not binary\")\n",
    "        break\n",
    "else:\n",
    "    print(\"binary\")"
   ]
  },
  {
   "cell_type": "code",
   "execution_count": null,
   "id": "507d8952",
   "metadata": {},
   "outputs": [],
   "source": [
    "# 26. Python | Find all close matches of input string from a list\n"
   ]
  },
  {
   "cell_type": "code",
   "execution_count": 12,
   "id": "41942727",
   "metadata": {},
   "outputs": [
    {
     "name": "stdout",
     "output_type": "stream",
     "text": [
      "['Vayu-vata', 'Ahura', 'Hapta', 'Hindu', 'Vayudev', 'Asura', 'Sapta', 'Sindu']\n"
     ]
    }
   ],
   "source": [
    "# 27. Python program to find uncommon words from two Strings \n",
    "\n",
    "str1 = \"Mithra Vayu-vata Ahura Deva Hapta Hindu\"\n",
    "str2 = \"Mithra Vayudev Asura Deva Sapta Sindu\"\n",
    "\n",
    "def uncomman(str1,str2):\n",
    "    lst1 = str1.split()\n",
    "    lst2 = str2.split()\n",
    "    lst = []\n",
    "    for i in lst1:\n",
    "        if i not in lst2:\n",
    "            lst.append(i)\n",
    "    for i in lst2:\n",
    "        if i not in lst1:\n",
    "            lst.append(i)\n",
    "    return lst\n",
    "       \n",
    "p = uncomman(str1,str2)\n",
    "print(p)  \n"
   ]
  },
  {
   "cell_type": "code",
   "execution_count": null,
   "id": "da6ded5a",
   "metadata": {},
   "outputs": [],
   "source": [
    "# 28. Python | Swap commas and dots in a String \n",
    "\n",
    "str0 = \"The singular pineal gland, however, is present between the two hemispheres.\"\n",
    "\n",
    "str0 = str0.replace(\",\",\"abc\")\n",
    "str0 = str0.replace(\".\",\",\")\n",
    "str0 = str0.replace(\"abc\",\".\")\n",
    "        \n",
    "print(str0)   "
   ]
  },
  {
   "cell_type": "code",
   "execution_count": null,
   "id": "c10c24d9",
   "metadata": {},
   "outputs": [],
   "source": [
    "# 29. Python | Permutation of a given string using inbuilt function"
   ]
  },
  {
   "cell_type": "code",
   "execution_count": null,
   "id": "844086a8",
   "metadata": {},
   "outputs": [],
   "source": [
    "# 30. Python | Check for URL in a String"
   ]
  },
  {
   "cell_type": "code",
   "execution_count": null,
   "id": "40582487",
   "metadata": {},
   "outputs": [],
   "source": [
    "# 31. Execute a String of Code in Python"
   ]
  },
  {
   "cell_type": "code",
   "execution_count": null,
   "id": "c3e130fd",
   "metadata": {},
   "outputs": [],
   "source": []
  },
  {
   "cell_type": "code",
   "execution_count": null,
   "id": "df2dedb4",
   "metadata": {},
   "outputs": [],
   "source": []
  },
  {
   "cell_type": "code",
   "execution_count": null,
   "id": "61939270",
   "metadata": {},
   "outputs": [],
   "source": []
  }
 ],
 "metadata": {
  "kernelspec": {
   "display_name": "Python 3 (ipykernel)",
   "language": "python",
   "name": "python3"
  },
  "language_info": {
   "codemirror_mode": {
    "name": "ipython",
    "version": 3
   },
   "file_extension": ".py",
   "mimetype": "text/x-python",
   "name": "python",
   "nbconvert_exporter": "python",
   "pygments_lexer": "ipython3",
   "version": "3.11.3"
  }
 },
 "nbformat": 4,
 "nbformat_minor": 5
}

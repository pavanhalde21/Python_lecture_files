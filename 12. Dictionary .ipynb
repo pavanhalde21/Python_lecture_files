{
 "cells": [
  {
   "attachments": {},
   "cell_type": "markdown",
   "id": "657a496b",
   "metadata": {},
   "source": [
    "# Dictionary Datatype"
   ]
  },
  {
   "cell_type": "code",
   "execution_count": null,
   "id": "466e9f57",
   "metadata": {},
   "outputs": [],
   "source": [
    "# Creating a dictionary is as simple as placing items inside curly braces {} separated by commas.\n",
    "# An item has a key and a corresponding value that is expressed as a pair ( key: value ).\n",
    "\n",
    "# While the values can be of any data type and can repeat, keys must be of immutable type\n",
    "# (string, number or tuple with immutable elements) and must be unique.\n",
    "\n",
    "# dictionary is ordered it means that the items have a defined order, and that order will not change.\n",
    "# but you cannot refer to an item by using an index.\n",
    "\n",
    "# -- mutable\n",
    "# -- ordered\n",
    "# -- indexing cannot be done (value of a key can be called)\n",
    "\n",
    "# Key    --->  (immutable, unique)\n",
    "# Values --->  (mutable)"
   ]
  },
  {
   "cell_type": "code",
   "execution_count": null,
   "id": "f12dd7c2",
   "metadata": {},
   "outputs": [],
   "source": [
    "# empty dictionary\n",
    "\n",
    "my_dict1 = {}\n",
    "my_dict2 = dict()\n",
    "\n",
    "print(type(my_dict1))\n",
    "print(type(my_dict2))\n"
   ]
  },
  {
   "cell_type": "code",
   "execution_count": 27,
   "id": "e097840f",
   "metadata": {},
   "outputs": [
    {
     "name": "stdout",
     "output_type": "stream",
     "text": [
      "{1: 'apple', 2: 'ball'}\n",
      "{1: 'apple', 2: 'orange'}\n"
     ]
    }
   ],
   "source": [
    "# using dict()\n",
    "\n",
    "my_dict3 = dict({1:'apple', 2:'ball'})\n",
    "print(my_dict3)\n",
    "\n",
    "# from sequence having each item as a pair\n",
    "\n",
    "my_dict4 = dict([(1,'apple'), (2,'orange')])\n",
    "print(my_dict4)"
   ]
  },
  {
   "cell_type": "code",
   "execution_count": 28,
   "id": "07f5b78f",
   "metadata": {},
   "outputs": [
    {
     "name": "stdout",
     "output_type": "stream",
     "text": [
      "{1: 'mango', 2: 'mango'}\n"
     ]
    }
   ],
   "source": [
    "my_dict5 = { 1 :'apple', 1:\"cherry\", 1:\"grapes\", 1:\"mango\", 2: 'mango',}  # even after using comma it does not give error\n",
    "print(my_dict5)"
   ]
  },
  {
   "cell_type": "code",
   "execution_count": 29,
   "id": "2db4f778",
   "metadata": {},
   "outputs": [
    {
     "name": "stdout",
     "output_type": "stream",
     "text": [
      "{1: 'mango', 2: 'mango'}\n",
      "{'name': 'John', (10, 20): 'wlaker'}\n"
     ]
    }
   ],
   "source": [
    "# dictionary with integer keys\n",
    "my_dict5 = { 1 :'apple', 1:\"cherry\", 1:\"grapes\", 1:\"mango\", 2: 'mango'}\n",
    "print(my_dict5) # have a look at the output. it takes the value 'mango' for key 1.\n",
    "\n",
    "\n",
    "# dictionary with mixed keys\n",
    "my_dict6 = {'name': 'John', (10,20):\"wlaker\" } # tuple can be a key but dictionary, list, set cannot be a key.\n",
    "print(my_dict6)\n"
   ]
  },
  {
   "cell_type": "code",
   "execution_count": 30,
   "metadata": {},
   "outputs": [
    {
     "ename": "TypeError",
     "evalue": "unhashable type: 'list'",
     "output_type": "error",
     "traceback": [
      "\u001b[1;31m---------------------------------------------------------------------------\u001b[0m",
      "\u001b[1;31mTypeError\u001b[0m                                 Traceback (most recent call last)",
      "\u001b[1;32md:\\_02_CS\\02_PYTHON\\Lecture_Files\\12. Dictionary .ipynb Cell 7\u001b[0m line \u001b[0;36m1\n\u001b[1;32m----> <a href='vscode-notebook-cell:/d%3A/_02_CS/02_PYTHON/Lecture_Files/12.%20Dictionary%20.ipynb#Y114sZmlsZQ%3D%3D?line=0'>1</a>\u001b[0m my_dict6 \u001b[39m=\u001b[39m {\u001b[39m'\u001b[39m\u001b[39mname\u001b[39m\u001b[39m'\u001b[39m: \u001b[39m'\u001b[39m\u001b[39mJohn\u001b[39m\u001b[39m'\u001b[39m, (\u001b[39m10\u001b[39m,[\u001b[39m20\u001b[39m]):\u001b[39m\"\u001b[39m\u001b[39mwlaker\u001b[39m\u001b[39m\"\u001b[39m } \u001b[39m# tuple can be a key but dictionary, list, set cannot be a key.\u001b[39;00m\n\u001b[0;32m      <a href='vscode-notebook-cell:/d%3A/_02_CS/02_PYTHON/Lecture_Files/12.%20Dictionary%20.ipynb#Y114sZmlsZQ%3D%3D?line=1'>2</a>\u001b[0m \u001b[39mprint\u001b[39m(my_dict6)\n",
      "\u001b[1;31mTypeError\u001b[0m: unhashable type: 'list'"
     ]
    }
   ],
   "source": [
    "my_dict6 = {'name': 'John', (10,[20]):\"wlaker\" } # if the tuple cannot contain a list\n",
    "print(my_dict6)"
   ]
  },
  {
   "cell_type": "code",
   "execution_count": 31,
   "id": "181a20b6",
   "metadata": {},
   "outputs": [
    {
     "name": "stdout",
     "output_type": "stream",
     "text": [
      "Jack\n",
      "26\n",
      "None\n"
     ]
    }
   ],
   "source": [
    "# get vs [] for retrieving elements\n",
    "\n",
    "my_dict = {'name': 'Jack', 'age': 26}\n",
    "\n",
    "print(my_dict['name']) # Output: Jack\n",
    "\n",
    "print(my_dict.get('age')) # Output: 26\n",
    "\n",
    "print(my_dict.get('address')) # None\n",
    "\n",
    "# print(my_dict['address']) # error -- key not present"
   ]
  },
  {
   "cell_type": "code",
   "execution_count": 33,
   "metadata": {},
   "outputs": [
    {
     "name": "stdout",
     "output_type": "stream",
     "text": [
      "{'name': 'Jack', 'age': 26, 'nam': 1}\n"
     ]
    }
   ],
   "source": [
    "my_dict['nam'] = 1\n",
    "print(my_dict)"
   ]
  },
  {
   "cell_type": "code",
   "execution_count": 34,
   "id": "4f85526f",
   "metadata": {},
   "outputs": [
    {
     "name": "stdout",
     "output_type": "stream",
     "text": [
      "Hapta\n",
      "Not Found\n"
     ]
    }
   ],
   "source": [
    "dict1 = {\"Pariha\":\"Persia\",\"Sapta\":\"Hapta\",\"Sindu\":\"Hindu\",\"Asura\":\"Ahura\",\"Shava\":\"Shiva\"}\n",
    "print(dict1.get(\"Sapta\",\"Not Found\"))\n",
    "print(dict1.get(\"Abc\",\"Not Found\"))"
   ]
  },
  {
   "attachments": {},
   "cell_type": "markdown",
   "id": "1f80953a",
   "metadata": {},
   "source": [
    "# Dictionary Operations"
   ]
  },
  {
   "cell_type": "code",
   "execution_count": null,
   "id": "cd6586b3",
   "metadata": {},
   "outputs": [],
   "source": [
    "# 1. Changing and Adding Dictionary elements.\n",
    "\n",
    "# Dictionaries are mutable. We can add new items or change the value of existing items using an assignment operator.\n",
    "# If the key is already present, then the existing value gets updated. \n",
    "# In case the key is not present, a new (key: value) pair is added to the dictionary.\n"
   ]
  },
  {
   "cell_type": "code",
   "execution_count": 35,
   "id": "32a05f5a",
   "metadata": {},
   "outputs": [
    {
     "name": "stdout",
     "output_type": "stream",
     "text": [
      "{'name': 1, 'age': 26}\n",
      "{'name': 1, 'age': 26, 'address': 'Downtown'}\n",
      "before {'apple': 2, 'banana': 3, 'orange': 4}\n",
      "after {'apple': 2, 'banana': 1, 'orange': 4, 'kiwi': 0}\n"
     ]
    }
   ],
   "source": [
    "# updating and adding dictionary elements\n",
    "\n",
    "my_dict = {'name': 'Jack', 'age': 26}\n",
    "\n",
    "my_dict['name'] = 1 # update value\n",
    "\n",
    "print(my_dict)\n",
    "\n",
    "my_dict['address'] = 'Downtown' # add item\n",
    "\n",
    "print(my_dict)\n",
    "\n",
    "# \n",
    "\n",
    "my_dict1 = {'apple': 2, 'banana': 3, 'orange': 4}\n",
    "print('before', my_dict1)\n",
    "\n",
    "my_dict1['kiwi'] = 0\n",
    "my_dict1['banana'] = 1\n",
    "\n",
    "print('after',my_dict1)"
   ]
  },
  {
   "cell_type": "code",
   "execution_count": 36,
   "id": "de84dbd4",
   "metadata": {},
   "outputs": [
    {
     "name": "stdout",
     "output_type": "stream",
     "text": [
      "Dictionary after adding 3 elements: \n",
      "{0: 'data', 2: 'engineer', 3: 'batch', 10: 2022}\n",
      "Dictionary after adding 3 elements: \n",
      "{0: 'data', 2: 'engineer', 3: 'batch', 10: 2022, 'Value_set': {1, 2, 3}}\n"
     ]
    }
   ],
   "source": [
    "# adding elements one at a time\n",
    "\n",
    "Dict = {}\n",
    "Dict[0] = 'data'\n",
    "Dict[2] = 'engineer'\n",
    "Dict[3] = \"batch\"\n",
    "Dict[10] = 2022\n",
    "print(\"Dictionary after adding 3 elements: \")\n",
    "print(Dict)\n",
    " \n",
    "# Adding set of values to a single Key\n",
    "\n",
    "Dict['Value_set'] = {1,2,3} #(2, 3, 4)  or 2,3,4 or [2,3,4]\n",
    "print(\"Dictionary after adding 3 elements: \")\n",
    "print(Dict)\n",
    "\n"
   ]
  },
  {
   "cell_type": "code",
   "execution_count": 37,
   "id": "ba8d31b0",
   "metadata": {},
   "outputs": [
    {
     "name": "stdout",
     "output_type": "stream",
     "text": [
      "True\n",
      "True\n",
      "False\n"
     ]
    }
   ],
   "source": [
    "\n",
    "# 2. Dictionary Membership Test\n",
    "\n",
    "# We can test if a key is in a dictionary or not using the keyword in.\n",
    "# Notice that the membership test is only for the keys and not for the values.\n",
    "\n",
    "# Membership Test for Dictionary Keys\n",
    "squares = {1: 1, 3: 9, 5: 25, 7: 49, 9: 81}\n",
    "\n",
    "print(1 in squares) # True\n",
    "\n",
    "print(2 not in squares) # True\n",
    "\n",
    "print(49 in squares) # False\n",
    "# membership tests for key only not value\n"
   ]
  },
  {
   "cell_type": "code",
   "execution_count": 38,
   "id": "e3ad08fe",
   "metadata": {},
   "outputs": [
    {
     "name": "stdout",
     "output_type": "stream",
     "text": [
      "1\n",
      "9\n",
      "25\n",
      "49\n",
      "81\n",
      "1\n",
      "9\n",
      "25\n",
      "49\n",
      "81\n",
      "1\n",
      "3\n",
      "5\n",
      "7\n",
      "9\n",
      "(1, 1)\n",
      "(3, 9)\n",
      "(5, 25)\n",
      "(7, 49)\n",
      "(9, 81)\n"
     ]
    }
   ],
   "source": [
    "# 3. Iterating Through a Dictionary\n",
    "\n",
    "# We can iterate through each key in a dictionary using a for loop.\n",
    "squares = {1: 1, 3: 9, 5: 25, 7: 49, 9: 81}\n",
    "for i in squares:\n",
    "    print(squares[i]) # prints values \n",
    "\n",
    "\n",
    "# values()\n",
    "for i in squares.values():\n",
    "    print(i)\n",
    "\n",
    "\n",
    "# keys()\n",
    "for i in squares.keys():\n",
    "    print(i)\n",
    "\n",
    "\n",
    "# items()\n",
    "for i in squares.items():\n",
    "    print(i)\n"
   ]
  },
  {
   "cell_type": "code",
   "execution_count": 39,
   "id": "debe3844",
   "metadata": {},
   "outputs": [
    {
     "name": "stdout",
     "output_type": "stream",
     "text": [
      "name - john\n",
      "year - 1889\n",
      "expertise - data analytics\n"
     ]
    }
   ],
   "source": [
    "\n",
    "# Iterate through Python Dictionary Items\n",
    "\n",
    "myDictionary = {\n",
    "                \"name\": \"john\",\n",
    "                \"year\": 1889,\n",
    "                \"expertise\": \"data analytics\"\n",
    "                }\n",
    "\n",
    "#iterate through dictionary\n",
    "for key in myDictionary:\n",
    "\tprint(key, '-', myDictionary[key])\n",
    "        \n"
   ]
  },
  {
   "cell_type": "code",
   "execution_count": 40,
   "id": "2a29d601",
   "metadata": {},
   "outputs": [
    {
     "name": "stdout",
     "output_type": "stream",
     "text": [
      "johny\n",
      "1999\n",
      "data scientist\n"
     ]
    }
   ],
   "source": [
    "       \n",
    "# Loop through values of Dictionary\n",
    "\n",
    "myDictionary = {\n",
    "\t\"name\": \"johny\",\n",
    "\t\"year\": 1999,\n",
    "\t\"expertise\": \"data scientist\"}\n",
    "\n",
    "#iterate through dictionary values\n",
    "for value in myDictionary.values():\n",
    "\tprint(value)"
   ]
  },
  {
   "cell_type": "code",
   "execution_count": 41,
   "id": "6083ce3d",
   "metadata": {},
   "outputs": [
    {
     "name": "stdout",
     "output_type": "stream",
     "text": [
      "name\n",
      "year\n",
      "expertise\n"
     ]
    }
   ],
   "source": [
    "\n",
    "# Loop through keys of Dictionary\n",
    "\n",
    "myDictionary = {\n",
    "               \"name\": \"alex\",\n",
    "               \"year\": 1987,\n",
    "               \"expertise\": \"data engineer\"\n",
    "                                            }\n",
    "\n",
    "#iterate through dictionary\n",
    "for ke in myDictionary:\n",
    "\tprint(ke)\n"
   ]
  },
  {
   "cell_type": "code",
   "execution_count": 42,
   "id": "b9e0bfca",
   "metadata": {},
   "outputs": [
    {
     "name": "stdout",
     "output_type": "stream",
     "text": [
      "name :  Lini\n",
      "year :  1989\n",
      "expertise :  Developer\n"
     ]
    }
   ],
   "source": [
    "#  Loop through key:value pairs of Dictionary\n",
    "\n",
    "myDictionary = {\n",
    "\t\"name\": \"Lini\",\n",
    "\t\"year\": 1989,\n",
    "\t\"expertise\": \"Developer\"}\n",
    "\n",
    "#iterate through key:value pairs of dictionary\n",
    "for key, value in myDictionary.items():\n",
    "\tprint(key, ': ', value)"
   ]
  },
  {
   "cell_type": "code",
   "execution_count": 43,
   "id": "58b521ef",
   "metadata": {},
   "outputs": [
    {
     "name": "stdout",
     "output_type": "stream",
     "text": [
      "{1: 'john', 2: 'don', 3: {'A': 'charles', 'B': 'brain', 'C': 'mathew'}}\n",
      "1 john\n",
      "2 don\n",
      "3 {'A': 'charles', 'B': 'brain', 'C': 'mathew'}\n",
      "charles\n",
      "brain\n",
      "mathew\n"
     ]
    }
   ],
   "source": [
    "# 4. Nested Dictionary\n",
    "\n",
    "Dict = {1: 'john', 2: 'don',\n",
    "        3:{'A' : 'charles', 'B' : 'brain', 'C' : 'mathew'}}\n",
    " \n",
    "print(Dict)\n",
    "\n",
    "\n",
    "for k,v in Dict.items():\n",
    "    print(k,v)\n",
    "\n",
    "\n",
    "print(Dict[3]['A'])\n",
    "print(Dict[3]['B'])  \n",
    "print(Dict[3]['C'])"
   ]
  },
  {
   "attachments": {},
   "cell_type": "markdown",
   "id": "1504450d",
   "metadata": {},
   "source": [
    "# Dictionary Methods"
   ]
  },
  {
   "cell_type": "code",
   "execution_count": null,
   "id": "a16ddc52",
   "metadata": {},
   "outputs": [],
   "source": [
    "# Removing elements from Dictionary\n",
    "\n",
    "# We can remove a particular item in a dictionary by using the pop() method. \n",
    "# This method removes an item with the provided key and returns the value.\n",
    "# The popitem() method can be used to remove and return an arbitrary(random) (key, value) item pair from the dictionary. \n",
    "# All the items can be removed at once, using the clear() method.\n",
    "# We can also use the del keyword to remove individual items or the entire dictionary itself.\n"
   ]
  },
  {
   "cell_type": "code",
   "execution_count": 46,
   "id": "8478ec58",
   "metadata": {},
   "outputs": [
    {
     "name": "stdout",
     "output_type": "stream",
     "text": [
      "25\n",
      "{1: 1, 2: 4, 3: 9, 4: 16}\n",
      "4\n",
      "{'apple': 2, 'banana': 3}\n",
      "{'apple': 2}\n",
      "{}\n"
     ]
    }
   ],
   "source": [
    "\n",
    "squares = {1: 1, 2: 4, 3: 9, 4: 16, 5: 25}\n",
    "my_dict = {'apple': 2, 'banana': 3, 'orange': 4}\n",
    "\n",
    "# 1. pop() -- remove an item refered by the key, returns its value\n",
    "abc = squares.pop(5)\n",
    "print(abc)\n",
    "print(squares)\n",
    "\n",
    "orange_value = my_dict.pop('orange')  \n",
    "print(orange_value)\n",
    "print(my_dict)\n",
    "\n",
    "\n",
    "# 2. del() -- to remove a key-value pair\n",
    "del my_dict['banana']\n",
    "print(my_dict)\n",
    "\n",
    "\n",
    "# 4. clear() -- removes all items\n",
    "squares.clear()\n",
    "print(squares)\n"
   ]
  },
  {
   "cell_type": "code",
   "execution_count": 47,
   "metadata": {},
   "outputs": [
    {
     "ename": "NameError",
     "evalue": "name 'my_dict' is not defined",
     "output_type": "error",
     "traceback": [
      "\u001b[1;31m---------------------------------------------------------------------------\u001b[0m",
      "\u001b[1;31mNameError\u001b[0m                                 Traceback (most recent call last)",
      "\u001b[1;32md:\\_02_CS\\02_PYTHON\\Lecture_Files\\12. Dictionary .ipynb Cell 25\u001b[0m line \u001b[0;36m2\n\u001b[0;32m      <a href='vscode-notebook-cell:/d%3A/_02_CS/02_PYTHON/Lecture_Files/12.%20Dictionary%20.ipynb#Y121sZmlsZQ%3D%3D?line=0'>1</a>\u001b[0m \u001b[39mdel\u001b[39;00m my_dict\n\u001b[1;32m----> <a href='vscode-notebook-cell:/d%3A/_02_CS/02_PYTHON/Lecture_Files/12.%20Dictionary%20.ipynb#Y121sZmlsZQ%3D%3D?line=1'>2</a>\u001b[0m \u001b[39mprint\u001b[39m(my_dict)\n",
      "\u001b[1;31mNameError\u001b[0m: name 'my_dict' is not defined"
     ]
    }
   ],
   "source": [
    "del my_dict\n",
    "print(my_dict)\n"
   ]
  },
  {
   "cell_type": "code",
   "execution_count": 15,
   "metadata": {},
   "outputs": [
    {
     "ename": "TypeError",
     "evalue": "pop expected at least 1 argument, got 0",
     "output_type": "error",
     "traceback": [
      "\u001b[1;31m---------------------------------------------------------------------------\u001b[0m",
      "\u001b[1;31mTypeError\u001b[0m                                 Traceback (most recent call last)",
      "\u001b[1;32md:\\_02_CS\\02_PYTHON\\Lecture_Files\\12. Dictionary .ipynb Cell 23\u001b[0m line \u001b[0;36m1\n\u001b[1;32m----> <a href='vscode-notebook-cell:/d%3A/_02_CS/02_PYTHON/Lecture_Files/12.%20Dictionary%20.ipynb#Y113sZmlsZQ%3D%3D?line=0'>1</a>\u001b[0m abc \u001b[39m=\u001b[39m squares\u001b[39m.\u001b[39;49mpop()\n\u001b[0;32m      <a href='vscode-notebook-cell:/d%3A/_02_CS/02_PYTHON/Lecture_Files/12.%20Dictionary%20.ipynb#Y113sZmlsZQ%3D%3D?line=1'>2</a>\u001b[0m \u001b[39mprint\u001b[39m(abc)\n\u001b[0;32m      <a href='vscode-notebook-cell:/d%3A/_02_CS/02_PYTHON/Lecture_Files/12.%20Dictionary%20.ipynb#Y113sZmlsZQ%3D%3D?line=2'>3</a>\u001b[0m \u001b[39mprint\u001b[39m(squares)\n",
      "\u001b[1;31mTypeError\u001b[0m: pop expected at least 1 argument, got 0"
     ]
    }
   ],
   "source": [
    "abc = squares.pop()\n",
    "print(abc)\n",
    "print(squares)\n",
    "# error"
   ]
  },
  {
   "cell_type": "code",
   "execution_count": 45,
   "id": "49857c1e",
   "metadata": {},
   "outputs": [
    {
     "name": "stdout",
     "output_type": "stream",
     "text": [
      "{1: 'AB', '2': 'CD', 3: 'EF', 4: 'GH', 9: 'ST'}\n",
      "(9, 'ST')\n",
      "{1: 'AB', '2': 'CD', 3: 'EF', 4: 'GH'}\n",
      "(4, 'GH')\n",
      "{1: 'AB', '2': 'CD', 3: 'EF'}\n"
     ]
    }
   ],
   "source": [
    "\n",
    "# 5. popitem() -- used to remove and return an arbitrary(random) (key, value) item pair from the dictionary.\n",
    "Dict1 = {1: 'AB', '2': 'CD', 3: 'EF', 4 : \"GH\",9:'ST'}\n",
    "print(Dict1)\n",
    "\n",
    "pop_ele = Dict1.popitem()\n",
    "print(pop_ele)\n",
    "print(Dict1)\n",
    "\n",
    "pop_ele = Dict1.popitem()\n",
    "print(pop_ele)\n",
    "print(Dict1)\n"
   ]
  },
  {
   "cell_type": "code",
   "execution_count": 11,
   "id": "7cf7b210",
   "metadata": {},
   "outputs": [
    {
     "ename": "KeyError",
     "evalue": "'popitem(): dictionary is empty'",
     "output_type": "error",
     "traceback": [
      "\u001b[1;31m---------------------------------------------------------------------------\u001b[0m",
      "\u001b[1;31mKeyError\u001b[0m                                  Traceback (most recent call last)",
      "\u001b[1;32md:\\_02_CS\\02_PYTHON\\Lecture_Files\\12. Dictionary .ipynb Cell 24\u001b[0m line \u001b[0;36m3\n\u001b[0;32m      <a href='vscode-notebook-cell:/d%3A/_02_CS/02_PYTHON/Lecture_Files/12.%20Dictionary%20.ipynb#X32sZmlsZQ%3D%3D?line=0'>1</a>\u001b[0m Dict1 \u001b[39m=\u001b[39m {}\n\u001b[1;32m----> <a href='vscode-notebook-cell:/d%3A/_02_CS/02_PYTHON/Lecture_Files/12.%20Dictionary%20.ipynb#X32sZmlsZQ%3D%3D?line=2'>3</a>\u001b[0m pop_ele \u001b[39m=\u001b[39m Dict1\u001b[39m.\u001b[39;49mpopitem()\n\u001b[0;32m      <a href='vscode-notebook-cell:/d%3A/_02_CS/02_PYTHON/Lecture_Files/12.%20Dictionary%20.ipynb#X32sZmlsZQ%3D%3D?line=4'>5</a>\u001b[0m \u001b[39m# KeyError: dictionary is empty\u001b[39;00m\n",
      "\u001b[1;31mKeyError\u001b[0m: 'popitem(): dictionary is empty'"
     ]
    }
   ],
   "source": [
    "Dict1 = {}\n",
    "\n",
    "pop_ele = Dict1.popitem()\n",
    "\n",
    "# KeyError: dictionary is empty"
   ]
  },
  {
   "cell_type": "code",
   "execution_count": 16,
   "id": "9c5b0125",
   "metadata": {},
   "outputs": [],
   "source": [
    "\n",
    "squares = {1: 1, 2: 4, 3: 9, 4: 16, 5: 25}\n",
    "\n",
    "# delete the dictionary itself\n",
    "del squares\n",
    "\n",
    "# print(squares) # error\n"
   ]
  },
  {
   "cell_type": "code",
   "execution_count": 1,
   "id": "59fe300c",
   "metadata": {},
   "outputs": [
    {
     "name": "stdout",
     "output_type": "stream",
     "text": [
      "{'Maths': [2, 3, 4], 'English': [2, 3, 4], 'Science': [2, 3, 4]}\n",
      "('Maths', [2, 3, 4])\n",
      "('English', [2, 3, 4])\n",
      "('Science', [2, 3, 4])\n",
      "['English', 'Maths', 'Science']\n",
      "['Science', 'Maths', 'English']\n",
      "{'key1': 1, 'key2': 1, 'key3': 1}\n"
     ]
    }
   ],
   "source": [
    "# 6. fromkeys\n",
    "\n",
    "marks = {}.fromkeys(['Maths', 'English', 'Science'], [2,3,4])\n",
    "\n",
    "print(marks)\n",
    "\n",
    "for item in marks.items():\n",
    "    print(item)\n",
    "\n",
    "\n",
    "print(list(sorted(marks.keys())))\n",
    "print(list(sorted(marks.keys(),reverse=True)))\n",
    "\n",
    "#  Python Dictionary fromkeys() default value\n",
    "\n",
    "x = ('key1', 'key2', 'key3')\n",
    "y = 1\n",
    "\n",
    "d = dict.fromkeys(x, y)\n",
    "\n",
    "print(d)"
   ]
  },
  {
   "cell_type": "code",
   "execution_count": 50,
   "id": "c9455624",
   "metadata": {},
   "outputs": [
    {
     "name": "stdout",
     "output_type": "stream",
     "text": [
      "Original Dictionary:\n",
      "{'A': 'John', 'B': 'Steven'}\n",
      "-------------------------------\n",
      "after update the value of A\n",
      "{'A': 'sunny', 'B': 'Steven'}\n",
      "-----------------------------------\n",
      "Dictionary after updation:\n",
      "{'A': 'sunny', 'B': 'Steven', 'C': 'Neena'}\n"
     ]
    }
   ],
   "source": [
    "# 7. update() \n",
    " \n",
    "# Dictionary with three items\n",
    "Dictionary1 = {'A': 'John','B': 'Steven', }\n",
    "\n",
    "Dictionary2 = {'C': 'Neena'}\n",
    "\n",
    "Dictionary3 = {'A': 'sunny'}\n",
    "\n",
    "print(\"Original Dictionary:\")\n",
    "print(Dictionary1)\n",
    "print(\"-------------------------------\")\n",
    "\n",
    "# update the value of key 'A'\n",
    "print(\"after update the value of A\")\n",
    "Dictionary1.update(Dictionary3)\n",
    "print(Dictionary1)\n",
    "print(\"-----------------------------------\")\n",
    "\n",
    "Dictionary1.update(Dictionary2)\n",
    "print(\"Dictionary after updation:\")\n",
    "print(Dictionary1)\n",
    "\n"
   ]
  },
  {
   "cell_type": "code",
   "execution_count": 64,
   "id": "8c189d4e",
   "metadata": {},
   "outputs": [
    {
     "name": "stdout",
     "output_type": "stream",
     "text": [
      "{1: 'mango', 2: 'mango'}\n",
      "2604618784512\n",
      "2604619393280\n"
     ]
    }
   ],
   "source": [
    "# 8. copy() \n",
    "\n",
    "my_dict5 = { 1 :'apple', 1:\"cherry\", 1:\"grapes\", 1:\"mango\", 2: 'mango'}\n",
    "\n",
    "my_dict10 = my_dict5.copy()\n",
    "\n",
    "print(my_dict10)\n",
    "print(id(my_dict5))\n",
    "print(id(my_dict10)) # different address means it creates an another object deep copy"
   ]
  },
  {
   "cell_type": "code",
   "execution_count": 21,
   "id": "6bbf0263",
   "metadata": {},
   "outputs": [
    {
     "data": {
      "text/plain": [
       "'apple'"
      ]
     },
     "execution_count": 21,
     "metadata": {},
     "output_type": "execute_result"
    }
   ],
   "source": [
    "# 9. setdefault()\n",
    "\n",
    "my_dict5 = { 1 :'apple', 2: 'mango'}\n",
    "\n",
    "my_dict5.setdefault(1,\"orange\")\n",
    "\n",
    "# if the key is already present then this function returns the corresponding value."
   ]
  },
  {
   "cell_type": "code",
   "execution_count": 23,
   "id": "386ada85",
   "metadata": {},
   "outputs": [
    {
     "name": "stdout",
     "output_type": "stream",
     "text": [
      "apple\n"
     ]
    }
   ],
   "source": [
    "my_dict5 = { 1 :'apple', 2: 'mango'}\n",
    "\n",
    "print(my_dict5.setdefault(1,'orange'))\n"
   ]
  },
  {
   "cell_type": "code",
   "execution_count": 26,
   "id": "8bf2a416",
   "metadata": {},
   "outputs": [
    {
     "name": "stdout",
     "output_type": "stream",
     "text": [
      "2\n",
      "{1: 'apple', 2: 'mango', 3: 2}\n"
     ]
    }
   ],
   "source": [
    "my_dict5 = { 1 :'apple', 2: 'mango'}\n",
    "\n",
    "print(my_dict5.setdefault(3,2))\n",
    "print(my_dict5)"
   ]
  },
  {
   "cell_type": "code",
   "execution_count": null,
   "id": "6175d7e5",
   "metadata": {},
   "outputs": [],
   "source": [
    "my_dict5 = { 1 :'apple', 2: 'mango'}\n",
    "\n",
    "my_dict5.setdefault(3,2)\n",
    "\n",
    "print(my_dict5)\n",
    "\n",
    "# if the key is not present then the specified key-value pair will be added as new item to the dictionary."
   ]
  },
  {
   "cell_type": "code",
   "execution_count": 66,
   "id": "1feb0c4d",
   "metadata": {},
   "outputs": [
    {
     "name": "stdout",
     "output_type": "stream",
     "text": [
      "Grapes : Item is not available\n",
      "Total cost of purchase:  400\n"
     ]
    }
   ],
   "source": [
    "# exercise\n",
    "\n",
    "# calculate total cost of purchase\n",
    "\n",
    "item_prices = {'apple': 100, 'banana': 50, 'orange': 50, 'mango': 100}\n",
    "\n",
    "items_to_purchase = ['apple', 'banana', 'orange', 'mango', 'apple','Grapes']\n",
    "\n",
    "total_cost = 0\n",
    "for item in items_to_purchase:\n",
    "    if item in item_prices:\n",
    "        total_cost = total_cost + item_prices[item]\n",
    "    else:\n",
    "        print(item,\": Item is not available\")\n",
    "\n",
    "print(\"Total cost of purchase: \",total_cost)\n"
   ]
  },
  {
   "attachments": {},
   "cell_type": "markdown",
   "id": "3b99e0fc",
   "metadata": {},
   "source": [
    "# Dictionary comprehension"
   ]
  },
  {
   "cell_type": "code",
   "execution_count": null,
   "id": "71c8a6f6",
   "metadata": {},
   "outputs": [],
   "source": [
    "# Dictionary comprehension is an elegant and concise way to create dictionaries."
   ]
  },
  {
   "cell_type": "code",
   "execution_count": 1,
   "id": "bb88f2ca",
   "metadata": {},
   "outputs": [
    {
     "name": "stdout",
     "output_type": "stream",
     "text": [
      "{1: 1, 2: 4, 3: 9, 4: 16, 5: 25, 6: 36, 7: 49, 8: 64, 9: 81, 10: 100}\n",
      "{1: 1, 2: 4, 3: 9, 4: 16, 5: 25, 6: 36, 7: 49, 8: 64, 9: 81, 10: 100}\n"
     ]
    }
   ],
   "source": [
    "# with for loop \n",
    "square_dict = dict()\n",
    "for num in range(1, 11):\n",
    "    square_dict[num] = num*num\n",
    "print(square_dict)\n",
    "\n",
    "# dictionary comprehension \n",
    "# example 1\n",
    "square_dict = { num : num*num for num in range(1, 11)}\n",
    "print(square_dict)\n"
   ]
  },
  {
   "cell_type": "code",
   "execution_count": 2,
   "id": "1473ee0b",
   "metadata": {},
   "outputs": [
    {
     "name": "stdout",
     "output_type": "stream",
     "text": [
      "jack - 38\n",
      "michael - 48\n",
      "{'jack': 38, 'michael': 48}\n"
     ]
    }
   ],
   "source": [
    "\n",
    "original_dict = {'jack': 38, 'michael': 48, 'guido': 57, 'john': 33}\n",
    "for k,v in original_dict.items():\n",
    "    if v%2 == 0:\n",
    "        print(k,'-',v)\n",
    "\n",
    "# example 2\n",
    "even_age_dict = {k:v for (k, v) in original_dict.items() if v % 2 == 0}\n",
    "print(even_age_dict)"
   ]
  },
  {
   "cell_type": "code",
   "execution_count": 70,
   "id": "aed82400",
   "metadata": {},
   "outputs": [
    {
     "name": "stdout",
     "output_type": "stream",
     "text": [
      "{1: 1, 4: 8, 9: 27, 16: 64, 25: 125, 36: 216, 49: 343, 64: 512, 81: 729, 100: 1000}\n"
     ]
    }
   ],
   "source": [
    "cube_dict = { num*num : num*num*num for num in range(1, 11)}\n",
    "print(cube_dict)"
   ]
  },
  {
   "cell_type": "code",
   "execution_count": 72,
   "id": "add6ba07",
   "metadata": {},
   "outputs": [
    {
     "name": "stdout",
     "output_type": "stream",
     "text": [
      "{'a': 1, 'b': 2, 'c': 3}\n"
     ]
    }
   ],
   "source": [
    "# zip()\n",
    "\n",
    "keys = ['a', 'b', 'c']\n",
    "values = [1, 2, 3]\n",
    "d = {k: v for k, v in zip(keys, values)}\n",
    "print(d)  # Output: {'a': 1, 'b': 2, 'c': 3}\n"
   ]
  },
  {
   "cell_type": "code",
   "execution_count": 75,
   "metadata": {},
   "outputs": [
    {
     "name": "stdout",
     "output_type": "stream",
     "text": [
      "{'a': 1, 'b': 2, 'c': 3}\n"
     ]
    }
   ],
   "source": [
    "keys = ['a', 'b', 'c']\n",
    "values = (1, 2, 3)\n",
    "d = {k: v for k, v in zip(keys, values)}\n",
    "print(d)  # Output: {'a': 1, 'b': 2, 'c': 3}"
   ]
  },
  {
   "cell_type": "code",
   "execution_count": 73,
   "metadata": {},
   "outputs": [
    {
     "name": "stdout",
     "output_type": "stream",
     "text": [
      "{'a': 2, 'c': 3}\n"
     ]
    }
   ],
   "source": [
    "keys = ['a', 'a', 'c']\n",
    "values = [1, 2, 3]\n",
    "d = {k: v for k, v in zip(keys, values)}\n",
    "print(d)  "
   ]
  },
  {
   "attachments": {},
   "cell_type": "markdown",
   "id": "b5417611",
   "metadata": {},
   "source": [
    "# Key points to remember"
   ]
  },
  {
   "cell_type": "code",
   "execution_count": 77,
   "id": "7f4c53e5",
   "metadata": {},
   "outputs": [
    {
     "name": "stdout",
     "output_type": "stream",
     "text": [
      "{'a': 10, 'b': 20, 10: [30]}\n",
      "{'a': 10, 'b': 20, (10, 20): 30}\n",
      "{frozenset({10, 20}): 'name', 20: 'age'}\n"
     ]
    },
    {
     "ename": "TypeError",
     "evalue": "unhashable type: 'dict'",
     "output_type": "error",
     "traceback": [
      "\u001b[1;31m---------------------------------------------------------------------------\u001b[0m",
      "\u001b[1;31mTypeError\u001b[0m                                 Traceback (most recent call last)",
      "\u001b[1;32md:\\_02_CS\\02_PYTHON\\Lecture_Files\\12. Dictionary .ipynb Cell 46\u001b[0m line \u001b[0;36m1\n\u001b[0;32m      <a href='vscode-notebook-cell:/d%3A/_02_CS/02_PYTHON/Lecture_Files/12.%20Dictionary%20.ipynb#X54sZmlsZQ%3D%3D?line=6'>7</a>\u001b[0m dict4 \u001b[39m=\u001b[39m {\u001b[39mfrozenset\u001b[39m({\u001b[39m10\u001b[39m,\u001b[39m20\u001b[39m}):\u001b[39m\"\u001b[39m\u001b[39mname\u001b[39m\u001b[39m\"\u001b[39m,\u001b[39m20\u001b[39m:\u001b[39m\"\u001b[39m\u001b[39mage\u001b[39m\u001b[39m\"\u001b[39m}\n\u001b[0;32m      <a href='vscode-notebook-cell:/d%3A/_02_CS/02_PYTHON/Lecture_Files/12.%20Dictionary%20.ipynb#X54sZmlsZQ%3D%3D?line=7'>8</a>\u001b[0m \u001b[39mprint\u001b[39m(dict4) \u001b[39m# here frozenset converts set into immutable. it is hashed datatype. so it can be key.\u001b[39;00m\n\u001b[1;32m---> <a href='vscode-notebook-cell:/d%3A/_02_CS/02_PYTHON/Lecture_Files/12.%20Dictionary%20.ipynb#X54sZmlsZQ%3D%3D?line=9'>10</a>\u001b[0m dict3 \u001b[39m=\u001b[39m {{\u001b[39m\"\u001b[39m\u001b[39ma\u001b[39m\u001b[39m\"\u001b[39m:\u001b[39m1\u001b[39m}:\u001b[39m20\u001b[39m,(\u001b[39m'\u001b[39m\u001b[39mb\u001b[39m\u001b[39m'\u001b[39m,\u001b[39m'\u001b[39m\u001b[39mc\u001b[39m\u001b[39m'\u001b[39m):\u001b[39m30\u001b[39m}\n\u001b[0;32m     <a href='vscode-notebook-cell:/d%3A/_02_CS/02_PYTHON/Lecture_Files/12.%20Dictionary%20.ipynb#X54sZmlsZQ%3D%3D?line=10'>11</a>\u001b[0m \u001b[39mprint\u001b[39m(dict3) \u001b[39m# error key can not be dictionary.yes it can be tuple\u001b[39;00m\n\u001b[0;32m     <a href='vscode-notebook-cell:/d%3A/_02_CS/02_PYTHON/Lecture_Files/12.%20Dictionary%20.ipynb#X54sZmlsZQ%3D%3D?line=12'>13</a>\u001b[0m dict1 \u001b[39m=\u001b[39m {\u001b[39m\"\u001b[39m\u001b[39ma\u001b[39m\u001b[39m\"\u001b[39m:\u001b[39m10\u001b[39m,\u001b[39m\"\u001b[39m\u001b[39mb\u001b[39m\u001b[39m\"\u001b[39m:\u001b[39m20\u001b[39m,[\u001b[39m10\u001b[39m]:\u001b[39m30\u001b[39m}  \n",
      "\u001b[1;31mTypeError\u001b[0m: unhashable type: 'dict'"
     ]
    }
   ],
   "source": [
    "\n",
    "dict1 = {\"a\":10,\"b\":20,10:[30]}  \n",
    "print(dict1) # here value is list and that is ok.\n",
    "\n",
    "dict2 = {\"a\":10,\"b\":20,(10,20):30}\n",
    "print(dict2) # here key is tuple and that is ok\n",
    "\n",
    "dict4 = {frozenset({10,20}):\"name\",20:\"age\"}\n",
    "print(dict4) # here frozenset converts set into immutable. it is hashed datatype. so it can be key.\n",
    "\n",
    "dict3 = {{\"a\":1}:20,('b','c'):30}\n",
    "print(dict3) # error key can not be dictionary.yes it can be tuple\n",
    "\n",
    "dict1 = {\"a\":10,\"b\":20,[10]:30}  \n",
    "print(dict1) # error because key can not be list\n",
    "\n",
    "dict4 = {{10,20}:\"name\",20:\"age\"}\n",
    "print(dict4) # error key can not be a set \n",
    "\n",
    "\n",
    "# unhashable type: 'list','dict', 'set'\n",
    "\n",
    "# Hashing is the process of transforming any given key or a string of characters into another value.\n"
   ]
  },
  {
   "cell_type": "code",
   "execution_count": null,
   "id": "bbdd5bec",
   "metadata": {},
   "outputs": [],
   "source": [
    "# popitem()\n",
    "# what are the ways to update the dictionary?\n",
    "# how to update nested dictionary?\n"
   ]
  },
  {
   "cell_type": "code",
   "execution_count": 79,
   "id": "69d0c753",
   "metadata": {},
   "outputs": [
    {
     "name": "stdout",
     "output_type": "stream",
     "text": [
      "{1: 'john', 2: 'don', 3: {'A': 'Charles', 'B': 'brain', 'C': 'mathew'}}\n"
     ]
    }
   ],
   "source": [
    "Dict1 = {1: 'john', 2: 'don',\n",
    "        3:{'A' : 'charles', 'B' : 'brain', 'C' : 'mathew'}}\n",
    "\n",
    "Dict1[3]['A'] = 'Charles'\n",
    "\n",
    "print(Dict1)"
   ]
  },
  {
   "cell_type": "code",
   "execution_count": null,
   "id": "669a5236",
   "metadata": {},
   "outputs": [],
   "source": [
    "dict1 = {\"Pariha\":\"Persia\",\"Sapta\":\"Hapta\",\"Sindu\":\"Hindu\",\"Asura\":\"Ahura\",\"Shava\":\"Shiva\",\"Fravashi\":\"Agni\"}\n"
   ]
  },
  {
   "cell_type": "code",
   "execution_count": null,
   "metadata": {},
   "outputs": [],
   "source": [
    "# dictionary methods"
   ]
  },
  {
   "attachments": {},
   "cell_type": "markdown",
   "id": "3cfa2567",
   "metadata": {},
   "source": [
    "# Practice"
   ]
  },
  {
   "cell_type": "code",
   "execution_count": 80,
   "id": "a8fb792d",
   "metadata": {},
   "outputs": [
    {
     "name": "stdout",
     "output_type": "stream",
     "text": [
      "{'Fast': 'In a Quick Manner', 'Harry': 'A Coder', 'Marks': [1, 2, 5], 'anotherdict': {'harry': 20}}\n"
     ]
    }
   ],
   "source": [
    "# how to update nested dictioney?\n",
    "\n",
    "myDict = {\n",
    "    \"Fast\": \"In a Quick Manner\",\n",
    "    \"Harry\": \"A Coder\",\n",
    "    \"Marks\": [1, 2, 5],\n",
    "    \"anotherdict\": {'harry': 'Player'}\n",
    "}\n",
    "\n",
    "myDict['anotherdict']['harry'] = 20\n",
    "\n",
    "print(myDict)"
   ]
  },
  {
   "cell_type": "code",
   "execution_count": 82,
   "id": "7471a603",
   "metadata": {},
   "outputs": [
    {
     "name": "stdout",
     "output_type": "stream",
     "text": [
      "Options are  dict_keys(['Pankha', 'Dabba', 'Vastu'])\n",
      "The meaning of your word is: Fan\n",
      "The meaning of your word is: Fan\n"
     ]
    }
   ],
   "source": [
    "# Hindi into English\n",
    "\n",
    "myDict = {\n",
    "    \"Pankha\": \"Fan\",\n",
    "    \"Dabba\": \"Box\",\n",
    "    \"Vastu\": \"Item\"\n",
    "}\n",
    "\n",
    "print(\"Options are \", myDict.keys())\n",
    "a = input(\"Enter the Hindi Word\\n\")\n",
    "print(\"The meaning of your word is:\", myDict[a])\n",
    "\n",
    "print(\"The meaning of your word is:\", myDict.get(a))\n",
    "\n",
    "# throws an error if the key is not present in the dictionary\n"
   ]
  },
  {
   "cell_type": "code",
   "execution_count": 1,
   "id": "91abbe3f",
   "metadata": {},
   "outputs": [
    {
     "name": "stdout",
     "output_type": "stream",
     "text": [
      "{'shubham': '', 'ankit': '', 'sonali': '', 'harshita': 'd'}\n"
     ]
    }
   ],
   "source": [
    "# Friends and their favourite language\n",
    "\n",
    "favLang = {}\n",
    "a = input(\"Enter your favorite language Shubham\\n\")\n",
    "b = input(\"Enter your favorite language Ankit\\n\")\n",
    "c = input(\"Enter your favorite language Sonali\\n\")\n",
    "d = input(\"Enter your favorite language Harshita\\n\")\n",
    "favLang['shubham'] = a\n",
    "favLang['ankit'] = b\n",
    "favLang['sonali'] = c\n",
    "favLang['harshita'] = d\n",
    "\n",
    "print(favLang)\n",
    "\n",
    "\n",
    "\n",
    "# here name of friends cannot be same. their favourite language can be same.\n",
    "# that is key has to unique. values can be dublicate"
   ]
  },
  {
   "cell_type": "code",
   "execution_count": 2,
   "metadata": {},
   "outputs": [
    {
     "name": "stdout",
     "output_type": "stream",
     "text": [
      "{'Asura': 'Ahura', 'Fravashi': 'Agni', 'Pariha': 'Persia', 'Sapta': 'Hapta', 'Shava': 'Shiva', 'Sindu': 'Hindu'}\n",
      "{'Asura': 'Ahura', 'Fravashi': 'Agni', 'Pariha': 'Persia', 'Sapta': 'Hapta', 'Shava': 'Shiva', 'Sindu': 'Hindu'}\n",
      "{'Agni': 'Fravashi', 'Ahura': 'Asura', 'Hapta': 'Sapta', 'Hindu': 'Sindu', 'Persia': 'Pariha', 'Shiva': 'Shava'}\n",
      "{'Agni': 'Fravashi', 'Ahura': 'Asura', 'Hapta': 'Sapta', 'Hindu': 'Sindu', 'Persia': 'Pariha', 'Shiva': 'Shava'}\n"
     ]
    }
   ],
   "source": [
    "## 1. Python | Sort Python Dictionaries by Key or Value - using list comphrension\n",
    "\n",
    "# sort by key\n",
    "dict1 = {\"Pariha\":\"Persia\",\"Sapta\":\"Hapta\",\"Sindu\":\"Hindu\",\"Asura\":\"Ahura\",\"Shava\":\"Shiva\",\"Fravashi\":\"Agni\"}\n",
    "lst = list(dict1.keys())\n",
    "lst.sort()\n",
    "sorted_dict = {i : dict1[i] for i in lst}\n",
    "print(sorted_dict)\n",
    "\n",
    "dict1 = {\"Pariha\":\"Persia\",\"Sapta\":\"Hapta\",\"Sindu\":\"Hindu\",\"Asura\":\"Ahura\",\"Shava\":\"Shiva\",\"Fravashi\":\"Agni\"}\n",
    "lst = list(dict1.keys())\n",
    "lst.sort()\n",
    "sorted_dict = {}\n",
    "for i in lst:\n",
    "    sorted_dict[i] = dict1[i]\n",
    "print(sorted_dict)\n",
    "\n",
    "# sort by values\n",
    "dict1 = {\"Pariha\":\"Persia\",\"Sapta\":\"Hapta\",\"Sindu\":\"Hindu\",\"Asura\":\"Ahura\",\"Shava\":\"Shiva\",\"Fravashi\":\"Agni\"}\n",
    "lst = []\n",
    "for k,v in dict1.items():\n",
    "    lst.append((v,k))\n",
    "lst.sort()\n",
    "dict2 = dict(lst)\n",
    "print(dict2)\n",
    "\n",
    "dict1 = {\"Pariha\":\"Persia\",\"Sapta\":\"Hapta\",\"Sindu\":\"Hindu\",\"Asura\":\"Ahura\",\"Shava\":\"Shiva\",\"Fravashi\":\"Agni\"}\n",
    "lst = sorted((v,k) for k,v in dict1.items())\n",
    "dict2 = dict(lst)\n",
    "print(dict2)\n"
   ]
  },
  {
   "cell_type": "code",
   "execution_count": 3,
   "metadata": {},
   "outputs": [
    {
     "name": "stdout",
     "output_type": "stream",
     "text": [
      "[('Agni', 'Fravashi'), ('Ahura', 'Asura'), ('Hapta', 'Sapta'), ('Hindu', 'Sindu'), ('Persia', 'Pariha'), ('Shiva', 'Shava')]\n",
      "{'Agni': 'Fravashi', 'Ahura': 'Asura', 'Hapta': 'Sapta', 'Hindu': 'Sindu', 'Persia': 'Pariha', 'Shiva': 'Shava'}\n",
      "{'Agni': 'Fravashi', 'Ahura': 'Asura', 'Hapta': 'Sapta', 'Hindu': 'Sindu', 'Persia': 'Pariha', 'Shiva': 'Shava'}\n"
     ]
    }
   ],
   "source": [
    "dict1 = {\"Pariha\":\"Persia\",\"Sapta\":\"Hapta\",\"Sindu\":\"Hindu\",\"Asura\":\"Ahura\",\"Shava\":\"Shiva\",\"Fravashi\":\"Agni\"}\n",
    "lst = []\n",
    "for k,v in dict1.items():\n",
    "    lst.append((v,k))\n",
    "lst.sort()\n",
    "\n",
    "dict2 = dict(lst)\n",
    "print(lst)\n",
    "print(dict2)\n",
    "\n",
    "dict1 = {\"Pariha\":\"Persia\",\"Sapta\":\"Hapta\",\"Sindu\":\"Hindu\",\"Asura\":\"Ahura\",\"Shava\":\"Shiva\",\"Fravashi\":\"Agni\"}\n",
    "lst = sorted((v,k) for k,v in dict1.items())\n",
    "dict2 = dict(lst)\n",
    "print(dict2)\n"
   ]
  },
  {
   "cell_type": "code",
   "execution_count": 86,
   "id": "446bd376",
   "metadata": {},
   "outputs": [
    {
     "name": "stdout",
     "output_type": "stream",
     "text": [
      "Hapta\n",
      "Not Found\n"
     ]
    }
   ],
   "source": [
    "# 2. Handling missing keys in Python\n",
    "dict1 = {\"Pariha\":\"Persia\",\"Sapta\":\"Hapta\",\"Sindu\":\"Hindu\",\"Asura\":\"Ahura\",\"Shava\":\"Shiva\"}\n",
    "print(dict1.get(\"Sapta\",\"Not Found\"))\n",
    "print(dict1.get(\"Abc\",\"Not Found\"))\n"
   ]
  },
  {
   "cell_type": "code",
   "execution_count": 87,
   "id": "07b2e053",
   "metadata": {},
   "outputs": [
    {
     "name": "stdout",
     "output_type": "stream",
     "text": [
      "<class 'str'>\n",
      "<class 'str'>\n",
      "<class 'str'>\n",
      "<class 'str'>\n",
      "<class 'str'>\n",
      "<class 'str'>\n",
      "<class 'tuple'>\n"
     ]
    }
   ],
   "source": [
    "# 3. Python dictionaries Python dictionary with keys having multiple inputs \n",
    "dict1 = {\"Pariha\":\"Persia\",\"Sapta\":\"Hapta\",\"Sindu\":\"Hindu\",\"Asura\":\"Ahura\",\"Shava\":\"Shiva\",\"Fravashi\":\"Agni\",(\"Bilva\",\"Bela\"):\"Tree\"}\n",
    "# the key with multiple values is a tuple here\n",
    "for i in dict1.keys():\n",
    "    print(type(i))"
   ]
  },
  {
   "cell_type": "code",
   "execution_count": 4,
   "id": "9111787e",
   "metadata": {},
   "outputs": [
    {
     "name": "stdout",
     "output_type": "stream",
     "text": [
      "300\n"
     ]
    }
   ],
   "source": [
    "# 4. Python program to find the sum of all items in a dictionary\n",
    "item_prices = {'apple': 100, 'banana': 50, 'orange': 50, 'mango': 100}\n",
    "lst = []\n",
    "for i in item_prices.values():\n",
    "    lst.append(i)\n",
    "\n",
    "print(sum(lst))"
   ]
  },
  {
   "cell_type": "code",
   "execution_count": 5,
   "id": "a813d9e3",
   "metadata": {},
   "outputs": [
    {
     "name": "stdout",
     "output_type": "stream",
     "text": [
      "352\n",
      "184\n"
     ]
    }
   ],
   "source": [
    "# 5. Get size of a Dictionary in Python\n",
    "import sys\n",
    "dict1 = {\"Pariha\":\"Persia\",\"Sapta\":\"Hapta\",\"Sindu\":\"Hindu\",\"Asura\":\"Ahura\",\"Shava\":\"Shiva\",\"Fravashi\":\"Agni\",(\"Bilva\",\"Bela\"):\"Tree\"}\n",
    "item_prices = {'apple': 100, 'banana': 50, 'orange': 50, 'mango': 100}\n",
    "d = sys.getsizeof(dict1)\n",
    "s = sys.getsizeof(item_prices) \n",
    "print(d)\n",
    "print(s)"
   ]
  },
  {
   "cell_type": "code",
   "execution_count": 2,
   "id": "8f3e83cb",
   "metadata": {},
   "outputs": [
    {
     "name": "stdout",
     "output_type": "stream",
     "text": [
      "The list printed sorting by age: \n",
      "[{'name': 'Nikhil', 'age': 19}, {'name': 'Nandini', 'age': 20}, {'name': 'Manjeet', 'age': 20}]\n",
      "\n",
      "The list printed sorting by age and name: \n",
      "[{'name': 'Nikhil', 'age': 19}, {'name': 'Manjeet', 'age': 20}, {'name': 'Nandini', 'age': 20}]\n",
      "\n",
      "The list printed sorting by age in descending order: \n",
      "[{'name': 'Nandini', 'age': 20}, {'name': 'Manjeet', 'age': 20}, {'name': 'Nikhil', 'age': 19}]\n"
     ]
    }
   ],
   "source": [
    "## 6. Ways to sort list of dictionaries by values in Python – Using itemgetter\n",
    "\n",
    "from operator import itemgetter\n",
    " \n",
    "list1 = [{\"name\": \"Nandini\", \"age\": 20},\n",
    "       {\"name\": \"Manjeet\", \"age\": 20},\n",
    "       {\"name\": \"Nikhil\", \"age\": 19}]\n",
    " \n",
    "# using sorted and itemgetter to print list sorted by age\n",
    "print (\"The list printed sorting by age: \")\n",
    "print (sorted(list1, key=itemgetter('age')))\n",
    " \n",
    "print(\"\\r\")\n",
    "\n",
    "# using sorted and itemgetter to print list sorted by both age and name\n",
    "# notice that \"Manjeet\" now comes before \"Nandini\"\n",
    "print(\"The list printed sorting by age and name: \")\n",
    "print(sorted(list1, key=itemgetter('age', 'name')))\n",
    " \n",
    "print(\"\\r\")\n",
    "\n",
    "# using sorted and itemgetter to print list sorted by age in descending order\n",
    "print(\"The list printed sorting by age in descending order: \")\n",
    "print(sorted(list1, key=itemgetter('age'), reverse=True))"
   ]
  },
  {
   "cell_type": "code",
   "execution_count": 3,
   "id": "bb1bd635",
   "metadata": {},
   "outputs": [
    {
     "name": "stdout",
     "output_type": "stream",
     "text": [
      "[{'name': 'Nikhil', 'age': 19}, {'name': 'Nandini', 'age': 20}, {'name': 'Manjeet', 'age': 20}]\n",
      "[{'name': 'Nikhil', 'age': 19}, {'name': 'Manjeet', 'age': 20}, {'name': 'Nandini', 'age': 20}]\n"
     ]
    }
   ],
   "source": [
    "### 7. Ways to sort list of dictionaries by values in Python  – using lambda function\n",
    "list1 = [{\"name\": \"Nandini\", \"age\": 20},\n",
    "       {\"name\": \"Manjeet\", \"age\": 20},\n",
    "       {\"name\": \"Nikhil\", \"age\": 19}]\n",
    "print(sorted(list1, key=lambda i : i[\"age\"]))\n",
    "print(sorted(list1, key= lambda i : (i[\"age\"],i[\"name\"])))"
   ]
  },
  {
   "cell_type": "code",
   "execution_count": 6,
   "id": "7a1d9bf9",
   "metadata": {},
   "outputs": [
    {
     "name": "stdout",
     "output_type": "stream",
     "text": [
      "{'Pariha': 'Persia', 'Sapta': 'Hapta', 'Sindu': 'Hindu', 'Asura': 'Ahura', 'Shava': 'Shiva', 'Fravashi': 'Agni', ('Bilva', 'Bela'): 'Tree'}\n",
      "{'Pariha': 'Persia', 'Sapta': 'Hapta', 'Sindu': 'Hindu', 'Asura': 'Ahura', 'Shava': 'Shiva', 'Fravashi': 'Agni', ('Bilva', 'Bela'): 'Tree'}\n"
     ]
    }
   ],
   "source": [
    "# 8. Python | Merging two Dictionaries\n",
    "dict1 = {\"Pariha\":\"Persia\",\"Sapta\":\"Hapta\",\"Sindu\":\"Hindu\",\"Asura\":\"Ahura\"}\n",
    "dict2 = {\"Shava\":\"Shiva\",\"Fravashi\":\"Agni\",(\"Bilva\",\"Bela\"):\"Tree\"}\n",
    "dict1.update(dict2)\n",
    "print(dict1)\n",
    "\n",
    "#\n",
    "dict1 = {\"Pariha\":\"Persia\",\"Sapta\":\"Hapta\",\"Sindu\":\"Hindu\",\"Asura\":\"Ahura\"}\n",
    "dict2 = {\"Shava\":\"Shiva\",\"Fravashi\":\"Agni\",(\"Bilva\",\"Bela\"):\"Tree\"}\n",
    "def merge(dict1, dict2):\n",
    "    result = {**dict1, **dict2}\n",
    "    return result\n",
    "print(merge(dict1, dict2))\n"
   ]
  },
  {
   "cell_type": "code",
   "execution_count": null,
   "id": "541fff28",
   "metadata": {},
   "outputs": [],
   "source": [
    "# 9. Program to create grade calculator in Python\n",
    "\n",
    "# 1. Jack's dictionary\n",
    "jack = {\"name\": \"Jack Frost\",\n",
    "        \"assignment\": [80, 50, 40, 20],\n",
    "        \"test\": [75, 75],\n",
    "        \"lab\": [78.20, 77.20]\n",
    "        }\n",
    " \n",
    "# 2. James's dictionary\n",
    "james = {\"name\": \"James Potter\",\n",
    "         \"assignment\": [82, 56, 44, 30],\n",
    "         \"test\": [80, 80],\n",
    "         \"lab\": [67.90, 78.72]\n",
    "         }\n",
    " \n",
    "# 3. Dylan's dictionary\n",
    "dylan = {\"name\": \"Dylan Rhodes\",\n",
    "         \"assignment\": [77, 82, 23, 39],\n",
    "         \"test\": [78, 77],\n",
    "         \"lab\": [80, 80]\n",
    "         }\n",
    " \n",
    "# 4. Jessica's dictionary\n",
    "jess = {\"name\": \"Jessica Stone\",\n",
    "        \"assignment\": [67, 55, 77, 21],\n",
    "        \"test\": [40, 50],\n",
    "        \"lab\": [69, 44.56]\n",
    "        }\n",
    " \n",
    "# 5. Tom's dictionary\n",
    "tom = {\"name\": \"Tom Hanks\",\n",
    "       \"assignment\": [29, 89, 60, 56],\n",
    "       \"test\": [65, 56],\n",
    "       \"lab\": [50, 40.6]\n",
    "       }\n",
    "\n",
    "def get_avg(marks):\n",
    "    total_sum = sum(marks)\n",
    "    return total_sum/len(marks)\n",
    "\n",
    "def cal_total_avg(students):\n",
    "    avg_assig = get_avg(students[\"assignment\"])\n",
    "    avg_test = get_avg(students[\"test\"])\n",
    "    avg_lab = get_avg(students[\"lab\"])\n",
    "    return (0.1*avg_assig + 0.7*avg_test + 0.2*avg_lab)\n",
    "\n",
    "def grades(score):\n",
    "    if score>= 90:\n",
    "        return \"A\"\n",
    "    elif score>= 80:\n",
    "        return \"B\"\n",
    "    elif score>= 70:\n",
    "        return \"C\"\n",
    "    elif score>= 60:\n",
    "        return \"D\"\n",
    "    else:\n",
    "        return \"E\"\n",
    "\n",
    "def class_avg(students):\n",
    "    result_list = []\n",
    "    for i in students:\n",
    "        stud_avg = cal_total_avg(i)\n",
    "        result_list.append(stud_avg)\n",
    "    return get_avg(result_list)\n",
    "\n",
    "students = [jack,james,dylan,jess,tom]\n",
    "\n",
    "for i in students:\n",
    "    score = cal_total_avg(i)\n",
    "    print(f\"Average marks of {i['name']} is {score} with grades {grades(score)}\")\n",
    "\n",
    "class_average = class_avg(students)\n",
    "print(f\"\\n Class Avg is {class_average}\")"
   ]
  },
  {
   "cell_type": "code",
   "execution_count": null,
   "id": "611642a2",
   "metadata": {},
   "outputs": [],
   "source": [
    "aqd={'q':1,9:{'a':2}} # key cannot be dictionary\n",
    "print('aqd',type(aqd))"
   ]
  }
 ],
 "metadata": {
  "kernelspec": {
   "display_name": "Python 3 (ipykernel)",
   "language": "python",
   "name": "python3"
  },
  "language_info": {
   "codemirror_mode": {
    "name": "ipython",
    "version": 3
   },
   "file_extension": ".py",
   "mimetype": "text/x-python",
   "name": "python",
   "nbconvert_exporter": "python",
   "pygments_lexer": "ipython3",
   "version": "3.11.3"
  }
 },
 "nbformat": 4,
 "nbformat_minor": 5
}

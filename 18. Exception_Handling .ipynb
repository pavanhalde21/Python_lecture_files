{
 "cells": [
  {
   "attachments": {},
   "cell_type": "markdown",
   "id": "a82c2a77",
   "metadata": {},
   "source": [
    "# Exception Handling"
   ]
  },
  {
   "attachments": {},
   "cell_type": "markdown",
   "id": "e3ee27e0",
   "metadata": {},
   "source": [
    "                                                            Errors"
   ]
  },
  {
   "cell_type": "code",
   "execution_count": null,
   "id": "e55b25fb",
   "metadata": {},
   "outputs": [],
   "source": [
    "# In any programming language there are 2 types of errors are possible.\n",
    "\n",
    "#  1. Syntax Errors\n",
    "#  2. Runtime Errors"
   ]
  },
  {
   "cell_type": "code",
   "execution_count": null,
   "id": "a3ce38f7",
   "metadata": {},
   "outputs": [],
   "source": [
    "# 1. Syntax Errors:\n",
    "\n",
    "# The errors which occurs because of invalid syntax are called syntax errors.\n",
    "\n",
    "# example 1:\n",
    "    \n",
    "x = 10\n",
    "# if x=10: -----> syntax error\n",
    "if x==10:\n",
    "    print(\"Hello\")\n",
    "\n",
    "\n",
    "# exmaple 2:\n",
    "\n",
    "# print('Hello' -----> syntax error\n",
    "print('Hello')\n",
    "\n",
    "\n",
    "# Note:\n",
    "# Programmer is responsible to correct these syntax errors. Once all syntax errors are \n",
    "# corrected then only program execution will be started."
   ]
  },
  {
   "cell_type": "code",
   "execution_count": null,
   "id": "bbbb140e",
   "metadata": {},
   "outputs": [],
   "source": [
    "# 2. Runtime Errors:\n",
    "\n",
    "# Also known as exceptions.\n",
    "# While executing the program if something goes wrong because of end user input or \n",
    "#     programming logic or memory problems etc then we will get Runtime Errors.\n",
    "\n",
    "# Example:\n",
    "    \n",
    "# print(10/0) # runtime error\n",
    "\n",
    "# print(10/\"ten\") # runtime error\n",
    "\n",
    "x = int(input(\"Enter Number:\")) # runtime error if we give string\n",
    "print(x)\n",
    "\n",
    "### Note: Exception Handling concept applicable for Runtime Errors but not for syntax errors"
   ]
  },
  {
   "cell_type": "code",
   "execution_count": null,
   "id": "5783e572",
   "metadata": {},
   "outputs": [],
   "source": [
    "# Different Types of Error\n",
    "\n",
    "# TypeError: This exception is raised when an operation or function is applied to an object of the wrong type, such as adding a string to an integer.\n",
    "# NameError: This exception is raised when a variable or function name is not found in the current scope.\n",
    "# IndexError: This exception is raised when an index is out of range for a list, tuple, or other sequence types.\n",
    "# KeyError: This exception is raised when a key is not found in a dictionary.\n",
    "# ValueError: This exception is raised when a function or method is called with an invalid argument or input, \n",
    "                # such as trying to convert a string to an integer when the string does not represent a valid integer.\n",
    "# AttributeError: This exception is raised when an attribute or method is not found on an object, \n",
    "                    # such as trying to access a non-existent attribute of a class instance.\n",
    "# IOError: This exception is raised when an I/O operation, such as reading or writing a file, fails due to an input/output error.\n",
    "# ZeroDivisionError: This exception is raised when an attempt is made to divide a number by zero.\n",
    "# ImportError: This exception is raised when an import statement fails to find or load a module.\n"
   ]
  },
  {
   "attachments": {},
   "cell_type": "markdown",
   "id": "8ba7bada",
   "metadata": {},
   "source": [
    "                                                            try-except:"
   ]
  },
  {
   "cell_type": "code",
   "execution_count": null,
   "id": "24660990",
   "metadata": {},
   "outputs": [],
   "source": [
    "# What is Exception:\n",
    "\n",
    "# An unwanted and unexpected event that disturbs normal flow of program is called exception.\n",
    "\n",
    "# Eg:\n",
    "# ZeroDivisionError\n",
    "# TypeError\n",
    "# ValueError\n",
    "# FileNotFoundError\n",
    "# EOFError\n",
    "\n",
    "# It is highly recommended to handle exceptions. The main objective of exception handling is Graceful Termination of the program.\n",
    "    # (i.e we should not block our resources and we should not miss anything)\n",
    "# Exception handling does not mean repairing exception. We have to define alternative way to continue rest of the program normally."
   ]
  },
  {
   "cell_type": "code",
   "execution_count": null,
   "id": "cb9e2f40",
   "metadata": {},
   "outputs": [],
   "source": [
    "# Syntax\n",
    "\n",
    "# try:\n",
    "#  Risky Code\n",
    "# except XXX:\n",
    "#  Handling code/Alternative Code\n",
    "# else:\n",
    "#     code which run only when no exception\n",
    "# finally:\n",
    "#     always runs"
   ]
  },
  {
   "cell_type": "code",
   "execution_count": null,
   "id": "9a921f15",
   "metadata": {},
   "outputs": [],
   "source": [
    "# without try-except:\n",
    "\n",
    "print(\"statement-1\") \n",
    "print(10/0) # error\n",
    "print(\"statement-3\") \n",
    " \n"
   ]
  },
  {
   "cell_type": "code",
   "execution_count": null,
   "id": "5addee48",
   "metadata": {},
   "outputs": [],
   "source": [
    "# with try-except:\n",
    "\n",
    "print(\"statement-1\") \n",
    "try: \n",
    "    print(10/0) \n",
    "except ZeroDivisionError:  \n",
    "    print(\"statement-3\")"
   ]
  },
  {
   "attachments": {},
   "cell_type": "markdown",
   "id": "a60e29e4",
   "metadata": {},
   "source": [
    "Control Flow in try-except:\n"
   ]
  },
  {
   "cell_type": "code",
   "execution_count": null,
   "id": "3cef9e32",
   "metadata": {},
   "outputs": [],
   "source": [
    "    \n",
    "# try:\n",
    "#  statement-1\n",
    "#  statement-2\n",
    "#  statement-3\n",
    "\n",
    "# except XXX:\n",
    "#  statement-4\n",
    "# statement-5\n",
    "\n",
    "\n",
    "# Conclusions:\n",
    "# 1. within the try block if anywhere exception raised then rest of the try block won't be executed eventhough we handled that exception. \n",
    "    # Hence we have to take only risky code inside try block and length of the try block should be as less as possible.\n",
    "# 2. In addition to try block,there may be a chance of raising exceptions inside except and finally blocks also.\n",
    "# 3. If any statement which is not part of try block raises an exception then it is always abnormal termination."
   ]
  },
  {
   "cell_type": "code",
   "execution_count": 1,
   "id": "cd023492",
   "metadata": {},
   "outputs": [
    {
     "name": "stdout",
     "output_type": "stream",
     "text": [
      "statement 1:- 30\n",
      "statement 2:- 10\n",
      "statement 3:- 900\n",
      "else block code\n",
      "finally block code\n",
      "statement 5:- 4.5\n"
     ]
    }
   ],
   "source": [
    "# case-1: If there is no exception\n",
    "\n",
    "# result -- 1,2,3,5 and Normal Termination\n",
    "        \n",
    "        \n",
    "try:\n",
    "    print(\"statement 1:-\", 10+20) # try adding with string except block will run\n",
    "    print(\"statement 2:-\", 20-10)\n",
    "    print(\"statement 3:-\", 30*30)\n",
    "except Exception:\n",
    "    print(\"statement 4\")\n",
    "else:\n",
    "    print(\"else block code\")\n",
    "finally:\n",
    "    print(\"finally block code\")\n",
    "\n",
    "print(\"statement 5:-\",90/20) \n",
    "\n",
    "\n",
    "# if the except block has to run then the else block would not run\n",
    "# finally block runs in any case\n"
   ]
  },
  {
   "cell_type": "code",
   "execution_count": 3,
   "id": "c09927de",
   "metadata": {},
   "outputs": [
    {
     "name": "stdout",
     "output_type": "stream",
     "text": [
      "statement-1 2000\n",
      "Program terminated normally\n"
     ]
    },
    {
     "ename": "NameError",
     "evalue": "name 'a' is not defined",
     "output_type": "error",
     "traceback": [
      "\u001b[1;31m---------------------------------------------------------------------------\u001b[0m",
      "\u001b[1;31mNameError\u001b[0m                                 Traceback (most recent call last)",
      "\u001b[1;32md:\\_02_CS\\02_PYTHON\\Lecture_Files\\18. Exception_Handling .ipynb Cell 15\u001b[0m line \u001b[0;36m8\n\u001b[0;32m      <a href='vscode-notebook-cell:/d%3A/_02_CS/02_PYTHON/Lecture_Files/18.%20Exception_Handling%20.ipynb#X20sZmlsZQ%3D%3D?line=5'>6</a>\u001b[0m \u001b[39mtry\u001b[39;00m:\n\u001b[0;32m      <a href='vscode-notebook-cell:/d%3A/_02_CS/02_PYTHON/Lecture_Files/18.%20Exception_Handling%20.ipynb#X20sZmlsZQ%3D%3D?line=6'>7</a>\u001b[0m     \u001b[39mprint\u001b[39m(\u001b[39m\"\u001b[39m\u001b[39mstatement-1\u001b[39m\u001b[39m\"\u001b[39m,\u001b[39m200\u001b[39m\u001b[39m*\u001b[39m\u001b[39m10\u001b[39m)\n\u001b[1;32m----> <a href='vscode-notebook-cell:/d%3A/_02_CS/02_PYTHON/Lecture_Files/18.%20Exception_Handling%20.ipynb#X20sZmlsZQ%3D%3D?line=7'>8</a>\u001b[0m     \u001b[39mprint\u001b[39m(\u001b[39m\"\u001b[39m\u001b[39mstatement-2\u001b[39m\u001b[39m\"\u001b[39m,a\u001b[39m/\u001b[39m\u001b[39m0\u001b[39m)\n\u001b[0;32m      <a href='vscode-notebook-cell:/d%3A/_02_CS/02_PYTHON/Lecture_Files/18.%20Exception_Handling%20.ipynb#X20sZmlsZQ%3D%3D?line=8'>9</a>\u001b[0m     \u001b[39mprint\u001b[39m(\u001b[39m\"\u001b[39m\u001b[39mstatement-3\u001b[39m\u001b[39m\"\u001b[39m,\u001b[39m100\u001b[39m\u001b[39m/\u001b[39m\u001b[39m20\u001b[39m)\n\u001b[0;32m     <a href='vscode-notebook-cell:/d%3A/_02_CS/02_PYTHON/Lecture_Files/18.%20Exception_Handling%20.ipynb#X20sZmlsZQ%3D%3D?line=9'>10</a>\u001b[0m \u001b[39mexcept\u001b[39;00m \u001b[39mZeroDivisionError\u001b[39;00m:\n",
      "\u001b[1;31mNameError\u001b[0m: name 'a' is not defined"
     ]
    }
   ],
   "source": [
    "# case-2: If an exception raised at stmt-2 and\n",
    "\n",
    "# result -- corresponding except block matched 1,4,5 Normal Termination\n",
    "\n",
    "\n",
    "try:\n",
    "    print(\"statement-1\",200*10)\n",
    "    print(\"statement-2\",a/0)\n",
    "    print(\"statement-3\",100/20)\n",
    "except ZeroDivisionError:\n",
    "    print(\"Division by zero error\") # statement 4\n",
    "else:\n",
    "    print(\"esle block \")\n",
    "finally:\n",
    "    \n",
    "    print(\"Program terminated normally\")  # statement 5\n",
    "\n",
    "print(1135455)"
   ]
  },
  {
   "cell_type": "code",
   "execution_count": null,
   "id": "024f87bd",
   "metadata": {},
   "outputs": [],
   "source": [
    "# case-3: If an exception raised at stmt-2 and corresponding except block not matched\n",
    "\n",
    "# result -- 1, Abnormal Termination\n",
    "\n",
    "     \n",
    "try:\n",
    "    print(\"Statement 1:- hello world\")\n",
    "    print('statement 2:-',10+a)\n",
    "    print(\"statement 3\",90+10)\n",
    "    print(\"statement 4:-\",12+10)\n",
    "except ZeroDivisionError:\n",
    "    print(\"zero divison error\")  # This except block will not match\n",
    "finally:\n",
    "    print(\"Program terminated abnormally\") # statement-1 (This will still execute because except block is not matched)\n",
    "\n",
    "print('abc') # will not run in this case(so now you know th use of finally)   "
   ]
  },
  {
   "cell_type": "code",
   "execution_count": null,
   "id": "21abd48a",
   "metadata": {},
   "outputs": [],
   "source": [
    "# case-4: If an exception raised at stmt-4 \n",
    "\n",
    "try:\n",
    "    print(\"statement-1\")\n",
    "    print(\"statement-2\")\n",
    "    print(\"statement-3\")\n",
    "    print(\"statement-4\",\"hello\" + 5)\n",
    "    print(\"statemnt 5\")\n",
    "except Exception as e: # ---------------------------------> this excepts all kinds of exceptions and also shows the error\n",
    "    print('exception raised somewhere in try block. Reason being: ',e)\n",
    "    \n",
    "print(\"Program terminated abnormally\")  # statement-5\n"
   ]
  },
  {
   "attachments": {},
   "cell_type": "markdown",
   "id": "39412b6c",
   "metadata": {},
   "source": [
    "How to print exception information:\n"
   ]
  },
  {
   "cell_type": "code",
   "execution_count": null,
   "id": "aba925c1",
   "metadata": {},
   "outputs": [],
   "source": [
    "\n",
    "try:\n",
    "    print(10/0) \n",
    "except ZeroDivisionError as msg: \n",
    "    print(\"exception raised and its description is:\",msg) "
   ]
  },
  {
   "cell_type": "code",
   "execution_count": null,
   "id": "504829c0",
   "metadata": {},
   "outputs": [],
   "source": [
    "\n",
    "try:\n",
    "    print(10/0) \n",
    "except Exception as msg: \n",
    "    print(\"Something went wrong: \", msg)\n",
    "\n",
    "\n",
    "# we can handle any unexpected exceptions that may occur in the try block. \n",
    "# For example, if there is a bug in our code that causes an exception that we didn't anticipate.\n",
    "# This block will catch it and print an error message:\n",
    "\n",
    "    # except Exception as msg:\n",
    "    #     print(\"Something went wrong: \", msg)"
   ]
  },
  {
   "attachments": {},
   "cell_type": "markdown",
   "id": "37ba9241",
   "metadata": {},
   "source": [
    "try with multiple except blocks:"
   ]
  },
  {
   "cell_type": "code",
   "execution_count": null,
   "id": "c9d8d485",
   "metadata": {},
   "outputs": [],
   "source": [
    "\n",
    "# The way of handling exception is varied from exception to exception.\n",
    "# Hence for every exception type a seperate except block have to be provided. \n",
    "# i.e try with multiple except blocks is possible and recommended to use."
   ]
  },
  {
   "cell_type": "code",
   "execution_count": null,
   "id": "d41cef5d",
   "metadata": {},
   "outputs": [],
   "source": [
    "try: \n",
    "    x=int(input(\"Enter First Number: \")) \n",
    "    y=int(input(\"Enter Second Number: \")) \n",
    "    print(x/y) \n",
    "except ZeroDivisionError as msg : \n",
    "    print(\"Can't Divide with Zero: \",msg) \n",
    "except ValueError as msg: \n",
    "    print(\"please provide int value only: \",msg)"
   ]
  },
  {
   "cell_type": "code",
   "execution_count": null,
   "id": "7a96cb68",
   "metadata": {},
   "outputs": [],
   "source": [
    "# If try with multiple except blocks available then the order of these except blocks is important.\n",
    "# Python interpreter will always consider from top to bottom until matched except block identified."
   ]
  },
  {
   "cell_type": "code",
   "execution_count": null,
   "id": "7163b03d",
   "metadata": {},
   "outputs": [],
   "source": [
    "try: \n",
    "    x=int(input(\"Enter First Number: \")) \n",
    "    y=int(input(\"Enter Second Number: \")) \n",
    "    print(x/y) \n",
    "except ArithmeticError : \n",
    "    print(\"ArithmeticError\") \n",
    "except ZeroDivisionError: \n",
    "    print(\"ZeroDivisionError\") \n"
   ]
  },
  {
   "attachments": {},
   "cell_type": "markdown",
   "id": "960235e4",
   "metadata": {},
   "source": [
    "Single except block that can handle multiple exceptions:"
   ]
  },
  {
   "cell_type": "code",
   "execution_count": null,
   "id": "2cceec09",
   "metadata": {},
   "outputs": [],
   "source": [
    "try: \n",
    "    x=int(input(\"Enter First Number: \")) \n",
    "    y=int(input(\"Enter Second Number: \")) \n",
    "    print(x/y) \n",
    "except (ZeroDivisionError,ValueError) as msg: \n",
    "    print(\"Plz Provide valid numbers only and problem is: \",msg)\n",
    "finally:\n",
    "    print(\"no one can stop me\")"
   ]
  },
  {
   "attachments": {},
   "cell_type": "markdown",
   "id": "cd7b62ed",
   "metadata": {},
   "source": [
    "Default except block:\n"
   ]
  },
  {
   "cell_type": "code",
   "execution_count": null,
   "id": "ceec43e8",
   "metadata": {},
   "outputs": [],
   "source": [
    "\n",
    "# We can use default except block to handle any type of exceptions.\n",
    "# In default except block generally we can print normal error messages."
   ]
  },
  {
   "cell_type": "code",
   "execution_count": null,
   "id": "778cb83d",
   "metadata": {},
   "outputs": [],
   "source": [
    "try: \n",
    "    x=int(input(\"Enter First Number: \")) \n",
    "    y=int(input(\"Enter Second Number: \")) \n",
    "    print(x/y) \n",
    "except: \n",
    "    print(\"Default Except:Plz provide valid input only\")"
   ]
  },
  {
   "attachments": {},
   "cell_type": "markdown",
   "id": "556c4b71",
   "metadata": {},
   "source": [
    "                                                            finally block:"
   ]
  },
  {
   "cell_type": "code",
   "execution_count": null,
   "id": "13f78891",
   "metadata": {},
   "outputs": [],
   "source": [
    "# finally block:\n",
    "  \n",
    "# 1. It is not recommended to maintain clean up code(Resource Deallocating Code or Resource Releasing code) \n",
    "    # inside try block because there is no guarentee for the execution of every statement inside try block always.\n",
    "\n",
    "# 2. It is not recommended to maintain clean up code inside except block, because if there is no exception then except block won't be executed.\n",
    "\n",
    "# Hence we required some place to maintain clean up code which should be executed always \n",
    "    # irrespective of whether exception raised or not raised and whether exception handled or not handled. \n",
    "    # Such type of best place is nothing but finally block.\n",
    "\n",
    "# Hence the main purpose of finally block is to maintain clean up code.\n",
    "\n",
    "# Syntax:\n",
    "\n",
    "    # try:\n",
    "    #  Risky Code\n",
    "    # except: \n",
    "    #  Handling Code\n",
    "    # finally:\n",
    "    #  Cleanup code\n",
    "\n",
    "\n",
    "# The speciality of finally block is it will be executed always whether exception raised or not raised and whether exception handled or not handled."
   ]
  },
  {
   "cell_type": "code",
   "execution_count": null,
   "id": "42a6c4cc",
   "metadata": {},
   "outputs": [],
   "source": [
    "# Case-1: If there is no exception\n",
    "\n",
    "try: \n",
    "    print(\"try\") \n",
    "except: \n",
    "    print(\"except\") \n",
    "finally: \n",
    "    print(\"finally\") "
   ]
  },
  {
   "cell_type": "code",
   "execution_count": null,
   "id": "6fa16eab",
   "metadata": {},
   "outputs": [],
   "source": [
    "# Case-2: If there is an exception raised but handled\n",
    "\n",
    "try: \n",
    "    print(\"try\")\n",
    "    print(10/0) \n",
    "except ZeroDivisionError:\n",
    "    print(\"except\") \n",
    "finally: \n",
    "    print(\"finally\") "
   ]
  },
  {
   "cell_type": "code",
   "execution_count": null,
   "id": "dfa171c4",
   "metadata": {},
   "outputs": [],
   "source": [
    "# Case-3: If there is an exception raised but not handled: abnormal termination\n",
    "\n",
    "try: \n",
    "    print(\"try\")\n",
    "    print(10/0) \n",
    "except NameError:  \n",
    "    print(\"except\") \n",
    "finally: \n",
    "    print(\"finally\")\n",
    "\n",
    "print('abc') # will not run in this case(so now you know the use of finally) "
   ]
  },
  {
   "attachments": {},
   "cell_type": "markdown",
   "id": "9a26b9b5",
   "metadata": {},
   "source": [
    "                                                            else block:"
   ]
  },
  {
   "cell_type": "code",
   "execution_count": null,
   "id": "8cd15547",
   "metadata": {},
   "outputs": [],
   "source": [
    "# Else: If there is no exception then this block will be executed"
   ]
  },
  {
   "cell_type": "code",
   "execution_count": null,
   "id": "8d9429d7",
   "metadata": {},
   "outputs": [],
   "source": [
    "def divide(x, y):\n",
    "    try:\n",
    "        result = x // y\n",
    "    except ZeroDivisionError:\n",
    "        print(\"Sorry ! You are dividing by zero \")\n",
    "    else:\n",
    "        print(\"Yeah ! 'else' block says Your answer is :\", result)\n",
    "    finally:\n",
    "        print(\" i am in 'finally' block i will execute always\")\n",
    "\n",
    "divide(3, 2)\n",
    "# divide(3, 0)\n",
    "\n",
    "# else block only execute when there no error in try block \n"
   ]
  },
  {
   "cell_type": "code",
   "execution_count": null,
   "id": "38f50fa6",
   "metadata": {},
   "outputs": [],
   "source": [
    "\n",
    "def divide(x, y):\n",
    "    try:\n",
    "        result = x // y\n",
    "    except ZeroDivisionError:\n",
    "        print(\"Sorry ! You are dividing by zero \")\n",
    "    else:\n",
    "        print(\"Yeah ! Your answer is :\", result)\n",
    "    finally:\n",
    "        x = \"python\"\n",
    "        for i in x:\n",
    "            print(i,end=' ')\n",
    "        print()\n",
    "        print('This is always executed')  \n",
    "          \n",
    "\n",
    "            \n",
    "divide(3, 2)\n",
    "# divide(3, 0)"
   ]
  },
  {
   "cell_type": "code",
   "execution_count": null,
   "id": "e39c64f7",
   "metadata": {},
   "outputs": [],
   "source": [
    "# exercise\n",
    "# indexing\n",
    "\n",
    "try:\n",
    "    my_list = [1, 2, 3, 30, 40, 90, 100]\n",
    "    index = int(input(\"Enter the index of the element to retrieve: \"))\n",
    "    element = my_list[index]\n",
    "    print(\"The element at index\", index, \"is:\", element)\n",
    "except IndexError:\n",
    "    print(\"Index out of range. Please enter a valid index.\")\n",
    "except ValueError:\n",
    "    print(\"Invalid input. Please enter a valid integer index.\")\n",
    "except Exception as e:\n",
    "    print(\"Something went wrong:\", e)\n",
    "else: \n",
    "    print('else is executed')\n",
    "finally:\n",
    "    print(\"Execution complete\")\n"
   ]
  },
  {
   "cell_type": "code",
   "execution_count": null,
   "id": "e59907e2",
   "metadata": {},
   "outputs": [],
   "source": [
    "# exercise\n",
    "# login\n",
    "\n",
    "MIN_USERNAME_LENGTH = 4\n",
    "MIN_PASSWORD_LENGTH = 8\n",
    "\n",
    "def check_username(username):\n",
    "    if len(username) < MIN_USERNAME_LENGTH:\n",
    "        raise ValueError(\"Username must be at least {} characters long\".format(MIN_USERNAME_LENGTH)) # raise\n",
    "\n",
    "def check_password(password):\n",
    "    if len(password) < MIN_PASSWORD_LENGTH:\n",
    "        raise ValueError(\"Password must be at least {} characters long\".format(MIN_PASSWORD_LENGTH))\n",
    "    if not any(char.isdigit() for char in password): # ----------------------------------------------> if not any():\n",
    "        raise ValueError(\"Password must contain at least one digit\")\n",
    "    if not any(char.isalpha() for char in password):\n",
    "        raise ValueError(\"Password must contain at least one letter\")\n",
    "\n",
    "def login(username, password):\n",
    "    try:\n",
    "        check_username(username)\n",
    "        check_password(password)\n",
    "        print(\"Login successful!\")\n",
    "    except ValueError as e:\n",
    "        print(\"Login failed: {}\".format(e))\n",
    "\n",
    "# Example usage:\n",
    "enter_user = input('enter the username: ')\n",
    "enter_password = input('enter the password: ')\n",
    "login(enter_user,enter_password)"
   ]
  },
  {
   "cell_type": "code",
   "execution_count": null,
   "id": "ca56a882",
   "metadata": {},
   "outputs": [],
   "source": [
    "# exercise\n",
    "# strong password\n",
    "\n",
    "def check_password(password):\n",
    "    if len(password) < 8:\n",
    "        raise ValueError(\"Password must be at least 8 characters long\")\n",
    "    if not any(c.isdigit() for c in password):\n",
    "        raise ValueError(\"Password must contain at least one digit\")\n",
    "    if not any(c.isupper() for c in password):\n",
    "        raise ValueError(\"Password must contain at least one uppercase letter\")\n",
    "    if not any(c.islower() for c in password):\n",
    "        raise ValueError(\"Password must contain at least one lowercase letter\")\n",
    "    return True\n",
    "\n",
    "try:\n",
    "    password = input('enter the password: ')\n",
    "    check_password(password)\n",
    "    print(\"strong password\")\n",
    "except ValueError as e:\n",
    "    print(\"Error:\", e)\n"
   ]
  },
  {
   "attachments": {},
   "cell_type": "markdown",
   "id": "ba41c703",
   "metadata": {},
   "source": [
    "# Practice"
   ]
  },
  {
   "cell_type": "code",
   "execution_count": 5,
   "id": "2f2d98e9",
   "metadata": {},
   "outputs": [
    {
     "name": "stdout",
     "output_type": "stream",
     "text": [
      "first -1\n"
     ]
    }
   ],
   "source": [
    "# \n",
    "\n",
    "astr='hello bob'\n",
    "try:\n",
    "    istr=int(astr)\n",
    "except:\n",
    "    istr=-1\n",
    "print('first',istr)\n"
   ]
  },
  {
   "cell_type": "code",
   "execution_count": 6,
   "metadata": {},
   "outputs": [
    {
     "name": "stdout",
     "output_type": "stream",
     "text": [
      "second 123\n"
     ]
    }
   ],
   "source": [
    "\n",
    "astr='123'\n",
    "try:\n",
    "    istr=int(astr)\n",
    "except:\n",
    "    istr=-1\n",
    "print('second',istr)\n"
   ]
  },
  {
   "cell_type": "code",
   "execution_count": 7,
   "id": "70d7e8a1",
   "metadata": {},
   "outputs": [
    {
     "name": "stdout",
     "output_type": "stream",
     "text": [
      "regular\n",
      "pay: 25.0\n"
     ]
    }
   ],
   "source": [
    "# 1. Write your pay computation to give the employee 1.5 times the hourly rate for hours worked above 40 hours.\n",
    "    # also use exceptional handling\n",
    "\n",
    "sh=input('enter hours: ')\n",
    "sr=input('enter rate: ')\n",
    "try:\n",
    "    fh=float(sh)\n",
    "    fr=float(sr)\n",
    "except:\n",
    "    print('Error,please enter numeric input')\n",
    "    quit()\n",
    "if fh > 40:\n",
    "    print('overtime')\n",
    "    reg = fr*fh\n",
    "    otp = (fh-40.0)*(fr*1.5)\n",
    "    print(reg,otp)\n",
    "    xp = reg + otp\n",
    "else:\n",
    "    print('regular')\n",
    "    xp = fh*fr\n",
    "   \n",
    "print('pay:',xp)\n"
   ]
  },
  {
   "cell_type": "code",
   "execution_count": 11,
   "metadata": {},
   "outputs": [
    {
     "name": "stdout",
     "output_type": "stream",
     "text": [
      "Error, please enter numeric input\n",
      "pay: 20.0\n"
     ]
    }
   ],
   "source": [
    "sh=input('enter hours: ')\n",
    "sr=input('enter rate: ')\n",
    "try:\n",
    "    fh=float(sh)\n",
    "    fr=float(sr)\n",
    "except:\n",
    "    print('Error, please enter numeric input')\n",
    "\n",
    "xp = fh*fr\n",
    "print('pay:',xp)"
   ]
  },
  {
   "cell_type": "code",
   "execution_count": null,
   "id": "5c30332d",
   "metadata": {},
   "outputs": [],
   "source": [
    "# 2. Marks into grades. use exceptional handling\n",
    "\n",
    "n=input('enter a score')\n",
    "try:\n",
    "    \n",
    "    m=float(n)\n",
    "    if m>=0.0 and m<1.0:\n",
    "        \n",
    "        if m>=0.9:\n",
    "            pint('A')\n",
    "        elif m>=0.8 and m<0.9:\n",
    "            print('B')\n",
    "        elif m>=0.7 and m<0.8:\n",
    "            print('C')\n",
    "        elif m>=0.6 and m<0.7:\n",
    "            print('D')\n",
    "        elif m<0.6:\n",
    "            print('F')\n",
    "    else:\n",
    "        print('not in range')\n",
    "   \n",
    "except:\n",
    "    print('enter score in numbers')"
   ]
  },
  {
   "cell_type": "code",
   "execution_count": null,
   "id": "9cd8001f",
   "metadata": {},
   "outputs": [],
   "source": [
    "# 3. sum\n",
    "\n",
    "num=0\n",
    "tot=0.0\n",
    "while True:\n",
    "    sval=input('Enter a number: ')\n",
    "    if sval == \"done\" :\n",
    "        break\n",
    "    try:\n",
    "        fval=float(sval)\n",
    "    except:\n",
    "        print('Invlid Input')\n",
    "    num=num+1\n",
    "    tot=tot+fval\n",
    "print('All Done')\n",
    "print(tot,num,tot/num)"
   ]
  },
  {
   "cell_type": "code",
   "execution_count": null,
   "id": "480761ad",
   "metadata": {},
   "outputs": [],
   "source": [
    "largest = None\n",
    "smallest = None\n",
    "while True:\n",
    "    num = input(\"Enter a number: \")\n",
    "    if num == 'done':\n",
    "        break\n",
    "    try:\n",
    "        value=int(num)\n",
    "        if smallest is None:\n",
    "            smallest = value\n",
    "        if value < smallest:\n",
    "            smallest = value\n",
    "        if largest is None:\n",
    "            largest = value\n",
    "        if value > largest:\n",
    "            largest=value\n",
    "    except:\n",
    "        print(\"Invalid input\")\n",
    "        \n",
    "    \n",
    "print('Maximum is',largest)\n",
    "print('Minimum is',smallest)\n"
   ]
  },
  {
   "cell_type": "code",
   "execution_count": null,
   "id": "8b0e8737",
   "metadata": {},
   "outputs": [],
   "source": [
    "largest = None\n",
    "smallest = None\n",
    "while True:\n",
    "    num = input(\"Enter a number: \")\n",
    "    if num == 'done':\n",
    "        break\n",
    "    try:\n",
    "        value=int(num)\n",
    "    except:\n",
    "        print(\"Invalid input\")\n",
    "\n",
    "    if smallest is None:\n",
    "        smallest = value\n",
    "    if value < smallest:\n",
    "        smallest = value\n",
    "    if largest is None:\n",
    "        largest = value\n",
    "    if value > largest:\n",
    "        largest=value    \n",
    "    # it is not compulsary to write the logic in the try block. \n",
    "print('Maximum is',largest)\n",
    "print('Minimum is',smallest)"
   ]
  },
  {
   "cell_type": "code",
   "execution_count": null,
   "id": "3c247843",
   "metadata": {},
   "outputs": [],
   "source": [
    "try:\n",
    "    file = open(\"example.txt\", \"r\")  # Attempt to open the file for reading\n",
    "except FileNotFoundError:\n",
    "    print(\"File not found!\")  # Handle the case where the file does not exist\n",
    "    # Create a new file if the original file is not found\n",
    "    with open(\"example.txt\", \"w\") as new_file:\n",
    "        new_file.write(\"This is a new file.\")\n",
    "else:\n",
    "    print(\"File opened successfully!\")  # Indicate successful file opening\n",
    "    try:\n",
    "        content = file.read()  # Attempt to read the file contents\n",
    "        print(\"File content:\", content)\n",
    "    except Exception as e:\n",
    "        print(\"Error reading file:\", e)  # Handle any errors that occur during reading\n",
    "    finally:\n",
    "        file.close()  # Ensure the file is closed whether an error occurred or not\n",
    "        print(\"File closed.\")  # Indicate file closure\n"
   ]
  },
  {
   "cell_type": "code",
   "execution_count": null,
   "id": "88408bad",
   "metadata": {},
   "outputs": [],
   "source": []
  }
 ],
 "metadata": {
  "kernelspec": {
   "display_name": "Python 3 (ipykernel)",
   "language": "python",
   "name": "python3"
  },
  "language_info": {
   "codemirror_mode": {
    "name": "ipython",
    "version": 3
   },
   "file_extension": ".py",
   "mimetype": "text/x-python",
   "name": "python",
   "nbconvert_exporter": "python",
   "pygments_lexer": "ipython3",
   "version": "3.11.3"
  }
 },
 "nbformat": 4,
 "nbformat_minor": 5
}

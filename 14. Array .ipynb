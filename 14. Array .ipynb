{
 "cells": [
  {
   "attachments": {},
   "cell_type": "markdown",
   "id": "171b8b30",
   "metadata": {},
   "source": [
    "# Arrays\n"
   ]
  },
  {
   "cell_type": "code",
   "execution_count": null,
   "id": "6d0884ea",
   "metadata": {},
   "outputs": [],
   "source": [
    "# array class are mutable and behave similarly to lists\n",
    "# -- except \n",
    "# they are “typed arrays” constrained to a single data type.\n",
    "# array objects with many elements are more space-efficient than lists and tuples.\n",
    "\n",
    "# -- mutable\n",
    "# -- ordered\n",
    "# -- indexing is possible\n",
    "# -- single datatype elements\n"
   ]
  },
  {
   "attachments": {},
   "cell_type": "markdown",
   "id": "e96b2c85",
   "metadata": {},
   "source": [
    "![Alt text](arrays.png)"
   ]
  },
  {
   "attachments": {},
   "cell_type": "markdown",
   "id": "865ff163",
   "metadata": {},
   "source": [
    "# Built-in Array"
   ]
  },
  {
   "cell_type": "code",
   "execution_count": 1,
   "id": "2d9088c9",
   "metadata": {},
   "outputs": [
    {
     "name": "stdout",
     "output_type": "stream",
     "text": [
      "<class 'array.array'>\n"
     ]
    }
   ],
   "source": [
    "import array as arr\n",
    "a = arr.array('i',[]) # empty array\n",
    "print(type(a)) # array.array says that it is a built-in array\n"
   ]
  },
  {
   "cell_type": "code",
   "execution_count": 3,
   "id": "9e91a136",
   "metadata": {},
   "outputs": [
    {
     "name": "stdout",
     "output_type": "stream",
     "text": [
      "array('i', [5, 9, 8, 6, 4, 3])\n",
      "<class 'array.array'>\n",
      "array('i', [5, 9, -4, 3])\n"
     ]
    }
   ],
   "source": [
    "from array import *\n",
    "\n",
    "vals1 = array('i',[5,9,8,6,4,3]) # i refers to integer\n",
    "print(vals1)\n",
    "print(type(vals1))\n",
    "\n",
    "# vals2 = array('i',[5,9,8,6.2,4,3]) # error. if we add a float value\n",
    "# print(vals2)\n",
    "\n",
    "vals3 = array('i',[5,9,-4,3]) # it is ok with negative values\n",
    "print(vals3)\n",
    "\n",
    "# vals4 = array('I',[9,6,5,2,-1]) # error. 'I' refers to unsigned integer. it does not take negative values.\n"
   ]
  },
  {
   "cell_type": "code",
   "execution_count": 3,
   "id": "960120c6",
   "metadata": {},
   "outputs": [
    {
     "name": "stdout",
     "output_type": "stream",
     "text": [
      "(1729295598896, 6)\n",
      "i\n"
     ]
    }
   ],
   "source": [
    "\n",
    "print(vals1.buffer_info()) # gives a tuple (adress, size)\n",
    "\n",
    "print(vals1.typecode)\n"
   ]
  },
  {
   "cell_type": "code",
   "execution_count": 4,
   "id": "2da44a19",
   "metadata": {},
   "outputs": [
    {
     "name": "stdout",
     "output_type": "stream",
     "text": [
      "reversed array('i', [3, 4, 6, 8, 9, 5])\n",
      "3\n"
     ]
    }
   ],
   "source": [
    "\n",
    "vals1.reverse()\n",
    "print('reversed',vals1)\n",
    "\n",
    "# indexing\n",
    "print(vals1[0])\n"
   ]
  },
  {
   "cell_type": "code",
   "execution_count": 4,
   "id": "d3dee1ee",
   "metadata": {},
   "outputs": [
    {
     "name": "stdout",
     "output_type": "stream",
     "text": [
      "5\n",
      "9\n",
      "-4\n",
      "3\n",
      "\n",
      "5\n",
      "9\n",
      "-4\n",
      "3\n"
     ]
    }
   ],
   "source": [
    "\n",
    "for i in range(len(vals3)):\n",
    "    print(vals3[i])\n",
    "\n",
    "print()\n",
    "\n",
    "for e in vals3:\n",
    "    print(e)\n"
   ]
  },
  {
   "cell_type": "code",
   "execution_count": 5,
   "id": "1cd1037d",
   "metadata": {},
   "outputs": [
    {
     "name": "stdout",
     "output_type": "stream",
     "text": [
      "array('u', 'aeiou')\n",
      "\n",
      "array('i', [5, 9, 8, 6, 4, 3])\n",
      "\n",
      "array('i', [25, 81, 64, 36, 16, 9])\n",
      "5\n",
      "9\n",
      "8\n",
      "6\n",
      "4\n",
      "3\n"
     ]
    }
   ],
   "source": [
    "\n",
    "vals5 = array('u',['a','e','i','o','u']) # unicode character\n",
    "print(vals5)\n",
    "\n",
    "print()\n",
    "newArr = array(vals1.typecode,(a for a in vals1))\n",
    "print(newArr)\n",
    "\n",
    "print()\n",
    "newArr1 = array(vals1.typecode,(a*a for a in vals1))\n",
    "print(newArr1)\n",
    "\n",
    "i=0\n",
    "while i<len(newArr):\n",
    "    print(newArr[i])\n",
    "    i+=1\n",
    "  "
   ]
  },
  {
   "cell_type": "code",
   "execution_count": 7,
   "id": "2f8821f1",
   "metadata": {},
   "outputs": [
    {
     "name": "stdout",
     "output_type": "stream",
     "text": [
      "array('i', [1, 1])\n"
     ]
    }
   ],
   "source": [
    "# creating an array with for loop ( append() )\n",
    "\n",
    "from array import *\n",
    "\n",
    "arr = array('i',[])\n",
    "\n",
    "n = int(input('enter the length of the array: '))\n",
    "\n",
    "for i in range(n):\n",
    "    x = int(input('enter the next value: '))\n",
    "    arr.append(x) \n",
    "\n",
    "print(arr)\n"
   ]
  },
  {
   "cell_type": "code",
   "execution_count": 8,
   "id": "41ef2678",
   "metadata": {},
   "outputs": [
    {
     "ename": "ValueError",
     "evalue": "array.index(x): x not in array",
     "output_type": "error",
     "traceback": [
      "\u001b[1;31m---------------------------------------------------------------------------\u001b[0m",
      "\u001b[1;31mValueError\u001b[0m                                Traceback (most recent call last)",
      "Cell \u001b[1;32mIn[8], line 10\u001b[0m\n\u001b[0;32m      7\u001b[0m         \u001b[38;5;28;01mbreak\u001b[39;00m\n\u001b[0;32m      8\u001b[0m     k\u001b[38;5;241m+\u001b[39m\u001b[38;5;241m=\u001b[39m\u001b[38;5;241m1\u001b[39m\n\u001b[1;32m---> 10\u001b[0m \u001b[38;5;28mprint\u001b[39m(\u001b[43marr\u001b[49m\u001b[38;5;241;43m.\u001b[39;49m\u001b[43mindex\u001b[49m\u001b[43m(\u001b[49m\u001b[43mval\u001b[49m\u001b[43m)\u001b[49m) \u001b[38;5;66;03m# gives the index of the values that we are finding\u001b[39;00m\n",
      "\u001b[1;31mValueError\u001b[0m: array.index(x): x not in array"
     ]
    }
   ],
   "source": [
    "\n",
    "val = int(input('enter the value for search: '))\n",
    "\n",
    "k=0\n",
    "for e in arr:\n",
    "    if e==val:\n",
    "        print(k) # gives the index of first occurance of the values that we are finding\n",
    "        break\n",
    "    k+=1\n",
    "    \n",
    "print(arr.index(val)) # gives the index of the values that we are finding"
   ]
  },
  {
   "cell_type": "code",
   "execution_count": null,
   "id": "975671cd",
   "metadata": {},
   "outputs": [],
   "source": [
    "from array import *\n",
    "\n",
    "# arr = array('i',[1,2,3],[2,5,6]) # error -- multi-dimensional array does not work in built-in array\n"
   ]
  },
  {
   "attachments": {},
   "cell_type": "markdown",
   "id": "0a1f5488",
   "metadata": {},
   "source": [
    "# Numpy Array"
   ]
  },
  {
   "cell_type": "code",
   "execution_count": null,
   "id": "cac470c5",
   "metadata": {},
   "outputs": [],
   "source": [
    "# search for Python – Built-in array vs NumPy array on GFG.\n",
    "# built-in array has only single dimensional array that is one row and one column. [1,2,3,4]\n",
    "# numpy has multi dimensional arrays. that is multiple rows and multiple arrays. ex. matrix "
   ]
  },
  {
   "cell_type": "code",
   "execution_count": null,
   "id": "b9278724",
   "metadata": {},
   "outputs": [],
   "source": [
    "# pip install numpy"
   ]
  },
  {
   "cell_type": "code",
   "execution_count": 10,
   "id": "8df2799d",
   "metadata": {},
   "outputs": [
    {
     "name": "stdout",
     "output_type": "stream",
     "text": [
      "[ 6  7  8  9 10 11]\n",
      "[12 14 17 10 12 14]\n",
      "<class 'numpy.ndarray'>\n"
     ]
    }
   ],
   "source": [
    "from numpy import *\n",
    "\n",
    "arr1 = array ([1,2,3,4,5,6])\n",
    "arr2 = array([6,7,9,1,2,3])\n",
    "\n",
    "arr1 = arr1 + 5 # all the elements are added with 5\n",
    "print(arr1)\n",
    "\n",
    "arr3 = arr1 + arr2 # elements corresponding to similar index get added\n",
    "print(arr3)\n",
    "\n",
    "print(type(arr1)) # numpy.ndarray says it is an array from numpy liberary"
   ]
  },
  {
   "cell_type": "code",
   "execution_count": 11,
   "id": "e8ccf959",
   "metadata": {},
   "outputs": [
    {
     "name": "stdout",
     "output_type": "stream",
     "text": [
      "['apple' 'banana' 'orange']\n",
      "apple\n",
      "['pear' 'banana' 'orange']\n"
     ]
    }
   ],
   "source": [
    "import numpy as np\n",
    "\n",
    "# create a 1-dimensional Numpy array of strings\n",
    "strings = np.array([\"apple\", \"banana\", \"orange\"], dtype=str) \n",
    "\n",
    "\n",
    "print(strings)  # compare this output with the built-in array\n",
    "\n",
    "# indexing\n",
    "print(strings[0])  # apple\n",
    "\n",
    "# modify an element of the array\n",
    "strings[0] = \"pear\"\n",
    "print(strings)  \n"
   ]
  },
  {
   "cell_type": "code",
   "execution_count": 12,
   "id": "151a9aa1",
   "metadata": {},
   "outputs": [
    {
     "name": "stdout",
     "output_type": "stream",
     "text": [
      "[10 20 30]\n",
      "<class 'numpy.ndarray'>\n"
     ]
    }
   ],
   "source": [
    "integer = np.array([10,20,30],dtype=int) # it works even if we do not mention dtype\n",
    "\n",
    "print(integer)\n",
    "print(type(integer))"
   ]
  },
  {
   "cell_type": "code",
   "execution_count": 14,
   "id": "b23b1d37",
   "metadata": {},
   "outputs": [
    {
     "name": "stdout",
     "output_type": "stream",
     "text": [
      "[6 7 9 1 2 3]\n",
      "[-0.2794155   0.6569866   0.41211849  0.84147098  0.90929743  0.14112001]\n",
      "[ 0.96017029  0.75390225 -0.91113026  0.54030231 -0.41614684 -0.9899925 ]\n",
      "[1.79175947 1.94591015 2.19722458 0.         0.69314718 1.09861229]\n",
      "[2.44948974 2.64575131 3.         1.         1.41421356 1.73205081]\n",
      "1\n",
      "9\n",
      "[1 2 3 6 7 9]\n",
      "[ 6  7  8  9 10 11  6  7  9  1  2  3]\n"
     ]
    }
   ],
   "source": [
    "# there are various mathematical functions in numpy that we can use\n",
    "print(arr2)\n",
    "\n",
    "print(sin(arr2))\n",
    "print(cos(arr2))\n",
    "print(log(arr2))\n",
    "print(sqrt(arr2))\n",
    "print(min(arr2))\n",
    "print(max(arr2))\n",
    "print(sort(arr2))\n",
    "print(concatenate([arr1,arr2]))\n"
   ]
  },
  {
   "attachments": {},
   "cell_type": "markdown",
   "id": "f85efaec",
   "metadata": {},
   "source": [
    "Different ways of creating array in numpy"
   ]
  },
  {
   "cell_type": "code",
   "execution_count": 15,
   "id": "6cfa58c6",
   "metadata": {},
   "outputs": [
    {
     "name": "stdout",
     "output_type": "stream",
     "text": [
      "[11 12]\n",
      "int32\n",
      "[11. 12. 12.]\n",
      "float64\n",
      "[11. 12.]\n",
      "float64\n"
     ]
    }
   ],
   "source": [
    "# 1. using array([])\n",
    "\n",
    "from numpy import *   # here * imports all the functions in the numpy which consumes more data. instead you can use (from numpy import array)\n",
    "\n",
    "arr = array([11,12])\n",
    "print(arr)\n",
    "print(arr.dtype)\n",
    "\n",
    "arr1 = array([11,12,12.0])\n",
    "print(arr1)\n",
    "print(arr1.dtype)\n",
    "\n",
    "arr2 = array([11,12],float)\n",
    "print(arr2)\n",
    "print(arr2.dtype)\n"
   ]
  },
  {
   "cell_type": "code",
   "execution_count": 16,
   "id": "aa41ea43",
   "metadata": {},
   "outputs": [
    {
     "name": "stdout",
     "output_type": "stream",
     "text": [
      "[]\n",
      "<class 'numpy.ndarray'>\n"
     ]
    }
   ],
   "source": [
    "# 2. empty array\n",
    "\n",
    "arr = array([])\n",
    "print(arr)\n",
    "print(type(arr))\n"
   ]
  },
  {
   "cell_type": "code",
   "execution_count": 17,
   "id": "fb25aa21",
   "metadata": {},
   "outputs": [
    {
     "name": "stdout",
     "output_type": "stream",
     "text": [
      "[ 0.          1.77777778  3.55555556  5.33333333  7.11111111  8.88888889\n",
      " 10.66666667 12.44444444 14.22222222 16.        ]\n",
      "[ 0.  1.  2.  3.  4.  5.  6.  7.  8.  9. 10. 11. 12. 13. 14. 15.]\n",
      "[ 0.          0.78947368  1.57894737  2.36842105  3.15789474  3.94736842\n",
      "  4.73684211  5.52631579  6.31578947  7.10526316  7.89473684  8.68421053\n",
      "  9.47368421 10.26315789 11.05263158 11.84210526 12.63157895 13.42105263\n",
      " 14.21052632 15.        ]\n",
      "[ 0.  1.  2.  3.  4.  5.  6.  7.  8.  9. 10. 11. 12. 13. 14. 15. 16. 17.\n",
      " 18. 19. 20. 21. 22. 23. 24. 25. 26. 27. 28. 29. 30. 31. 32. 33. 34. 35.\n",
      " 36. 37. 38. 39. 40. 41. 42. 43. 44. 45. 46. 47. 48. 49.]\n",
      "[ 0.          0.40816327  0.81632653  1.2244898   1.63265306  2.04081633\n",
      "  2.44897959  2.85714286  3.26530612  3.67346939  4.08163265  4.48979592\n",
      "  4.89795918  5.30612245  5.71428571  6.12244898  6.53061224  6.93877551\n",
      "  7.34693878  7.75510204  8.16326531  8.57142857  8.97959184  9.3877551\n",
      "  9.79591837 10.20408163 10.6122449  11.02040816 11.42857143 11.83673469\n",
      " 12.24489796 12.65306122 13.06122449 13.46938776 13.87755102 14.28571429\n",
      " 14.69387755 15.10204082 15.51020408 15.91836735 16.32653061 16.73469388\n",
      " 17.14285714 17.55102041 17.95918367 18.36734694 18.7755102  19.18367347\n",
      " 19.59183673 20.        ]\n"
     ]
    }
   ],
   "source": [
    "# 3. using linespace\n",
    "\n",
    "arr3 = linspace(0,16,10) # 10 paths\n",
    "print(arr3)\n",
    "\n",
    "arr4 = linspace(0,15,16)\n",
    "print(arr4)\n",
    "\n",
    "arr5 = linspace(0,15,20)\n",
    "print(arr5)\n",
    "\n",
    "arr5 = linspace(0,49) # if we do not specify by default it takes 50 parts\n",
    "print(arr5)\n",
    "\n",
    "arr5 = linspace(0,20)\n",
    "print(arr5)\n"
   ]
  },
  {
   "cell_type": "code",
   "execution_count": 18,
   "id": "4c04cd7f",
   "metadata": {},
   "outputs": [
    {
     "name": "stdout",
     "output_type": "stream",
     "text": [
      "[ 1  3  5  7  9 11 13]\n",
      "<class 'numpy.ndarray'>\n"
     ]
    }
   ],
   "source": [
    "# 4. using arange\n",
    "\n",
    "arr6 = arange(1,15,2) # 2 steps\n",
    "print(arr6)\n",
    "print(type(arr6))\n"
   ]
  },
  {
   "cell_type": "code",
   "execution_count": 19,
   "id": "d73178c8",
   "metadata": {},
   "outputs": [
    {
     "name": "stdout",
     "output_type": "stream",
     "text": [
      "[1.00000000e+01 5.62341325e+10 3.16227766e+20 1.77827941e+30\n",
      " 1.00000000e+40]\n",
      "10.00\n",
      "10000000000000000303786028427003666890752.00\n"
     ]
    }
   ],
   "source": [
    "# 5. using logspace\n",
    "\n",
    "arr7 = logspace(1,40,5) # it starts from 10^1 to 10^40 and it will get divided into 5 parts\n",
    "print(arr7)\n",
    "print('%.2f'%arr7[0])\n",
    "print('%.2f'%arr7[4]) # prints the whole thing without converting it into power format\n"
   ]
  },
  {
   "cell_type": "code",
   "execution_count": 20,
   "id": "a76117a5",
   "metadata": {},
   "outputs": [
    {
     "name": "stdout",
     "output_type": "stream",
     "text": [
      "[0. 0. 0. 0. 0.]\n",
      "[1. 1. 1. 1. 1.]\n",
      "[1 1 1 1 1]\n"
     ]
    }
   ],
   "source": [
    "# 6. using zeros, ones\n",
    "\n",
    "arr8 = zeros(5)\n",
    "print(arr8)\n",
    "\n",
    "arr9 = ones(5)\n",
    "print(arr9)\n",
    "\n",
    "arr10 = ones(5,int)\n",
    "print(arr10)"
   ]
  },
  {
   "attachments": {},
   "cell_type": "markdown",
   "id": "5c8f1639",
   "metadata": {},
   "source": [
    "Copying array\n"
   ]
  },
  {
   "cell_type": "code",
   "execution_count": 21,
   "id": "15efb133",
   "metadata": {},
   "outputs": [
    {
     "name": "stdout",
     "output_type": "stream",
     "text": [
      "[11. 12.]\n",
      "[11. 12.]\n",
      "1729541731600\n",
      "1729541731600\n"
     ]
    }
   ],
   "source": [
    "# 1. using \"=\"\n",
    "\n",
    "arr4 = arr2\n",
    "print(arr4)\n",
    "print(arr2)\n",
    "\n",
    "print(id(arr4))\n",
    "print(id(arr2)) # same id\n",
    "\n",
    "# both of this have same address. that is both are pointing to the same array. \n",
    "# it is like creating an alis.\n",
    "# in python objects are alloted a particular id any variable refering to that object will show that id."
   ]
  },
  {
   "cell_type": "code",
   "execution_count": 22,
   "id": "72927e83",
   "metadata": {},
   "outputs": [
    {
     "name": "stdout",
     "output_type": "stream",
     "text": [
      "1729541732464\n",
      "1729541731600\n",
      "[67. 12.] [67. 12.]\n"
     ]
    }
   ],
   "source": [
    "# 2. using view (shallow copy)\n",
    "\n",
    "# what if we want to create a new array at a different address?\n",
    "arr5 = arr2.view()\n",
    "print(id(arr5))\n",
    "print(id(arr2)) # different id\n",
    "\n",
    "# shallow copy -- it means that it will copy the array and both the arrays are still dependent on eachother.\n",
    "arr2[0] = 67\n",
    "print(arr5,arr2) # the value is changed for both \n"
   ]
  },
  {
   "cell_type": "code",
   "execution_count": 23,
   "id": "7a9c6615",
   "metadata": {},
   "outputs": [
    {
     "name": "stdout",
     "output_type": "stream",
     "text": [
      "[67. 12.] [67. 12.]\n",
      "1729295330800\n",
      "1729541731600\n",
      "[23. 12.] [67. 12.]\n"
     ]
    }
   ],
   "source": [
    "# 3. using copy (deep copy)\n",
    "\n",
    "# deep copy -- change in one array does not effect the other.\n",
    "arr6 = arr2.copy()\n",
    "print(arr6,arr2)\n",
    "\n",
    "print(id(arr6))\n",
    "print(id(arr2))\n",
    "\n",
    "arr6[0] = 23\n",
    "print(arr6,arr2)\n"
   ]
  },
  {
   "attachments": {},
   "cell_type": "markdown",
   "id": "fad95792",
   "metadata": {},
   "source": [
    "Converting 1D array into 2D array and vise-a-versa\n"
   ]
  },
  {
   "cell_type": "code",
   "execution_count": null,
   "id": "85980393",
   "metadata": {},
   "outputs": [],
   "source": [
    "\n",
    "arr1 = array([\n",
    "                [1,2,3],\n",
    "                [4,5,6]               \n",
    "            ])\n",
    "\n",
    "print(arr1)\n",
    "print(arr1.dtype) # shows the datatype of array\n",
    "print(arr1.ndim)  # it provides dimensions\n",
    "print(arr1.shape) # (rows,colums)\n",
    "print(arr1.size)  # memory taken\n"
   ]
  },
  {
   "cell_type": "code",
   "execution_count": null,
   "id": "492645fd",
   "metadata": {},
   "outputs": [],
   "source": [
    "# 1. convert 2D array into 1D array.\n",
    "\n",
    "arr2 = arr1.flatten()\n",
    "print(arr2)\n"
   ]
  },
  {
   "cell_type": "code",
   "execution_count": null,
   "id": "fb8e9e91",
   "metadata": {},
   "outputs": [],
   "source": [
    "# 2. convert 1D array into 2D.\n",
    "\n",
    "arr3 = arr2.reshape(3,2) # specify (rows,columns)\n",
    "print(arr3)\n"
   ]
  },
  {
   "cell_type": "code",
   "execution_count": null,
   "id": "f26e41aa",
   "metadata": {},
   "outputs": [],
   "source": [
    "# 3. convert 2D array into 3D. \n",
    "\n",
    "arr4 = array([\n",
    "                [1,2,3,6,2,9],\n",
    "                [4,5,6,7,5,3]               \n",
    "            ])\n",
    "arr5 = arr4.flatten() # first converted into 1D array\n",
    "print(arr5)\n",
    "\n",
    "print('----------------')\n",
    "arr6 = arr5.reshape(2,2,3) # this creates a 3D array.this 3D array will have 2 2D arrays that will be printed.\n",
    "print(arr6)\n",
    "print('----------------')\n"
   ]
  },
  {
   "attachments": {},
   "cell_type": "markdown",
   "id": "fcb68c58",
   "metadata": {},
   "source": [
    "Matrices\n"
   ]
  },
  {
   "cell_type": "code",
   "execution_count": null,
   "id": "66f12708",
   "metadata": {},
   "outputs": [],
   "source": [
    "\n",
    "arr1 = array([\n",
    "                [1,2,3],\n",
    "                [4,5,6]               \n",
    "            ])\n",
    "print(arr1)\n",
    "\n",
    "print()\n",
    "m1 = matrix(arr1)\n",
    "print(m1) # the output looks similar.but with this we can perform more operations.\n",
    "\n",
    "print()\n",
    "m2 = matrix('1 2 3 ; 4 5 6 ; 7 8 9')\n",
    "m3 = matrix('1 2 3 ; 4 5 6 ; 7 8 9')\n",
    "print(m2)\n",
    "\n",
    "print()\n",
    "print(diagonal(m2)) # it gives the diagonal elements\n",
    "\n",
    "print()\n",
    "print(m2.max())\n",
    "\n",
    "print()\n",
    "m4 = m3 + m2\n",
    "print(m4)\n",
    "\n",
    "print()\n",
    "print(m3*m2) # this is done automatically in python(following the rules of matrix multiplication)\n",
    "# try doing it manually"
   ]
  },
  {
   "cell_type": "code",
   "execution_count": null,
   "id": "350d882d",
   "metadata": {},
   "outputs": [],
   "source": [
    "# Array Methods\n",
    "\n",
    "\n",
    "# append()\tAdds an element at the end of the list\n",
    "\n",
    "# clear()\tRemoves all the elements from the list\n",
    "\n",
    "# copy()\tReturns a copy of the list\n",
    "\n",
    "# count()\tReturns the number of elements with the specified value\n",
    "\n",
    "# extend()\tAdd the elements of a list (or any iterable), to the end of the current list\n",
    "\n",
    "# index()\tReturns the index of the first element with the specified value\n",
    "\n",
    "# insert()\tAdds an element at the specified position\n",
    "\n",
    "# pop()\tRemoves the element at the specified position\n",
    "\n",
    "# remove()\tRemoves the first item with the specified value\n",
    "\n",
    "# reverse()\tReverses the order of the list\n",
    "\n",
    "# sort()\tSorts the list\n"
   ]
  },
  {
   "cell_type": "code",
   "execution_count": null,
   "id": "a8d6cfef",
   "metadata": {},
   "outputs": [],
   "source": []
  }
 ],
 "metadata": {
  "kernelspec": {
   "display_name": "Python 3 (ipykernel)",
   "language": "python",
   "name": "python3"
  },
  "language_info": {
   "codemirror_mode": {
    "name": "ipython",
    "version": 3
   },
   "file_extension": ".py",
   "mimetype": "text/x-python",
   "name": "python",
   "nbconvert_exporter": "python",
   "pygments_lexer": "ipython3",
   "version": "3.11.3"
  }
 },
 "nbformat": 4,
 "nbformat_minor": 5
}

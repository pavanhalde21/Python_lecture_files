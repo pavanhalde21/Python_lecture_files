{
 "cells": [
  {
   "cell_type": "code",
   "execution_count": null,
   "id": "9df22347",
   "metadata": {},
   "outputs": [],
   "source": [
    "# Here are some commonly used dunder methods in Python:\n",
    "\n",
    "# __init__(self[, args...]):----Constructor method that initializes a newly created object.\n",
    "# __str__(self):----------------Method that returns the string representation of an object.\n",
    "# __repr__(self):---------------Method that returns a string that can be used to recreate the object.\n",
    "# __len__(self):----------------Method that returns the length of an object.\n",
    "# __add__(self, other):---------Method that defines behavior for the + operator between two objects.\n",
    "# __eq__(self, other):----------Method that defines behavior for the == operator between two objects.\n",
    "# __lt__(self, other):----------Method that defines behavior for the < operator between two objects.\n",
    "# __gt__(self, other):----------Method that defines behavior for the > operator between two objects.\n",
    "# __del__(self):----------------Destructor method that frees the memory space occupied by an object."
   ]
  },
  {
   "cell_type": "code",
   "execution_count": null,
   "id": "2d35e943",
   "metadata": {},
   "outputs": [],
   "source": [
    "# 1. __init__ : This method is called when an object is created and initialized with some values.\n",
    "                # It is used to initialize the object's attributes. \n"
   ]
  },
  {
   "cell_type": "code",
   "execution_count": null,
   "id": "33394944",
   "metadata": {},
   "outputs": [],
   "source": [
    "class Person:\n",
    "    def __init__(self, name, age):\n",
    "        self.name = name\n",
    "        self.age = age\n",
    "\n",
    "person1 = Person('John', 25)\n",
    "print(person1.name)  # Output: 'John'\n"
   ]
  },
  {
   "cell_type": "code",
   "execution_count": null,
   "id": "791daa38",
   "metadata": {},
   "outputs": [],
   "source": [
    "# 2. __str__ : This method is used to define a string representation of an object.\n",
    "            # It is called when the str() function is used on the object or when the object is printed"
   ]
  },
  {
   "cell_type": "code",
   "execution_count": null,
   "id": "d556125e",
   "metadata": {},
   "outputs": [],
   "source": [
    "class Person:\n",
    "    def __init__(self, name, age):\n",
    "        self.name = name\n",
    "        self.age = age\n",
    "\n",
    "    def __str__(self):\n",
    "        return f\"{self.name}, {self.age}\"\n",
    "\n",
    "person1 = Person('John', 25)\n",
    "print(str(person1))\n"
   ]
  },
  {
   "cell_type": "code",
   "execution_count": null,
   "id": "3535653d",
   "metadata": {},
   "outputs": [],
   "source": [
    "# 3. __eq__ : This method is used to compare two objects for equality.\n",
    "            # It is called when the == operator is used to compare two objects"
   ]
  },
  {
   "cell_type": "code",
   "execution_count": null,
   "id": "64569883",
   "metadata": {},
   "outputs": [],
   "source": [
    "class Person:\n",
    "    def __init__(self, name, age):\n",
    "        self.name = name\n",
    "        self.age = age\n",
    "\n",
    "    def __eq__(self, other):\n",
    "        if isinstance(other, Person):\n",
    "            return self.name == other.name and self.age == other.age  #here we are checking the object1 and object 2\n",
    "        return False\n",
    "\n",
    "person1 = Person('John', 25)  # first object\n",
    "person2 = Person('John', 25)  # second object\n",
    "print(person1 == person2)     # by doing so here we are able to compare two objects    \n"
   ]
  },
  {
   "cell_type": "code",
   "execution_count": null,
   "id": "9c84c65c",
   "metadata": {},
   "outputs": [],
   "source": [
    "# 4 __lt__ and __gt__ : These methods are used to compare two objects for less than and greater than, respectively.\n",
    "                        # They are called when the < and > operators are used to compare two objects"
   ]
  },
  {
   "cell_type": "code",
   "execution_count": null,
   "id": "38f8e7d0",
   "metadata": {},
   "outputs": [],
   "source": [
    "class Person:\n",
    "    def __init__(self, name, age):\n",
    "        self.name = name\n",
    "        self.age = age\n",
    "\n",
    "    def __lt__(self, other):\n",
    "        return self.age < other.age\n",
    "\n",
    "    def __gt__(self, other):\n",
    "        return self.age > other.age\n",
    "\n",
    "person1 = Person('John', 25)\n",
    "person2 = Person('Alice', 30)\n",
    "print(person1 < person2)  \n",
    "print(person1 > person2)  \n"
   ]
  },
  {
   "cell_type": "code",
   "execution_count": null,
   "id": "bc891680",
   "metadata": {},
   "outputs": [],
   "source": [
    "# 5. __len__ : This method is used to define the length of an object. \n",
    "            # It is called when the len() function is used on the object"
   ]
  },
  {
   "cell_type": "code",
   "execution_count": null,
   "id": "0e992d6d",
   "metadata": {},
   "outputs": [],
   "source": [
    "class MyList:\n",
    "    def __init__(self, items):\n",
    "        self.items = items\n",
    "\n",
    "    def __len__(self):\n",
    "        return len(self.items)\n",
    "\n",
    "my_list = MyList([1, 2, 3, 4])\n",
    "print(len(my_list))  \n"
   ]
  },
  {
   "cell_type": "code",
   "execution_count": null,
   "id": "b1fdc196",
   "metadata": {},
   "outputs": [],
   "source": [
    "# 6.__repr__ : returns a string representation of an object that can be used to recreate the object.\n",
    "                # It's typically used for debugging purposes or when you need a human-readable representation of an object"
   ]
  },
  {
   "cell_type": "code",
   "execution_count": null,
   "id": "659f909a",
   "metadata": {},
   "outputs": [],
   "source": [
    "class Point:\n",
    "    def __init__(self, x, y):\n",
    "        self.x = x\n",
    "        self.y = y\n",
    "\n",
    "    def __repr__(self):\n",
    "        return f\"Point({self.x}, {self.y})\"\n",
    "\n",
    "p1 = Point(5, 10)\n",
    "print(repr(p1))  \n"
   ]
  },
  {
   "cell_type": "code",
   "execution_count": null,
   "id": "6c1ecbd2",
   "metadata": {},
   "outputs": [],
   "source": []
  }
 ],
 "metadata": {
  "kernelspec": {
   "display_name": "Python 3 (ipykernel)",
   "language": "python",
   "name": "python3"
  },
  "language_info": {
   "codemirror_mode": {
    "name": "ipython",
    "version": 3
   },
   "file_extension": ".py",
   "mimetype": "text/x-python",
   "name": "python",
   "nbconvert_exporter": "python",
   "pygments_lexer": "ipython3",
   "version": "3.11.3"
  }
 },
 "nbformat": 4,
 "nbformat_minor": 5
}

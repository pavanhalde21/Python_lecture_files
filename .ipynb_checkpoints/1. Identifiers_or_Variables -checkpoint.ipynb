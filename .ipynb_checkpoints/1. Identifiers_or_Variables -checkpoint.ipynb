{
 "cells": [
  {
   "attachments": {},
   "cell_type": "markdown",
   "id": "468250c0",
   "metadata": {},
   "source": [
    "# Identifiers / Variables \n"
   ]
  },
  {
   "cell_type": "code",
   "execution_count": null,
   "id": "40beeb3c",
   "metadata": {},
   "outputs": [],
   "source": [
    "# Pyhton identifires/variables is a symbolic name refering to an object.\n",
    "# or simply name in python program.\n",
    "# It can be class name or function name or module name or variable name."
   ]
  },
  {
   "cell_type": "code",
   "execution_count": null,
   "id": "deb5d7bb",
   "metadata": {},
   "outputs": [],
   "source": [
    "# correct ways to define an identifier\n",
    "\n",
    "name = 10\n",
    "_name = 10\n",
    "name123 = 10\n",
    "_na_me = 10\n",
    "na3me = 10\n",
    "FIRST_NAME = 10\n"
   ]
  },
  {
   "cell_type": "code",
   "execution_count": null,
   "id": "5919a616",
   "metadata": {},
   "outputs": [],
   "source": [
    "# incorrect ways to define an identifier\n",
    "\n",
    "1name = 10\n",
    "@name = 10\n",
    "na$me =10\n",
    "if = 10"
   ]
  },
  {
   "cell_type": "code",
   "execution_count": null,
   "id": "aee87e68",
   "metadata": {},
   "outputs": [],
   "source": [
    "# 1. If identifier starts with _ symbol then it indicates that it is private\n",
    "\n",
    "# 2. If identifier starts with __(two under score symbols) indicating that strongly private\n",
    "# identifier.\n",
    "\n",
    "# 3.If the identifier starts and ends with two underscore symbols then the identifier is \n",
    "# language defined special name,which is also known as magic methods.\n",
    "\n",
    "# Eg: __add__\n"
   ]
  },
  {
   "cell_type": "code",
   "execution_count": null,
   "id": "a5cbea15",
   "metadata": {},
   "outputs": [],
   "source": [
    "# 1. Alphabet Symbols (Either Upper case OR Lower case)\n",
    "\n",
    "# 2. If Identifier is start with Underscore (_) then it indicates it is private.\n",
    "\n",
    "# 3. Identifier should not start with Digits.\n",
    "\n",
    "# 4. Identifiers are case sensitive.\n",
    "\n",
    "# 5. We cannot use reserved words as identifiers\n",
    "#  Eg: def=10  is not correct\n",
    "\n",
    "# 6. There is no length limit for Python identifiers. But not recommended to use too lengthy \n",
    "# identifiers.\n",
    "\n",
    "# 7. Dollor ($) Symbol is not allowed in Python. ex: @, #, !, %, &"
   ]
  },
  {
   "cell_type": "code",
   "execution_count": null,
   "id": "42910034",
   "metadata": {},
   "outputs": [],
   "source": [
    "a = \"Rohit\"\n",
    "\n",
    "print(a) "
   ]
  },
  {
   "cell_type": "code",
   "execution_count": null,
   "id": "693c3dab",
   "metadata": {},
   "outputs": [],
   "source": [
    "first_name = 'John'\n",
    "abc = 'John'\n",
    "\n",
    "print(first_name)\n",
    "print(id(first_name))\n",
    "\n",
    "print(abc)\n",
    "print(id(abc))\n",
    "\n",
    "# we can see that both the identifiers give the same id. because, an id is assigned to an object "
   ]
  }
 ],
 "metadata": {
  "kernelspec": {
   "display_name": "Python 3 (ipykernel)",
   "language": "python",
   "name": "python3"
  },
  "language_info": {
   "codemirror_mode": {
    "name": "ipython",
    "version": 3
   },
   "file_extension": ".py",
   "mimetype": "text/x-python",
   "name": "python",
   "nbconvert_exporter": "python",
   "pygments_lexer": "ipython3",
   "version": "3.11.3"
  }
 },
 "nbformat": 4,
 "nbformat_minor": 5
}

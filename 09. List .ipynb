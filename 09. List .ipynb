{
 "cells": [
  {
   "attachments": {},
   "cell_type": "markdown",
   "id": "dd07d7ef",
   "metadata": {},
   "source": [
    "# List Data Type"
   ]
  },
  {
   "cell_type": "code",
   "execution_count": null,
   "id": "c3e0dd31",
   "metadata": {},
   "outputs": [],
   "source": [
    "\n",
    "# List : If we want to represent a group of individual objects as a single entity \n",
    "      # where insertion order preserved and duplicates are allowed, then we should go for List\n",
    "    \n",
    "# -- mutable (i.e -- you can insert,update and delete the element of list) \n",
    "# -- orderd collection data type\n",
    "# -- indexing can be done\n"
   ]
  },
  {
   "cell_type": "code",
   "execution_count": null,
   "id": "8893fbbd",
   "metadata": {},
   "outputs": [],
   "source": [
    "# create empty list\n",
    "\n",
    "my_list = []\n",
    "print(type(my_list))\n",
    "\n",
    "\n",
    "# this can also be used to create an empty  list\n",
    "\n",
    "my_list1 = list()\n",
    "print(type(my_list1))"
   ]
  },
  {
   "cell_type": "code",
   "execution_count": null,
   "id": "43f3ab6c",
   "metadata": {},
   "outputs": [],
   "source": [
    "# list can contain different datatype\n",
    "\n",
    "my_list = [1, 2, 3, 'four', 'five', 6.1, 3+4j, True, None]\n",
    "\n",
    "print(my_list)"
   ]
  },
  {
   "cell_type": "code",
   "execution_count": null,
   "id": "ee5736d2",
   "metadata": {},
   "outputs": [],
   "source": [
    "# indexing\n",
    "\n",
    "list1 = [10,20,30,40,50]\n",
    "\n",
    "print(list1[0])\n",
    "print(list1[2])\n",
    "print(list1[-1])\n",
    "print(list1[-2])"
   ]
  },
  {
   "cell_type": "code",
   "execution_count": 10,
   "id": "444cc364",
   "metadata": {},
   "outputs": [
    {
     "name": "stdout",
     "output_type": "stream",
     "text": [
      "[100, 200, 300]\n",
      "[100, 200, 300, 400, 500, 600, 700, 800, 900, 1000]\n",
      "[100, 200, 300, 400, 500, 600, 700, 800]\n",
      "[1000, 900, 800, 700, 600, 500, 400, 300, 200, 100]\n"
     ]
    }
   ],
   "source": [
    "# slicing \n",
    "\n",
    "a = [100,200,300,400,500,600,700,800,900,1000]\n",
    "\n",
    "\n",
    "print(a[0:3])\n",
    "print(a[0:])\n",
    "print(a[:-2])\n",
    "print(a[::-1]) #reversed (two colons used to print it in reversed order)\n"
   ]
  },
  {
   "cell_type": "code",
   "execution_count": 11,
   "id": "64268221",
   "metadata": {},
   "outputs": [
    {
     "name": "stdout",
     "output_type": "stream",
     "text": [
      "1 2 3\n",
      "<class 'list'>\n"
     ]
    }
   ],
   "source": [
    "# unpacking\n",
    "\n",
    "my_list = [1, 2, 3]\n",
    "a, b, c = my_list\n",
    "print(a,b,c)\n",
    "print(type(my_list))"
   ]
  },
  {
   "cell_type": "code",
   "execution_count": 12,
   "id": "ef500f12",
   "metadata": {},
   "outputs": [
    {
     "name": "stdout",
     "output_type": "stream",
     "text": [
      "[1, 2, 3]\n"
     ]
    }
   ],
   "source": [
    "# list With dynamic input:\n",
    "\n",
    "lst = eval(input(\"Enter List:\"))\n",
    "print(lst)"
   ]
  },
  {
   "cell_type": "code",
   "execution_count": 13,
   "id": "79d9bf0a",
   "metadata": {},
   "outputs": [
    {
     "name": "stdout",
     "output_type": "stream",
     "text": [
      "[0, 2, 4, 6, 8]\n"
     ]
    }
   ],
   "source": [
    "l=list(range(0,10,2))\n",
    "print(l)"
   ]
  },
  {
   "attachments": {},
   "cell_type": "markdown",
   "id": "6e5b89d4",
   "metadata": {},
   "source": [
    "# List Methods"
   ]
  },
  {
   "cell_type": "code",
   "execution_count": 1,
   "id": "27361f33",
   "metadata": {},
   "outputs": [
    {
     "name": "stdout",
     "output_type": "stream",
     "text": [
      "[1, 2, 3, 4]\n",
      "['a', 'b', 'c', 'd']\n",
      "[1, 4, 6, 9]\n",
      "4\n"
     ]
    }
   ],
   "source": [
    "# 1. append() - Adds an element to the end of the list. (single value/element)\n",
    "\n",
    "my_list = [1, 2, 3]\n",
    "my_list.append(4)\n",
    "print(my_list) \n",
    "\n",
    "# append is very helpfull while filtering the data from list\n",
    "\n",
    "list2 = ['a',1,'b','c','d',4,6,9]\n",
    "\n",
    "integer = []\n",
    "strings = []\n",
    "count = 0\n",
    "\n",
    "for i in list2:\n",
    "    if i == str(i):\n",
    "        strings.append(i)\n",
    "        count+=1\n",
    "    else:\n",
    "        integer.append(i)\n",
    "        \n",
    "print(strings)\n",
    "print(integer)\n",
    "print(count)"
   ]
  },
  {
   "cell_type": "code",
   "execution_count": 4,
   "id": "e8ebcade",
   "metadata": {},
   "outputs": [
    {
     "name": "stdout",
     "output_type": "stream",
     "text": [
      "[1, 2, 3, 7, 5, 6, 10, 20, 30, 10, [4], 'I', ' ', '3', '4', ' ', '7', '7', '8', ' ', '@', '#', ' ', 'n', 'd', 'i', 'a']\n"
     ]
    }
   ],
   "source": [
    "# 2. extend() - Adds elements from an iterable(list, tuple, set, string) to the end of the list. (multiple elements)\n",
    "\n",
    "my_list = [1, 2, 3]\n",
    "my_list.extend([7, 5, 6])\n",
    "\n",
    "my_list.extend((10,20,30))\n",
    "\n",
    "\n",
    "my_list.extend([10])   # can add single element(don't forgrt to use [])\n",
    "\n",
    "my_list.append([4]) # see this in output\n",
    "\n",
    "my_list.extend('I 34 778 @# ndia')  # what will be the out?\n",
    "\n",
    "print(my_list) # Output: [1, 2, 3, 4, 5, 6]\n"
   ]
  },
  {
   "cell_type": "code",
   "execution_count": 4,
   "id": "63f1de55",
   "metadata": {},
   "outputs": [
    {
     "name": "stdout",
     "output_type": "stream",
     "text": [
      "[4, 1, 2, 3]\n",
      "[4, [10, 20, 30], 1, 2, 3]\n"
     ]
    }
   ],
   "source": [
    "# 3. insert() - Adds an element at the specified index (index, element)\n",
    "\n",
    "my_list = [1, 2, 3]\n",
    "my_list.insert(0, 4)\n",
    "print(my_list) \n",
    "\n",
    "my_list.insert(1,[10,20,30]) # nested list\n",
    "print(my_list)\n"
   ]
  },
  {
   "cell_type": "code",
   "execution_count": 3,
   "id": "574dcefa",
   "metadata": {},
   "outputs": [
    {
     "name": "stdout",
     "output_type": "stream",
     "text": [
      "[1, 2, 3, 3, 4]\n"
     ]
    }
   ],
   "source": [
    "# 4. remove() - Removes the first occurrence of the specified element.\n",
    "\n",
    "my_list = [1, 3, 2, 3, 3, 4]\n",
    "my_list.remove(3)\n",
    "print(my_list)"
   ]
  },
  {
   "cell_type": "code",
   "execution_count": 1,
   "id": "4823f958",
   "metadata": {},
   "outputs": [
    {
     "name": "stdout",
     "output_type": "stream",
     "text": [
      "[1, 2, 3]\n",
      "4\n"
     ]
    }
   ],
   "source": [
    "# 5. pop() - Removes and returns the element at the specified index\n",
    "\n",
    "my_list = [1, 2, 3, 4]\n",
    "popped = my_list.pop(3)\n",
    "print(my_list) \n",
    "print(popped) \n"
   ]
  },
  {
   "cell_type": "code",
   "execution_count": 9,
   "id": "5ddc5c4a",
   "metadata": {},
   "outputs": [
    {
     "name": "stdout",
     "output_type": "stream",
     "text": [
      "3\n"
     ]
    }
   ],
   "source": [
    "# 6. index() - Returns the index of the first occurrence of the specified element.\n",
    "\n",
    "my_list = [1, 2, 3, 4, 2]\n",
    "print(my_list.index(4))\n"
   ]
  },
  {
   "cell_type": "code",
   "execution_count": 14,
   "id": "60e6aa6a",
   "metadata": {},
   "outputs": [
    {
     "name": "stdout",
     "output_type": "stream",
     "text": [
      "3\n"
     ]
    }
   ],
   "source": [
    "# 7. count() - Returns the number of occurrences of the specified element.\n",
    "\n",
    "my_list = [1, 2, 3, 4, 2,2]\n",
    "print(my_list.count(2)) # Output: 3\n"
   ]
  },
  {
   "cell_type": "code",
   "execution_count": 1,
   "id": "29ea87f1",
   "metadata": {},
   "outputs": [
    {
     "name": "stdout",
     "output_type": "stream",
     "text": [
      "[1, 1, 2, 3, 3, 4, 5, 5, 5, 6, 9]\n"
     ]
    }
   ],
   "source": [
    "# 8. sort() - Sorts the list.\n",
    "\n",
    "my_list = [3, 1, 4, 1, 5, 9, 2, 6, 5, 3, 5]\n",
    "my_list.sort()\n",
    "print(my_list) \n"
   ]
  },
  {
   "cell_type": "code",
   "execution_count": 15,
   "id": "b52f7831",
   "metadata": {},
   "outputs": [
    {
     "name": "stdout",
     "output_type": "stream",
     "text": [
      "['C', 'C++', 'Java', 'JavaScript', 'PHP', 'Python']\n"
     ]
    }
   ],
   "source": [
    "languages = ['Python', 'Java', 'JavaScript', 'C', 'C++', 'PHP']\n",
    "languages.sort()\n",
    "print(languages)"
   ]
  },
  {
   "cell_type": "code",
   "execution_count": 7,
   "id": "6a4f8198",
   "metadata": {},
   "outputs": [
    {
     "name": "stdout",
     "output_type": "stream",
     "text": [
      "1764975251072\n",
      "[5, 3, 5, 6, 2, 9, 5, 1, 4, 1, 3]\n",
      "1764975251072\n"
     ]
    }
   ],
   "source": [
    "# 9. reverse() - Reverses the order of the list.\n",
    "\n",
    "my_list = [3, 1, 4, 1, 5, 9, 2, 6, 5, 3, 5]\n",
    "print(id(my_list))\n",
    "my_list.reverse()\n",
    "print(my_list) \n",
    "print(id(my_list))"
   ]
  },
  {
   "cell_type": "code",
   "execution_count": 17,
   "id": "915bde5a",
   "metadata": {},
   "outputs": [
    {
     "name": "stdout",
     "output_type": "stream",
     "text": [
      "['PHP', 'C++', 'C', 'JavaScript', 'Java', 'Python']\n"
     ]
    }
   ],
   "source": [
    "languages = ['Python', 'Java', 'JavaScript', 'C', 'C++', 'PHP']\n",
    "languages.reverse()\n",
    "print(languages)"
   ]
  },
  {
   "cell_type": "code",
   "execution_count": 19,
   "id": "75914cf0",
   "metadata": {},
   "outputs": [
    {
     "name": "stdout",
     "output_type": "stream",
     "text": [
      "[1, 2, 3]\n",
      "1764975034304\n",
      "1764976382400\n"
     ]
    }
   ],
   "source": [
    "# 10. copy() - Returns a copy of the list\n",
    "\n",
    "my_list = [1, 2, 3]\n",
    "my_copy = my_list.copy()\n",
    "print(my_copy) \n",
    "\n",
    "print(id(my_list))\n",
    "print(id(my_copy))\n",
    "\n",
    "# see that both have same id as both are refering to same object.\n"
   ]
  },
  {
   "cell_type": "code",
   "execution_count": 20,
   "id": "a51974cb",
   "metadata": {},
   "outputs": [
    {
     "name": "stdout",
     "output_type": "stream",
     "text": [
      "[]\n"
     ]
    }
   ],
   "source": [
    "# 11. clear() - Removes all elements from the list.\n",
    "\n",
    "my_list = [1, 2, 3]\n",
    "my_list.clear()\n",
    "print(my_list) \n"
   ]
  },
  {
   "cell_type": "code",
   "execution_count": 21,
   "id": "fe4024e5",
   "metadata": {},
   "outputs": [
    {
     "name": "stdout",
     "output_type": "stream",
     "text": [
      "sum 6\n",
      "sorted_list [1, 1, 2, 3, 3, 4, 5, 5, 5, 6, 9]\n",
      "sort_list [1, 1, 2, 3, 3, 4, 5, 5, 5, 6, 9]\n",
      "my_slice [2, 3]\n",
      "<list_reverseiterator object at 0x0000019AF0CA23B0>\n",
      "<class 'list_reverseiterator'>\n",
      "[5, 4, 3, 2, 1]\n",
      "<class 'list'>\n"
     ]
    }
   ],
   "source": [
    "# 12. len() - Returns the number of elements in the list\n",
    "# 13. max() - Returns the largest element in the list.\n",
    "# 14. min() - Returns the smallest element in the list.\n",
    "# 15. sum() - Returns the sum of all elements in the list\n",
    "my_list = [1, 2, 3]\n",
    "print('sum',sum(my_list))\n",
    "\n",
    "# 16.sorted() - Returns a sorted list (does not modify the original list) (sort() is used to modify the list).\n",
    "\n",
    "my_list = [3, 1, 4, 1, 5, 9, 2, 6, 5, 3, 5]\n",
    "sorted_list = sorted(my_list)\n",
    "print('sorted_list',sorted_list) \n",
    "\n",
    "my_list.sort()\n",
    "print('sort_list',my_list)\n",
    "\n",
    "# 17. slice() - Returns a slice of the list\n",
    "\n",
    "my_list = [1, 2, 3, 4, 5]\n",
    "my_slice = my_list[1:3] # from 1 upto but not including 3.\n",
    "print('my_slice',my_slice) \n",
    "\n",
    "# 18. reversed() - Returns a reversed iterator of the list (does not modify the original list).\n",
    "my_list = [1, 2, 3, 4, 5]\n",
    "reversed_list = reversed(my_list) \n",
    "print(reversed_list) \n",
    "print(type(reversed_list)) ## list reverseiterator\n",
    "\n",
    "reversed_list = list(reversed(my_list)) ##has to be made into list\n",
    "print(reversed_list) \n",
    "print(type(reversed_list)) # list\n",
    "\n"
   ]
  },
  {
   "cell_type": "code",
   "execution_count": 23,
   "id": "11a37d27",
   "metadata": {},
   "outputs": [
    {
     "name": "stdout",
     "output_type": "stream",
     "text": [
      "False\n",
      "True\n",
      "False\n",
      "True\n",
      "sdad True\n",
      "sdad True\n",
      "fdf True\n",
      "fdf False\n",
      "\n",
      "True\n",
      "False\n",
      "False\n",
      "False\n"
     ]
    }
   ],
   "source": [
    "# 19. any() - Returns True if any element in the list is True, otherwise False\n",
    "\n",
    "# 0 --> False\n",
    "# anyting --> True\n",
    "# None --> None is none. it is not anything.\n",
    "\n",
    "my_list = [None, 0, 0]\n",
    "print(any(my_list))  # False\n",
    "\n",
    "list4 = [0,0,1]\n",
    "print(any(list4))  # True\n",
    "\n",
    "list5 = []\n",
    "print(any(list5))  # False\n",
    "\n",
    "l = [False, False, True, False, False]\n",
    "print(any(l))\n",
    "\n",
    "l2 = [5,6,4,5]\n",
    "print('sdad', any(l2)) # True\n",
    "print('sdad', all(l2)) # True\n",
    "\n",
    "l3 = [56,5,8,9,3,0]\n",
    "print('fdf', any(l3))  # True\n",
    "print('fdf', all(l3))  # False (here one zero so) \n",
    "\n",
    "\n",
    "print()\n",
    "\n",
    "\n",
    "# 20. all() - Returns True if all elements in the list are True, otherwise False\n",
    "list6 = [True, True, True]\n",
    "print(all(list6)) # True\n",
    "\n",
    "list7 = [False, False, False]\n",
    "print(all(list7)) # False\n",
    "\n",
    "list8 = [0,0,0,0,0,0]\n",
    "print(all(list8)) # False\n",
    "\n",
    "list8 = [0,0,0,0,0,1]\n",
    "print(all(list8)) # False\n"
   ]
  },
  {
   "cell_type": "code",
   "execution_count": null,
   "id": "e315869c",
   "metadata": {},
   "outputs": [],
   "source": [
    "# For non-boolean types behaviour:\n",
    "\n",
    "# -- 0 means False\n",
    "# -- non-zero means True\n",
    "# -- empty string is always treated as False"
   ]
  },
  {
   "cell_type": "code",
   "execution_count": null,
   "id": "cf1388f4",
   "metadata": {},
   "outputs": [],
   "source": [
    "# pip install numpy"
   ]
  },
  {
   "cell_type": "code",
   "execution_count": 24,
   "id": "f84ade9a",
   "metadata": {},
   "outputs": [
    {
     "name": "stdout",
     "output_type": "stream",
     "text": [
      "True\n",
      "False\n"
     ]
    }
   ],
   "source": [
    "# any(), all() can be useful when used with logical operations\n",
    "\n",
    "import numpy as np\n",
    "\n",
    "power_level_list = np.array([1000, 4000, 150, 9001, 1500])\n",
    "\n",
    "print(any(power_level_list > 9000))\n",
    "\n",
    "print(any(power_level_list > 50000))"
   ]
  },
  {
   "cell_type": "code",
   "execution_count": 26,
   "metadata": {},
   "outputs": [
    {
     "name": "stdout",
     "output_type": "stream",
     "text": [
      "True\n",
      "False\n"
     ]
    }
   ],
   "source": [
    "import numpy as np\n",
    "\n",
    "power_level_list = np.array([10000, 40000, 150000, 9001, 15000])\n",
    "\n",
    "print(all(power_level_list > 9000))\n",
    "\n",
    "print(all(power_level_list > 50000))"
   ]
  },
  {
   "cell_type": "code",
   "execution_count": null,
   "metadata": {},
   "outputs": [],
   "source": [
    "# Nested List\n",
    "\n",
    "# A nested list in Python is simply a list that contains other lists as its elements\n",
    "\n",
    "nest_list = [[1,2,[10,20,30,\"python\"],3],[10,20,30],[100,200,300],[1000,2000,3000]]\n",
    "\n",
    "nest_list[3][1]=5000\n",
    "\n",
    "nest_list[0][2][3]=\"Java\"\n",
    "\n",
    "print(nest_list)"
   ]
  },
  {
   "cell_type": "code",
   "execution_count": 22,
   "id": "b6910f7e",
   "metadata": {},
   "outputs": [
    {
     "name": "stdout",
     "output_type": "stream",
     "text": [
      "3\n"
     ]
    }
   ],
   "source": [
    "nested_list = [[1,2,[3,4]],[10,20],100,300]\n",
    "\n",
    "print(nested_list[0][2][0])"
   ]
  },
  {
   "cell_type": "code",
   "execution_count": 27,
   "id": "3894fbe0",
   "metadata": {},
   "outputs": [
    {
     "name": "stdout",
     "output_type": "stream",
     "text": [
      "104\n",
      "80\n",
      "<module 'sys' (built-in)>\n"
     ]
    }
   ],
   "source": [
    "# Memory usage\n",
    "\n",
    "import sys\n",
    "\n",
    "my_list = [1, 2, 3, 4, 5]\n",
    "memory_usage = sys.getsizeof(my_list)\n",
    "\n",
    "print(memory_usage)\n",
    "\n",
    "# 1 byte is equal to 8 bits.So in this case, \n",
    "# the list of 5 integers is using 104 bytes of memory, which is equivalent to 832 bits.\n",
    "\n",
    "my_tuple = (1, 2, 3, 4, 5)\n",
    "usage = sys.getsizeof(my_tuple)\n",
    "\n",
    "print(usage)\n",
    "\n",
    "\n",
    "print(sys)\n",
    "\n",
    "# tuples are stored in a single block of memory.\n",
    "# lists are allocated in two blocks: the fixed one with all the python object information and a variable sized block for the data\n"
   ]
  },
  {
   "cell_type": "code",
   "execution_count": 28,
   "id": "132a4c25",
   "metadata": {},
   "outputs": [
    {
     "name": "stdout",
     "output_type": "stream",
     "text": [
      "Alice 25\n",
      "john 30\n",
      "Charlie 35\n"
     ]
    }
   ],
   "source": [
    "# zip()\n",
    "\n",
    "names = ['Alice', 'john', 'Charlie']\n",
    "ages = [25, 30, 35]\n",
    "for name, age in zip(names, ages):\n",
    "    print(name, age)"
   ]
  },
  {
   "cell_type": "code",
   "execution_count": 29,
   "id": "58e8afc2",
   "metadata": {},
   "outputs": [
    {
     "name": "stdout",
     "output_type": "stream",
     "text": [
      "Alice 25 1000\n",
      "john 30 2000\n",
      "Charlie 35 3000\n"
     ]
    }
   ],
   "source": [
    "names = ['Alice', 'john', 'Charlie']\n",
    "ages = [25, 30, 35]\n",
    "salary = [1000,2000,3000]\n",
    "for name, age, sal in zip(names, ages, salary):\n",
    "    print(name, age, sal)"
   ]
  },
  {
   "cell_type": "code",
   "execution_count": 34,
   "id": "ad009656",
   "metadata": {},
   "outputs": [
    {
     "name": "stdout",
     "output_type": "stream",
     "text": [
      "index:- 0 - element:  apple\n",
      "index:- 1 - element:  banana\n",
      "index:- 2 - element:  cherry\n"
     ]
    }
   ],
   "source": [
    "# enumerate()\n",
    "\n",
    "lst = ['apple', 'banana', 'cherry']\n",
    "for i, fruit in enumerate(lst):\n",
    "    print('index:-',i, '-','element: ', fruit)"
   ]
  },
  {
   "cell_type": "code",
   "execution_count": 31,
   "id": "de9b8d99",
   "metadata": {},
   "outputs": [
    {
     "name": "stdout",
     "output_type": "stream",
     "text": [
      "['With', 'three', 'words']\n",
      "['first', 'secong', 'third']\n"
     ]
    }
   ],
   "source": [
    "# string into list\n",
    "\n",
    "abc = 'With three words'\n",
    "stuff = abc.split()\n",
    "print(stuff)\n",
    "\n",
    "\n",
    "line= 'first;secong;third'\n",
    "thing=line.split(';')\n",
    "print(thing)"
   ]
  },
  {
   "cell_type": "code",
   "execution_count": 33,
   "id": "9db2d559",
   "metadata": {},
   "outputs": [
    {
     "name": "stdout",
     "output_type": "stream",
     "text": [
      "[10, 20, 30, 40, 50, 60]\n"
     ]
    }
   ],
   "source": [
    "a=[10,20,30] \n",
    "b=[40,50,60] \n",
    "c=a+b \n",
    "print(c) #==>[10,20,30,40,50,60]"
   ]
  },
  {
   "cell_type": "code",
   "execution_count": 32,
   "id": "7101024a",
   "metadata": {},
   "outputs": [
    {
     "name": "stdout",
     "output_type": "stream",
     "text": [
      "[10, 20, 30, 10, 20, 30, 10, 20, 30]\n"
     ]
    }
   ],
   "source": [
    "x=[10,20,30] \n",
    "y=x*3 \n",
    "print(y)  #==>[10,20,30,10,20,30,10,20,30]"
   ]
  },
  {
   "attachments": {},
   "cell_type": "markdown",
   "id": "cd724247",
   "metadata": {},
   "source": [
    "# List Comprehension"
   ]
  },
  {
   "cell_type": "code",
   "execution_count": null,
   "id": "a6667418",
   "metadata": {},
   "outputs": [],
   "source": [
    "# python list and the list compression feature, \n",
    "# which one can use within a single line of code to construct powerful functionality.\n",
    "\n",
    "## List comprehensions are used for creating new lists from other iterables like tuples, strings, arrays, lists, etc.\n",
    "\n",
    "# newList = [ \"expression(element)\" for \"element\" in oldList/string/tuple/set if \"condition\" ] "
   ]
  },
  {
   "attachments": {},
   "cell_type": "markdown",
   "id": "b5f24dca",
   "metadata": {},
   "source": [
    "![Alt text](list%20comprehension.png)"
   ]
  },
  {
   "cell_type": "code",
   "execution_count": 43,
   "id": "3bf2a44b",
   "metadata": {},
   "outputs": [
    {
     "name": "stdout",
     "output_type": "stream",
     "text": [
      "[]\n",
      "['N', 'E', 'V', 'E', 'R', ' ', 'G', 'I', 'V', 'E', ' ', 'U', 'P', '!']\n"
     ]
    }
   ],
   "source": [
    "# with for loop\n",
    "\n",
    "list1 = []\n",
    "for i in \"NEVER GIVE UP!\":\n",
    "    my_list.append(i)\n",
    "    \n",
    "print(list1)\n",
    "\n",
    "\n",
    "# with list comprehension\n",
    "\n",
    "result = [i for i in  \"NEVER GIVE UP!\"]\n",
    "print(result)\n",
    "\n",
    "\n",
    "# list comprehensions are faster than for loop"
   ]
  },
  {
   "cell_type": "code",
   "execution_count": 1,
   "metadata": {},
   "outputs": [
    {
     "name": "stdout",
     "output_type": "stream",
     "text": [
      "[1, 4, 9, 16, 25, 36, 49]\n"
     ]
    }
   ],
   "source": [
    "result = [i*i for i in  [1,2,3,4,5,6,7]]\n",
    "print(result)"
   ]
  },
  {
   "cell_type": "code",
   "execution_count": 37,
   "id": "5ef4e229",
   "metadata": {},
   "outputs": [
    {
     "name": "stdout",
     "output_type": "stream",
     "text": [
      "['Python', 'Java', 'JavaScript', 'C++', 'PHP']\n",
      "['Python', 'Java', 'JavaScript', 'C++', 'PHP']\n"
     ]
    }
   ],
   "source": [
    "languages = ['Python', 'Java', 'JavaScript', 'C', 'C++', 'PHP']\n",
    "# Using for loop\n",
    "\n",
    "lang_lis = []\n",
    "for i in languages:\n",
    "    if i != 'C':\n",
    "        lang_lis.append(i)\n",
    "\n",
    "print(lang_lis)\n",
    "\n",
    "# Using list comprehension\n",
    "\n",
    "lang_lis = [i for i in languages if i != 'C']\n",
    "print(lang_lis)"
   ]
  },
  {
   "cell_type": "code",
   "execution_count": 38,
   "id": "64dfca3d",
   "metadata": {},
   "outputs": [
    {
     "name": "stdout",
     "output_type": "stream",
     "text": [
      "['N', 'E', 'V', 'E', 'R', ' ', 'G', 'I', 'V', 'E', ' ', 'U', 'P', '!']\n",
      "[0, 2, 4, 6, 8]\n"
     ]
    }
   ],
   "source": [
    "print([i for i in  \"NEVER GIVE UP!\"])\n",
    "\n",
    "print([j for j in range(10) if j%2==0])"
   ]
  },
  {
   "cell_type": "code",
   "execution_count": 39,
   "id": "9154dab4",
   "metadata": {},
   "outputs": [
    {
     "name": "stdout",
     "output_type": "stream",
     "text": [
      "[1, 2]\n"
     ]
    }
   ],
   "source": [
    "print([i for i in  {1,2}])"
   ]
  },
  {
   "cell_type": "code",
   "execution_count": 40,
   "id": "952b92ba",
   "metadata": {},
   "outputs": [
    {
     "name": "stdout",
     "output_type": "stream",
     "text": [
      "[1, 2]\n"
     ]
    }
   ],
   "source": [
    "print([i for i in  {1:\"a\",2:\"s\"}])"
   ]
  },
  {
   "cell_type": "code",
   "execution_count": 1,
   "id": "c92a4aa6",
   "metadata": {},
   "outputs": [
    {
     "name": "stdout",
     "output_type": "stream",
     "text": [
      "['P', 'y', 't', 'h', 'o', 'n']\n",
      "['P', 'y', 't', 'h', 'o', 'n']\n",
      "['P', 'y', 't', 'h', 'o', 'n']\n"
     ]
    }
   ],
   "source": [
    "# Using for loop\n",
    "\n",
    "python = []\n",
    "for i in 'Python':\n",
    "    python.append(i)\n",
    "print(python)\n",
    "\n",
    "\n",
    "# Using list comprehension\n",
    "python = [i for i in 'Python']\n",
    "print(python)\n",
    "\n",
    "\n",
    "# Using lambda function\n",
    "python = list(map(lambda i: i, 'Python'))\n",
    "print(python)"
   ]
  },
  {
   "cell_type": "code",
   "execution_count": 2,
   "id": "1253ebc0",
   "metadata": {},
   "outputs": [
    {
     "name": "stdout",
     "output_type": "stream",
     "text": [
      "[[0, 1, 2, 3, 4], [0, 1, 2, 3, 4], [0, 1, 2, 3, 4], [0, 1, 2, 3, 4], [0, 1, 2, 3, 4]]\n",
      "[[0, 1, 2, 3, 4], [0, 1, 2, 3, 4], [0, 1, 2, 3, 4], [0, 1, 2, 3, 4], [0, 1, 2, 3, 4]]\n"
     ]
    }
   ],
   "source": [
    "# Using nested for loop\n",
    "\n",
    "empty_matrix = []\n",
    "for i in range(5):\n",
    "    empty_matrix.append([])\n",
    "    \n",
    "    for j in range(5):\n",
    "        empty_matrix[i].append(j)\n",
    "print(empty_matrix)\n",
    "\n",
    "\n",
    "# Nested list comprehension\n",
    "matrix = [[j for j in range(5)]  for i in range(5)]\n",
    " \n",
    "print(matrix)"
   ]
  },
  {
   "cell_type": "code",
   "execution_count": 3,
   "id": "62994da6",
   "metadata": {},
   "outputs": [
    {
     "name": "stdout",
     "output_type": "stream",
     "text": [
      "Hello\n",
      "Fun\n",
      "Zip\n",
      "Hello\n",
      "Fun\n"
     ]
    }
   ],
   "source": [
    "def thing():\n",
    "    print('Hello')\n",
    "    print('Fun')\n",
    "thing()\n",
    "print('Zip')\n",
    "thing()\n"
   ]
  },
  {
   "cell_type": "code",
   "execution_count": 4,
   "id": "07b13948",
   "metadata": {},
   "outputs": [
    {
     "name": "stdout",
     "output_type": "stream",
     "text": [
      "['__add__', '__class__', '__class_getitem__', '__contains__', '__delattr__', '__delitem__', '__dir__', '__doc__', '__eq__', '__format__', '__ge__', '__getattribute__', '__getitem__', '__getstate__', '__gt__', '__hash__', '__iadd__', '__imul__', '__init__', '__init_subclass__', '__iter__', '__le__', '__len__', '__lt__', '__mul__', '__ne__', '__new__', '__reduce__', '__reduce_ex__', '__repr__', '__reversed__', '__rmul__', '__setattr__', '__setitem__', '__sizeof__', '__str__', '__subclasshook__', 'append', 'clear', 'copy', 'count', 'extend', 'index', 'insert', 'pop', 'remove', 'reverse', 'sort']\n"
     ]
    }
   ],
   "source": [
    "print(dir(list))"
   ]
  },
  {
   "attachments": {},
   "cell_type": "markdown",
   "id": "6ee28cb6",
   "metadata": {},
   "source": [
    "# Practice"
   ]
  },
  {
   "cell_type": "code",
   "execution_count": 5,
   "id": "28c49282",
   "metadata": {},
   "outputs": [
    {
     "name": "stdout",
     "output_type": "stream",
     "text": [
      "[45, 'Harry', False, 6.9]\n"
     ]
    }
   ],
   "source": [
    "c = [45, \"Harry\", False, 6.9]\n",
    "print(c)"
   ]
  },
  {
   "cell_type": "code",
   "execution_count": 6,
   "id": "9e8a795b",
   "metadata": {},
   "outputs": [
    {
     "name": "stdout",
     "output_type": "stream",
     "text": [
      "65\n",
      "69\n"
     ]
    }
   ],
   "source": [
    "a = [2, 4, 56, 7]\n",
    "\n",
    "print(a[0] + a[2] + a[3])\n",
    "print(sum(a))"
   ]
  },
  {
   "cell_type": "code",
   "execution_count": 4,
   "id": "44cf6046",
   "metadata": {},
   "outputs": [
    {
     "name": "stdout",
     "output_type": "stream",
     "text": [
      "5 17 50\n",
      "[5, 17, 50]\n"
     ]
    }
   ],
   "source": [
    "# Python program to remove multiple elements from a list\n",
    "\n",
    "list1 = [11, 5, 17, 18, 23, 50]\n",
    "\n",
    "unwanted = [0, 3, 4] # given index of elements removes 11, 18, 23\n",
    "\n",
    "for ele in sorted(unwanted, reverse = True): # here not able to use print statement inside the for loop\n",
    "    del list1[ele]\n",
    "# how is the del function managing the issue of index number after deleting an element from a list\n",
    "\n",
    "print (*list1) # see the use of *\n",
    "\n",
    "###\n",
    "lst = [11, 5, 17, 18, 23, 50]\n",
    "lst1 = [11, 5, 17, 18, 23, 50]\n",
    "unwanted = [11, 18, 23]\n",
    "for i in lst1:\n",
    "    if i in unwanted:\n",
    "        lst.remove(i)\n",
    "\n",
    "print(lst)\n"
   ]
  },
  {
   "cell_type": "code",
   "execution_count": null,
   "id": "0a973e52",
   "metadata": {},
   "outputs": [],
   "source": [
    "thislist = [\"apple\", \"banana\", \"cherry\"]\n",
    "del thislist\n",
    "print(thislist)# error as the above line has deleted the entire list"
   ]
  },
  {
   "cell_type": "code",
   "execution_count": 5,
   "id": "c53d23e5",
   "metadata": {},
   "outputs": [
    {
     "name": "stdout",
     "output_type": "stream",
     "text": [
      "[783, 56, 11, 78, 963, 45, 654, 123]\n"
     ]
    }
   ],
   "source": [
    "# 1. Python program to interchange first and last elements in a list \n",
    "\n",
    "lst = [123,56,11,78,963,45,654,783]\n",
    "\n",
    "lst[0],lst[-1] = lst[-1],lst[0]\n",
    "\n",
    "print(lst)"
   ]
  },
  {
   "cell_type": "code",
   "execution_count": null,
   "id": "e1a19db0",
   "metadata": {},
   "outputs": [],
   "source": [
    "# 2. Python program to swap two elements in a list \n",
    "\n",
    "lst = [123,56,11,78,963,45,654,783]\n",
    "\n",
    "lst[2],lst[-2] = lst[-2],lst[2]\n",
    "\n",
    "print(lst)"
   ]
  },
  {
   "cell_type": "code",
   "execution_count": 6,
   "id": "93a232da",
   "metadata": {},
   "outputs": [
    {
     "name": "stdout",
     "output_type": "stream",
     "text": [
      "['zfg', 'is', 'bzst', 'ffr', 'zzzks']\n"
     ]
    }
   ],
   "source": [
    "# 3. Python – Swap elements in String list\n",
    "lst = ['Gfg', 'is', 'best', 'for', 'Geeks']\n",
    "\n",
    "result = [i.replace(\"G\",\"e\").replace(\"o\",\"f\").replace(\"e\",\"z\") for i in lst]\n",
    "print(result)\n"
   ]
  },
  {
   "cell_type": "code",
   "execution_count": 7,
   "id": "4c6f86b9",
   "metadata": {},
   "outputs": [
    {
     "name": "stdout",
     "output_type": "stream",
     "text": [
      "8\n",
      "8\n",
      "8\n",
      "8\n"
     ]
    }
   ],
   "source": [
    "# 4. Python | Ways to find length of list \n",
    "\n",
    "#1\n",
    "lst = [123,56,11,78,963,45,654,783]\n",
    "j = 0\n",
    "for i in lst:\n",
    "    j += 1\n",
    "print(j)\n",
    "\n",
    "#2\n",
    "print(len(lst))\n",
    "\n",
    "#3\n",
    "for i,k in enumerate(lst):\n",
    "    pass\n",
    "print(i+1)\n",
    "\n",
    "#4\n",
    "s  = sum(1 for i in lst)\n",
    "print(s)\n"
   ]
  },
  {
   "cell_type": "code",
   "execution_count": null,
   "id": "914a2e87",
   "metadata": {},
   "outputs": [],
   "source": [
    "# 5. Ways to clear list in Python\n",
    "\n",
    "#1\n",
    "lst = [123,56,11,78,963,45,654,783]\n",
    "lst = lst.clear()\n",
    "print(lst)\n",
    "\n",
    "#2\n",
    "lst = [123,56,11,78,963,45,654,783]\n",
    "while len(lst) != 0:\n",
    "    lst.pop()\n",
    "print(lst)\n",
    "\n",
    "#3 \n",
    "lst = [123,56,11,78,963,45,654,783]\n",
    "lst = lst[:0]\n",
    "print(lst)"
   ]
  },
  {
   "cell_type": "code",
   "execution_count": null,
   "id": "9dd6df45",
   "metadata": {},
   "outputs": [],
   "source": [
    "# 6. Reversing a list in Python\n",
    "\n",
    "lst = [123,56,11,78,963,45,654,783]\n",
    "lst = list(reversed(lst))\n",
    "print(lst)\n"
   ]
  },
  {
   "cell_type": "code",
   "execution_count": null,
   "id": "f41f0e3e",
   "metadata": {},
   "outputs": [],
   "source": [
    "# 7. Copying a list in Pyhton\n",
    "lst = [123,56,11,78,963,45,654,783]\n",
    "lst1 = lst.copy()\n",
    "print(lst1)"
   ]
  },
  {
   "cell_type": "code",
   "execution_count": null,
   "id": "33abcb91",
   "metadata": {},
   "outputs": [],
   "source": [
    "# 8. Python program to find largest number in a list\n",
    "\n",
    "lst = [123,11,56,11,78,963,11,45,654,11,783]\n",
    "largest = None\n",
    "for i in lst:\n",
    "    if largest == None:\n",
    "        largest = i \n",
    "    if largest < i:\n",
    "        largest = i\n",
    "\n",
    "print(largest)\n",
    "print(max(lst))"
   ]
  },
  {
   "cell_type": "code",
   "execution_count": null,
   "id": "4b442254",
   "metadata": {},
   "outputs": [],
   "source": [
    "# 9. Python program to find second largest number in a list\n",
    "\n",
    "lst = [123,11,56,11,78,963,11,45,654,11,783]\n",
    "largest = None\n",
    "\n",
    "for i in lst:\n",
    "    if largest == None:\n",
    "        largest = i \n",
    "    elif largest < i:\n",
    "        largest = i\n",
    "m = largest\n",
    "sec_larges = None\n",
    "\n",
    "for j in lst:\n",
    "    if sec_larges == None:\n",
    "        sec_larges = i \n",
    "    elif sec_larges < i and sec_larges < m:\n",
    "        sec_larges = i\n",
    "\n",
    "print(sec_larges)\n"
   ]
  },
  {
   "cell_type": "code",
   "execution_count": null,
   "id": "5970a7d0",
   "metadata": {},
   "outputs": [],
   "source": [
    "# 10. Python program to print even numbers in a list \n",
    "\n",
    "lst = [123,11,56,11,78,963,11,45,654,11,783, 0]\n",
    "even = []\n",
    "odd = []\n",
    "for i in lst:\n",
    "    if i%2 == 0:\n",
    "        even.append(i)\n",
    "    else:\n",
    "        odd.append(i)\n",
    "\n",
    "print(even,\"even\")\n",
    "print(odd,\"odd\")"
   ]
  },
  {
   "cell_type": "code",
   "execution_count": null,
   "id": "91723985",
   "metadata": {},
   "outputs": [],
   "source": [
    "# 11. Python program to print odd numbers in a List \n",
    "\n",
    "lst = [123,11,56,11,78,963,11,45,654,11,783, 0]\n",
    "even = []\n",
    "odd = []\n",
    "for i in lst:\n",
    "    if i%2 == 0:\n",
    "        even.append(i)\n",
    "    else:\n",
    "        odd.append(i)\n",
    "\n",
    "print(even,\"even\")\n",
    "print(odd,\"odd\")"
   ]
  },
  {
   "cell_type": "code",
   "execution_count": 8,
   "id": "8ffd9ecb",
   "metadata": {},
   "outputs": [
    {
     "name": "stdout",
     "output_type": "stream",
     "text": [
      "0 2 4 6 8 10 12 14 16 18 20 22 24 26 28 30 32 34 36 38 40 42 44 46 48 "
     ]
    }
   ],
   "source": [
    "# 12. Python program to print all even numbers in a range \n",
    "\n",
    "for i in range(50):\n",
    "    if i%2 == 0:\n",
    "        print(i,end = \" \")"
   ]
  },
  {
   "cell_type": "code",
   "execution_count": 9,
   "id": "586e72b5",
   "metadata": {},
   "outputs": [
    {
     "name": "stdout",
     "output_type": "stream",
     "text": [
      "1 3 5 7 9 11 13 15 17 19 21 23 25 27 29 31 33 35 37 39 41 43 45 47 49 "
     ]
    }
   ],
   "source": [
    "# 13. Python program to print all odd numbers in a range \n",
    "\n",
    "for i in range(50):\n",
    "    if i%2 != 0:\n",
    "        print(i,end = \" \")"
   ]
  },
  {
   "cell_type": "code",
   "execution_count": 10,
   "id": "e988596f",
   "metadata": {},
   "outputs": [
    {
     "name": "stdout",
     "output_type": "stream",
     "text": [
      "4 even\n",
      "8 odd\n"
     ]
    }
   ],
   "source": [
    "# 14. Python program to count Even and Odd numbers in a List \n",
    "\n",
    "lst = [123,11,56,11,78,963,11,45,654,11,783, 0]\n",
    "even = 0\n",
    "odd = 0\n",
    "for i in lst:\n",
    "    if i%2 == 0:\n",
    "        even += 1\n",
    "    else:\n",
    "        odd += 1\n",
    "\n",
    "print(even,\"even\")\n",
    "print(odd,\"odd\")"
   ]
  },
  {
   "cell_type": "code",
   "execution_count": 11,
   "id": "70b1651b",
   "metadata": {},
   "outputs": [
    {
     "name": "stdout",
     "output_type": "stream",
     "text": [
      "123 11 11 78 11 654 783 "
     ]
    }
   ],
   "source": [
    "# 15. Python program to print positive numbers in a list \n",
    "\n",
    "lst = [123,11,-56,11,78,-963,11,-45,654,-11,783, 0]\n",
    "\n",
    "for i in lst:\n",
    "    if i > 0:\n",
    "        print(i, end = \" \")"
   ]
  },
  {
   "cell_type": "code",
   "execution_count": null,
   "id": "649cd4dd",
   "metadata": {},
   "outputs": [],
   "source": [
    "# 16. Python program to print negative numbers in a list \n",
    "\n",
    "lst = [123,11,-56,11,78,-963,11,-45,654,-11,783, 0]\n",
    "\n",
    "for i in lst:\n",
    "    if i < 0:\n",
    "        print(i, end = \" \")"
   ]
  },
  {
   "cell_type": "code",
   "execution_count": null,
   "id": "87593175",
   "metadata": {},
   "outputs": [],
   "source": [
    "# 17. Python program to print all positive numbers in a range \n",
    "\n",
    "for i in range(-6, 5):\n",
    "    if i > 0:\n",
    "        print(i,end=\" \")"
   ]
  },
  {
   "cell_type": "code",
   "execution_count": null,
   "id": "97acb06c",
   "metadata": {},
   "outputs": [],
   "source": [
    "# 18. Python program to count positive and negative numbers in a list \n",
    "\n",
    "lst = [123,11,-56,11,78,-963,11,-45,654,-11,783, 0]\n",
    "positive = 0\n",
    "negative = 0\n",
    "for i in lst:\n",
    "    if i > 0:\n",
    "        positive += 1\n",
    "    elif i < 0:\n",
    "        negative += 1\n",
    "\n",
    "print(positive, \"positive\")\n",
    "print(negative, \"negative\")"
   ]
  },
  {
   "cell_type": "code",
   "execution_count": null,
   "id": "c8514883",
   "metadata": {},
   "outputs": [],
   "source": [
    "# 19. Remove multiple elements from a list in Python \n",
    "\n",
    "lst1 = [123,11,-56,11,78,-963,11,-45,654,-11,783, 0]\n",
    "lst = [123,11,-56,11,78,-963,11,-45,654,-11,783, 0]\n",
    "unwanted = [11,-56,78,-45]\n",
    "for i in lst1:\n",
    "    if i in unwanted:\n",
    "        lst.remove(i)\n",
    "\n",
    "print(lst)"
   ]
  },
  {
   "cell_type": "code",
   "execution_count": null,
   "id": "ba2be593",
   "metadata": {},
   "outputs": [],
   "source": [
    "list1 = [11, 5, 17, 18, 23, 50]\n",
    "# given index of elements\n",
    "# removes 11, 18, 23\n",
    "unwanted = [0, 3, 4]\n",
    "\n",
    "for ele in sorted(unwanted, reverse = True):\n",
    "\tdel list1[ele]\n",
    "\t\n",
    "print (*list1)"
   ]
  },
  {
   "cell_type": "code",
   "execution_count": null,
   "id": "5c613aa0",
   "metadata": {},
   "outputs": [],
   "source": [
    "# error beacuse indexing is done on the updated list each time\n",
    "# lst = [123,11,-56,11,78,-963,11,-45,654,-11,783, 0]\n",
    "# unwanted = [11,-56,78,-45]\n",
    "# for i in lst:\n",
    "#     print(i)\n",
    "#     if i in unwanted:\n",
    "#         lst.remove(i)\n",
    "\n",
    "# print(lst)"
   ]
  },
  {
   "cell_type": "code",
   "execution_count": 12,
   "id": "1659ec32",
   "metadata": {},
   "outputs": [
    {
     "name": "stdout",
     "output_type": "stream",
     "text": [
      "[123, (), (), 11, -56, 11, (), 78, -963, 11, -45, 654, (), -11, 783, 0]\n",
      "[123, 11, -56, 11, 78, -963, 11, -45, 654, -11, 783, 0]\n"
     ]
    }
   ],
   "source": [
    "# 20. Python | Remove empty tuples from a list \n",
    "\n",
    "lst1 = [123,(),(),11,-56,11,(), 78,-963,11,-45,654,(),-11,783, 0]\n",
    "lst = [123,(),(),11,-56,11,(), 78,-963,11,-45,654,(),-11,783, 0]\n",
    "print(lst)\n",
    "for i in lst1:\n",
    "    if i == ():\n",
    "        lst.remove(i)\n",
    "print(lst)"
   ]
  },
  {
   "cell_type": "code",
   "execution_count": 13,
   "id": "13d22fb0",
   "metadata": {},
   "outputs": [
    {
     "name": "stdout",
     "output_type": "stream",
     "text": [
      "11\n",
      "11\n",
      "78\n",
      "123\n"
     ]
    }
   ],
   "source": [
    "# 21. Python | Program to print duplicates from a list of integers \n",
    "\n",
    "lst = [123,11,-56,11,78,-963,11,78,-45,654,-11,783,123]\n",
    "new_lst = []\n",
    "for i in lst:\n",
    "    if i in new_lst:\n",
    "        print(i)\n",
    "        continue\n",
    "    new_lst.append(i)\n",
    "    "
   ]
  },
  {
   "cell_type": "code",
   "execution_count": 14,
   "id": "bf7cb2df",
   "metadata": {},
   "outputs": [
    {
     "name": "stdout",
     "output_type": "stream",
     "text": [
      "[1, 3, 6, 10, 15, 21, 28, 36, 45, 55]\n"
     ]
    }
   ],
   "source": [
    "# 22. Python program to find Cumulative sum of a list Break a list into chunks of size N in \n",
    "\n",
    "lst = [1,2,3,4,5,6,7,8,9,10]\n",
    "new_lst = []\n",
    "j = 0\n",
    "for i in lst:\n",
    "    j += i\n",
    "    new_lst.append(j)\n",
    "\n",
    "print(new_lst)"
   ]
  },
  {
   "cell_type": "code",
   "execution_count": null,
   "id": "fcfcd0ad",
   "metadata": {},
   "outputs": [],
   "source": []
  },
  {
   "cell_type": "code",
   "execution_count": null,
   "id": "e0c795d6",
   "metadata": {},
   "outputs": [],
   "source": []
  }
 ],
 "metadata": {
  "kernelspec": {
   "display_name": "Python 3 (ipykernel)",
   "language": "python",
   "name": "python3"
  },
  "language_info": {
   "codemirror_mode": {
    "name": "ipython",
    "version": 3
   },
   "file_extension": ".py",
   "mimetype": "text/x-python",
   "name": "python",
   "nbconvert_exporter": "python",
   "pygments_lexer": "ipython3",
   "version": "3.11.3"
  }
 },
 "nbformat": 4,
 "nbformat_minor": 5
}

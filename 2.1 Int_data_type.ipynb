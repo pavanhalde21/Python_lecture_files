{
 "cells": [
  {
   "cell_type": "code",
   "execution_count": null,
   "metadata": {},
   "outputs": [],
   "source": [
    "# We can represent int values in the following ways\n",
    "# 1. Decimal form\n",
    "# 2. Binary form\n",
    "# 3. Octal form\n",
    "# 4. Hexa decimal form\n"
   ]
  },
  {
   "cell_type": "code",
   "execution_count": null,
   "metadata": {},
   "outputs": [],
   "source": [
    "# 1. Decimal form(base-10):\n",
    "\n",
    "# default number system in Python\n",
    "# The allowed digits are: 0 to 9\n",
    "# Eg: a =10\n",
    "\n"
   ]
  },
  {
   "cell_type": "code",
   "execution_count": 1,
   "metadata": {},
   "outputs": [
    {
     "name": "stdout",
     "output_type": "stream",
     "text": [
      "15\n",
      "<class 'int'>\n",
      "2\n",
      "<class 'int'>\n",
      "7\n",
      "<class 'int'>\n"
     ]
    }
   ],
   "source": [
    "# 2. Binary form(Base-2):\n",
    "\n",
    "# The allowed digits are : 0 & 1\n",
    "# Literal value should be prefixed with 0b or 0B\n",
    "# Eg: \n",
    "a = 0B1111\n",
    "print(a)\n",
    "print(type(a))\n",
    "\n",
    "a=0B10\n",
    "print(a)\n",
    "print(type(a))\n",
    "\n",
    "a=0b111\n",
    "print(a)\n",
    "print(type(a))\n"
   ]
  },
  {
   "cell_type": "code",
   "execution_count": 2,
   "metadata": {},
   "outputs": [
    {
     "name": "stdout",
     "output_type": "stream",
     "text": [
      "83\n",
      "<class 'int'>\n",
      "62\n",
      "<class 'int'>\n"
     ]
    }
   ],
   "source": [
    "# 3. Octal Form(Base-8):\n",
    "\n",
    "# The allowed digits are : 0 to 7\n",
    "# Literal value should be prefixed with 0o or 0O.\n",
    "# Eg.\n",
    "\n",
    "a=0O123\n",
    "print(a)\n",
    "print(type(a))\n",
    "\n",
    "a=0o76\n",
    "print(a)\n",
    "print(type(a))"
   ]
  },
  {
   "cell_type": "code",
   "execution_count": null,
   "metadata": {},
   "outputs": [],
   "source": [
    "# 4. Hexa Decimal Form(Base-16):\n",
    "\n",
    "# The allowed digits are : 0 to 9, a-f (both lower and upper cases are allowed)\n",
    "# Literal value should be prefixed with 0x or 0X\n",
    "# Eg:\n",
    "a =0XFACE\n",
    "print(a)\n",
    "print(type(a))\n",
    "\n",
    "a =0xBeef\n",
    "print(a)\n",
    "print(type(a))\n",
    "\n",
    "a =0XBee\n",
    "print(a)\n",
    "print(type(a))\n"
   ]
  },
  {
   "cell_type": "code",
   "execution_count": null,
   "metadata": {},
   "outputs": [],
   "source": [
    "# Note: Being a programmer we can specify literal values in decimal, binary, octal and hexa decimal forms. \n",
    "        # But PVM will always provide values only in decimal form.\n",
    "\n",
    "a=10\n",
    "b=0o10\n",
    "c=0X10\n",
    "d=0B10\n",
    "print(a)\n",
    "print(b)\n",
    "print(c)\n",
    "print(d)\n"
   ]
  },
  {
   "cell_type": "markdown",
   "metadata": {},
   "source": [
    "# Base Conversions"
   ]
  },
  {
   "cell_type": "code",
   "execution_count": null,
   "metadata": {},
   "outputs": [],
   "source": [
    "# Python provide the following in-built functions for base conversions\n"
   ]
  },
  {
   "cell_type": "code",
   "execution_count": null,
   "metadata": {},
   "outputs": [],
   "source": [
    "\n",
    "# 1.bin():\n",
    "\n",
    "# We can use bin() to convert from any base to binary\n",
    "# Eg:\n",
    "print(bin(15)) \n",
    "print(bin(0o11)) \n",
    "print(bin(0X1ab))\n",
    "\n",
    "# print(bin(pavan))  # error\n"
   ]
  },
  {
   "cell_type": "code",
   "execution_count": null,
   "metadata": {},
   "outputs": [],
   "source": [
    "# 2. oct():\n",
    "\n",
    "# We can use oct() to convert from any base to octal\n",
    "# Eg:\n",
    "print(oct(10) )\n",
    "print(oct(0B1111) )\n",
    "print(oct(0X123) )\n"
   ]
  },
  {
   "cell_type": "code",
   "execution_count": null,
   "metadata": {},
   "outputs": [],
   "source": [
    "# 3. hex():\n",
    "\n",
    "# We can use hex() to convert from any base to hexa decimal\n",
    "# Eg:\n",
    "print(hex(100) )\n",
    "print(hex(0B111111)) \n",
    "print(hex(0o12345) )\n"
   ]
  },
  {
   "cell_type": "code",
   "execution_count": null,
   "metadata": {},
   "outputs": [],
   "source": []
  }
 ],
 "metadata": {
  "kernelspec": {
   "display_name": "Python 3",
   "language": "python",
   "name": "python3"
  },
  "language_info": {
   "codemirror_mode": {
    "name": "ipython",
    "version": 3
   },
   "file_extension": ".py",
   "mimetype": "text/x-python",
   "name": "python",
   "nbconvert_exporter": "python",
   "pygments_lexer": "ipython3",
   "version": "3.11.3"
  },
  "orig_nbformat": 4
 },
 "nbformat": 4,
 "nbformat_minor": 2
}

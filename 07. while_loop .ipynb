{
 "cells": [
  {
   "attachments": {},
   "cell_type": "markdown",
   "id": "40af87fe",
   "metadata": {},
   "source": [
    "# while loop\n"
   ]
  },
  {
   "cell_type": "code",
   "execution_count": 10,
   "id": "d5e30c21",
   "metadata": {},
   "outputs": [
    {
     "name": "stdout",
     "output_type": "stream",
     "text": [
      "1 hello world\n",
      "2 hello world\n",
      "3 hello world\n",
      "4 hello world\n",
      "5 hello world\n"
     ]
    }
   ],
   "source": [
    "# while loop is a control flow statement that allows you to repeatedly execute a block of code as long as a certain condition is true.\n",
    "\n",
    "# once the condition is false it stops the execution and will exit from the loop. \n",
    "\n",
    "\n",
    "x = 1                            # Initialize variable x to 1\n",
    "while x <= 5:                    # While x is less than or equal to 5\n",
    "    print(x,'hello world')         # Print the value of x\n",
    "    x += 1                       # Increment the value of x by 1\n",
    "#     x = x+1\n"
   ]
  },
  {
   "cell_type": "code",
   "execution_count": 11,
   "id": "340fc644",
   "metadata": {},
   "outputs": [
    {
     "name": "stdout",
     "output_type": "stream",
     "text": [
      "10\n",
      "9\n",
      "8\n",
      "7\n",
      "6\n",
      "5\n",
      "4\n",
      "3\n",
      "2\n",
      "1\n",
      "let's Go !!!\n"
     ]
    }
   ],
   "source": [
    "# Countdown\n",
    "\n",
    "count = 10\n",
    "\n",
    "while count > 0:\n",
    "    print(count)\n",
    "    count -= 1\n",
    "\n",
    "print(\"let's Go !!!\")\n"
   ]
  },
  {
   "cell_type": "code",
   "execution_count": 12,
   "id": "fa06c2fe",
   "metadata": {},
   "outputs": [
    {
     "name": "stdout",
     "output_type": "stream",
     "text": [
      "The sum of the numbers 1 to 10 is : 55\n"
     ]
    }
   ],
   "source": [
    "# sum\n",
    "\n",
    "total = 0\n",
    "count = 1                     # initialised\n",
    "while count <= 10:            # condition checks\n",
    "    total = total + count     # addition \n",
    "    count += 1                # increment\n",
    "print(\"The sum of the numbers 1 to 10 is :\", total)\n"
   ]
  },
  {
   "cell_type": "code",
   "execution_count": 2,
   "id": "023a5bd1",
   "metadata": {},
   "outputs": [
    {
     "name": "stdout",
     "output_type": "stream",
     "text": [
      "Hello world\n"
     ]
    }
   ],
   "source": [
    "# infinity loop\n",
    "\n",
    "while True:\n",
    "    print('Hello world')\n",
    "    break # this prevents infinite loop"
   ]
  },
  {
   "cell_type": "code",
   "execution_count": null,
   "id": "bb2bbc87",
   "metadata": {},
   "outputs": [],
   "source": []
  },
  {
   "cell_type": "code",
   "execution_count": 14,
   "id": "620898eb",
   "metadata": {},
   "outputs": [],
   "source": [
    "i = 1\n",
    "while False:\n",
    "    print(i)\n",
    "    i += 1\n"
   ]
  },
  {
   "cell_type": "code",
   "execution_count": 15,
   "id": "5f1b88c8",
   "metadata": {},
   "outputs": [
    {
     "name": "stdout",
     "output_type": "stream",
     "text": [
      "5 number is odd\n",
      "thanks visit again!!\n"
     ]
    }
   ],
   "source": [
    "# use of infinite loop (even/odd)\n",
    "\n",
    "while True:\n",
    "    user_input = input(\"enter the number or 'q': \")\n",
    "    if user_input == 'q':\n",
    "        print('thanks visit again!!')\n",
    "        break\n",
    "    else:\n",
    "        if int(user_input)%2 == 0:\n",
    "            print(f'{user_input} number is even')\n",
    "        else:\n",
    "            print(f\"{user_input} number is odd\")\n"
   ]
  },
  {
   "cell_type": "code",
   "execution_count": 16,
   "id": "0d1586bd",
   "metadata": {},
   "outputs": [
    {
     "name": "stdout",
     "output_type": "stream",
     "text": [
      "1 2 3 4 \n",
      "2 4 6 8 \n",
      "3 6 9 12 \n",
      "4 8 12 16 \n"
     ]
    }
   ],
   "source": [
    "i = 1\n",
    "while i <= 4 :\n",
    "    j = 1\n",
    "    while  j <= 4 :\n",
    "        print(i*j, end=\" \")\n",
    "        j += 1\n",
    "    print()\n",
    "    i += 1"
   ]
  },
  {
   "cell_type": "code",
   "execution_count": 17,
   "id": "ac140b83",
   "metadata": {},
   "outputs": [
    {
     "name": "stdout",
     "output_type": "stream",
     "text": [
      "* \n",
      "* * \n",
      "* * * \n",
      "* * * * \n",
      "* * * * * \n",
      "* * * * * * \n",
      "* * * * * * * \n",
      "* * * * * * * * \n",
      "* * * * * * * * * \n",
      "* * * * * * * * * * \n"
     ]
    }
   ],
   "source": [
    "# right angled triangle\n",
    "\n",
    "rows = 10\n",
    "\n",
    "i = 1\n",
    "while i<=rows:  # this outer loop will print for rows\n",
    "    j = 1\n",
    "    while j<=i:  # this inner loop will print for columns\n",
    "        print('*',end=' ')\n",
    "        j+=1\n",
    "    print()\n",
    "    i+=1"
   ]
  },
  {
   "cell_type": "code",
   "execution_count": 18,
   "id": "0006401f",
   "metadata": {},
   "outputs": [
    {
     "name": "stdout",
     "output_type": "stream",
     "text": [
      "* * * * * \n",
      "* * * * * \n",
      "* * * * * \n",
      "* * * * * \n",
      "* * * * * \n"
     ]
    }
   ],
   "source": [
    "# square\n",
    "\n",
    "i = 1\n",
    "while i<=5:\n",
    "    j = 1\n",
    "    while j<=5:\n",
    "        print('*',end=' ')\n",
    "        j+=1\n",
    "    print()\n",
    "    i+=1"
   ]
  },
  {
   "cell_type": "code",
   "execution_count": 19,
   "id": "d40d29c2",
   "metadata": {},
   "outputs": [
    {
     "name": "stdout",
     "output_type": "stream",
     "text": [
      "done\n",
      "Done!\n"
     ]
    }
   ],
   "source": [
    "# break \n",
    "\n",
    "while True:\n",
    "    line = input('>')\n",
    "    if line == 'done':\n",
    "        print(line)\n",
    "        break\n",
    "    print(line, 'dana')\n",
    "print('Done!')\n"
   ]
  },
  {
   "cell_type": "code",
   "execution_count": 20,
   "id": "415deaec",
   "metadata": {},
   "outputs": [
    {
     "name": "stdout",
     "output_type": "stream",
     "text": [
      "doen\n",
      "Done!\n"
     ]
    }
   ],
   "source": [
    "# continue\n",
    "\n",
    "while True:\n",
    "    line = input('>')\n",
    "    if line[0] == '#':\n",
    "        continue # skips to the top of the loop\n",
    "    if line == 'done':\n",
    "        break # skips out of the loop\n",
    "    print(line)\n",
    "print('Done!')\n"
   ]
  },
  {
   "cell_type": "code",
   "execution_count": 21,
   "id": "f10ef041",
   "metadata": {},
   "outputs": [
    {
     "name": "stdout",
     "output_type": "stream",
     "text": [
      "5\n",
      "4\n",
      "3\n",
      "2\n",
      "1\n"
     ]
    }
   ],
   "source": [
    "# pass \n",
    "\n",
    "i = 9\n",
    "while i > 0:\n",
    "    if i > 5:\n",
    "        pass\n",
    "    else:\n",
    "        print(i) \n",
    "    i -= 1\n"
   ]
  },
  {
   "attachments": {},
   "cell_type": "markdown",
   "id": "3d43093d",
   "metadata": {},
   "source": [
    "# Practice"
   ]
  },
  {
   "cell_type": "code",
   "execution_count": 22,
   "id": "ae4af4b7",
   "metadata": {},
   "outputs": [
    {
     "name": "stdout",
     "output_type": "stream",
     "text": [
      "Banana\n",
      "Watermelon\n",
      "Grapes\n",
      "Mangoes\n"
     ]
    }
   ],
   "source": [
    "# iterating\n",
    "\n",
    "fruits = ['Banana', 'Watermelon', 'Grapes', 'Mangoes']\n",
    "i = 0\n",
    "while i<len(fruits):\n",
    "    print(fruits[i])\n",
    "    i = i+1"
   ]
  },
  {
   "cell_type": "code",
   "execution_count": 25,
   "id": "a41ab322",
   "metadata": {},
   "outputs": [
    {
     "name": "stdout",
     "output_type": "stream",
     "text": [
      "2x1=2\n",
      "2x2=4\n",
      "2x3=6\n",
      "2x4=8\n",
      "2x5=10\n",
      "2x6=12\n",
      "2x7=14\n",
      "2x8=16\n",
      "2x9=18\n",
      "2x10=20\n"
     ]
    }
   ],
   "source": [
    "# Multiplication table using while\n",
    "\n",
    "n = int(input())\n",
    "i = 1\n",
    "\n",
    "while i<11:\n",
    "    print(f\"{n}x{i}={n*i}\")\n",
    "    i +=1"
   ]
  },
  {
   "cell_type": "code",
   "execution_count": 26,
   "id": "c4bb0514",
   "metadata": {},
   "outputs": [
    {
     "name": "stdout",
     "output_type": "stream",
     "text": [
      "15\n"
     ]
    }
   ],
   "source": [
    "# Sum of first n natural number\n",
    "\n",
    "n = int(input())\n",
    "sum = 0\n",
    "i = 1\n",
    "while i<=n:\n",
    "    sum += i\n",
    "    i += 1\n",
    "    \n",
    "print(sum)\n"
   ]
  },
  {
   "cell_type": "code",
   "execution_count": null,
   "id": "a5858bb0",
   "metadata": {},
   "outputs": [],
   "source": [
    "n=int(input('enter a no.'))\n",
    "i=1\n",
    "a=[]\n",
    "while i<=n :\n",
    "    a.append(i)\n",
    "    i+=1\n",
    "print(a)\n",
    "print(sum(a))\n"
   ]
  },
  {
   "cell_type": "code",
   "execution_count": null,
   "id": "91e30a45",
   "metadata": {},
   "outputs": [],
   "source": [
    "n=int(input('enter a no.'))\n",
    "sum=0\n",
    "while n>0:\n",
    "    sum = sum +n\n",
    "    n=n-1    \n",
    "print(sum)\n"
   ]
  },
  {
   "cell_type": "code",
   "execution_count": null,
   "id": "2d6af354",
   "metadata": {},
   "outputs": [],
   "source": [
    "n=int(input('enter a no.'))\n",
    "sum=0\n",
    "while n>0:\n",
    "    sum += n\n",
    "    n -= 1    \n",
    "print(sum)"
   ]
  },
  {
   "cell_type": "code",
   "execution_count": null,
   "id": "d0e23b07",
   "metadata": {},
   "outputs": [],
   "source": [
    "# use of infinite loop (largest, smallest)\n",
    "\n",
    "largest = None\n",
    "smallest = None\n",
    "while True:\n",
    "    num = input(\"Enter a number: \")\n",
    "    if num == 'done':\n",
    "        break\n",
    "    try:\n",
    "        value=int(num)\n",
    "        if smallest is None:\n",
    "            smallest = value\n",
    "        if value < smallest:\n",
    "            smallest = value\n",
    "        if largest is None:\n",
    "            largest = value\n",
    "        if value > largest:\n",
    "            largest=value\n",
    "    except:\n",
    "        print(\"Invalid input\")\n",
    "\n",
    "    \n",
    "\n",
    "print('Maximum is',largest)\n",
    "print('Minimum is',smallest)"
   ]
  },
  {
   "cell_type": "code",
   "execution_count": null,
   "id": "f5b7ab0e",
   "metadata": {},
   "outputs": [],
   "source": [
    "\n"
   ]
  },
  {
   "cell_type": "code",
   "execution_count": null,
   "id": "46310b07",
   "metadata": {},
   "outputs": [],
   "source": []
  },
  {
   "cell_type": "code",
   "execution_count": null,
   "id": "85b8a813",
   "metadata": {},
   "outputs": [],
   "source": []
  },
  {
   "cell_type": "code",
   "execution_count": null,
   "id": "fcc633ab",
   "metadata": {},
   "outputs": [],
   "source": []
  },
  {
   "cell_type": "code",
   "execution_count": null,
   "id": "81be255c",
   "metadata": {},
   "outputs": [],
   "source": []
  },
  {
   "cell_type": "code",
   "execution_count": null,
   "id": "116ce2a1",
   "metadata": {},
   "outputs": [],
   "source": []
  }
 ],
 "metadata": {
  "kernelspec": {
   "display_name": "Python 3",
   "language": "python",
   "name": "python3"
  },
  "language_info": {
   "codemirror_mode": {
    "name": "ipython",
    "version": 3
   },
   "file_extension": ".py",
   "mimetype": "text/x-python",
   "name": "python",
   "nbconvert_exporter": "python",
   "pygments_lexer": "ipython3",
   "version": "3.13.5"
  }
 },
 "nbformat": 4,
 "nbformat_minor": 5
}

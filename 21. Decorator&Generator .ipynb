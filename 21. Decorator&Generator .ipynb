{
 "cells": [
  {
   "attachments": {},
   "cell_type": "markdown",
   "id": "74b1c6db",
   "metadata": {},
   "source": [
    "# Decorator"
   ]
  },
  {
   "cell_type": "code",
   "execution_count": null,
   "id": "a1572c65",
   "metadata": {},
   "outputs": [],
   "source": [
    "# Decorator is a function which can take a function as argument \n",
    "# and extend its functionality and returns modified function with extended functionality.\n",
    "\n",
    "# They are a way to extend the functionality of a function or method without modifying its source code.\n",
    "# using decorator we can change the behaviour of the function at the compile time itself.\n"
   ]
  },
  {
   "metadata": {},
   "cell_type": "markdown",
   "source": "![image.png](attachment:image.png)",
   "id": "b1dad934"
  },
  {
   "cell_type": "code",
   "execution_count": null,
   "id": "0223329d",
   "metadata": {},
   "outputs": [],
   "source": [
    "# Syntax\n",
    "\n",
    "def decorator_function(func): \n",
    "    def inner(name): \n",
    "        \"\"\" operations \"\"\"\n",
    "        return func(name) \n",
    "    return inner \n",
    "\n",
    "def my_funcnction(name): \n",
    "    \"\"\" logic \"\"\""
   ]
  },
  {
   "cell_type": "code",
   "execution_count": null,
   "id": "473006f5",
   "metadata": {},
   "outputs": [],
   "source": [
    "\n",
    "@decorator_function\n",
    "def my_function():\n",
    "    pass\n",
    "\n",
    "# The @decorator_function notation is just a shorthand for the following code:\n",
    "def my_function():\n",
    "    pass\n",
    "my_function = decorator_function(my_function)"
   ]
  },
  {
   "cell_type": "code",
   "execution_count": 21,
   "id": "57c6560c",
   "metadata": {},
   "outputs": [
    {
     "name": "stdout",
     "output_type": "stream",
     "text": [
      "Good Morning\n",
      "Hello world\n",
      "Thanks for using this function\n"
     ]
    }
   ],
   "source": [
    "\n",
    "def greet(fx):\n",
    "  def mfx():\n",
    "    print(\"Good Morning\")\n",
    "    fx() # here this runs the hello function\n",
    "    print(\"Thanks for using this function\")\n",
    "  return mfx\n",
    "\n",
    "@greet\n",
    "def hello():\n",
    "  print(\"Hello world\")\n",
    "\n",
    "hello()\n",
    "\n",
    "# greet(hello)()  # this can be used instead of decorator"
   ]
  },
  {
   "cell_type": "code",
   "execution_count": 22,
   "id": "3c92ed22",
   "metadata": {},
   "outputs": [
    {
     "name": "stdout",
     "output_type": "stream",
     "text": [
      "Good Morning\n",
      "Hello world\n",
      "Thanks for using this function\n"
     ]
    }
   ],
   "source": [
    "\n",
    "\n",
    "@greet\n",
    "def hello():\n",
    "  print(\"Hello world\")\n",
    "\n",
    "def greet(fx):\n",
    "  def mfx():\n",
    "    print(\"Good Morning\")\n",
    "    fx() # here this runs the hello function\n",
    "    print(\"Thanks for using this function\")\n",
    "  return mfx\n",
    "\n",
    "\n",
    "\n",
    "hello()\n",
    "\n",
    "\n",
    "# greet(hello)()  # this can be used instead of decorator"
   ]
  },
  {
   "cell_type": "code",
   "execution_count": 24,
   "id": "0b69c1ce",
   "metadata": {},
   "outputs": [
    {
     "name": "stdout",
     "output_type": "stream",
     "text": [
      "Good Morning\n",
      "3\n",
      "Thanks for using this function\n",
      "Good Morning\n",
      "7\n",
      "Thanks for using this function\n"
     ]
    }
   ],
   "source": [
    "\n",
    "def greet(fx):\n",
    "  def mfx(*args, **kwargs): # here we need to pass arguments \n",
    "    print(\"Good Morning\")\n",
    "    fx(*args, **kwargs) # here this runs the add function\n",
    "    print(\"Thanks for using this function\")\n",
    "  return mfx\n",
    "\n",
    "\n",
    "@greet\n",
    "def add(a, b):\n",
    "  print(a+b)\n",
    "  \n",
    "\n",
    "add(1, 2)\n",
    "\n",
    "add(3,4)\n",
    "# greet(add)(1, 2)"
   ]
  },
  {
   "cell_type": "code",
   "execution_count": null,
   "id": "cd4ccbdb",
   "metadata": {},
   "outputs": [],
   "source": [
    "# When to Use a Decorator in Python:\n",
    "\n",
    "# You'll use a decorator when you need to change the behavior of a function without modifying the function itself. \n",
    "\n",
    "# A few good examples are when you want to add logging, test performance, perform caching, verify permissions, and so on.\n",
    "\n",
    "# You can also use one when you need to run the same code on multiple functions.\n",
    "# This avoids you writing duplicating code."
   ]
  },
  {
   "cell_type": "code",
   "execution_count": 25,
   "id": "5fda9a52",
   "metadata": {},
   "outputs": [
    {
     "name": "stdout",
     "output_type": "stream",
     "text": [
      "2.0\n"
     ]
    }
   ],
   "source": [
    "# consider following is our requirement\n",
    "# doesn't matter in which sequence we pass the value the numerator must be greator than the denominator\n",
    "\n",
    "def div(a,b):\n",
    "    if a<b:\n",
    "        a,b = b,a\n",
    "    print(a/b)\n",
    "div(2,4)\n"
   ]
  },
  {
   "cell_type": "code",
   "execution_count": null,
   "id": "f391655e",
   "metadata": {},
   "outputs": [],
   "source": [
    "# suppose if the code is not with us ( we are importing it ) or we don't have access to the function\n",
    "# then we can use decorators to fullfill the same"
   ]
  },
  {
   "cell_type": "code",
   "execution_count": 1,
   "id": "b54ce97b",
   "metadata": {},
   "outputs": [
    {
     "name": "stdout",
     "output_type": "stream",
     "text": [
      "2.0\n"
     ]
    }
   ],
   "source": [
    "# example 1.0\n",
    "\n",
    "def div(a,b):\n",
    "    print(a/b)\n",
    "\n",
    "def smart_div(fun):\n",
    "    def inner(a,b):\n",
    "        if a<b:\n",
    "            a,b = b,a\n",
    "        return fun(a,b)\n",
    "    return inner\n",
    "\n",
    "def div(a,b):\n",
    "    print(a/b)\n",
    "\n",
    "div1 = smart_div(div) # here smart_div is acting as a decorator\n",
    "div1(2,4)"
   ]
  },
  {
   "cell_type": "code",
   "execution_count": 10,
   "id": "910eb544",
   "metadata": {},
   "outputs": [
    {
     "name": "stdout",
     "output_type": "stream",
     "text": [
      "2.0\n"
     ]
    }
   ],
   "source": [
    "# example 1.1 \n",
    "\n",
    "def smart_div(div):\n",
    "    def inner(a,b):\n",
    "        if a<b:\n",
    "            a,b = b,a\n",
    "        return div(a,b)\n",
    "    return inner\n",
    "\n",
    "@smart_div\n",
    "def div(c,d):\n",
    "    print(c/d)\n",
    "\n",
    "div(2,4)\n"
   ]
  },
  {
   "cell_type": "code",
   "execution_count": 1,
   "metadata": {},
   "outputs": [
    {
     "name": "stdout",
     "output_type": "stream",
     "text": [
      "0.5\n"
     ]
    }
   ],
   "source": [
    "def div(a,b):\n",
    "    print(a/b)\n",
    "\n",
    "div(2,4)"
   ],
   "id": "9d460acb219db939"
  },
  {
   "cell_type": "code",
   "execution_count": 28,
   "id": "682bc2fe",
   "metadata": {},
   "outputs": [
    {
     "name": "stdout",
     "output_type": "stream",
     "text": [
      "Something is happening before the function is called.\n",
      "Hello!\n",
      "Something is happening after the function is called.\n"
     ]
    }
   ],
   "source": [
    "# example 2.0\n",
    "\n",
    "def my_decorator(say_hello):\n",
    "    def wrapper():\n",
    "        print(\"Something is happening before the function is called.\")\n",
    "        say_hello()\n",
    "        print(\"Something is happening after the function is called.\")\n",
    "    return wrapper\n",
    "\n",
    "@my_decorator\n",
    "def say_hello():\n",
    "    print(\"Hello!\")      # exsisting function\n",
    "\n",
    "\n",
    "say_hello() # calling the decorated function\n"
   ]
  },
  {
   "cell_type": "code",
   "execution_count": null,
   "id": "f8319f15",
   "metadata": {},
   "outputs": [],
   "source": [
    "# example 3.0\n",
    "\n",
    "def add_extra_functionality(main_fun):\n",
    "    def inner_function():\n",
    "        print(\"execute first\")\n",
    "        main_fun()\n",
    "        print(\"execute second\")\n",
    "    return inner_function\n",
    "        \n",
    "@add_extra_functionality\n",
    "def main_function():\n",
    "    print('Hello how are you')\n",
    "       \n",
    "main_function()"
   ]
  },
  {
   "cell_type": "code",
   "execution_count": null,
   "id": "d38e38ed",
   "metadata": {},
   "outputs": [],
   "source": [
    "# example 4.0\n",
    "\n",
    "def reverse_decorator(function):\n",
    "    def reverse_wrapper():\n",
    "        make_reverse = \"\".join(reversed(function()))\n",
    "        return make_reverse\n",
    "\n",
    "    return reverse_wrapper\n",
    "\n",
    "\n",
    "def uppercase_decorator(fun):\n",
    "    def uppercase_wrapper():\n",
    "        var_uppercase = fun().upper()\n",
    "        return var_uppercase\n",
    "\n",
    "    return uppercase_wrapper\n",
    "\n",
    "\n",
    "@uppercase_decorator\n",
    "@reverse_decorator\n",
    "def say_hi():\n",
    "    return \"\"\"If you look at what you have in life,\n",
    "            you'll always have more.\n",
    "            If you look at what you don't have in life, you'll never have enough\"\"\"\n",
    "\n",
    "print(say_hi())\n",
    "\n",
    "\n",
    "\n",
    "def say_hello():\n",
    "    return \"hello\"\n",
    "\n",
    "print(say_hello())\n",
    "    "
   ]
  },
  {
   "cell_type": "code",
   "execution_count": null,
   "id": "05510cd1",
   "metadata": {},
   "outputs": [],
   "source": [
    "# example 5.0\n",
    "\n",
    "import time\n",
    "\n",
    "def timer_function(func): # 3rd\n",
    "    def wrapper():\n",
    "        start_time = time.time()\n",
    "        result = func()\n",
    "        end_time = time.time()\n",
    "        print(f\"\\nFunction {func.__name__} took {end_time - start_time} seconds to execute.\")\n",
    "        return result\n",
    "    return wrapper\n",
    "\n",
    "\n",
    "\n",
    "\n",
    "@timer_function\n",
    "def read_data(): # this second 2\n",
    "    lst = 50\n",
    "    for i in range(lst):\n",
    "        print(i,end=' ')\n",
    "        \n",
    "\n",
    "@timer_function\n",
    "def read_data1():\n",
    "    lst1 = 100\n",
    "    for j in range(lst1):\n",
    "        print(j,end=' ')\n",
    "\n",
    "\n",
    "read_data()    # this is first 1\n",
    "read_data1()"
   ]
  },
  {
   "cell_type": "code",
   "execution_count": null,
   "id": "650a305e",
   "metadata": {},
   "outputs": [],
   "source": [
    "# ??????\n",
    "# example 6.0\n",
    "\n",
    "import logging\n",
    "\n",
    "logging.basicConfig(filename='example.log', level=logging.INFO)\n",
    "\n",
    "def log_decorator(func):\n",
    "    def wrapper(*args, **kwargs):\n",
    "        try:\n",
    "            logging.info(f\"Entering function {func.__name__} with args: {args}, kwargs: {kwargs}\")\n",
    "            result = func(*args, **kwargs)\n",
    "            logging.info(f\"Exiting function {func.__name__} with result: {result}\")\n",
    "            return result\n",
    "        except Exception as e:\n",
    "            logging.error(f\"Error in function {func.__name__}: {e}\")\n",
    "            raise e\n",
    "    return wrapper\n",
    "\n",
    "\n",
    "@log_decorator\n",
    "def my_function(x, y):\n",
    "    if x < 0 or y < 0:\n",
    "        raise ValueError(\"x and y must be non-negative\")\n",
    "    return x + y\n",
    "\n",
    "abc = my_function(2, 3)\n",
    "print(abc)\n",
    "\n",
    "\n",
    "@log_decorator\n",
    "def divide_function(a,b):\n",
    "    if b <= 0:\n",
    "        raise ZeroDivisionError(\"pls enter the number greater than 0\")\n",
    "    return a/b\n",
    "\n",
    "\n",
    "asd = divide_function(10,5)\n",
    "print(asd)\n",
    "\n"
   ]
  },
  {
   "cell_type": "code",
   "execution_count": null,
   "id": "7c3662cf",
   "metadata": {},
   "outputs": [],
   "source": [
    "asd = divide_function(10,0)\n",
    "print(abc)  "
   ]
  },
  {
   "cell_type": "code",
   "execution_count": null,
   "id": "5a6d2ec0",
   "metadata": {},
   "outputs": [],
   "source": [
    "# example 7.0\n",
    "\n",
    "import logging\n",
    "\n",
    "def log_function_call(func):\n",
    "    def decorated(*args, **kwargs):\n",
    "        logging.info(f\"Calling {func.__name__} with args={args}, kwargs={kwargs}\")\n",
    "        result = func(*args, **kwargs)\n",
    "        logging.info(f\"{func.__name__} returned {result}\")\n",
    "        return result\n",
    "    return decorated\n",
    "\n",
    "@log_function_call\n",
    "def my_function(a, b):\n",
    "    return a + b\n",
    "\n",
    "a = my_function(2,4)\n",
    "\n",
    "print(a)"
   ]
  },
  {
   "cell_type": "code",
   "execution_count": null,
   "id": "a098262f",
   "metadata": {},
   "outputs": [],
   "source": [
    "def div(a,b):\n",
    "    return a/b\n",
    "\n",
    "c = div(2/4)"
   ]
  },
  {
   "cell_type": "code",
   "execution_count": null,
   "id": "078618a1",
   "metadata": {},
   "outputs": [],
   "source": []
  },
  {
   "attachments": {},
   "cell_type": "markdown",
   "id": "6880f8ec",
   "metadata": {},
   "source": [
    "# Generators"
   ]
  },
  {
   "cell_type": "code",
   "execution_count": null,
   "id": "e752afb7",
   "metadata": {},
   "outputs": [],
   "source": [
    "# 𝗣𝘆𝘁𝗵𝗼𝗻 𝗳𝘂𝗻𝗰𝘁𝗶𝗼𝗻  - A Python function is a block of code that is defined using the def keyword and is used to perform a specific task. \n",
    "                    # When a function is called, it will execute the code within its block and may return a value. \n",
    "                    # The function can be called multiple times to perform the same action.\n",
    "\n",
    "# 𝗣𝘆𝘁𝗵𝗼𝗻 𝗴𝗲𝗻𝗲𝗿𝗮𝘁𝗼𝗿 - A Python generator, on the other hand, is a special type of function that returns an iterator object. \n",
    "                    # This iterator can be used to access a sequence of values, one at a time. \n",
    "                    # Generators are defined using the yield keyword, which tells the generator to pause execution and return the next value in the sequence. \n",
    "\n",
    "# Unlike a regular function, a generator does not generate the entire sequence at once. \n",
    "# Instead, it only produces the next value in the sequence when it is requested by the caller. \n",
    "# This allows for more efficient memory usage and allows the generator to produce an infinite sequence.\n",
    "\n",
    "# a generator is a function that returns an iterator that produces a sequence of values when iterated over.\n",
    "# Generators are useful when we want to produce a large sequence of values, but we don't want to store all of them in memory at once."
   ]
  },
  {
   "attachments": {
    "image.png": {
     "image/png": "[encoded data removed]"
    }
   },
   "cell_type": "markdown",
   "id": "6a5301d6",
   "metadata": {},
   "source": [
    "![image.png](attachment:image.png)"
   ]
  },
  {
   "attachments": {},
   "cell_type": "markdown",
   "id": "6a4e7eea",
   "metadata": {},
   "source": [
    "video link depecting the difference between Decorators and Generators\n",
    "\n",
    "https://media.licdn.com/dms/image/C4E22AQEVl1UrEQd0AA/feedshare-shrink_2048_1536/0/1670422885977?e=1684972800&v=beta&t=pbhEOccj3jOWMqorlLFeUugKDQV9Ctw5msQzT86MRqY"
   ]
  },
  {
   "cell_type": "code",
   "execution_count": 15,
   "id": "012349ac",
   "metadata": {},
   "outputs": [
    {
     "name": "stdout",
     "output_type": "stream",
     "text": [
      "0\n",
      "0\n",
      "0\n"
     ]
    }
   ],
   "source": [
    "# example 2.0\n",
    "\n",
    "def squares(n):\n",
    "    for i in range(n):\n",
    "        return i**2\n",
    "\n",
    "gen_obj = squares(10)\n",
    "print(gen_obj)\n",
    "print(gen_obj)\n",
    "print(gen_obj)\n",
    "\n",
    "# here return prints the same object again and again\n"
   ]
  },
  {
   "cell_type": "code",
   "execution_count": 16,
   "id": "b4b8d0f1",
   "metadata": {},
   "outputs": [
    {
     "name": "stdout",
     "output_type": "stream",
     "text": [
      "Hello\n",
      "how are you\n",
      "i am fine\n"
     ]
    }
   ],
   "source": [
    "# example 1.0\n",
    "\n",
    "def generator():           # generator function\n",
    "    yield \"Hello\"\n",
    "    yield \"how are you\"\n",
    "    yield \"i am fine\"\n",
    "     \n",
    "generator()               # generator object which is iterable (we can iterate over it to get sequence of values)\n",
    "\n",
    "for i in generator():\n",
    "    print(i)\n",
    "\n"
   ]
  },
  {
   "cell_type": "code",
   "execution_count": 20,
   "id": "b9d55590",
   "metadata": {},
   "outputs": [
    {
     "name": "stdout",
     "output_type": "stream",
     "text": [
      "<generator object squares at 0x000002BBC7307E00>\n",
      "0\n",
      "1\n",
      "4\n",
      "9\n",
      "16\n",
      "25\n",
      "36\n",
      "49\n"
     ]
    }
   ],
   "source": [
    "# example 2.1\n",
    "\n",
    "def squares(n):\n",
    "    for i in range(n):\n",
    "        yield i**2\n",
    "\n",
    "gen_obj = squares(10)\n",
    "print(gen_obj) # \n",
    "\n",
    "print(next(gen_obj))\n",
    "print(next(gen_obj))\n",
    "print(next(gen_obj))\n",
    "print(next(gen_obj))\n",
    "print(next(gen_obj))\n",
    "print(next(gen_obj))\n",
    "print(next(gen_obj))\n",
    "print(next(gen_obj))\n",
    "\n",
    "# generator iterates the next object\n"
   ]
  },
  {
   "cell_type": "code",
   "execution_count": 27,
   "id": "a14cd86f",
   "metadata": {},
   "outputs": [
    {
     "name": "stdout",
     "output_type": "stream",
     "text": [
      "<generator object squares at 0x000002BBC7305B10>\n",
      "0\n",
      "1\n",
      "4\n",
      "9\n",
      "16\n",
      "25\n",
      "36\n",
      "49\n",
      "64\n",
      "81\n"
     ]
    }
   ],
   "source": [
    "def squares(n):\n",
    "    for i in range(n):\n",
    "        yield i**2\n",
    "\n",
    "gen_obj = squares(10)\n",
    "print(gen_obj)\n",
    "\n",
    "for i in gen_obj:\n",
    "    print(i)"
   ]
  },
  {
   "cell_type": "code",
   "execution_count": 18,
   "id": "0dc9afbb",
   "metadata": {},
   "outputs": [
    {
     "name": "stdout",
     "output_type": "stream",
     "text": [
      "SHAUN\n",
      "BRETT\n",
      "MATHEW\n",
      "MICHALINDIA IS MY COUNTRY..!!\n",
      "CAPITAL CITY IS DELHI..!!\n"
     ]
    }
   ],
   "source": [
    "# example 3.0\n",
    "\n",
    "def process_file(filename):\n",
    "    with open(filename) as file:\n",
    "        for line in file:\n",
    "            processed_line = line.strip().upper() # does some processing on the line\n",
    "            yield processed_line # yield the processed line \n",
    "            # there are 5 line in the file. \n",
    "            # so here 5 yield statement are created and are then itereted by the for loop outside the function\n",
    "          \n",
    "file_gen = process_file(\"abcd.txt\")\n",
    "for i in range(5):\n",
    "    print(next(file_gen))\n"
   ]
  },
  {
   "cell_type": "code",
   "execution_count": 19,
   "id": "bbcdf0f9",
   "metadata": {},
   "outputs": [
    {
     "name": "stdout",
     "output_type": "stream",
     "text": [
      "0\n",
      "1\n",
      "2\n"
     ]
    }
   ],
   "source": [
    "# example 4.0\n",
    "\n",
    "# this looks like an iterator???\n",
    "\n",
    "abc = (i for i in range(10))\n",
    "\n",
    "print(next(abc))\n",
    "print(next(abc))\n",
    "print(next(abc))\n"
   ]
  },
  {
   "cell_type": "code",
   "execution_count": 6,
   "id": "c5003158",
   "metadata": {},
   "outputs": [
    {
     "name": "stdout",
     "output_type": "stream",
     "text": [
      "0\n",
      "1\n",
      "2\n",
      "3\n",
      "4\n",
      "5\n",
      "6\n",
      "7\n",
      "9\n"
     ]
    }
   ],
   "source": [
    "\n",
    "abc = (i for i in range(10))\n",
    "\n",
    "for j in abc:\n",
    "    if j == 8:\n",
    "        continue\n",
    "        \n",
    "    print(j)\n"
   ]
  },
  {
   "cell_type": "code",
   "execution_count": null,
   "id": "36cb0b69",
   "metadata": {},
   "outputs": [],
   "source": [
    "\n",
    "def fun():\n",
    "    abc = (i for i in range(10))\n",
    "\n",
    "    for j in abc:\n",
    "        if j == 8:\n",
    "            continue\n",
    "        \n",
    "        print(j)\n",
    "\n",
    "fun()\n",
    "   \n",
    "\n",
    "# now this function seems to do the same job as iterator?????"
   ]
  },
  {
   "cell_type": "code",
   "execution_count": null,
   "id": "852a2bee",
   "metadata": {},
   "outputs": [],
   "source": [
    "# Advantages of Generator Functions:\n",
    "\n",
    "# 1. when compared with class level iterators, generators are very easy to use\n",
    "# 2. Improves memory utilization and performance.\n",
    "# 3. Generators are best suitable for reading data from large number of large files\n",
    "# 4. Generators work great for web scraping and crawling."
   ]
  },
  {
   "cell_type": "code",
   "execution_count": null,
   "id": "5afa60a6",
   "metadata": {},
   "outputs": [],
   "source": [
    "# Generators vs Normal Collections wrt Memory Utilization:\n"
   ]
  },
  {
   "cell_type": "code",
   "execution_count": null,
   "id": "af23f091",
   "metadata": {},
   "outputs": [],
   "source": [
    "\n",
    "# Normal Collection:\n",
    "\n",
    "l=[x*x for x in range(10000000000000000)]\n",
    "print(l[0])\n",
    "# We will get MemoryError in this case because all these values are required to store in the memory.\n",
    "\n"
   ]
  },
  {
   "cell_type": "code",
   "execution_count": 7,
   "id": "1294a87c",
   "metadata": {},
   "outputs": [
    {
     "name": "stdout",
     "output_type": "stream",
     "text": [
      "0\n",
      "1\n",
      "4\n",
      "9\n",
      "16\n",
      "25\n",
      "36\n",
      "49\n"
     ]
    }
   ],
   "source": [
    "\n",
    "# Generators:\n",
    "\n",
    "g=(x*x for x in range(10000000000000000))\n",
    "print(next(g))\n",
    "print(next(g))\n",
    "print(next(g))\n",
    "print(next(g))\n",
    "print(next(g))\n",
    "print(next(g))\n",
    "print(next(g))\n",
    "print(next(g))\n",
    "# Output: 0\n",
    "# We won't get any MemoryError because the values won't be stored at the beginning"
   ]
  },
  {
   "attachments": {},
   "cell_type": "markdown",
   "id": "1191f9a1",
   "metadata": {},
   "source": [
    "# Practice"
   ]
  },
  {
   "cell_type": "code",
   "execution_count": null,
   "id": "b38ceed9",
   "metadata": {},
   "outputs": [],
   "source": [
    "# Iterators (see the video again)\n",
    "\n",
    "# An iterator in Python is an object that contains a countable number of elements that can be iterated upon."
   ]
  },
  {
   "cell_type": "code",
   "execution_count": 9,
   "id": "011b490c",
   "metadata": {},
   "outputs": [
    {
     "name": "stdout",
     "output_type": "stream",
     "text": [
      "1\n",
      "2\n",
      "3\n",
      "4\n",
      "5\n",
      "<class 'list_iterator'>\n"
     ]
    }
   ],
   "source": [
    "# Define a list\n",
    "my_list = [1, 2, 3, 4, 5]\n",
    "\n",
    "# Create an iterator object\n",
    "my_iterator = iter(my_list)\n",
    "\n",
    "# Iterate over the elements using a loop\n",
    "for item in my_iterator:\n",
    "    print(item)\n",
    "\n",
    "print(type(my_iterator))"
   ]
  },
  {
   "cell_type": "code",
   "execution_count": 10,
   "id": "8c8ef910",
   "metadata": {},
   "outputs": [
    {
     "name": "stdout",
     "output_type": "stream",
     "text": [
      "1\n",
      "2\n"
     ]
    }
   ],
   "source": [
    "my_iterator = iter(my_list)\n",
    "\n",
    "print(next(my_iterator))  # Prints 1\n",
    "print(next(my_iterator))  # Prints 2\n"
   ]
  },
  {
   "cell_type": "code",
   "execution_count": 11,
   "id": "caf9129a",
   "metadata": {},
   "outputs": [
    {
     "name": "stdout",
     "output_type": "stream",
     "text": [
      "5\n",
      "7\n",
      "8\n",
      "9\n",
      "5\n"
     ]
    }
   ],
   "source": [
    "nums = [7,8,9,5]\n",
    "\n",
    "print(nums[3]) \n",
    "\n",
    "for i in nums:\n",
    "    print(i)\n",
    "\n",
    "# this can also be done using iterators"
   ]
  },
  {
   "cell_type": "code",
   "execution_count": 12,
   "id": "4d97baa5",
   "metadata": {},
   "outputs": [
    {
     "name": "stdout",
     "output_type": "stream",
     "text": [
      "<list_iterator object at 0x000002BBC6CA3430>\n",
      "7\n",
      "8\n"
     ]
    }
   ],
   "source": [
    "# let's see how\n",
    "\n",
    "it = iter(nums)\n",
    "print(it) # this prints the object of the iterator \n",
    "\n",
    "print(it.__next__()) # this gives the first value (same as index value)\n",
    "print(it.__next__()) # this gives the second value\n"
   ]
  },
  {
   "cell_type": "code",
   "execution_count": 13,
   "id": "ff267268",
   "metadata": {},
   "outputs": [
    {
     "name": "stdout",
     "output_type": "stream",
     "text": [
      "9\n"
     ]
    }
   ],
   "source": [
    "print(next(it)) # see we are getting the 3rd value here"
   ]
  },
  {
   "cell_type": "code",
   "execution_count": 14,
   "id": "45837ec3",
   "metadata": {},
   "outputs": [
    {
     "name": "stdout",
     "output_type": "stream",
     "text": [
      "7\n",
      "8\n",
      "9\n",
      "5\n"
     ]
    }
   ],
   "source": [
    "for i in nums:\n",
    "    print(i)"
   ]
  },
  {
   "cell_type": "code",
   "execution_count": null,
   "id": "2817f747",
   "metadata": {},
   "outputs": [],
   "source": [
    "# all these are inbuilt ojects"
   ]
  },
  {
   "cell_type": "code",
   "execution_count": 15,
   "id": "35111c11",
   "metadata": {},
   "outputs": [
    {
     "name": "stdout",
     "output_type": "stream",
     "text": [
      "1\n",
      "2\n",
      "3\n",
      "4\n",
      "5\n",
      "6\n",
      "7\n",
      "8\n",
      "9\n",
      "10\n"
     ]
    }
   ],
   "source": [
    "# what if you want to create your own iterator \n",
    "\n",
    "# i want to print the topten values. one by one\n",
    "\n",
    "class TopTen:\n",
    "    def __init__(self):\n",
    "        self.num = 1\n",
    "    def __iter__(self):\n",
    "        return self\n",
    "    \n",
    "    def __next__(self): \n",
    "        if self.num <= 10:\n",
    "            val = self.num\n",
    "            self.num += 1\n",
    "\n",
    "            return val\n",
    "        else:\n",
    "            raise StopIteration\n",
    "\n",
    "values = TopTen()\n",
    "\n",
    "print(values.__next__())\n",
    "\n",
    "print(values.__next__())\n",
    "\n",
    "print(next(values))\n",
    "\n",
    "for i in values:\n",
    "    print(i)\n",
    "\n",
    "# when you want to create your own iterator you need two methods:\n",
    "# 1. iter() -- gives you the object of iterator\n",
    "# 2. next() -- gives you next value(object)\n",
    "\n"
   ]
  },
  {
   "cell_type": "code",
   "execution_count": null,
   "id": "93afb44c",
   "metadata": {},
   "outputs": [],
   "source": [
    "# we use iterators to fetch one value at a time\n",
    "\n",
    "# if we have a list of value. let's say 100 values. and if you want one by one value\n",
    "# what makes sense is to use iterator\n",
    "\n",
    "\n",
    "# there are small issues with the iterator:\n",
    "# you need to get the iterator where you have to define those to functions next and iter\n",
    "# we do't want to do that we want python to do that for us\n",
    "\n",
    "# that's where generators comes into picture\n",
    "# generators gives you iterator\n"
   ]
  },
  {
   "cell_type": "code",
   "execution_count": 13,
   "id": "05af1d0d",
   "metadata": {},
   "outputs": [
    {
     "name": "stdout",
     "output_type": "stream",
     "text": [
      "<generator object topten at 0x000002403E7781A0>\n",
      "5\n"
     ]
    }
   ],
   "source": [
    "# how to create a generator \n",
    "\n",
    "# yield is a special keyword which will make your function as a generator\n",
    "# yield returns the value in the form of iterator\n",
    "\n",
    "def topten():\n",
    "\n",
    "\n",
    "    yield 5\n",
    "\n",
    "\n",
    "values = topten()\n",
    "\n",
    "print(values) # using yield insted of getting value 5. we got a object of generator\n",
    "\n",
    "\n",
    "# we know if we want to fetch something from a iterator we use next\n",
    "\n",
    "print(values.__next__()) # this gives 5\n",
    "\n",
    "print(next(values)) \n"
   ]
  },
  {
   "cell_type": "code",
   "execution_count": 14,
   "metadata": {},
   "outputs": [
    {
     "name": "stdout",
     "output_type": "stream",
     "text": [
      "<generator object topten at 0x000002403E7783B0>\n",
      "5\n"
     ]
    }
   ],
   "source": [
    "\n",
    "def topten():\n",
    "\n",
    "\n",
    "    yield 5\n",
    "\n",
    "\n",
    "values = topten()\n",
    "\n",
    "print(values) \n",
    "\n",
    "print(next(values)) \n",
    "\n"
   ],
   "id": "f41225008313a856"
  },
  {
   "cell_type": "code",
   "execution_count": 6,
   "id": "092de9ef",
   "metadata": {},
   "outputs": [
    {
     "name": "stdout",
     "output_type": "stream",
     "text": [
      "1\n",
      "2\n",
      "3\n",
      "in for 4\n",
      "in for 5\n"
     ]
    }
   ],
   "source": [
    "\n",
    "# here we can write more than one yield \n",
    "\n",
    "def topten():\n",
    "    yield 1\n",
    "    yield 2\n",
    "    yield 3\n",
    "    yield 4\n",
    "    yield 5\n",
    "\n",
    "\n",
    "values = topten()\n",
    "\n",
    "print(values.__next__())  # this gives first value\n",
    "print(values.__next__())\n",
    "print(next(values))\n",
    "\n",
    "for i in values:\n",
    "    print(\"in for\",i)\n",
    "\n",
    "\n",
    "# this how you can create generator by using one particular keyword that is yield\n",
    "# "
   ]
  },
  {
   "cell_type": "code",
   "execution_count": null,
   "id": "61c4cab4",
   "metadata": {},
   "outputs": [],
   "source": [
    "# We want to print topten perfect square\n",
    "\n",
    "def topten():\n",
    "    n = 1\n",
    "    # to print perfect square we have to use loop\n",
    "    # we will not be using for loop here. because indirectly for uses iterator\n",
    "\n",
    "    while n <= 10:\n",
    "        sq = n*n\n",
    "        yield sq  # this almost same as return. but return will terminate the function.  this will not\n",
    "        n += 1      \n",
    "\n",
    "\n",
    "values = topten()\n",
    "print(values)\n",
    "\n",
    "for i  in values:\n",
    "    print(i)\n",
    "\n",
    "\n",
    "\n",
    "# why someone will use a generator\n",
    "# let's say you are fetching 1000 records from a database\n",
    "# all this 1000 records will be loaded in your memory\n",
    "# we don't want that \n",
    "# also we want to work with one value at a time\n",
    "# in that case we can use generator\n"
   ]
  },
  {
   "cell_type": "code",
   "execution_count": null,
   "id": "2fa2b947",
   "metadata": {},
   "outputs": [],
   "source": [
    "################################################################"
   ]
  },
  {
   "cell_type": "code",
   "execution_count": null,
   "id": "ee733686",
   "metadata": {},
   "outputs": [],
   "source": [
    "# iterable -\n",
    "# iterator - \n",
    "# iteration - "
   ]
  },
  {
   "cell_type": "code",
   "execution_count": 31,
   "id": "2db5ccab",
   "metadata": {},
   "outputs": [
    {
     "name": "stdout",
     "output_type": "stream",
     "text": [
      "0\n",
      "1\n",
      "4\n",
      "9\n",
      "16\n"
     ]
    }
   ],
   "source": [
    "def square_generator(n):\n",
    "    for i in range(n):\n",
    "        yield i ** 2\n",
    "\n",
    "# Using the generator to generate squares of numbers up to 5\n",
    "squares = square_generator(5)\n",
    "\n",
    "# Iterating through the generator to retrieve values\n",
    "for square in squares:\n",
    "    print(square)\n"
   ]
  },
  {
   "cell_type": "code",
   "execution_count": 36,
   "id": "abeda347",
   "metadata": {},
   "outputs": [
    {
     "name": "stdout",
     "output_type": "stream",
     "text": [
      "0\n",
      "1\n",
      "4\n",
      "9\n"
     ]
    }
   ],
   "source": [
    "def square_generator(n):\n",
    "    for i in range(n):\n",
    "        yield i ** 2\n",
    "\n",
    "s = square_generator(4)\n",
    "\n",
    "print(next(s))\n",
    "print(next(s))\n",
    "print(next(s))\n",
    "print(next(s))\n"
   ]
  },
  {
   "cell_type": "code",
   "execution_count": 5,
   "id": "ac03d001",
   "metadata": {},
   "outputs": [
    {
     "name": "stdout",
     "output_type": "stream",
     "text": [
      "1\n",
      "4\n",
      "9\n"
     ]
    }
   ],
   "source": [
    "def squares(n):\n",
    "    i=1\n",
    "    while(i<=n):\n",
    "        yield i**2\n",
    "        i+=1\n",
    "        \n",
    "for i in squares(7):\n",
    "    print(i)\n"
   ]
  },
  {
   "cell_type": "code",
   "execution_count": null,
   "id": "a0d9612e",
   "metadata": {},
   "outputs": [],
   "source": [
    "def squares(n):\n",
    "    i=1\n",
    "    while(i<=n):\n",
    "        yield i**2\n",
    "        i+=1\n",
    "        \n",
    "n = squares(7)\n",
    "\n",
    "print(next(n))\n",
    "print(next(n))\n",
    "print(next(n))"
   ]
  },
  {
   "cell_type": "code",
   "execution_count": null,
   "id": "dd7d7d4a",
   "metadata": {},
   "outputs": [],
   "source": []
  },
  {
   "cell_type": "code",
   "execution_count": null,
   "id": "1aae3c41",
   "metadata": {},
   "outputs": [],
   "source": []
  }
 ],
 "metadata": {
  "kernelspec": {
   "display_name": "Python 3 (ipykernel)",
   "language": "python",
   "name": "python3"
  },
  "language_info": {
   "codemirror_mode": {
    "name": "ipython",
    "version": 3
   },
   "file_extension": ".py",
   "mimetype": "text/x-python",
   "name": "python",
   "nbconvert_exporter": "python",
   "pygments_lexer": "ipython3",
   "version": "3.11.3"
  }
 },
 "nbformat": 4,
 "nbformat_minor": 5
}
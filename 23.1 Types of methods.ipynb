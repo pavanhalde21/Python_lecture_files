{
 "cells": [
  {
   "cell_type": "code",
   "execution_count": null,
   "id": "b0cea89d",
   "metadata": {},
   "outputs": [],
   "source": [
    "# Types of Methods/Functions"
   ]
  },
  {
   "cell_type": "code",
   "execution_count": null,
   "id": "aada0cee",
   "metadata": {},
   "outputs": [],
   "source": [
    "# 1. Instance method\n",
    "# 2. class method\n",
    "# 3. static method"
   ]
  },
  {
   "cell_type": "code",
   "execution_count": null,
   "id": "41c441c6",
   "metadata": {},
   "outputs": [],
   "source": [
    "# 1. Instance method"
   ]
  },
  {
   "cell_type": "code",
   "execution_count": null,
   "id": "83475cc2",
   "metadata": {},
   "outputs": [],
   "source": [
    "\n",
    "# -- Inside method implementation if we are using instance variables then such type of methods are called instance methods.\n",
    "# -- Inside instance method declaration, we have to pass self variable."
   ]
  },
  {
   "cell_type": "code",
   "execution_count": null,
   "id": "c7130437",
   "metadata": {},
   "outputs": [],
   "source": [
    "class Person:\n",
    "    def __init__(self, name, age):    # defining variables in constructor\n",
    "        self.name = name\n",
    "        self.age = age\n",
    "\n",
    "    def greeting(self): # instance method\n",
    "        print(\"Hello, my name is\", self.name, \"and I am\", self.age, \"years old.\")\n",
    "\n",
    "person1 = Person(\"John\", 30)\n",
    "person2 = Person(\"Steven\",40)\n",
    "person1.greeting() \n",
    "person2.greeting()\n"
   ]
  },
  {
   "cell_type": "code",
   "execution_count": null,
   "id": "9feeca64",
   "metadata": {},
   "outputs": [],
   "source": [
    "# use of instance method\n",
    "\n",
    "class Rectangle:\n",
    "    def __init__(self, length, width):\n",
    "        self.length = length\n",
    "        self.width = width\n",
    "\n",
    "    def area(self):\n",
    "        return self.length * self.width\n",
    "\n",
    "    def perimeter(self):\n",
    "        return 2 * (self.length + self.width)\n",
    "\n",
    "my_rectangle = Rectangle(5, 10)\n",
    "your_rectangular = Rectangle(10, 20)\n",
    "\n",
    "print(\"Area:\", my_rectangle.area())\n",
    "print(\"Perimeter:\", my_rectangle.perimeter())\n",
    "\n",
    "print(\"Area:\", your_rectangular.area())\n",
    "print(\"Perimeter:\", your_rectangular.perimeter())"
   ]
  },
  {
   "cell_type": "code",
   "execution_count": null,
   "id": "6ceed1fb",
   "metadata": {},
   "outputs": [],
   "source": [
    "# The reason for using instance methods in this case is that the calculations depend on the values of the instance variables (length and width). \n",
    "# Each instance of the class may have different values for these variables, so we need to calculate the area and perimeter of each instance separately.\n",
    "# By using instance methods, we can access the instance variables of each object and perform the calculations accordingly."
   ]
  },
  {
   "cell_type": "code",
   "execution_count": 2,
   "id": "f5e77b77",
   "metadata": {},
   "outputs": [
    {
     "name": "stdout",
     "output_type": "stream",
     "text": [
      "Alice\n",
      "Steven\n"
     ]
    }
   ],
   "source": [
    "# getter and setter\n",
    "\n",
    "class Person:\n",
    "    def __init__(self, name):\n",
    "        self._name = name\n",
    "\n",
    "    def get_name(self):                 # Instance method (getter method)\n",
    "        return self._name\n",
    "\n",
    "    def set_name(self, name):           # Instance method (setter method)\n",
    "        if not name:\n",
    "            raise ValueError(\"Name cannot be empty\")\n",
    "        self._name = name\n",
    "\n",
    "person1 = Person(\"Alice\")\n",
    "print(person1.get_name()) \n",
    "# print(person1.name) # error # as name is't any variable in the given class\n",
    "person1.set_name(\"Steven\")\n",
    "print(person1.get_name()) \n",
    "\n",
    "# set_name method is provides validating the name attribute should not be empty or None to avoide the \n",
    "# interuuption in flow of code so here we are explicitly writting the error msg"
   ]
  },
  {
   "cell_type": "code",
   "execution_count": 4,
   "id": "6162451e",
   "metadata": {},
   "outputs": [
    {
     "ename": "AttributeError",
     "evalue": "'Person' object has no attribute 'name'",
     "output_type": "error",
     "traceback": [
      "\u001b[1;31m---------------------------------------------------------------------------\u001b[0m",
      "\u001b[1;31mAttributeError\u001b[0m                            Traceback (most recent call last)",
      "\u001b[1;32md:\\_02_CS\\02_PYTHON\\Lecture_Files\\23.1 Types of methods.ipynb Cell 9\u001b[0m line \u001b[0;36m1\n\u001b[0;32m     <a href='vscode-notebook-cell:/d%3A/_02_CS/02_PYTHON/Lecture_Files/23.1%20Types%20of%20methods.ipynb#X11sZmlsZQ%3D%3D?line=13'>14</a>\u001b[0m ob1 \u001b[39m=\u001b[39m Person(\u001b[39m\"\u001b[39m\u001b[39mPavan\u001b[39m\u001b[39m\"\u001b[39m)\n\u001b[0;32m     <a href='vscode-notebook-cell:/d%3A/_02_CS/02_PYTHON/Lecture_Files/23.1%20Types%20of%20methods.ipynb#X11sZmlsZQ%3D%3D?line=14'>15</a>\u001b[0m ob1\u001b[39m.\u001b[39mset_name(\u001b[39m\"\u001b[39m\u001b[39mShiva\u001b[39m\u001b[39m\"\u001b[39m)\n\u001b[1;32m---> <a href='vscode-notebook-cell:/d%3A/_02_CS/02_PYTHON/Lecture_Files/23.1%20Types%20of%20methods.ipynb#X11sZmlsZQ%3D%3D?line=15'>16</a>\u001b[0m ob1\u001b[39m.\u001b[39;49mpr()\n\u001b[0;32m     <a href='vscode-notebook-cell:/d%3A/_02_CS/02_PYTHON/Lecture_Files/23.1%20Types%20of%20methods.ipynb#X11sZmlsZQ%3D%3D?line=17'>18</a>\u001b[0m \u001b[39m# why error every where??????????????\u001b[39;00m\n",
      "\u001b[1;32md:\\_02_CS\\02_PYTHON\\Lecture_Files\\23.1 Types of methods.ipynb Cell 9\u001b[0m line \u001b[0;36m1\n\u001b[0;32m     <a href='vscode-notebook-cell:/d%3A/_02_CS/02_PYTHON/Lecture_Files/23.1%20Types%20of%20methods.ipynb#X11sZmlsZQ%3D%3D?line=9'>10</a>\u001b[0m \u001b[39mdef\u001b[39;00m \u001b[39mpr\u001b[39m(\u001b[39mself\u001b[39m):\n\u001b[1;32m---> <a href='vscode-notebook-cell:/d%3A/_02_CS/02_PYTHON/Lecture_Files/23.1%20Types%20of%20methods.ipynb#X11sZmlsZQ%3D%3D?line=10'>11</a>\u001b[0m     \u001b[39mprint\u001b[39m(\u001b[39mf\u001b[39m\u001b[39m\"\u001b[39m\u001b[39m{\u001b[39;00m\u001b[39mself\u001b[39;49m\u001b[39m.\u001b[39;49mname\u001b[39m}\u001b[39;00m\u001b[39m\"\u001b[39m)\n",
      "\u001b[1;31mAttributeError\u001b[0m: 'Person' object has no attribute 'name'"
     ]
    }
   ],
   "source": [
    "class Person:\n",
    "    def __init__(self, name):\n",
    "        self._name = name\n",
    "\n",
    "    def set_name(self, name):\n",
    "        # print(f\"{self.name}\")\n",
    "        self._name = name\n",
    "        # print(f\"{self.name}\")\n",
    "\n",
    "    def pr(self):\n",
    "        print(f\"{self.name}\")\n",
    "        \n",
    "\n",
    "ob1 = Person(\"Pavan\")\n",
    "ob1.set_name(\"Shiva\")\n",
    "# ob1.pr()\n",
    "\n",
    "# why error every where??????????????"
   ]
  },
  {
   "cell_type": "code",
   "execution_count": 1,
   "id": "cf728ce5",
   "metadata": {},
   "outputs": [
    {
     "name": "stdout",
     "output_type": "stream",
     "text": [
      "Name: John\n",
      "Age: 30\n",
      "Address: 123 Main St\n"
     ]
    }
   ],
   "source": [
    "class Person:\n",
    "    def set_info(self, name, age, address):   # instance method (setter method)\n",
    "        self.name = name\n",
    "        self.age = age\n",
    "        self.address = address\n",
    "\n",
    "    def print_info(self):                     # instance method (getter method)\n",
    "        print(\"Name:\", self.name)\n",
    "        print(\"Age:\", self.age)\n",
    "        print(\"Address:\", self.address)\n",
    "\n",
    "person1 = Person()\n",
    "person1.set_info(\"John\", 30, \"123 Main St\")\n",
    "person1.print_info()\n"
   ]
  },
  {
   "cell_type": "code",
   "execution_count": null,
   "id": "8ece6d33",
   "metadata": {},
   "outputs": [],
   "source": [
    "# 2. class Methods"
   ]
  },
  {
   "cell_type": "code",
   "execution_count": null,
   "id": "1c702866",
   "metadata": {},
   "outputs": [],
   "source": [
    "# -- Inside method implementation if we are using only class variables (static variables), then such type\n",
    "#    of methods we should declare as class method.\n",
    "    \n",
    "# -- We can declare class method explicitly by using @classmethod decorator.\n",
    "#    For class method we should provide cls variable at the time of declaration"
   ]
  },
  {
   "cell_type": "code",
   "execution_count": 5,
   "id": "1ca01531",
   "metadata": {},
   "outputs": [
    {
     "name": "stdout",
     "output_type": "stream",
     "text": [
      "DOG walks with 4 legs...\n",
      "CAT walks with 4 legs...\n",
      "lion walks with 4 legs...\n"
     ]
    }
   ],
   "source": [
    "class Animal:\n",
    "    legs = 4\n",
    "    \n",
    "    @classmethod\n",
    "    def walk(cls,name):\n",
    "        print('{} walks with {} legs...'.format(name,cls.legs))\n",
    "    \n",
    "\n",
    "domestic_animal = Animal()\n",
    "wild_animal = Animal()\n",
    "\n",
    "domestic_animal.walk(\"DOG\")       \n",
    "Animal.walk(\"CAT\")       # without creating an object???\n",
    "wild_animal.walk(\"lion\")\n",
    "        "
   ]
  },
  {
   "cell_type": "code",
   "execution_count": 1,
   "id": "ce5e1f5f",
   "metadata": {},
   "outputs": [
    {
     "name": "stdout",
     "output_type": "stream",
     "text": [
      "Hello, my name is Alice\n",
      "Hello, my name is Bob\n",
      "Hello, my name is Don\n",
      "Hello, my name is Liessa\n",
      "Population: 4\n"
     ]
    }
   ],
   "source": [
    "# population counting\n",
    "\n",
    "class Person:\n",
    "    population = 0                  # class variable\n",
    "    \n",
    "    def __init__(self, name):\n",
    "        self.name = name\n",
    "        Person.population += 1\n",
    "    \n",
    "    def greet(self):\n",
    "        print(\"Hello, my name is\", self.name)\n",
    "    \n",
    "    @classmethod\n",
    "    def get_population(cls):\n",
    "        return cls.population \n",
    "\n",
    "\n",
    "person1 = Person(\"Alice\")\n",
    "person2 = Person(\"Bob\")\n",
    "person3 = Person('Don')\n",
    "person4 = Person('Liessa')\n",
    "\n",
    "person1.greet()\n",
    "person2.greet()\n",
    "person3.greet()\n",
    "person4.greet()\n",
    "\n",
    "print(\"Population:\", Person.get_population())\n"
   ]
  },
  {
   "cell_type": "code",
   "execution_count": null,
   "id": "45230434",
   "metadata": {},
   "outputs": [],
   "source": [
    "\n",
    "class Student:\n",
    "    total_students = 0\n",
    "    passing_score = 60\n",
    "    \n",
    "    def __init__(self, name, score):\n",
    "        self.name = name\n",
    "        self.score = score\n",
    "        Student.total_students += 1             # here we are counting the students\n",
    "    \n",
    "    def display(self):                          # this instance method is to display the information\n",
    "        print(\"Name:\", self.name)\n",
    "        print(\"Score:\", self.score)\n",
    "    \n",
    "    @classmethod                                # this class method is to set the passing score\n",
    "    def set_passing_score(cls, score):\n",
    "        cls.passing_score = score\n",
    "    \n",
    "    @classmethod                                # this class method is to split the input by, seperator\n",
    "    def from_string(cls, string):\n",
    "        name, score = string.split(\",\")\n",
    "        return cls(name, int(score))\n",
    "    \n",
    "    @classmethod                                # this class method to get the total student count\n",
    "    def get_total_students(cls):\n",
    "        return cls.total_students\n",
    "    \n",
    "    def is_passing(self):                       # instance mathod to comapre\n",
    "        return self.score >= Student.passing_score\n",
    "    \n",
    "    def display_passing_status(self):           # this checking the score and giving the status\n",
    "        if self.is_passing():\n",
    "            print(self.name, \"has passed\")\n",
    "        else:\n",
    "            print(self.name, \"has failed\")\n",
    "    \n",
    "\n",
    "# Set the passing score to 70\n",
    "Student.set_passing_score(70)\n",
    "\n",
    "# Create a new student object from a string\n",
    "student1 = Student.from_string(\"Alice,80\")\n",
    "student1.display()\n",
    "student1.display_passing_status()\n",
    "\n",
    "# Create another student object from a string\n",
    "student2 = Student.from_string(\"Bob,50\")\n",
    "student2.display()\n",
    "student2.display_passing_status()\n",
    "\n",
    "student3 = Student.from_string(\"Don,70\")\n",
    "student3.display()\n",
    "student3.display_passing_status()\n",
    "\n",
    "# Print the total number of students\n",
    "print(\"Total students:\", Student.get_total_students())\n"
   ]
  },
  {
   "cell_type": "code",
   "execution_count": null,
   "id": "60edbcb9",
   "metadata": {},
   "outputs": [],
   "source": [
    "# 3. Static Methods"
   ]
  },
  {
   "cell_type": "code",
   "execution_count": null,
   "id": "dc7a9483",
   "metadata": {},
   "outputs": [],
   "source": [
    "# -- In general these methods are general utility methods.\n",
    "# -- Inside these methods we won't use any instance or class variables.\n",
    "# -- Here we won't provide self or cls arguments at the time of declaration.\n",
    "\n",
    "# -- We can declare static method explicitly by using @staticmethod decorator\n",
    "# -- We can access static methods by using classname or object reference"
   ]
  },
  {
   "cell_type": "code",
   "execution_count": null,
   "id": "2dbf6f64",
   "metadata": {},
   "outputs": [],
   "source": [
    "class Calculator:\n",
    "    \n",
    "    @staticmethod\n",
    "    def add(x, y):\n",
    "        return x + y\n",
    "\n",
    "    @staticmethod\n",
    "    def subtract(x, y):\n",
    "        return x - y\n",
    "\n",
    "    @staticmethod\n",
    "    def multiply(x, y):\n",
    "        return x * y\n",
    "\n",
    "    @staticmethod\n",
    "    def divide(x, y):\n",
    "        if y == 0:\n",
    "            return \"Error: cannot divide by zero\"\n",
    "        else:\n",
    "            return x / y\n",
    "        \n",
    "    @staticmethod\n",
    "    def time():\n",
    "        print(\"The time is 9AM in the morning\")\n",
    "\n",
    "x = float(input(\"Enter the first number: \"))\n",
    "y = float(input(\"Enter the second number: \"))\n",
    "\n",
    "print(\"Sum:\", Calculator.add(x, y))\n",
    "print(\"Difference:\", Calculator.subtract(x, y))\n",
    "print(\"Product:\", Calculator.multiply(x, y))\n",
    "print(\"Quotient:\", Calculator.divide(x, y))\n",
    "\n",
    "\n",
    "adder = Calculator()\n",
    "print(adder.add(x,y))\n"
   ]
  },
  {
   "cell_type": "code",
   "execution_count": null,
   "id": "d431d718",
   "metadata": {},
   "outputs": [],
   "source": [
    "# -- The reason we've used static methods in this case is because these methods do not depend on the state of the class or the instance of the class. \n",
    "#    They simply perform a calculation based on the input values provided to them. \n",
    "\n",
    "# -- Since static methods do not have access to the instance or class variables,\n",
    "#    they are used when you need to define a utility function that does not rely on any internal state of the class or instance.\n",
    "\n",
    "# -- They simply take in two numbers as input, perform a calculation, and return the result.\n",
    "#    Therefore, they are good candidates for being defined as static methods."
   ]
  },
  {
   "cell_type": "code",
   "execution_count": null,
   "id": "450cb4af",
   "metadata": {},
   "outputs": [],
   "source": [
    "class Product:\n",
    "    def __init__(self, name, price):\n",
    "        self.name = name\n",
    "        self.price = price\n",
    "\n",
    "    @staticmethod\n",
    "    def calculate_total_price(products):\n",
    "        return sum(product.price for product in products)\n",
    "\n",
    "products = [\n",
    "    Product(\"iPhone\", 1000),\n",
    "    Product(\"iPad\", 500),\n",
    "    Product(\"MacBook\", 1500),\n",
    "]\n",
    "\n",
    "total_price = Product.calculate_total_price(products)\n",
    "print(total_price)\n"
   ]
  },
  {
   "cell_type": "code",
   "execution_count": null,
   "id": "e727bab7",
   "metadata": {},
   "outputs": [],
   "source": [
    "# 4. all methods in one class"
   ]
  },
  {
   "cell_type": "code",
   "execution_count": 2,
   "id": "0cdba316",
   "metadata": {},
   "outputs": [
    {
     "name": "stdout",
     "output_type": "stream",
     "text": [
      "John Doe\n",
      "Jane Smith\n",
      "50000\n",
      "52500\n",
      "1.05\n",
      "1.1\n",
      "True\n"
     ]
    }
   ],
   "source": [
    "class Employee:\n",
    "    raise_amount = 1.05\n",
    "\n",
    "    def __init__(self, first_name, last_name, salary):             # instance method\n",
    "        self.first_name = first_name\n",
    "        self.last_name = last_name\n",
    "        self.salary = salary\n",
    "\n",
    "    def full_name(self):                                           # instance method (getter method)\n",
    "        return f\"{self.first_name} {self.last_name}\"\n",
    "\n",
    "    def apply_raise(self):                                         # instance method (setter method)\n",
    "        self.salary = int(self.salary * self.raise_amount)\n",
    "\n",
    "    @staticmethod\n",
    "    def is_workday(day):                                           \n",
    "        if day.weekday() == 5 or day.weekday() == 6:               # static method\n",
    "            return False\n",
    "        return True\n",
    "\n",
    "    @classmethod                                          \n",
    "    def set_raise_amount(cls, amount):                             # class method\n",
    "        cls.raise_amount = amount\n",
    "\n",
    "# Example usage of the Employee class\n",
    "emp1 = Employee(\"John\", \"Doe\", 50000)\n",
    "emp2 = Employee(\"Jane\", \"Smith\", 60000)\n",
    "\n",
    "print(emp1.full_name())  # Output: John Doe\n",
    "print(emp2.full_name())  # Output: Jane Smith\n",
    "\n",
    "print(emp1.salary)       # Output: 50000\n",
    "emp1.apply_raise()\n",
    "print(emp1.salary)       # Output: 52500\n",
    "\n",
    "print(Employee.raise_amount)  # Output: 1.05\n",
    "Employee.set_raise_amount(1.10)\n",
    "print(Employee.raise_amount)  # Output: 1.10\n",
    "\n",
    "import datetime\n",
    "my_date = datetime.date(2023, 8, 17)  # replace with current date\n",
    "print(Employee.is_workday(my_date))  # Output: True\n"
   ]
  },
  {
   "cell_type": "code",
   "execution_count": null,
   "id": "331b0d87",
   "metadata": {},
   "outputs": [],
   "source": [
    "### exercise\n",
    "\n",
    "class Person():\n",
    "    def __init__(self, name, age, can_vote):\n",
    "        self.name = name\n",
    "        self.age = age\n",
    "        self.can_vote = can_vote\n",
    "\t\n",
    "    @staticmethod\n",
    "    def is_adult(age):\n",
    "        if age >= 18:\n",
    "            return True\n",
    "        else:\n",
    "            return False\n",
    "\t\t\n",
    "    @classmethod\t\n",
    "    def create(cls, name, age):\n",
    "        if cls.is_adult(age) == True:\n",
    "            return cls(name, age, \"Yes\")\n",
    "        else:\n",
    "            return cls(name, age, \"No\")\n",
    "\n",
    "st1 = Person.create(\"John\", 15)\n",
    "st2 = Person.create(\"Johny\", 20)\n",
    "\n",
    "print(\"Can\", st1.name, \"vote?\", st1.can_vote)\n",
    "print(\"Can\", st2.name, \"vote?\", st2.can_vote)\n"
   ]
  },
  {
   "cell_type": "code",
   "execution_count": null,
   "id": "a01eeb0a",
   "metadata": {},
   "outputs": [],
   "source": [
    "class Person:\n",
    "    village = 'Pune'\n",
    "    \n",
    "    "
   ]
  },
  {
   "attachments": {},
   "cell_type": "markdown",
   "id": "5fe2af0d",
   "metadata": {},
   "source": [
    "# Practice"
   ]
  },
  {
   "cell_type": "code",
   "execution_count": null,
   "id": "8dea1d11",
   "metadata": {},
   "outputs": [],
   "source": [
    "# TYPES OF METHODS\n",
    "# 1. Instance Methods\n",
    "# 2. Class Methods\n",
    "# 3. Static Methods\n",
    "\n",
    "# class methods and stastic methods are different (unlike class variables and static variables which are same)"
   ]
  },
  {
   "cell_type": "code",
   "execution_count": null,
   "id": "48a28bd1",
   "metadata": {},
   "outputs": [],
   "source": [
    "# 1. Instance Methods"
   ]
  },
  {
   "cell_type": "code",
   "execution_count": null,
   "id": "da95eeda",
   "metadata": {},
   "outputs": [],
   "source": [
    "class Student:\n",
    "    school = \"Telusko\"\n",
    "    def __init__(self, m1, m2, m3):\n",
    "        self.m1 = m1\n",
    "        self.m2 = m2\n",
    "        self.m3 = m3\n",
    "\n",
    "    def avg(self):\n",
    "        return (self.m1+self.m2+self.m3)/3\n",
    "\n",
    "s1 = Student(34,60,7) \n",
    "s2 = Student(34,65,72) \n",
    "\n",
    "print(s1.avg())\n",
    "print(s2.avg())"
   ]
  },
  {
   "cell_type": "code",
   "execution_count": null,
   "id": "ce8f2c30",
   "metadata": {},
   "outputs": [],
   "source": [
    "# we have two type of Instances \n",
    "\n",
    "# 1. Accessor Methods (getter methods):  we use this if we want to just fetch the values of the instance variable.\n",
    "# 2. Mutator Methods (setter methods):   we use thsi if we want to modify the values of the instance variables.\n"
   ]
  },
  {
   "cell_type": "code",
   "execution_count": null,
   "id": "39bb0bdd",
   "metadata": {},
   "outputs": [],
   "source": [
    "class Student:\n",
    "    school = \"Telusko\"\n",
    "    def __init__(self, m1, m2, m3):\n",
    "        self.m1 = m1\n",
    "        self.m2 = m2\n",
    "        self.m3 = m3\n",
    "\n",
    "    def avg(self):\n",
    "        return (self.m1+self.m2+self.m3)/3\n",
    "    \n",
    "    def get_m1(self): # getter methods\n",
    "        return self.m1\n",
    "    \n",
    "    def set_m1(self,value): # setter methods\n",
    "        self.m1 = value\n",
    "\n",
    "s1 = Student(34,60,7) \n",
    "s2 = Student(23,65,72) \n",
    "\n",
    "\n",
    "print(s1.get_m1())\n",
    "# print(s1.m1) # this also does the same job\n",
    "\n",
    "s1.set_m1 = 25\n",
    "print(s1.get_m1()) # it is not taking the value of from the setter method ??????\n",
    "\n",
    "print(s1.avg())\n",
    "print(s2.avg())"
   ]
  },
  {
   "cell_type": "code",
   "execution_count": null,
   "id": "8a4cb762",
   "metadata": {},
   "outputs": [],
   "source": [
    "# 2. Class Methods"
   ]
  },
  {
   "cell_type": "code",
   "execution_count": null,
   "id": "cf872a83",
   "metadata": {},
   "outputs": [],
   "source": [
    "class Student:\n",
    "    school = \"Telusko\"\n",
    "    def __init__(self, m1, m2, m3):\n",
    "        self.m1 = m1\n",
    "        self.m2 = m2\n",
    "        self.m3 = m3\n",
    "\n",
    "    def avg(self):\n",
    "        return (self.m1+self.m2+self.m3)/3\n",
    "    \n",
    "    @classmethod\n",
    "    def info(cls): # it should be cls\n",
    "        return cls.school\n",
    "\n",
    "s1 = Student(34,60,7) \n",
    "s2 = Student(34,65,72) \n",
    "\n",
    "print(Student.info())"
   ]
  },
  {
   "cell_type": "code",
   "execution_count": null,
   "id": "534af438",
   "metadata": {},
   "outputs": [],
   "source": [
    "# 3. Static Variables\n",
    "\n",
    "# it is used when we want to define a method which has nothing to do with class variables as well as instance variables\n",
    "# it is useful when:\n",
    "    # you want to perform any operation which has something to do with the other class objects\n",
    "    # or you just want to know the factorial of a number(which has nothing to do with the class objects)\n"
   ]
  },
  {
   "cell_type": "code",
   "execution_count": null,
   "id": "ef8abb37",
   "metadata": {},
   "outputs": [],
   "source": [
    "class Student:\n",
    "    school = \"Telusko\"\n",
    "    def __init__(self, m1, m2, m3):\n",
    "        self.m1 = m1\n",
    "        self.m2 = m2\n",
    "        self.m3 = m3\n",
    "\n",
    "    def avg(self):\n",
    "        return (self.m1+self.m2+self.m3)/3\n",
    "    \n",
    "    @classmethod \n",
    "    def getSchool(cls): \n",
    "        return cls.school\n",
    "    \n",
    "    @staticmethod\n",
    "    def info():\n",
    "        print(\"This is student class in abc module\")\n",
    "\n",
    "\n",
    "s1 = Student(34,60,7) \n",
    "s2 = Student(34,65,72) \n",
    "\n",
    "print(Student.getSchool())\n",
    "\n",
    "Student.info()"
   ]
  },
  {
   "cell_type": "code",
   "execution_count": null,
   "id": "4b5efaf9",
   "metadata": {},
   "outputs": [],
   "source": [
    "class Calculator:\n",
    "    \n",
    "    @staticmethod\n",
    "    def add(x, y):\n",
    "        return x + y\n",
    "\n",
    "    @staticmethod\n",
    "    def subtract(x, y):\n",
    "        return x - y\n",
    "\n",
    "    @staticmethod\n",
    "    def multiply(x, y):\n",
    "        return x * y\n",
    "\n",
    "    @staticmethod\n",
    "    def divide(x, y):\n",
    "        if y == 0:\n",
    "            return \"Error: cannot divide by zero\"\n",
    "        else:\n",
    "            return x / y\n",
    "\n",
    "x = float(input(\"Enter the first number: \"))\n",
    "y = float(input(\"Enter the second number: \"))\n",
    "\n",
    "print(\"Sum:\", Calculator.add(x, y))\n",
    "print(\"Difference:\", Calculator.subtract(x, y))\n",
    "print(\"Product:\", Calculator.multiply(x, y))\n",
    "print(\"Quotient:\", Calculator.divide(x, y))\n",
    "\n",
    "\n",
    "adder = Calculator()\n",
    "print(adder.add(x,y))\n"
   ]
  },
  {
   "cell_type": "code",
   "execution_count": null,
   "id": "ab3d69fc",
   "metadata": {},
   "outputs": [],
   "source": []
  }
 ],
 "metadata": {
  "kernelspec": {
   "display_name": "Python 3 (ipykernel)",
   "language": "python",
   "name": "python3"
  },
  "language_info": {
   "codemirror_mode": {
    "name": "ipython",
    "version": 3
   },
   "file_extension": ".py",
   "mimetype": "text/x-python",
   "name": "python",
   "nbconvert_exporter": "python",
   "pygments_lexer": "ipython3",
   "version": "3.11.3"
  }
 },
 "nbformat": 4,
 "nbformat_minor": 5
}

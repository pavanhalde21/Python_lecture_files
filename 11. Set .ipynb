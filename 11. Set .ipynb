{
 "cells": [
  {
   "attachments": {},
   "cell_type": "markdown",
   "id": "a82ffd15",
   "metadata": {},
   "source": [
    "# Set Data Type"
   ]
  },
  {
   "cell_type": "code",
   "execution_count": null,
   "id": "6e549fe8",
   "metadata": {},
   "outputs": [],
   "source": [
    "# Set{}\n",
    "#  Set is a built-in data type that represents an unordered collection of unique elements.\n",
    "#  Sets are mutable but can store only immutable elements.(cannot contain dict,list)\n",
    "#  Elements cannot be changed or replaced.\n",
    "\n",
    "# -- mutable\n",
    "# -- unordered (so there is no question of indexing)\n",
    "# -- unique"
   ]
  },
  {
   "cell_type": "code",
   "execution_count": null,
   "id": "e0a7d020",
   "metadata": {},
   "outputs": [],
   "source": [
    "my_set = {10,20,30,30,(40),'fifty'}\n",
    "\n",
    "print(my_set) # see the order has changed(since unordered)"
   ]
  },
  {
   "cell_type": "code",
   "execution_count": null,
   "id": "8744e35d",
   "metadata": {},
   "outputs": [],
   "source": [
    "# you can create sets using 'set()' function\n",
    "\n",
    "lst = [100,200,200,200,400,300,\"a\"]\n",
    "print(lst)\n",
    "print('---------------')\n",
    "print(set(lst))\n",
    "\n",
    "# set0 = set(1,2,3) # error\n",
    "# print(type(set0))"
   ]
  },
  {
   "cell_type": "code",
   "execution_count": null,
   "id": "cb4e18a7",
   "metadata": {},
   "outputs": [],
   "source": [
    "# empty set \n",
    "\n",
    "set1 = set()\n",
    "print(type(set1))"
   ]
  },
  {
   "cell_type": "code",
   "execution_count": null,
   "id": "b81c1d41",
   "metadata": {},
   "outputs": [],
   "source": [
    "set1 = set{} # we can not use curly bracket\n",
    "print(type(set1))"
   ]
  },
  {
   "cell_type": "code",
   "execution_count": 27,
   "id": "a3bbcf09",
   "metadata": {},
   "outputs": [
    {
     "name": "stdout",
     "output_type": "stream",
     "text": [
      "<class 'set'>\n"
     ]
    }
   ],
   "source": [
    "# set with single element\n",
    "\n",
    "set2 = {1}\n",
    "print(type(set2))"
   ]
  },
  {
   "attachments": {},
   "cell_type": "markdown",
   "id": "27a27309",
   "metadata": {},
   "source": [
    "# Set Methods\n"
   ]
  },
  {
   "cell_type": "code",
   "execution_count": 1,
   "id": "7e09742c",
   "metadata": {},
   "outputs": [
    {
     "name": "stdout",
     "output_type": "stream",
     "text": [
      "add {1, 2, 3, 4}\n"
     ]
    }
   ],
   "source": [
    "\n",
    "# 1. add() - Adds an element to the set\n",
    "my_set = {1, 2, 3}\n",
    "my_set.add(4)\n",
    "print('add',my_set) \n"
   ]
  },
  {
   "cell_type": "code",
   "execution_count": 2,
   "id": "d4d86425",
   "metadata": {},
   "outputs": [
    {
     "name": "stdout",
     "output_type": "stream",
     "text": [
      "clear set()\n"
     ]
    }
   ],
   "source": [
    "\n",
    "# 2. clear() - Removes all elements from the set\n",
    "my_set = {1, 2, 3}\n",
    "my_set.clear()\n",
    "print('clear',my_set) \n"
   ]
  },
  {
   "cell_type": "code",
   "execution_count": 30,
   "id": "f91553da",
   "metadata": {},
   "outputs": [
    {
     "name": "stdout",
     "output_type": "stream",
     "text": [
      "3136454312448\n",
      "new_set {1, 2, 3}\n",
      "3136454312672\n"
     ]
    }
   ],
   "source": [
    "\n",
    "# 3. copy() - Returns a copy of the set\n",
    "my_set = {1, 2, 3}\n",
    "print(id(my_set))\n",
    "\n",
    "new_set = my_set.copy()\n",
    "print('new_set',new_set) \n",
    "print(id(new_set))"
   ]
  },
  {
   "cell_type": "code",
   "execution_count": 33,
   "id": "11c9499c",
   "metadata": {},
   "outputs": [
    {
     "name": "stdout",
     "output_type": "stream",
     "text": [
      "diffset {1, 2, 3}\n"
     ]
    }
   ],
   "source": [
    "\n",
    "# 4. difference() - Returns a set containing the values in set1 which are not present in set2\n",
    "set1 = {1, 2, 3, 4, 5}\n",
    "set2 = {4, 5, 6, 7, 8}\n",
    "diff_set = set1.difference(set2)\n",
    "print('diffset',diff_set)  \n"
   ]
  },
  {
   "cell_type": "code",
   "execution_count": null,
   "id": "d20f9d80",
   "metadata": {},
   "outputs": [],
   "source": [
    "x={10,20,30,40}\n",
    "y={30,40,50,60}\n",
    "print(x.difference(y)) #{10, 20}\n",
    "print(x-y) #{10, 20}\n",
    "print(y-x) #{50, 60}"
   ]
  },
  {
   "cell_type": "code",
   "execution_count": 3,
   "id": "690c63b7",
   "metadata": {},
   "outputs": [
    {
     "name": "stdout",
     "output_type": "stream",
     "text": [
      "discard {1, 3}\n"
     ]
    }
   ],
   "source": [
    "\n",
    "# 5. discard() - Removes an element from the set if it is a member. Does not give an error if the element is not present(unlike remove())\n",
    "my_set = {1, 2, 3}\n",
    "my_set.discard(2)\n",
    "print('discard',my_set) \n"
   ]
  },
  {
   "cell_type": "code",
   "execution_count": 4,
   "metadata": {},
   "outputs": [
    {
     "name": "stdout",
     "output_type": "stream",
     "text": [
      "None\n"
     ]
    }
   ],
   "source": [
    "my_set = {1, 2, 3}\n",
    "print(my_set.discard(7))"
   ]
  },
  {
   "cell_type": "code",
   "execution_count": 32,
   "id": "10880f44",
   "metadata": {},
   "outputs": [
    {
     "name": "stdout",
     "output_type": "stream",
     "text": [
      "intersect {2, 3}\n"
     ]
    }
   ],
   "source": [
    "\n",
    "# 6. intersection() - Returns a set containing comman values\n",
    "set1 = {1, 2, 3}\n",
    "set2 = {2, 3, 4}\n",
    "intersect_set = set1.intersection(set2)\n",
    "print('intersect',intersect_set) \n"
   ]
  },
  {
   "cell_type": "code",
   "execution_count": null,
   "id": "e616d526",
   "metadata": {},
   "outputs": [],
   "source": [
    "x={10,20,30,40}\n",
    "y={30,40,50,60}\n",
    "print(x.intersection(y)) #{40, 30}\n",
    "print(x&y) #{40, 30}"
   ]
  },
  {
   "cell_type": "code",
   "execution_count": 55,
   "id": "857d8b07",
   "metadata": {},
   "outputs": [
    {
     "name": "stdout",
     "output_type": "stream",
     "text": [
      "isdisjoint True\n"
     ]
    }
   ],
   "source": [
    "\n",
    "# 7. isdisjoint() - Returns True if two sets have no intersection\n",
    "set1 = {1, 2, 3}\n",
    "set2 = {4, 5, 6}\n",
    "print('isdisjoint',set1.isdisjoint(set2)) \n"
   ]
  },
  {
   "cell_type": "code",
   "execution_count": 36,
   "id": "2ad74b22",
   "metadata": {},
   "outputs": [
    {
     "name": "stdout",
     "output_type": "stream",
     "text": [
      "issubset True\n"
     ]
    }
   ],
   "source": [
    "\n",
    "# 8. issubset() - Returns True if all elements of a set1 are present in set2\n",
    "set1 = {1, 2, 3}\n",
    "set2 = {1, 2, 3, 4, 5}\n",
    "print('issubset',set1.issubset(set2)) \n"
   ]
  },
  {
   "cell_type": "code",
   "execution_count": 56,
   "id": "e5d78e24",
   "metadata": {},
   "outputs": [
    {
     "name": "stdout",
     "output_type": "stream",
     "text": [
      "50\n",
      "pop {20, 40, 10, 30}\n"
     ]
    }
   ],
   "source": [
    "\n",
    "# 9. pop() - Removes and returns an arbitrary element from the set\n",
    "my_set = {10,20,30,40,50}\n",
    "popped_element = my_set.pop()\n",
    "print(popped_element) \n",
    "print('pop',my_set)\n"
   ]
  },
  {
   "cell_type": "code",
   "execution_count": null,
   "id": "243a2d36",
   "metadata": {},
   "outputs": [],
   "source": [
    "\n",
    "# 10. remove() - Removes an element from the set, raises a KeyError if the element is not present\n",
    "my_set = {1, 2, 3}\n",
    "my_set.remove(2)\n",
    "print('remove',my_set) "
   ]
  },
  {
   "cell_type": "code",
   "execution_count": 5,
   "id": "5a07a171",
   "metadata": {},
   "outputs": [
    {
     "name": "stdout",
     "output_type": "stream",
     "text": [
      "{40, 10, 50, 20, 60, 30}\n",
      "{40, 10, 50, 20, 60, 30}\n"
     ]
    }
   ],
   "source": [
    "# 11. union()\n",
    "\n",
    "x={10,20,30,40}\n",
    "y={30,40,50,60}\n",
    "print(x.union(y)) #{10, 20, 30, 40, 50, 60}\n",
    "print(x|y) #{10, 20, 30, 40, 50, 60}\n"
   ]
  },
  {
   "cell_type": "code",
   "execution_count": 6,
   "id": "0ce7e16b",
   "metadata": {},
   "outputs": [
    {
     "name": "stdout",
     "output_type": "stream",
     "text": [
      "{10, 50, 20, 60}\n",
      "{10, 50, 20, 60}\n"
     ]
    }
   ],
   "source": [
    "# 12. symmetric_difference()\n",
    "\n",
    "x={10,20,30,40}\n",
    "y={30,40,50,60}\n",
    "print(x.symmetric_difference(y)) #{10, 50, 20, 60}\n",
    "print(x^y) #{10, 50, 20, 60}\n"
   ]
  },
  {
   "cell_type": "code",
   "execution_count": 7,
   "metadata": {},
   "outputs": [
    {
     "name": "stdout",
     "output_type": "stream",
     "text": [
      "True\n",
      "set_a is a superset of set_b\n"
     ]
    }
   ],
   "source": [
    "# 13. issuperset()\n",
    "\n",
    "set_a = {1, 2, 3, 4, 5}\n",
    "set_b = {2, 4}\n",
    "\n",
    "is_superset = set_a.issuperset(set_b)\n",
    "\n",
    "print(is_superset)\n",
    "\n",
    "if is_superset:\n",
    "    print(\"set_a is a superset of set_b\")\n",
    "else:\n",
    "    print(\"set_a is not a superset of set_b\")\n"
   ]
  },
  {
   "cell_type": "code",
   "execution_count": 8,
   "metadata": {},
   "outputs": [
    {
     "name": "stdout",
     "output_type": "stream",
     "text": [
      "Updated set_a after difference_update: {1, 2}\n"
     ]
    }
   ],
   "source": [
    "# 14. difference_update()\n",
    "\n",
    "set_a = {1, 2, 3, 4, 5}\n",
    "set_b = {3, 4, 5, 6, 7}\n",
    "\n",
    "# Remove elements from set_a that are also in set_b\n",
    "set_a.difference_update(set_b)\n",
    "\n",
    "print(\"Updated set_a after difference_update:\", set_a)\n"
   ]
  },
  {
   "cell_type": "code",
   "execution_count": 43,
   "metadata": {},
   "outputs": [
    {
     "name": "stdout",
     "output_type": "stream",
     "text": [
      "Updated set_a after intersection_update: {3, 4, 5}\n"
     ]
    }
   ],
   "source": [
    "# 15. intersection_update()\n",
    "\n",
    "set_a = {1, 2, 3, 4, 5}\n",
    "set_b = {3, 4, 5, 6, 7}\n",
    "\n",
    "# Keep only the elements that are common in set_a and set_b\n",
    "set_a.intersection_update(set_b)\n",
    "\n",
    "print(\"Updated set_a after intersection_update:\", set_a)\n"
   ]
  },
  {
   "cell_type": "code",
   "execution_count": 38,
   "id": "3f9fe5a4",
   "metadata": {},
   "outputs": [
    {
     "name": "stdout",
     "output_type": "stream",
     "text": [
      "472\n",
      "104\n",
      "80\n"
     ]
    }
   ],
   "source": [
    "import sys\n",
    "\n",
    "my_set = {1, 2, 3, 4, 5} #------------------hash table concept is used to store the value\n",
    "size_of_set = sys.getsizeof(my_set)\n",
    "print(size_of_set)  \n",
    "\n",
    "\n",
    "my_list = [1, 2, 3, 4, 5] #----------------dynamic array concept\n",
    "size_of_list = sys.getsizeof(my_list)\n",
    "print(size_of_list) \n",
    "\n",
    "\n",
    "my_tuple = (1, 2, 3, 4, 5) #---------------fixed memory size\n",
    "size_of_tuple = sys.getsizeof(my_tuple)\n",
    "print(size_of_tuple)\n"
   ]
  },
  {
   "cell_type": "code",
   "execution_count": 10,
   "id": "b17dd14e",
   "metadata": {},
   "outputs": [
    {
     "name": "stdout",
     "output_type": "stream",
     "text": [
      "{0, 1, 2, 3, 4, 40, 10, 50, 20, 60, 30}\n",
      "{0, 1, 2, 3, 4, 5, 6, 7, 40, 9, 10, 8, 50, 20, 60, 30}\n"
     ]
    }
   ],
   "source": [
    "s={10,20,30} \n",
    "l=[40,50,60,10] \n",
    "\n",
    "s.update(l,range(5)) \n",
    "print(s)\n",
    "\n",
    "s.update(range(1,10,2),range(0,10,2))\n",
    "print(s)"
   ]
  },
  {
   "cell_type": "code",
   "execution_count": 11,
   "metadata": {},
   "outputs": [
    {
     "name": "stdout",
     "output_type": "stream",
     "text": [
      "{0, 1, 2, 3, 4, 5, 6, 7, 40, 9, 10, 8, 50, 20, 100000, 60, 30}\n"
     ]
    }
   ],
   "source": [
    "s.update([100000])\n",
    "print(s)"
   ]
  },
  {
   "cell_type": "code",
   "execution_count": 12,
   "id": "aec7f98e",
   "metadata": {},
   "outputs": [
    {
     "ename": "TypeError",
     "evalue": "'int' object is not iterable",
     "output_type": "error",
     "traceback": [
      "\u001b[1;31m---------------------------------------------------------------------------\u001b[0m",
      "\u001b[1;31mTypeError\u001b[0m                                 Traceback (most recent call last)",
      "Cell \u001b[1;32mIn[12], line 1\u001b[0m\n\u001b[1;32m----> 1\u001b[0m \u001b[43ms\u001b[49m\u001b[38;5;241;43m.\u001b[39;49m\u001b[43mupdate\u001b[49m\u001b[43m(\u001b[49m\u001b[38;5;241;43m10\u001b[39;49m\u001b[43m)\u001b[49m  \u001b[38;5;66;03m# TypeError: 'int' object is not iterable\u001b[39;00m\n",
      "\u001b[1;31mTypeError\u001b[0m: 'int' object is not iterable"
     ]
    }
   ],
   "source": [
    "s.update(10)  # TypeError: 'int' object is not iterable"
   ]
  },
  {
   "cell_type": "code",
   "execution_count": null,
   "id": "bfb2fae0",
   "metadata": {},
   "outputs": [],
   "source": [
    "# Lists vs. Sets\n",
    "\n",
    "# Lists\t                                                                #Sets        \n",
    "\n",
    "# Lists are Ordered.\t                                            Sets are Unordered.\n",
    "# Lists are Mutable.\t                                            Sets are mutable but can store only immutable elements.(cannot contain dict,list)\n",
    "# Elements can be changed or replaced in Lists.\t                    Elements cannot be changed or replaced.\n"
   ]
  },
  {
   "cell_type": "code",
   "execution_count": 13,
   "id": "cb33fb33",
   "metadata": {},
   "outputs": [
    {
     "name": "stdout",
     "output_type": "stream",
     "text": [
      "abc <class 'list'>\n",
      "asd <class 'tuple'>\n",
      "axd <class 'set'>\n",
      "a <class 'list'>\n",
      "b <class 'tuple'>\n",
      "c <class 'dict'>\n",
      "d <class 'set'>\n"
     ]
    }
   ],
   "source": [
    "# somes examples of list, tuple, set, dictionary\n",
    "\n",
    "abc=[1,2,3,{'a':2}]     #----[]\n",
    "print('abc',type(abc))\n",
    "\n",
    "asd=(1,2,3,{'a':2})     #----()\n",
    "print('asd',type(asd))\n",
    "\n",
    "axd={1,2,(3),'a'} # cannot contain dict,list     #----{}\n",
    "print('axd',type(axd))\n",
    "\n",
    "\n",
    "#empty\n",
    "\n",
    "a=[]\n",
    "print('a',type(a))\n",
    "\n",
    "b=()\n",
    "print('b',type(b))\n",
    "\n",
    "c={}\n",
    "print('c',type(c))\n",
    "\n",
    "d=set()\n",
    "print('d',type(d))"
   ]
  },
  {
   "cell_type": "code",
   "execution_count": 47,
   "id": "ffedd045",
   "metadata": {},
   "outputs": [
    {
     "ename": "TypeError",
     "evalue": "unhashable type: 'list'",
     "output_type": "error",
     "traceback": [
      "\u001b[1;31m---------------------------------------------------------------------------\u001b[0m",
      "\u001b[1;31mTypeError\u001b[0m                                 Traceback (most recent call last)",
      "\u001b[1;32md:\\_02_CS\\02_PYTHON\\Lecture_Files\\11. Set .ipynb Cell 32\u001b[0m line \u001b[0;36m1\n\u001b[1;32m----> <a href='vscode-notebook-cell:/d%3A/_02_CS/02_PYTHON/Lecture_Files/11.%20Set%20.ipynb#X36sZmlsZQ%3D%3D?line=0'>1</a>\u001b[0m axd\u001b[39m=\u001b[39m{\u001b[39m1\u001b[39m,\u001b[39m2\u001b[39m,\u001b[39m3\u001b[39m,[\u001b[39m1\u001b[39m],\u001b[39m'\u001b[39m\u001b[39ma\u001b[39m\u001b[39m'\u001b[39m} \u001b[39m# error # cannot contain list\u001b[39;00m\n\u001b[0;32m      <a href='vscode-notebook-cell:/d%3A/_02_CS/02_PYTHON/Lecture_Files/11.%20Set%20.ipynb#X36sZmlsZQ%3D%3D?line=1'>2</a>\u001b[0m \u001b[39mprint\u001b[39m(\u001b[39m'\u001b[39m\u001b[39maxd\u001b[39m\u001b[39m'\u001b[39m,\u001b[39mtype\u001b[39m(axd)) \n",
      "\u001b[1;31mTypeError\u001b[0m: unhashable type: 'list'"
     ]
    }
   ],
   "source": [
    "axd={1,2,3,[1],'a'} # error # cannot contain list\n",
    "print('axd',type(axd)) "
   ]
  },
  {
   "cell_type": "code",
   "execution_count": 48,
   "id": "98378992",
   "metadata": {},
   "outputs": [
    {
     "ename": "TypeError",
     "evalue": "unhashable type: 'dict'",
     "output_type": "error",
     "traceback": [
      "\u001b[1;31m---------------------------------------------------------------------------\u001b[0m",
      "\u001b[1;31mTypeError\u001b[0m                                 Traceback (most recent call last)",
      "\u001b[1;32md:\\_02_CS\\02_PYTHON\\Lecture_Files\\11. Set .ipynb Cell 33\u001b[0m line \u001b[0;36m1\n\u001b[1;32m----> <a href='vscode-notebook-cell:/d%3A/_02_CS/02_PYTHON/Lecture_Files/11.%20Set%20.ipynb#X40sZmlsZQ%3D%3D?line=0'>1</a>\u001b[0m axd\u001b[39m=\u001b[39m{\u001b[39m1\u001b[39m,\u001b[39m2\u001b[39m,\u001b[39m3\u001b[39m,{\u001b[39m'\u001b[39m\u001b[39ma\u001b[39m\u001b[39m'\u001b[39m:\u001b[39m1\u001b[39m}} \u001b[39m# error # cannot contain dict\u001b[39;00m\n\u001b[0;32m      <a href='vscode-notebook-cell:/d%3A/_02_CS/02_PYTHON/Lecture_Files/11.%20Set%20.ipynb#X40sZmlsZQ%3D%3D?line=1'>2</a>\u001b[0m \u001b[39mprint\u001b[39m(\u001b[39m'\u001b[39m\u001b[39maxd\u001b[39m\u001b[39m'\u001b[39m,\u001b[39mtype\u001b[39m(axd)) \n",
      "\u001b[1;31mTypeError\u001b[0m: unhashable type: 'dict'"
     ]
    }
   ],
   "source": [
    "axd={1,2,3,{'a':1}} # error # cannot contain dict\n",
    "print('axd',type(axd)) "
   ]
  },
  {
   "cell_type": "markdown",
   "id": "9586c6dc",
   "metadata": {},
   "source": [
    "# Set Comprehension"
   ]
  },
  {
   "cell_type": "code",
   "execution_count": 14,
   "id": "be870502",
   "metadata": {},
   "outputs": [
    {
     "name": "stdout",
     "output_type": "stream",
     "text": [
      "{0, 1, 4, 9, 16}\n",
      "{16, 256, 64, 4}\n"
     ]
    }
   ],
   "source": [
    "# Set comprehension is possible.\n",
    "\n",
    "s={x*x for x in range(5)}\n",
    "print(s) #{0, 1, 4, 9, 16}\n",
    "\n",
    "s={2**x for x in range(2,10,2)}\n",
    "print(s) #{16, 256, 64, 4}\n"
   ]
  },
  {
   "attachments": {},
   "cell_type": "markdown",
   "id": "079339b1",
   "metadata": {},
   "source": [
    "# Practice"
   ]
  },
  {
   "cell_type": "code",
   "execution_count": null,
   "id": "6179938e",
   "metadata": {},
   "outputs": [],
   "source": [
    "# Display uique numbers only\n",
    "\n",
    "num1 = int(input(\"Enter number 1\\n\"))\n",
    "num2 = int(input(\"Enter number 2\\n\"))\n",
    "num3 = int(input(\"Enter number 3\\n\"))\n",
    "num4 = int(input(\"Enter number 4\\n\"))\n",
    "num5 = int(input(\"Enter number 5\\n\"))\n",
    "num6 = int(input(\"Enter number 6\\n\"))\n",
    "num7 = int(input(\"Enter number 7\\n\"))\n",
    "num8 = int(input(\"Enter number 8\\n\"))\n",
    "\n",
    "s = {num1, num2, num3, num4, num5, num6, num7, num8}\n",
    "print(s)"
   ]
  },
  {
   "cell_type": "code",
   "execution_count": 15,
   "id": "a5397e65",
   "metadata": {},
   "outputs": [
    {
     "name": "stdout",
     "output_type": "stream",
     "text": [
      "{'18', 18, 18.1}\n",
      "<class 'set'>\n"
     ]
    }
   ],
   "source": [
    "## can we write a set with 18 as string as well as iteger\n",
    "\n",
    "s = {18,\"18\",18.1}\n",
    "print(s)\n",
    "print(type(s))\n"
   ]
  },
  {
   "cell_type": "code",
   "execution_count": 16,
   "id": "73d4a43b",
   "metadata": {},
   "outputs": [
    {
     "name": "stdout",
     "output_type": "stream",
     "text": [
      "{'20', 20}\n",
      "2\n",
      "<class 'set'>\n"
     ]
    }
   ],
   "source": [
    "## unique\n",
    "\n",
    "s = {20, 20.0, \"20\"}\n",
    "print(s) \n",
    "print(len(s))\n",
    "\n",
    "print(type(s))\n",
    "\n",
    "# 20, 20.0 is considered same"
   ]
  },
  {
   "cell_type": "code",
   "execution_count": null,
   "id": "e9aeb303",
   "metadata": {},
   "outputs": [],
   "source": [
    "# 1. Find the size of a Set in Python\n",
    "import sys\n",
    "\n",
    "set1 = {1, 2, 3, 4} \n",
    "set2 = {\"a\",1,(4)}\n",
    "s1 = sys.getsizeof(set1)\n",
    "s2 = sys.getsizeof(set2)\n",
    "print(s1)\n",
    "print(s2)"
   ]
  },
  {
   "cell_type": "code",
   "execution_count": 17,
   "id": "f410abbb",
   "metadata": {},
   "outputs": [
    {
     "name": "stdout",
     "output_type": "stream",
     "text": [
      "A\n",
      "c\n",
      "b\n",
      "d\n"
     ]
    }
   ],
   "source": [
    "# 2. Iterate over a set in Python\n",
    "set1  = set(\"Abcdd\")\n",
    "for i in set1:\n",
    "    print(i)"
   ]
  },
  {
   "cell_type": "code",
   "execution_count": 18,
   "id": "bb79ef44",
   "metadata": {},
   "outputs": [
    {
     "name": "stdout",
     "output_type": "stream",
     "text": [
      "99\n",
      "-8\n"
     ]
    }
   ],
   "source": [
    "# 3. Python | Maximum and Minimum in a Set\n",
    "set1 = {1,5,-8,45,3,6,99}\n",
    "print(max(set1))\n",
    "print(min(set1))"
   ]
  },
  {
   "cell_type": "code",
   "execution_count": 19,
   "id": "5b5b393e",
   "metadata": {},
   "outputs": [
    {
     "name": "stdout",
     "output_type": "stream",
     "text": [
      "{1, 99, 3, 6, -8, 45}\n",
      "{99, 3, 6, -8, 45}\n",
      "\n",
      "{3, 6, -8, 45}\n",
      "{6, -8, 45}\n",
      "{-8, 45}\n",
      "{45}\n",
      "set()\n"
     ]
    }
   ],
   "source": [
    "# 4. Python | Remove items from Set\n",
    "set1 = {1,5,-8,45,3,6,99}\n",
    "set1.remove(5)\n",
    "print(set1)\n",
    "set1.pop()\n",
    "print(set1)\n",
    "\n",
    "print()\n",
    "while set1:\n",
    "    set1.pop()\n",
    "    print(set1)"
   ]
  },
  {
   "cell_type": "code",
   "execution_count": 20,
   "id": "a502eb50",
   "metadata": {},
   "outputs": [
    {
     "name": "stdout",
     "output_type": "stream",
     "text": [
      "True\n"
     ]
    }
   ],
   "source": [
    "# 5. Python | Check if two lists have at-least one element common\n",
    "def fun(l1, l2):\n",
    "    s1 = set(l1)\n",
    "    s2 = set(l2)\n",
    "    s = s1.intersection(s2)\n",
    "    return s\n",
    "\n",
    "l1 = [0,2,4,6,8]\n",
    "l2 = [1,2,3,4,5,6]\n",
    "# print(fun(l1,l2))\n",
    "a = fun(l1,l2)\n",
    "print(any(a))"
   ]
  },
  {
   "cell_type": "code",
   "execution_count": 21,
   "id": "7e4bfaae",
   "metadata": {},
   "outputs": [
    {
     "name": "stdout",
     "output_type": "stream",
     "text": [
      "{2, 4}\n"
     ]
    }
   ],
   "source": [
    "# 6. Python program to find common elements in three lists using sets\n",
    "l1 = [0,2,4,6,8]\n",
    "l2 = [1,2,3,4,5,6]\n",
    "l3 = [2,4,5]\n",
    "\n",
    "def fun(l1, l2, l3):\n",
    "    s1 = set(l1)\n",
    "    s2 = set(l2)\n",
    "    s3 = set(l3)\n",
    "    s = s1.intersection(s2)\n",
    "    q = s.intersection(s3)\n",
    "    return q\n",
    "\n",
    "print(fun(l1,l2,l3))\n",
    "    "
   ]
  },
  {
   "cell_type": "code",
   "execution_count": 22,
   "id": "96958928",
   "metadata": {},
   "outputs": [
    {
     "name": "stdout",
     "output_type": "stream",
     "text": [
      "additional values in lst1 is [0, 8]\n",
      "additional values in lst2 is [1, 3, 5]\n",
      "mising values in lst1 is [1, 3, 5]\n",
      "mising values in lst2 is [0, 8]\n"
     ]
    }
   ],
   "source": [
    "# 7. Python | Find missing and additional values in two lists\n",
    "lst1 = [0,2,4,6,8]\n",
    "lst2 = [1,2,3,4,5,6]\n",
    "\n",
    "def fun(lst1,lst2):\n",
    "    s1 = set(lst1)\n",
    "    s2 = set(lst2)\n",
    "    l1a = []\n",
    "    l1m = []\n",
    "    l2a = []\n",
    "    l2m = []\n",
    "    s = s1.intersection(s2)\n",
    "    for i in s1:\n",
    "        if i not in s:\n",
    "            l1a.append(i)\n",
    "        if i not in s2:\n",
    "            l2m.append(i)\n",
    "    for i in s2:\n",
    "        if i not in s:\n",
    "            l2a.append(i)\n",
    "        if i not in s1:\n",
    "            l1m.append(i)\n",
    "    print(\"additional values in lst1 is\", l1a)\n",
    "    print(\"additional values in lst2 is\", l2a)\n",
    "    print(\"mising values in lst1 is\", l1m)\n",
    "    print(\"mising values in lst2 is\", l2m)\n",
    "\n",
    "fun(lst1,lst2)            \n",
    "\n"
   ]
  },
  {
   "cell_type": "code",
   "execution_count": null,
   "id": "312ef16b",
   "metadata": {},
   "outputs": [],
   "source": [
    "# Example of printing numbers separated by spaces on the same line using end=' '\n",
    "for i in range(5):\n",
    "    print(i, end=' ')\n"
   ]
  },
  {
   "cell_type": "code",
   "execution_count": null,
   "id": "15bb3e57",
   "metadata": {},
   "outputs": [],
   "source": []
  },
  {
   "cell_type": "code",
   "execution_count": null,
   "id": "c90f4f11",
   "metadata": {},
   "outputs": [],
   "source": []
  },
  {
   "cell_type": "code",
   "execution_count": 2,
   "id": "025c8f1b",
   "metadata": {},
   "outputs": [
    {
     "name": "stdout",
     "output_type": "stream",
     "text": [
      "1943201476416\n",
      "1943201476416\n"
     ]
    }
   ],
   "source": [
    "a = [1,2,3]\n",
    "\n",
    "b = a\n",
    "\n",
    "print(id(a))\n",
    "print(id(b))\n"
   ]
  },
  {
   "cell_type": "code",
   "execution_count": 3,
   "id": "75f04ec9",
   "metadata": {},
   "outputs": [
    {
     "name": "stdout",
     "output_type": "stream",
     "text": [
      "1943201470016\n",
      "1943194646592\n"
     ]
    }
   ],
   "source": [
    "c = [1,2,3]\n",
    "\n",
    "d = c.copy()\n",
    "\n",
    "print(id(c))\n",
    "print(id(d))\n"
   ]
  }
 ],
 "metadata": {
  "kernelspec": {
   "display_name": "Python 3 (ipykernel)",
   "language": "python",
   "name": "python3"
  },
  "language_info": {
   "codemirror_mode": {
    "name": "ipython",
    "version": 3
   },
   "file_extension": ".py",
   "mimetype": "text/x-python",
   "name": "python",
   "nbconvert_exporter": "python",
   "pygments_lexer": "ipython3",
   "version": "3.11.3"
  }
 },
 "nbformat": 4,
 "nbformat_minor": 5
}

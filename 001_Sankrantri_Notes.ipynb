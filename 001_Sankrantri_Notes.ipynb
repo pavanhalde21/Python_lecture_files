{
 "cells": [
  {
   "cell_type": "code",
   "execution_count": 1,
   "metadata": {},
   "outputs": [
    {
     "name": "stdout",
     "output_type": "stream",
     "text": [
      "Maximum is 7\n",
      "Minimum is 3\n"
     ]
    }
   ],
   "source": [
    "# largest and smallest\n",
    "\n",
    "largest = None\n",
    "smallest = None\n",
    "while True:\n",
    "    num = input(\"Enter a number: \")\n",
    "    if num == 'done':\n",
    "        break\n",
    "    try:\n",
    "        value=int(num)\n",
    "        if smallest is None:\n",
    "            smallest = value\n",
    "        if value < smallest: \n",
    "            smallest = value\n",
    "        if largest is None: #\n",
    "            largest = value\n",
    "        if value > largest:\n",
    "            largest=value\n",
    "    except:\n",
    "        print(\"Invalid input\")\n",
    "        \n",
    "    \n",
    "print('Maximum is',largest)\n",
    "print('Minimum is',smallest)"
   ]
  },
  {
   "cell_type": "code",
   "execution_count": null,
   "metadata": {},
   "outputs": [],
   "source": [
    "# largest number with None\n",
    "\n",
    "largest_so_far = None\n",
    "print('Before',largest_so_far)\n",
    "for the_num in [-2,-44,-56,-98,-23,-776,-31,-54]:\n",
    "    if largest_so_far is None:\n",
    "        largest_so_far = the_num\n",
    "    elif the_num > largest_so_far:\n",
    "        largest_so_far = the_num\n",
    "    print(largest_so_far, the_num)\n",
    "print('After', largest_so_far)"
   ]
  },
  {
   "cell_type": "code",
   "execution_count": null,
   "metadata": {},
   "outputs": [],
   "source": [
    "# ***\n",
    "# **\n",
    "# *\n",
    "# print above pattern\n",
    "\n",
    "\n",
    "n = 3\n",
    "for i in range(n):\n",
    "    print(\"*\" * (n-i)) # Prints * n-i times"
   ]
  },
  {
   "cell_type": "code",
   "execution_count": null,
   "metadata": {},
   "outputs": [],
   "source": [
    "#   *  \n",
    "#  *** \n",
    "# *****\n",
    "# print above pattern\n",
    "\n",
    "n = 3\n",
    "for i in range(3): \n",
    "    print(\" \" * (n-i-1),end=\"\")\n",
    "    print(\"*\" * (2*i+1), end=\"\")\n",
    "    print(\" \" * (n-i-1))"
   ]
  },
  {
   "cell_type": "code",
   "execution_count": null,
   "metadata": {},
   "outputs": [],
   "source": [
    "# *\n",
    "# **\n",
    "# ***\n",
    "# ****\n",
    "# print above pattern\n",
    "\n",
    "n = 4\n",
    "for i in range(n):\n",
    "    print(\"*\" * (i+1))"
   ]
  },
  {
   "cell_type": "code",
   "execution_count": 20,
   "metadata": {},
   "outputs": [
    {
     "name": "stdout",
     "output_type": "stream",
     "text": [
      "Prime number\n"
     ]
    }
   ],
   "source": [
    "# prime number or not\n",
    "\n",
    "n = int(input())\n",
    "\n",
    "for i in range(2,n):\n",
    "    if n%i == 0:\n",
    "        print('Not a prime number')\n",
    "        break\n",
    "\n",
    "else:\n",
    "    print('Prime number')"
   ]
  },
  {
   "cell_type": "code",
   "execution_count": 19,
   "metadata": {},
   "outputs": [
    {
     "name": "stdout",
     "output_type": "stream",
     "text": [
      "This number is Prime\n"
     ]
    }
   ],
   "source": [
    "num = int(input(\"Enter the number: \"))\n",
    "prime = True\n",
    "\n",
    "for i in range(2, num):\n",
    "    if(num%i == 0):\n",
    "        prime = False\n",
    "        break\n",
    "if prime:\n",
    "    print(\"This number is Prime\")\n",
    "else:\n",
    "    print(\"This number is not Prime\")"
   ]
  },
  {
   "cell_type": "code",
   "execution_count": 18,
   "metadata": {},
   "outputs": [
    {
     "name": "stdout",
     "output_type": "stream",
     "text": [
      "120\n"
     ]
    }
   ],
   "source": [
    "# Find factorial\n",
    "\n",
    "n = int(input())\n",
    "f = 1\n",
    "\n",
    "for i in range(2,n+1):\n",
    "    f = f*i\n",
    "\n",
    "print(f)\n"
   ]
  },
  {
   "cell_type": "code",
   "execution_count": null,
   "metadata": {},
   "outputs": [],
   "source": [
    "# Sum of first n natural number\n",
    "\n",
    "n = int(input())\n",
    "sum = 0\n",
    "i = 1\n",
    "while i<=n:\n",
    "    sum += i\n",
    "    i += 1\n",
    "    \n",
    "print(sum)\n"
   ]
  },
  {
   "cell_type": "code",
   "execution_count": 1,
   "metadata": {},
   "outputs": [
    {
     "name": "stdout",
     "output_type": "stream",
     "text": [
      "navap\n"
     ]
    }
   ],
   "source": [
    "# reverse string\n",
    "\n",
    "st = 'pavan'\n",
    "\n",
    "st1 = st[::-1] ### reverse\n",
    "print(st1)"
   ]
  },
  {
   "cell_type": "code",
   "execution_count": 5,
   "metadata": {},
   "outputs": [
    {
     "name": "stdout",
     "output_type": "stream",
     "text": [
      "navap\n"
     ]
    }
   ],
   "source": [
    "c = ''\n",
    "\n",
    "for i in st:\n",
    "    c = i+c\n",
    "\n",
    "print(c)"
   ]
  },
  {
   "cell_type": "code",
   "execution_count": 2,
   "metadata": {},
   "outputs": [
    {
     "name": "stdout",
     "output_type": "stream",
     "text": [
      "21.333333333333332\n"
     ]
    }
   ],
   "source": [
    "# find average age\n",
    "d1 = {'ram': 20, 'sita': 26, 'laxman': 18}\n",
    "\n",
    "sum = 0\n",
    "for i,j in enumerate(d1.values()):\n",
    "    sum += j\n",
    "\n",
    "\n",
    "avg = sum/(i+1)\n",
    "\n",
    "print(avg)"
   ]
  },
  {
   "cell_type": "code",
   "execution_count": 6,
   "metadata": {},
   "outputs": [
    {
     "name": "stdout",
     "output_type": "stream",
     "text": [
      "God was Ram\n"
     ]
    }
   ],
   "source": [
    "# reverse words in a string\n",
    "\n",
    "a = \"Ram was God\"\n",
    "l = a.split()\n",
    "\n",
    "l.reverse()\n",
    "s1 = \" \".join(l)\n",
    "print(s1)"
   ]
  },
  {
   "cell_type": "code",
   "execution_count": 17,
   "metadata": {},
   "outputs": [
    {
     "name": "stdout",
     "output_type": "stream",
     "text": [
      "True\n"
     ]
    }
   ],
   "source": [
    "# palindrome\n",
    "\n",
    "str1 = \"Pavap\"\n",
    "str0 = str1.lower()\n",
    "if str0 == str0[::-1]:\n",
    "    print(True)\n",
    "else:\n",
    "    print(False)"
   ]
  },
  {
   "cell_type": "code",
   "execution_count": 2,
   "metadata": {},
   "outputs": [
    {
     "name": "stdout",
     "output_type": "stream",
     "text": [
      "4\n",
      "4\n",
      "4\n",
      "6\n",
      "11\n"
     ]
    }
   ],
   "source": [
    "# Find length of a string in python (4 ways) \n",
    "str0 = \"Sati\"\n",
    "\n",
    "#1\n",
    "print(len(str0))\n",
    "\n",
    "#2 \n",
    "j = 0\n",
    "for i in str0:\n",
    "    j += 1\n",
    "print(j)\n",
    "\n",
    "#3\n",
    "j = 0\n",
    "while str0[j:]: ####\n",
    "    j += 1\n",
    "print(j)\n",
    "\n",
    "#4\n",
    "def count1(str0):\n",
    "    return sum(1 for i in str0)\n",
    "print(count1(\"Mithra\"))\n",
    "\n",
    "#5\n",
    "str0 = \"Bahmandokht\"\n",
    "j = 0\n",
    "for i,k in enumerate(str0):\n",
    "    pass\n",
    "print(i+1)\n"
   ]
  },
  {
   "cell_type": "code",
   "execution_count": 3,
   "metadata": {},
   "outputs": [
    {
     "name": "stdout",
     "output_type": "stream",
     "text": [
      "True\n"
     ]
    }
   ],
   "source": [
    "# Python program to check if a string has at least one letter and one number\n",
    "\n",
    "str1 = \"Dhoni07\"\n",
    "c_num = False\n",
    "c_alpha = False\n",
    "def fun(str):\n",
    "    for i in str1:\n",
    "        if i.isalpha():\n",
    "            c_alpha = True\n",
    "        if i.isdigit():\n",
    "            c_num = True\n",
    "        \n",
    "    return c_num and c_alpha\n",
    "\n",
    "print(fun(str1))"
   ]
  },
  {
   "cell_type": "code",
   "execution_count": 4,
   "metadata": {},
   "outputs": [
    {
     "name": "stdout",
     "output_type": "stream",
     "text": [
      "[1, 4, 9, 16, 25, 36, 49]\n"
     ]
    }
   ],
   "source": [
    "result = [i*i for i in  [1,2,3,4,5,6,7]]\n",
    "print(result)"
   ]
  },
  {
   "cell_type": "code",
   "execution_count": 5,
   "metadata": {},
   "outputs": [
    {
     "name": "stdout",
     "output_type": "stream",
     "text": [
      "11\n",
      "11\n",
      "78\n",
      "123\n"
     ]
    }
   ],
   "source": [
    "# Program to print duplicates from a list of integers \n",
    "\n",
    "lst = [123,11,-56,11,78,-963,11,78,-45,654,-11,783,123]\n",
    "new_lst = []\n",
    "for i in lst:\n",
    "    if i in new_lst:\n",
    "        print(i)\n",
    "        continue\n",
    "    new_lst.append(i)"
   ]
  },
  {
   "cell_type": "code",
   "execution_count": 6,
   "metadata": {},
   "outputs": [
    {
     "name": "stdout",
     "output_type": "stream",
     "text": [
      "[1, 3, 6, 10, 15, 21, 28, 36, 45, 55]\n"
     ]
    }
   ],
   "source": [
    "# Python program to find Cumulative sum of a list Break a list into chunks of size N in \n",
    "\n",
    "lst = [1,2,3,4,5,6,7,8,9,10]\n",
    "new_lst = []\n",
    "j = 0\n",
    "for i in lst:\n",
    "    j += i\n",
    "    new_lst.append(j)\n",
    "\n",
    "print(new_lst)"
   ]
  },
  {
   "cell_type": "code",
   "execution_count": 17,
   "metadata": {},
   "outputs": [
    {
     "name": "stdout",
     "output_type": "stream",
     "text": [
      "<generator object <genexpr> at 0x0000022AF000EDC0>\n",
      "<class 'generator'>\n",
      "0\n",
      "1\n",
      "2\n",
      "3\n",
      "4\n",
      "5\n",
      "6\n",
      "7\n",
      "8\n",
      "9\n",
      "()\n"
     ]
    }
   ],
   "source": [
    "# this will print elements in generator object\n",
    "\n",
    "tuple_comp = (i for i in range(10))\n",
    "print(tuple_comp) # generator object\n",
    "print(type(tuple_comp))\n",
    "\n",
    "for j in tuple_comp:\n",
    "    print(j) \n",
    "\n",
    "t = tuple(tuple_comp)\n",
    "print(t) # tuple"
   ]
  },
  {
   "cell_type": "code",
   "execution_count": 15,
   "metadata": {},
   "outputs": [
    {
     "name": "stdout",
     "output_type": "stream",
     "text": [
      "<generator object <genexpr> at 0x0000022AF000ECF0>\n",
      "<class 'generator'>\n",
      "(0, 1, 2, 3, 4, 5, 6, 7, 8, 9)\n"
     ]
    }
   ],
   "source": [
    "tuple_comp = (i for i in range(10))\n",
    "print(tuple_comp) # generator object\n",
    "print(type(tuple_comp))\n",
    "\n",
    "t = tuple(tuple_comp)\n",
    "print(t) "
   ]
  },
  {
   "cell_type": "code",
   "execution_count": 18,
   "metadata": {},
   "outputs": [
    {
     "name": "stdout",
     "output_type": "stream",
     "text": [
      "{1: 1, 2: 4, 3: 9, 4: 16, 5: 25, 6: 36, 7: 49, 8: 64, 9: 81, 10: 100}\n"
     ]
    }
   ],
   "source": [
    "\n",
    "square_dict = { num : num*num for num in range(1, 11)}\n",
    "print(square_dict)"
   ]
  },
  {
   "cell_type": "code",
   "execution_count": 19,
   "metadata": {},
   "outputs": [
    {
     "name": "stdout",
     "output_type": "stream",
     "text": [
      "{'a': 1, 'b': 2, 'c': 3}\n"
     ]
    }
   ],
   "source": [
    "keys = ['a', 'b', 'c']\n",
    "values = [1, 2, 3]\n",
    "d = {k: v for k, v in zip(keys, values)}\n",
    "print(d) "
   ]
  },
  {
   "cell_type": "code",
   "execution_count": 20,
   "metadata": {},
   "outputs": [
    {
     "name": "stdout",
     "output_type": "stream",
     "text": [
      "{'Asura': 'Ahura', 'Fravashi': 'Agni', 'Pariha': 'Persia', 'Sapta': 'Hapta', 'Shava': 'Shiva', 'Sindu': 'Hindu'}\n",
      "{'Asura': 'Ahura', 'Fravashi': 'Agni', 'Pariha': 'Persia', 'Sapta': 'Hapta', 'Shava': 'Shiva', 'Sindu': 'Hindu'}\n",
      "{'Agni': 'Fravashi', 'Ahura': 'Asura', 'Hapta': 'Sapta', 'Hindu': 'Sindu', 'Persia': 'Pariha', 'Shiva': 'Shava'}\n",
      "{'Agni': 'Fravashi', 'Ahura': 'Asura', 'Hapta': 'Sapta', 'Hindu': 'Sindu', 'Persia': 'Pariha', 'Shiva': 'Shava'}\n"
     ]
    }
   ],
   "source": [
    "## 1. Python | Sort Python Dictionaries by Key or Value - using list comphrension\n",
    "\n",
    "# sort by key\n",
    "dict1 = {\"Pariha\":\"Persia\",\"Sapta\":\"Hapta\",\"Sindu\":\"Hindu\",\"Asura\":\"Ahura\",\"Shava\":\"Shiva\",\"Fravashi\":\"Agni\"}\n",
    "lst = list(dict1.keys())\n",
    "lst.sort()\n",
    "sorted_dict = {i : dict1[i] for i in lst}\n",
    "print(sorted_dict)\n",
    "\n",
    "dict1 = {\"Pariha\":\"Persia\",\"Sapta\":\"Hapta\",\"Sindu\":\"Hindu\",\"Asura\":\"Ahura\",\"Shava\":\"Shiva\",\"Fravashi\":\"Agni\"}\n",
    "lst = list(dict1.keys())\n",
    "lst.sort()\n",
    "sorted_dict = {}\n",
    "for i in lst:\n",
    "    sorted_dict[i] = dict1[i]\n",
    "print(sorted_dict)\n",
    "\n",
    "# sort by values\n",
    "dict1 = {\"Pariha\":\"Persia\",\"Sapta\":\"Hapta\",\"Sindu\":\"Hindu\",\"Asura\":\"Ahura\",\"Shava\":\"Shiva\",\"Fravashi\":\"Agni\"}\n",
    "lst = []\n",
    "for k,v in dict1.items():\n",
    "    lst.append((v,k))\n",
    "lst.sort()\n",
    "dict2 = dict(lst)\n",
    "print(dict2)\n",
    "\n",
    "dict1 = {\"Pariha\":\"Persia\",\"Sapta\":\"Hapta\",\"Sindu\":\"Hindu\",\"Asura\":\"Ahura\",\"Shava\":\"Shiva\",\"Fravashi\":\"Agni\"}\n",
    "lst = sorted((v,k) for k,v in dict1.items())\n",
    "dict2 = dict(lst)\n",
    "print(dict2)\n"
   ]
  },
  {
   "cell_type": "code",
   "execution_count": 21,
   "metadata": {},
   "outputs": [
    {
     "name": "stdout",
     "output_type": "stream",
     "text": [
      "Hapta\n",
      "Not Found\n"
     ]
    }
   ],
   "source": [
    "# Handling missing keys in Python\n",
    "dict1 = {\"Pariha\":\"Persia\",\"Sapta\":\"Hapta\",\"Sindu\":\"Hindu\",\"Asura\":\"Ahura\",\"Shava\":\"Shiva\"}\n",
    "print(dict1.get(\"Sapta\",\"Not Found\"))\n",
    "print(dict1.get(\"Abc\",\"Not Found\"))\n"
   ]
  },
  {
   "cell_type": "code",
   "execution_count": null,
   "metadata": {},
   "outputs": [],
   "source": [
    "# Ways to sort list of dictionaries by values in Python – Using itemgetter\n",
    "\n",
    "from operator import itemgetter\n",
    "\n",
    "list1 = [{\"name\": \"Nandini\", \"age\": 20},\n",
    "       {\"name\": \"Manjeet\", \"age\": 20},\n",
    "       {\"name\": \"Nikhil\", \"age\": 19}]\n",
    " \n",
    "# using sorted and itemgetter to print list sorted by age\n",
    "print (\"The list printed sorting by age: \")\n",
    "print (sorted(list1, key=itemgetter('age')))\n",
    " \n",
    "print(\"\\r\")\n",
    "\n",
    "# using sorted and itemgetter to print list sorted by both age and name\n",
    "# notice that \"Manjeet\" now comes before \"Nandini\"\n",
    "print(\"The list printed sorting by age and name: \")\n",
    "print(sorted(list1, key=itemgetter('age', 'name')))\n",
    " \n",
    "print(\"\\r\")\n",
    "\n",
    "# using sorted and itemgetter to print list sorted by age in descending order\n",
    "print(\"The list printed sorting by age in descending order: \")\n",
    "print(sorted(list1, key=itemgetter('age'), reverse=True))"
   ]
  },
  {
   "cell_type": "code",
   "execution_count": 22,
   "metadata": {},
   "outputs": [
    {
     "name": "stdout",
     "output_type": "stream",
     "text": [
      "Average marks of Jack Frost is 72.79 with grades C\n",
      "Average marks of James Potter is 75.962 with grades C\n",
      "Average marks of Dylan Rhodes is 75.775 with grades C\n",
      "Average marks of Jessica Stone is 48.356 with grades E\n",
      "Average marks of Tom Hanks is 57.26 with grades E\n",
      "\n",
      " Class Avg is 66.02860000000001\n"
     ]
    }
   ],
   "source": [
    "# 9. Program to create grade calculator in Python\n",
    "\n",
    "# 1. Jack's dictionary\n",
    "jack = {\"name\": \"Jack Frost\",\n",
    "        \"assignment\": [80, 50, 40, 20],\n",
    "        \"test\": [75, 75],\n",
    "        \"lab\": [78.20, 77.20]\n",
    "        }\n",
    " \n",
    "# 2. James's dictionary\n",
    "james = {\"name\": \"James Potter\",\n",
    "         \"assignment\": [82, 56, 44, 30],\n",
    "         \"test\": [80, 80],\n",
    "         \"lab\": [67.90, 78.72]\n",
    "         }\n",
    " \n",
    "# 3. Dylan's dictionary\n",
    "dylan = {\"name\": \"Dylan Rhodes\",\n",
    "         \"assignment\": [77, 82, 23, 39],\n",
    "         \"test\": [78, 77],\n",
    "         \"lab\": [80, 80]\n",
    "         }\n",
    " \n",
    "# 4. Jessica's dictionary\n",
    "jess = {\"name\": \"Jessica Stone\",\n",
    "        \"assignment\": [67, 55, 77, 21],\n",
    "        \"test\": [40, 50],\n",
    "        \"lab\": [69, 44.56]\n",
    "        }\n",
    " \n",
    "# 5. Tom's dictionary\n",
    "tom = {\"name\": \"Tom Hanks\",\n",
    "       \"assignment\": [29, 89, 60, 56],\n",
    "       \"test\": [65, 56],\n",
    "       \"lab\": [50, 40.6]\n",
    "       }\n",
    "\n",
    "def get_avg(marks):\n",
    "    total_sum = sum(marks)\n",
    "    return total_sum/len(marks)\n",
    "\n",
    "def cal_total_avg(students):\n",
    "    avg_assig = get_avg(students[\"assignment\"])\n",
    "    avg_test = get_avg(students[\"test\"])\n",
    "    avg_lab = get_avg(students[\"lab\"])\n",
    "    return (0.1*avg_assig + 0.7*avg_test + 0.2*avg_lab)\n",
    "\n",
    "def grades(score):\n",
    "    if score>= 90:\n",
    "        return \"A\"\n",
    "    elif score>= 80:\n",
    "        return \"B\"\n",
    "    elif score>= 70:\n",
    "        return \"C\"\n",
    "    elif score>= 60:\n",
    "        return \"D\"\n",
    "    else:\n",
    "        return \"E\"\n",
    "\n",
    "def class_avg(students):\n",
    "    result_list = []\n",
    "    for i in students:\n",
    "        stud_avg = cal_total_avg(i)\n",
    "        result_list.append(stud_avg)\n",
    "    return get_avg(result_list)\n",
    "\n",
    "students = [jack,james,dylan,jess,tom]\n",
    "\n",
    "for i in students:\n",
    "    score = cal_total_avg(i)\n",
    "    print(f\"Average marks of {i['name']} is {score} with grades {grades(score)}\")\n",
    "\n",
    "class_average = class_avg(students)\n",
    "print(f\"\\n Class Avg is {class_average}\")"
   ]
  },
  {
   "cell_type": "code",
   "execution_count": 23,
   "metadata": {},
   "outputs": [
    {
     "name": "stdout",
     "output_type": "stream",
     "text": [
      "{1, 2, 3, 4, 5, 6, 7, 8, 9}\n",
      "frozenset({1, 2, 3, 4, 5, 6, 7, 8, 9})\n"
     ]
    }
   ],
   "source": [
    "num = {1,1,1, 2, 3, 4, 5, 6, 7, 8, 9}\n",
    "print(num)\n",
    "\n",
    "fnum = frozenset(num)\n",
    "print(fnum)"
   ]
  },
  {
   "cell_type": "code",
   "execution_count": 24,
   "metadata": {},
   "outputs": [
    {
     "name": "stdout",
     "output_type": "stream",
     "text": [
      "first argument:  lissa\n",
      "variable length arguments:  9988776655\n",
      "variable length arguments:  8888999911\n",
      "variable length arguments:  7788223355\n"
     ]
    }
   ],
   "source": [
    "def myFun(name, *mob_nums):\n",
    "    print (\"first argument: \",name)\n",
    "    for num in mob_nums:\n",
    "        print(\"variable length arguments: \",num)\n",
    "        \n",
    "myFun(\"lissa\",9988776655,8888999911,7788223355)\n"
   ]
  },
  {
   "cell_type": "code",
   "execution_count": 25,
   "metadata": {},
   "outputs": [
    {
     "name": "stdout",
     "output_type": "stream",
     "text": [
      "0\n",
      "1\n",
      "1\n",
      "2\n",
      "3\n",
      "5\n",
      "8\n",
      "13\n",
      "21\n",
      "34\n"
     ]
    }
   ],
   "source": [
    "# Fibonacci series\n",
    "\n",
    "def fibb(n):\n",
    "    a = 0\n",
    "    b = 1\n",
    "    if n==1:\n",
    "        print(a)\n",
    "    else:\n",
    "        print(a)\n",
    "        print(b)\n",
    "        \n",
    "        for i in range(2,n):\n",
    "            c = a+b\n",
    "            a=b\n",
    "            b=c\n",
    "            print(c)\n",
    "fibb(10)\n"
   ]
  },
  {
   "cell_type": "code",
   "execution_count": 26,
   "metadata": {},
   "outputs": [
    {
     "name": "stdout",
     "output_type": "stream",
     "text": [
      "5\n"
     ]
    }
   ],
   "source": [
    "# Fibonacci series nth number (using recursion)\n",
    "\n",
    "def fibb(n):\n",
    "    if n==0:\n",
    "        return 0   \n",
    "    elif n==1:\n",
    "        return 1\n",
    "    else:       \n",
    "        return fibb(n-1)+fibb(n-2)\n",
    "   \n",
    "a = fibb(n=int(input('enter a no.: ')))\n",
    "\n",
    "print(a)"
   ]
  },
  {
   "cell_type": "code",
   "execution_count": 27,
   "metadata": {},
   "outputs": [
    {
     "name": "stdout",
     "output_type": "stream",
     "text": [
      "using_recursion 120\n"
     ]
    }
   ],
   "source": [
    "# Factorial or a number (using recursion)\n",
    "\n",
    "def fac(n):\n",
    "    if n==0 or n==1:\n",
    "        return 1\n",
    "    else:\n",
    "        return n*fac(n-1)    \n",
    "print('using_recursion',fac(5))\n"
   ]
  },
  {
   "cell_type": "code",
   "execution_count": null,
   "metadata": {},
   "outputs": [],
   "source": []
  },
  {
   "cell_type": "code",
   "execution_count": null,
   "metadata": {},
   "outputs": [],
   "source": []
  }
 ],
 "metadata": {
  "kernelspec": {
   "display_name": "Python 3",
   "language": "python",
   "name": "python3"
  },
  "language_info": {
   "codemirror_mode": {
    "name": "ipython",
    "version": 3
   },
   "file_extension": ".py",
   "mimetype": "text/x-python",
   "name": "python",
   "nbconvert_exporter": "python",
   "pygments_lexer": "ipython3",
   "version": "3.11.3"
  }
 },
 "nbformat": 4,
 "nbformat_minor": 2
}

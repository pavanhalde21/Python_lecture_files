{
 "cells": [
  {
   "attachments": {},
   "cell_type": "markdown",
   "id": "ea8d921c",
   "metadata": {},
   "source": [
    "# Arithmetic Operators  ( +,   -,   *,   /,   %,   **,   // )\n"
   ]
  },
  {
   "cell_type": "code",
   "execution_count": 1,
   "id": "b7a32d22",
   "metadata": {},
   "outputs": [
    {
     "name": "stdout",
     "output_type": "stream",
     "text": [
      "Addition:  13\n",
      "\n",
      "Ajay Sharma\n",
      "\n",
      "Subtraction: 7\n",
      "\n",
      "Multiplication  30\n",
      "\n",
      "Division:  3.3333333333333335\n",
      "\n",
      "Modulus:  1\n",
      "\n",
      "Exponentiation:  1000\n",
      "\n",
      "Floor division 3\n",
      "7.5\n",
      "7\n"
     ]
    }
   ],
   "source": [
    "\n",
    "# Arithmetic operators are used in Python for performing mathematical operations on numerical data types like \n",
    "# integers, floats, and complex numbers. Here are the arithmetic operators in Python:\n",
    "\n",
    "# 1. (+)\n",
    "a = 10\n",
    "b = 3\n",
    "c = a + b\n",
    "print(\"Addition: \",c) # Output: 13\n",
    "\n",
    "print()\n",
    "name = 'Ajay'\n",
    "l_name = 'Sharma'\n",
    "print(name+' '+l_name)\n",
    "\n",
    "print()\n",
    "\n",
    "\n",
    "# 2. (-)\n",
    "d = a - b\n",
    "print('Subtraction:',d)  # Output: 7\n",
    "\n",
    "print()\n",
    "\n",
    "\n",
    "# 3. (*)\n",
    "e = a * b\n",
    "print('Multiplication ',e)  # Output: 30\n",
    "\n",
    "print()\n",
    "\n",
    "\n",
    "# 4. (/)\n",
    "f = a / b\n",
    "print('Division: ',f)  # Output: 3.3333333333333335\n",
    "\n",
    "print()\n",
    "\n",
    "\n",
    "# 5. (%)\n",
    "g = a % b\n",
    "print('Modulus: ',g)  # Output: 1\n",
    "\n",
    "print()\n",
    "\n",
    "\n",
    "# 6. (**)\n",
    "h = a ** b\n",
    "print('Exponentiation: ',h)  # Output: 1000\n",
    "\n",
    "print()\n",
    "\n",
    "\n",
    "# 7. (//)\n",
    "i = a // b\n",
    "print('Floor division',i)  # Output: 3\n",
    "\n",
    "d = 15 \n",
    "e = 2\n",
    "\n",
    "print(d/e)\n",
    "print(d//e)"
   ]
  },
  {
   "cell_type": "code",
   "execution_count": 3,
   "id": "04de6d6b",
   "metadata": {},
   "outputs": [
    {
     "name": "stdout",
     "output_type": "stream",
     "text": [
      "durgadurga\n",
      "durgadurgadurga\n"
     ]
    }
   ],
   "source": [
    "# +====>String concatenation operator\n",
    "# * ===>String multiplication operator\n",
    "\n",
    "# We can use +,* operators for str type also\n",
    "\n",
    "print(2*\"durga\")\n",
    "print(\"durga\"*3)"
   ]
  },
  {
   "cell_type": "code",
   "execution_count": 4,
   "id": "ec409bdf",
   "metadata": {},
   "outputs": [
    {
     "name": "stdout",
     "output_type": "stream",
     "text": [
      "(1, 1, 1)\n",
      "(1, 2, 3, 1, 2, 3)\n"
     ]
    }
   ],
   "source": [
    "# same is true for tuple\n",
    "\n",
    "a = (1,)*3\n",
    "print(a)\n",
    "\n",
    "b = (1,2,3)*2\n",
    "print(b)"
   ]
  },
  {
   "attachments": {},
   "cell_type": "markdown",
   "id": "f362cdfc",
   "metadata": {},
   "source": [
    "# Relational / Comparison operators (==, !=, >, <, >=, <=)\n"
   ]
  },
  {
   "cell_type": "code",
   "execution_count": 5,
   "id": "f213fdd5",
   "metadata": {},
   "outputs": [
    {
     "name": "stdout",
     "output_type": "stream",
     "text": [
      "False\n",
      "True\n",
      "True\n",
      "False\n",
      "True\n",
      "False\n",
      "True\n",
      "False\n",
      "True\n",
      "False\n",
      "True\n",
      "True\n",
      "False\n",
      "True\n"
     ]
    }
   ],
   "source": [
    "# Relational operators or comparison operators are used to compare values in Python. \n",
    "# These operators return a boolean value (True or False) based on the comparison.\n",
    "# Here are the commonly used relational operators in Python:\n",
    "\n",
    "# 1. == (Equal to): Returns True if both the operands are equal, else False.\n",
    "\n",
    "a = 10\n",
    "b = 20\n",
    "print(a == b)   # Output: False\n",
    "print(a == 10)  # Output: True\n",
    "\n",
    "# 2. != (Not equal to): Returns True if the operands are not equal, else False.\n",
    "\n",
    "a = 10\n",
    "b = 20\n",
    "print(a != b)   # Output: True\n",
    "print(a != 10)  # Output: False\n",
    "\n",
    "\n",
    "# 3. > (Greater than): Returns True if the left operand is greater than the right operand, else False.\n",
    "\n",
    "a = 10\n",
    "b = 20\n",
    "print(b > a)    # Output: True\n",
    "print(a > b)    # Output: False\n",
    "\n",
    "\n",
    "# 4. < (Less than): Returns True if the left operand is less than the right operand, else False\n",
    "\n",
    "a = 10\n",
    "b = 20\n",
    "print(a < b)    # Output: True\n",
    "print(b < a)    # Output: False\n",
    "\n",
    "# 5. >= (Greater than or equal to): Returns True if the left operand is greater than or equal to the right operand, else False.\n",
    "\n",
    "a = 10\n",
    "b = 20\n",
    "print(b >= a)   # Output: True\n",
    "print(a >= b)   # Output: False\n",
    "print(a >= 10)  # Output: True\n",
    "\n",
    "# 6. <= (Less than or equal to): Returns True if the left operand is less than or equal to the right operand, else False.\n",
    "\n",
    "a = 10\n",
    "b = 20\n",
    "print(a <= b)   # Output: True\n",
    "print(b <= a)   # Output: False\n",
    "print(a <= 10)  # Output: True\n"
   ]
  },
  {
   "cell_type": "code",
   "execution_count": null,
   "id": "28290210",
   "metadata": {},
   "outputs": [],
   "source": [
    "# Chaining of relational operators is possible.\n",
    "\n",
    "# Note: Chaining of relational operators is possible. In the chaining, if all comparisons \n",
    "# returns True then only result is True. If atleast one comparison returns False then the \n",
    "# result is False\n",
    "# Eg:\n",
    "\n",
    "print(10<20)  \n",
    "print(10<20<30)  \n",
    "print(10<20<30<40)  \n",
    "print(10<20<30<40>50) "
   ]
  },
  {
   "cell_type": "code",
   "execution_count": null,
   "id": "ccfc7257",
   "metadata": {},
   "outputs": [],
   "source": [
    "# Chaining concept is applicable for equality operators. \n",
    "\n",
    "# If atleast one comparison returns False then the result is False. otherwise the result is True\n",
    "\n",
    "print(10==10==10==10)\n",
    "print(10==20==10==10)"
   ]
  },
  {
   "attachments": {},
   "cell_type": "markdown",
   "id": "d0d76598",
   "metadata": {},
   "source": [
    "# Logical operators (True, False)\n"
   ]
  },
  {
   "cell_type": "code",
   "execution_count": null,
   "id": "f320c63e",
   "metadata": {},
   "outputs": [],
   "source": [
    "\n",
    "\n",
    "# Logical operators are used to combine or negate logical expressions in Python. \n",
    "# They return a boolean value (True or False) based on the result of the logical operation.\n",
    "\n",
    "# 1. and: Returns True if both the operands are True, else False\n",
    "\n",
    "a = 10\n",
    "b = 20\n",
    "c = 30\n",
    "print(a < b and b < c)  # Output: True\n",
    "print(a < b and b > c)  # Output: False\n",
    "\n",
    "\n",
    "print(a < b & b < c)\n",
    "print(a < b & b > c)\n",
    "\n",
    "\n",
    "# 2. or: Returns True if any of the operands are True, else False.\n",
    "\n",
    "a = 10\n",
    "b = 20\n",
    "c = 30\n",
    "print(a > b or b < c)   # Output: True\n",
    "print(a > b or b > c)   # Output: False\n",
    "\n"
   ]
  },
  {
   "attachments": {},
   "cell_type": "markdown",
   "id": "45699765",
   "metadata": {},
   "source": [
    "# Assignment Operators ( += , -= , *=  , /= , etc… )\n"
   ]
  },
  {
   "cell_type": "code",
   "execution_count": 6,
   "id": "d47f478d",
   "metadata": {},
   "outputs": [
    {
     "name": "stdout",
     "output_type": "stream",
     "text": [
      "15\n",
      "5\n",
      "50\n",
      "2.0\n",
      "1\n",
      "3\n"
     ]
    }
   ],
   "source": [
    "\n",
    "# Assignment operators are used to assign a value to a variable in Python.\n",
    "# These operators combine the assignment operation with another operation,\n",
    "# such as addition, subtraction, multiplication, division, etc.\n",
    "\n",
    "# 1. += (Add and Assign): Adds the value on the right to the variable on the left and assigns \n",
    "#     the result to the variable on the left.\n",
    "\n",
    "a = 10\n",
    "a += 5    # Equivalent to a = a + 5\n",
    "print(a)  # Output: 15\n",
    "\n",
    "# 2. -= (Subtract and Assign): Subtracts the value on the right from the variable on the left and\n",
    "#     assigns the result to the variable on the left.\n",
    "\n",
    "a = 10\n",
    "a -= 5    # Equivalent to a = a - 5\n",
    "print(a)  # Output: 5\n",
    "\n",
    "# 3. *= (Multiply and Assign): Multiplies the value on the right with the variable on the left and\n",
    "#     assigns the result to the variable on the left.\n",
    "\n",
    "a = 10\n",
    "a *= 5    # Equivalent to a = a * 5\n",
    "print(a)  # Output: 50\n",
    "\n",
    "# 4. /= (Divide and Assign): Divides the variable on the left by the value on the right and assigns\n",
    "#     the result to the variable on the left\n",
    "\n",
    "a = 10\n",
    "a /= 5    # Equivalent to a = a / 5\n",
    "print(a)  # Output: 2.0\n",
    "\n",
    "# 5. %= (Modulus and Assign): Computes the remainder when the variable on the left is divided by the value on the right and assigns\n",
    "#     the result to the variable on the left.\n",
    "\n",
    "a = 10\n",
    "a %= 3    # Equivalent to a = a % 3\n",
    "print(a)  # Output: 1\n",
    "\n",
    "# 6. //= (Floor Division and Assign): Computes the floor division of the variable on the left by the value on the right and \n",
    "# assigns the result to the variable on the left.\n",
    "\n",
    "a = 10\n",
    "a //= 3    # Equivalent to a = a // 3\n",
    "print(a)   # Output: 3\n"
   ]
  },
  {
   "attachments": {},
   "cell_type": "markdown",
   "id": "1944585a",
   "metadata": {},
   "source": [
    "# is and is not operators\n"
   ]
  },
  {
   "cell_type": "code",
   "execution_count": 7,
   "id": "2702ee5c",
   "metadata": {},
   "outputs": [
    {
     "name": "stdout",
     "output_type": "stream",
     "text": [
      "True\n",
      "False\n",
      "False\n",
      "True\n"
     ]
    }
   ],
   "source": [
    "\n",
    "# The is and is not operators in Python are used to compare the identity of two objects\n",
    "\n",
    "a = [1, 2, 3]\n",
    "b = a\n",
    "\n",
    "print(a is b)    # Output: True\n",
    "print(a is not b)   # Output: False\n",
    "\n",
    "c = [1, 2, 3]\n",
    "print(a is c)    # Output: False\n",
    "print(a is not c)   # Output: True\n",
    "\n",
    "\n",
    "# In the above example, a and b both refer to the same list object, so a is b returns True. \n",
    "# However, a and c refer to different list objects, \n",
    "# even though they have the same values, so a is c returns False.\n",
    "\n",
    "# It is important to note that is and is not are not the same as == and != operators,\n",
    "# which are used to compare the values of two objects, not their identities in memory."
   ]
  },
  {
   "attachments": {},
   "cell_type": "markdown",
   "id": "4c506e87",
   "metadata": {},
   "source": [
    "# Membership Operators (in , not in)\n"
   ]
  },
  {
   "cell_type": "code",
   "execution_count": 8,
   "id": "60410848",
   "metadata": {},
   "outputs": [
    {
     "name": "stdout",
     "output_type": "stream",
     "text": [
      "True\n",
      "False\n",
      "True\n",
      "True\n"
     ]
    }
   ],
   "source": [
    "\n",
    "# Membership operators in Python are used to test whether a value is a member of a sequence or not.\n",
    "# The two membership operators are in and not in.\n",
    "\n",
    "list1 = [1, 2, 3, 4, 5]\n",
    "string1 = \"Hello, World!\"\n",
    "\n",
    "print(3 in list1)          # Output: True\n",
    "print(6 in list1)          # Output: False\n",
    "print(\"o\" in string1)      # Output: True\n",
    "print(\"z\" not in string1)  # Output: True\n"
   ]
  },
  {
   "attachments": {},
   "cell_type": "markdown",
   "id": "86020a56",
   "metadata": {},
   "source": [
    "# Ternary Operators :\n"
   ]
  },
  {
   "cell_type": "code",
   "execution_count": 9,
   "id": "6ce9b98e",
   "metadata": {},
   "outputs": [
    {
     "name": "stdout",
     "output_type": "stream",
     "text": [
      "x is greater than 5\n",
      "x is greater than 5\n",
      "adult\n",
      "adult\n"
     ]
    }
   ],
   "source": [
    "\n",
    "# Ternary operators in Python provide a concise way to write simple conditional statements.\n",
    "# A ternary operator consists of three parts:\n",
    "# 1. a condition \n",
    "# 2. a value to return if the condition is true \n",
    "# 3. a value to return if the condition is false.\n",
    "\n",
    "x = 10\n",
    "\n",
    "# Using if-else statement\n",
    "if x > 5:\n",
    "    y = \"x is greater than 5\"\n",
    "else:\n",
    "    y = \"x is less than or equal to 5\"\n",
    "\n",
    "print(y)    # Output: \"x is greater than 5\"\n",
    "\n",
    "# Using ternary operator\n",
    "y = \"x is greater than 5\" if x > 5 else \"x is less than or equal to 5\"\n",
    "\n",
    "print(y)    # Output: \"x is greater than 5\"\n",
    "\n",
    "\n",
    "age = 20\n",
    "\n",
    "# Using if-else statement\n",
    "if age >= 18:\n",
    "    status = \"adult\"\n",
    "else:\n",
    "    status = \"minor\"\n",
    "\n",
    "print(status)    # Output: \"adult\"\n",
    "\n",
    "# Using ternary operator\n",
    "status = \"adult\" if age >= 18 else \"minor\"\n",
    "\n",
    "print(status)    # Output: \"adult\"\n",
    "\n"
   ]
  },
  {
   "cell_type": "markdown",
   "id": "84c81742",
   "metadata": {},
   "source": [
    "# Bitwise Operators"
   ]
  },
  {
   "cell_type": "code",
   "execution_count": 10,
   "id": "bb6b1221",
   "metadata": {},
   "outputs": [
    {
     "name": "stdout",
     "output_type": "stream",
     "text": [
      "4\n",
      "True\n"
     ]
    }
   ],
   "source": [
    "\n",
    "# We can apply these operators bitwise.\n",
    "# These operators are applicable only for int and boolean types.\n",
    "# By mistake if we are trying to apply for any other type then we will get Error.\n",
    "\n",
    "# &,|,^,~,<<,>>\n",
    "\n",
    "print(4&5) #==>valid\n",
    "# print(10.5 & 5.6) #==>TypeError: unsupported operand type(s) for &: 'float' and 'float'\n",
    "print(True & True) #==>valid"
   ]
  },
  {
   "cell_type": "code",
   "execution_count": null,
   "metadata": {},
   "outputs": [],
   "source": [
    "print(10.5 & 5.6) #==>TypeError: unsupported operand type(s) for &: 'float' and 'float'"
   ]
  },
  {
   "cell_type": "code",
   "execution_count": 1,
   "id": "aea6d72d",
   "metadata": {},
   "outputs": [
    {
     "name": "stdout",
     "output_type": "stream",
     "text": [
      "4\n",
      "5\n",
      "1\n"
     ]
    }
   ],
   "source": [
    "# & ==> If both bits are 1 then only result is 1 otherwise result is 0\n",
    "# | ==> If atleast one bit is 1 then result is 1 otherwise result is 0\n",
    "# ^ ==>If bits are different then only result is 1 otherwise result is 0\n",
    "# ~ ==>bitwise complement operator  1==>0 & 0==> -1\n",
    "# << ==>Bitwise Left shift\n",
    "# >> ==>Bitwise Right Shift\n",
    "\n",
    "print(4&5) #==>4\n",
    "print(4|5) #==>5\n",
    "print(4^5) #==>1\n"
   ]
  },
  {
   "cell_type": "code",
   "execution_count": null,
   "id": "691cca76",
   "metadata": {},
   "outputs": [],
   "source": [
    "# bitwise complement operator(~):\n",
    "\n",
    "# We have to apply complement for total bits.\n",
    "# Eg: \n",
    "print(~5) #==>-6\n",
    "print(~0)\n",
    "print(~-1)\n",
    "print(~True) #==>-2\n",
    "\n",
    "# Note:\n",
    "# The most significant bit acts as sign bit. 0 value represents +ve number where as 1 represents -ve value.\n",
    "# positive numbers will be repesented directly in the memory where as -ve numbers will be \n",
    "# represented indirectly in 2's complement form."
   ]
  },
  {
   "cell_type": "code",
   "execution_count": null,
   "id": "d73acb31",
   "metadata": {},
   "outputs": [],
   "source": [
    "# Shift Operators:\n",
    "\n",
    "\n",
    "# << Left shift operator\n",
    "# After shifting the empty cells we have to fill with zero\n",
    "\n",
    "print(10<<2) #==>40\n",
    "# 0 0 0 0 1 0 1 0\n",
    "# 0 0 1 0 1 0 0 0"
   ]
  },
  {
   "cell_type": "code",
   "execution_count": null,
   "id": "58a4328a",
   "metadata": {},
   "outputs": [],
   "source": [
    "# >> Right Shift operator\n",
    "# After shifting the empty cells we have to fill with sign bit.( 0 for +ve and 1 for -ve)\n",
    "\n",
    "print(10>>2) #==>2\n",
    "# 0 0 0 0 1 0 1 0\n",
    "# 0 0 0 0 0 0 1 0\n",
    "\n",
    "\n",
    "# We can apply bitwise operators for boolean types also\n",
    "print(True & False) #==>False\n",
    "print(True | False) #===>True\n",
    "print(True ^ False) #==>True\n",
    "print(~True) #==>-2\n",
    "print(True<<2) #==>4\n",
    "print(True>>2) #==>0\n"
   ]
  },
  {
   "cell_type": "markdown",
   "id": "3d7c56f8",
   "metadata": {},
   "source": [
    "# Operator Precedence"
   ]
  },
  {
   "cell_type": "code",
   "execution_count": 11,
   "id": "28069a2c",
   "metadata": {},
   "outputs": [
    {
     "name": "stdout",
     "output_type": "stream",
     "text": [
      "23\n",
      "26\n",
      "100.0\n",
      "100.0\n",
      "70.0\n",
      "15.0\n",
      "15.0\n",
      "15.0\n",
      "15.0\n",
      "17.0\n"
     ]
    }
   ],
   "source": [
    "\n",
    "# If multiple operators present then which operator will be evaluated first is decided by \n",
    "# operator precedence.\n",
    "# Eg:\n",
    "\n",
    "print(3+10*2) #--> 23\n",
    "print((3+10)*2) #--> 26\n",
    "\n",
    "# The following list describes operator precedence in Python\n",
    "\n",
    "# () --> Parenthesis\n",
    "# ** --> exponential operator\n",
    "# ~,- --> Bitwise complement operator,unary minus operator\n",
    "# *,/,%,// --> multiplication,division,modulo,floor division\n",
    "# +,- --> addition,subtraction\n",
    "# <<,>> --> Left and Right Shift\n",
    "# & --> bitwise And\n",
    "# ^ --> Bitwise X-OR\n",
    "# | --> Bitwise OR\n",
    "# >,>=,<,<=, ==, != -->Relational or Comparison operators\n",
    "# =,+=,-=,*=... -->Assignment operators\n",
    "# is , is not --> Identity Operators\n",
    "# in , not in --> Membership operators\n",
    "# not --> Logical not\n",
    "# and --> Logical and\n",
    "# or --> Logical or\n",
    "\n",
    "# Eg:\n",
    "\n",
    "a=30 \n",
    "b=20 \n",
    "c=10 \n",
    "d=5 \n",
    "print((a+b)*c/d) #-->100.0 \n",
    "print((a+b)*(c/d)) #-->100.0 \n",
    "print(a+(b*c)/d) #-->70.0 \n",
    "\n",
    "print(3/2*4+3+(10/5)**3-2) \n",
    "print(3/2*4+3+2.0**3-2 )\n",
    "print(3/2*4+3+8.0-2 )\n",
    "print(1.5*4+3+8.0-2) \n",
    "print(6.0+3+8)"
   ]
  }
 ],
 "metadata": {
  "kernelspec": {
   "display_name": "Python 3 (ipykernel)",
   "language": "python",
   "name": "python3"
  },
  "language_info": {
   "codemirror_mode": {
    "name": "ipython",
    "version": 3
   },
   "file_extension": ".py",
   "mimetype": "text/x-python",
   "name": "python",
   "nbconvert_exporter": "python",
   "pygments_lexer": "ipython3",
   "version": "3.11.3"
  }
 },
 "nbformat": 4,
 "nbformat_minor": 5
}

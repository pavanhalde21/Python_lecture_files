{
 "cells": [
  {
   "cell_type": "code",
   "execution_count": null,
   "id": "8ffa9ace",
   "metadata": {},
   "outputs": [],
   "source": [
    "import logging\n",
    "\n",
    "# Configure logging\n",
    "logging.basicConfig(filename='example.log', level=logging.DEBUG)\n",
    "\n",
    "# Define a function that uses logging\n",
    "def divide_numbers(x, y):\n",
    "    try:\n",
    "        result = x / y\n",
    "    except ZeroDivisionError:\n",
    "        logging.error('Division by zero error')\n",
    "    else:\n",
    "        logging.info(f'Division of {x} by {y} is {result}')\n",
    "        return result\n",
    "\n",
    "# Call the function with different arguments\n",
    "divide_numbers(10, 5)\n",
    "# divide_numbers(8, 0)\n",
    "# divide_numbers(80, 2)\n",
    "\n",
    "# View the contents of the log file\n",
    "with open('example.log', 'r') as f:\n",
    "    print(f.read())\n"
   ]
  },
  {
   "cell_type": "code",
   "execution_count": null,
   "id": "db1eb2d5",
   "metadata": {},
   "outputs": [],
   "source": [
    "# Logging\n",
    "\n",
    "# logging is useful to track the error or exception or information.\n",
    "# It also helps in debugging.\n",
    "# we use logging module to log the error\n",
    "\n",
    "# Syntax:\n",
    "# import logging\n",
    "# from logging import *\n",
    "\n"
   ]
  },
  {
   "cell_type": "code",
   "execution_count": null,
   "id": "b361528b",
   "metadata": {},
   "outputs": [],
   "source": [
    "# basicConfig(**kwargs)Method\n",
    "# This method is used to config the logging system\n",
    "\n",
    "# Syntax:\n",
    "# basicConfig(**kwargs)\n",
    "\n",
    "# filename - It specifies that a FileHandler be created, using the specified filename,\n",
    "# rather than a StreamHandler\n",
    "\n",
    "# filemode - If filename is specified, open the file in this mode. Defaults to 'a'. We can write 'w'\n",
    "\n",
    "# level - set the root logger level to the specified level\n",
    "\n",
    "# format - Use the specified format string for the handler\n",
    "\n",
    "# datefmt - USe the specified date/time format, as accepted by time.strftime()\n",
    "\n",
    "# style - If format is specified, use this style for the format string. One of '%','{' or\n",
    "# '$' for printf-style, str.format() or string. Template respectively. Defaults to '%'\n",
    "\n",
    "# stream - use the specified stream to initialize the streamhandler. Note that this argument is\n",
    "# incompatible with filename - if both are present, a ValueError is raised\n",
    "\n",
    "# handlers - If specified, this should be an iterable of already created handlers to add to the root looger. Any handlers which don't \n",
    "# already have a formatter set will be assigned the default formatter created in this function.\n",
    "# Note that this argument is incompatible with filename or stream - if both are present, a ValueError is raised.\n",
    "\n",
    "# force -If this keyword argument is specified as true, any existing handlers\n",
    "# attached to the root looger are removed and closed, before carrying out the configuration as\n",
    "# specified by the other arguments\n",
    "\n",
    "\n"
   ]
  },
  {
   "cell_type": "code",
   "execution_count": null,
   "id": "0bedc162",
   "metadata": {},
   "outputs": [],
   "source": [
    "# LEVELS\n",
    "\n",
    "# level ----------- Numeric Value\n",
    "\n",
    "# nonset ---------------- 0\n",
    "# debug ------------------- 10\n",
    "# info ------------------- 20\n",
    "# warning --------------------- 30\n",
    "# error ------------------40\n",
    "# critical ----------------50"
   ]
  },
  {
   "cell_type": "code",
   "execution_count": null,
   "id": "c809c097",
   "metadata": {},
   "outputs": [],
   "source": []
  }
 ],
 "metadata": {
  "kernelspec": {
   "display_name": "Python 3 (ipykernel)",
   "language": "python",
   "name": "python3"
  },
  "language_info": {
   "codemirror_mode": {
    "name": "ipython",
    "version": 3
   },
   "file_extension": ".py",
   "mimetype": "text/x-python",
   "name": "python",
   "nbconvert_exporter": "python",
   "pygments_lexer": "ipython3",
   "version": "3.11.3"
  }
 },
 "nbformat": 4,
 "nbformat_minor": 5
}

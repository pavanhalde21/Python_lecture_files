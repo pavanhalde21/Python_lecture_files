{
  "cells": [
    {
      "cell_type": "markdown",
      "source": [
        "Python is one of the most popular <interpreted languages>,\n",
        "but have you ever thought about why Python is called an interpreted language\n",
        "while other programming languages like C, C++, Java, etc., generate results after compilation?\n",
        "So, you might be curious about what is this interpreted language.\n",
        "And how is this different from the language which generates results after compilation?\n",
        "\n",
        "To <answer> the question, we must know what interpreted means.\n",
        "\n",
        "Interpreted in simple terms means running code line by line.\n",
        "It also means that the instruction is executed without earlier compiling the whole program into machine language.\n",
        "\n",
        "Now, let us discuss how Python works as an interpreted language.\n",
        "Consider a scenario where you are trying to run a python code, but unfortunately, you have made some mistakes at the bottom of the code.\n",
        "You will find that there is an error generated for obvious reasons, but along with the error,\n",
        "you will find the output of the program till the line of the program is correct.\n",
        "This is possible because Python reads the code line by line and generates output based on the code.\n",
        "Whenever it finds any error in the line, it stops running and generates an error statement.\n"
      ],
      "metadata": {
        "id": "OsVkfWFo3Xyt"
      }
    },
    {
      "cell_type": "markdown",
      "source": [
        "\n",
        "Python is Both Compiled as well as Interpreted\n",
        "\"Python is an interpreted language\", is the most common saying, which is also written in various books,\n",
        "but the hidden fact is Python is both compiled as well as an interpreted language.\n",
        "This means when we run a python code, it is first compiled and then interpreted line by line.\n",
        "\n",
        "The compilation part is mostly hidden from the user. While running the code, Python generates a byte code internally,\n",
        "this byte code is then converted using a python virtual machine (p.v.m) to generate the output.\n",
        "Now, let us try to prove the fact python is both compiled as well interpreted.\n",
        "\n",
        "Note: The compile part gets deleted as soon as the code gets executed so that the programmer doesn't get onto unnecessary complexity.\n"
      ],
      "metadata": {
        "id": "NqU9ZEnw4jjl"
      }
    },
    {
      "cell_type": "markdown",
      "source": [
        "\n",
        "\n",
        "But why compile and then interprete?\n",
        "\n",
        "--platform independence--write code once and run on diff platform\n",
        "ex: as machine changes your CPU articture also changes\n",
        "so, if you are writting a code for one machine and comlpiling it to get a binary file or a native code it may not work on\n",
        "some other machine because machine may have diff CPU articture and to solve this problem we have a concept of virtual machine(interpreter)\n",
        "in this virtual machine you run a byte code that will convert into binary(native language).\n",
        "that means any machine or doesn't matter what's your CPU articture using if your machine has a virtual machine software(interpreter)\n",
        "you are good to go.for python we have Python Virtual Machine(PVM).\n",
        "PVM is very imp if you want to do performance tuning later if you want to understand how exactly everything is working behind the scene.\n"
      ],
      "metadata": {
        "id": "pI0PE-z74xBk"
      }
    },
    {
      "cell_type": "markdown",
      "source": [
        "\n",
        "Python is a Dynamically types language\n",
        "because while declaring the variable we need not mention the datatype\n",
        "Dynamic - Data Types are checked during execution.\n"
      ],
      "metadata": {
        "id": "nECAA9zX41dl"
      }
    },
    {
      "cell_type": "markdown",
      "source": [
        "\n",
        "\n",
        "-------------\n",
        "python code is executed line by line\n",
        "interpreter reads the code line by line\n",
        "ex: if there is an error in the 9th line all above 8 lines are executed.\n",
        "interpreter is also made of a language\n",
        "\n",
        "at first the python is compiled into bytecode  that is in .pyc file extension\n",
        "then the interpreter converts it into machine language(binary)\n",
        "interpreter converts the bytecode into machine code as it reads it(real time)\n",
        "then we get the output\n",
        "-------------\n",
        "\n",
        ".py file\n",
        "\n",
        "Everything in Python are Objects.\n",
        "\n",
        "print(\"hello world\")\n",
        "\n",
        "it is case sensitive unlike sql\n",
        "\n",
        "Writing Python code is quick but running it is often slower than compiled languages. Fortunately，Python allows the inclusion of C-based extensions so bottlenecks can be optimized away and often are. The numpy package is a good example of this, it’s really quite quick because a lot of the number-crunching it does isn’t actually done by Python\n",
        "\n",
        "Python finds use in many spheres - web applications, automation, scientific modeling, big data applications and many more. It’s also often used as “glue” code to get other languages and components to play nice.\n",
        "\n"
      ],
      "metadata": {
        "id": "kagF0YMB47SP"
      }
    },
    {
      "cell_type": "markdown",
      "source": [
        "\n",
        "Cross-platform(Platform Independance): Python is a cross-platform language, which means that code written on one platform (such as Windows) can be run on another platform (such as Linux or Mac) without modification. This makes it easy to develop and deploy applications across different operating systems.\n",
        "--------------\n",
        "Advantages :\n",
        "- applications in web applications, automation, scientific modeling, big data applications and many more\n",
        "- Python is used where large data is handeled\n",
        "- extensive support for libraries\n",
        "- platform independence(portable)-can run on any platform without requiring changes\n",
        "- dynamically typed\n",
        "- open source\n",
        "\n",
        "Disadvantages :\n",
        "- python is slow as compared to c,c++ and java\n",
        "- python is not  prefered when high security is required(banking related. java is prefered)\n",
        "- python is weak in mobile computing: Python is not widely used in mobile app development\n",
        "-----------------\n"
      ],
      "metadata": {
        "id": "DsfxOSH95DyL"
      }
    },
    {
      "cell_type": "markdown",
      "source": [
        "\n",
        "API--application programming interface--\n",
        "API is written in python\n",
        "API is logic of backend\n",
        "API data is in json format\n",
        "\n",
        "Q5.What is pep 8?\n",
        "Ans: PEP stands for Python Enhancement Proposal. It is a set of rules that specify how to format Python code for maximum readability.\n",
        "\n",
        "Q--- how is python memory management done and who does it\n",
        "------> refer 01Notes.ipynb  in My files\n",
        "\n",
        "----------COMMAND PROMPT--------------\n",
        "-- to run file\n",
        "D:\\02 CS\\02 PYTHON\\Lecture Files>python argparse_2.py\n",
        "\n",
        "-- to open other drive\n",
        "D:\\02 CS\\02 PYTHON\\Lecture Files>C:\n",
        "\n",
        "-- to open file further\n",
        "D:\\02 CS\\02 PYTHON\\Lecture Files>cd notes\n",
        "\n",
        "-- to go to parent file(back)\n",
        "D:\\02 CS\\02 PYTHON\\Lecture Files>cd ..\n",
        "\n",
        "---------------------------------------------\n"
      ],
      "metadata": {
        "id": "l_OUbmJl5H8M"
      }
    },
    {
      "cell_type": "markdown",
      "source": [
        "\n",
        "\n",
        "--dictionary\n",
        "--list\n",
        "--string\n",
        "--set\n",
        "--tuple\n",
        "--if,elif,else\n",
        "--for loop\n",
        "--while loop\n",
        "--decorator\n",
        "--generator\n",
        "--iterator\n",
        "--comprehesions\n",
        "--lambda function\n",
        "--diff between generator and iterator\n",
        "--types of arguments in python\n",
        "--multithreading\n",
        "--file handling\n",
        "--exception handling\n",
        "--class\n",
        "--instance,static,classmethods\n",
        "--inheritance\n",
        "--polymorphysm\n",
        "--encapsulation\n",
        "\n",
        "-- command prompt use:\n",
        "\t--use cd file_name to get into\n",
        "\t--use cd.. to get out of file\n",
        "\t--use D: to change drive\n",
        "\t--use control+c to go to default mode\n",
        "\t--type python and then enter to practice python code\n",
        "\t--type \"jupyter notebook\" to use text editor\n",
        "\n"
      ],
      "metadata": {
        "id": "Hl-5GvpA5M0q"
      }
    },
    {
      "cell_type": "markdown",
      "source": [
        "\n",
        "\n",
        "\n",
        "tuple is a sequence datatype but it is immutable that is it can not be modified\n",
        "t=(10,20,30,[10,20])\n",
        "\n",
        "set : used to remove dublicate\n",
        "s={10,20,30,30}\n",
        "\n",
        "\n",
        "dictonary data type(map datatype)\n",
        "a = {\"name\":\"abc\", \"age\":25, \"add\":\"pune\"}\n",
        "print(a)\n",
        "value can be dublicate but key cannot be dublicate\n",
        "\n",
        "string datatype is immutable\n",
        "\n",
        "frozenset is used to make immutable\n",
        "\n",
        "None datatype\n",
        "\n",
        "\n",
        "\n",
        "type casting: conert on form of data into another type\n",
        "num_str = \"42\"\n",
        "print(type(numstr))\n",
        "num_int=int(num_str)\n",
        "print(num_int)\n",
        "print(type(num_int))\n",
        "by this we can convert integer into float and vise a versa\n",
        "and also integer into string\n",
        "\n",
        "num_int = 42\n",
        "num_str = str(num_int)\n",
        "\n",
        "\n",
        "why indentation is nessesary?\n",
        "c,c++ uses {} to refer a block of code and indentation does the same for python\n",
        "\n",
        "\n"
      ],
      "metadata": {
        "id": "jhh9f4O45QYb"
      }
    },
    {
      "cell_type": "markdown",
      "source": [
        "\n",
        "\n",
        "\n",
        "pie cham j\n",
        "visual studio\n",
        "\n",
        "java tea point\n",
        "\n",
        "geeksforgeeks\n",
        "\n",
        "----doubts-----------------------------------------\n",
        "\n",
        "all()\n",
        "\n",
        "\n",
        "str1 = \"IndiaIsMyCountry\"\n",
        "str1[0:7:2]\n",
        "\n",
        "\n",
        "\n",
        "----------------------------------------------------------\n",
        "\n",
        "handle = open(filename,mode)\n",
        "-returns a handle use to manipulate the file\n",
        "-filename isa string\n",
        "-mode is optional and should be 'r' if we are planning to read the file and 'w' if we are going to write to the file.\n",
        "\n",
        "stuff ='h\\nw'\n",
        "print(stuff)\n",
        "print(len(stuff))\n",
        "\n",
        "------------------------------------------------------\n",
        "Algorithm---a set of rules or steps to solve a problem.\n",
        "Data Structures---a particular way of organizing data in a computer.\n",
        "\n"
      ],
      "metadata": {
        "id": "RnWMHfdn5Ue7"
      }
    },
    {
      "cell_type": "markdown",
      "source": [
        "\n",
        "------LISTS------\n",
        "lists are mutable\n",
        "list is ordered dictionary is not ordered\n",
        "\n",
        "-----DICTONARY--------(memory based key value storers)---(key,values)\n",
        "list--a linear collection of values that stay in order.\n",
        "dictonry--a 'bag' of values, each with its own label.\n",
        "dictionaries arw Python's  most powerful data collection.\n",
        "dictionaries allow us to fast database-like operations in Python.\n",
        "\n",
        "dictionaries have different names in different languages.\n",
        "--Associates Arrays - Perl/PHP\n",
        "--Properties or Map or HashMap - Java\n",
        "--Property Bag - C#/.Net\n",
        "\n",
        "keys in a dictionary are unique\n",
        "---------------------------------------------------------------\n",
        "\n",
        "----TUPLES-------\n",
        "immutable\n",
        "\n",
        "\n",
        "-----MODULES-----\n",
        "a module is a file containing code writtr=en by someone else(usually) which can be imported\n",
        "and used in out programs.\n",
        "\n",
        "------PIP-----\n",
        "pip is the package manager for python you can use pip to install a module on your system\n",
        "pip install flask installs flask module\n",
        "\n",
        "\n",
        "-----VS CODE-----\n",
        "control+/  = comments the selectes lines ''' helll0sdfj''' comments in python\n",
        "\n",
        "'''hello \" ''' triple quote is used when we want to use \" in print\n",
        "\n",
        "Alt+shift cursor on all lines\n",
        "Alt and select where you whant the curser\n",
        "   \n"
      ],
      "metadata": {
        "id": "Fdk0vfJq5b5L"
      }
    },
    {
      "cell_type": "markdown",
      "metadata": {
        "id": "QUgct84T3T-X"
      },
      "source": [
        "# Reserved words"
      ]
    },
    {
      "cell_type": "markdown",
      "source": [
        "\n",
        "-- There are 35 reserved words available in Python.\n",
        "\n",
        "True, False, None\n",
        "\n",
        "and, or, not, is, in\n",
        "\n",
        "if, elif, else\n",
        "\n",
        "while, for, break, continue, pass\n",
        "\n",
        "def, return, lambda, yield\n",
        "\n",
        "try, except, finally, raise\n",
        "\n",
        "class, global\n",
        "\n",
        "import, from, as, nonlocal,  del, with, assert,  async, await\n"
      ],
      "metadata": {
        "id": "sVq784pY5hYB"
      }
    },
    {
      "cell_type": "code",
      "execution_count": null,
      "metadata": {
        "id": "dhNXEOZG3T-X"
      },
      "outputs": [],
      "source": [
        "import keyword\n",
        "\n",
        "keyword.kwlist"
      ]
    },
    {
      "cell_type": "markdown",
      "source": [
        "\n",
        "know more about\n",
        "\n",
        "-- yield\n",
        "-- del\n",
        "-- with\n",
        "-- nonlocal\n",
        "-- assert\n",
        "-- async\n",
        "-- await"
      ],
      "metadata": {
        "id": "zJ8MYzXi5lgi"
      }
    }
  ],
  "metadata": {
    "kernelspec": {
      "display_name": "Python 3 (ipykernel)",
      "language": "python",
      "name": "python3"
    },
    "language_info": {
      "codemirror_mode": {
        "name": "ipython",
        "version": 3
      },
      "file_extension": ".py",
      "mimetype": "text/x-python",
      "name": "python",
      "nbconvert_exporter": "python",
      "pygments_lexer": "ipython3",
      "version": "3.11.3"
    },
    "colab": {
      "provenance": []
    }
  },
  "nbformat": 4,
  "nbformat_minor": 0
}
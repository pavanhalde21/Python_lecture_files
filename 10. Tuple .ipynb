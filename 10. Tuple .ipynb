{
 "cells": [
  {
   "attachments": {},
   "cell_type": "markdown",
   "id": "5853715b",
   "metadata": {},
   "source": [
    "# Tuple Data Type"
   ]
  },
  {
   "cell_type": "code",
   "execution_count": null,
   "id": "a0a6fe67",
   "metadata": {},
   "outputs": [],
   "source": [
    "# Tuple():-  tuple is an immutable sequence of elements that are ordered and indexed.\n",
    "            # Tuples are similar to lists in that they can contain elements of different data types.\n",
    "\n",
    "\n",
    "# -- immutable\n",
    "# -- ordered\n",
    "# -- indexing can be done\n",
    "\n",
    "# -- can be accessed using index notation, just like lists.\n",
    "# -- can be sliced and concatenated, just like lists.\n",
    "# -- are more memory-efficient than lists, especially for large collections of data.\n",
    "# -- used for storing constant values that should not be modified. "
   ]
  },
  {
   "cell_type": "code",
   "execution_count": null,
   "id": "ed179f36",
   "metadata": {},
   "outputs": [],
   "source": [
    "# can contain any data type\n",
    "\n",
    "my_tuple = (1, 2, \"three\", 4.0, {'a':1, 'b':2}, [12,21])\n",
    "\n",
    "print(my_tuple)\n",
    "\n",
    "print(type(my_tuple))"
   ]
  },
  {
   "cell_type": "code",
   "execution_count": 2,
   "id": "6b915bc6",
   "metadata": {},
   "outputs": [
    {
     "name": "stdout",
     "output_type": "stream",
     "text": [
      "<class 'tuple'>\n",
      "words:  ('walk', 'talk', 'speak', 'sleep')\n"
     ]
    }
   ],
   "source": [
    "### -- this is also a tuple\n",
    "\n",
    "words = \"walk\",\"talk\",\"speak\",\"sleep\"\n",
    "print(type(words))\n",
    "print('words: ',words)"
   ]
  },
  {
   "cell_type": "code",
   "execution_count": 3,
   "id": "5f6bfc12",
   "metadata": {},
   "outputs": [
    {
     "name": "stdout",
     "output_type": "stream",
     "text": [
      "(1, 2, 3)\n",
      "<class 'tuple'>\n"
     ]
    }
   ],
   "source": [
    "a = 1,2,3\n",
    "print(a)\n",
    "print(type(a))"
   ]
  },
  {
   "cell_type": "code",
   "execution_count": null,
   "id": "10f085ed",
   "metadata": {},
   "outputs": [],
   "source": [
    "# empty tuple\n",
    "\n",
    "my_t = ()\n",
    "print(type(my_t))\n",
    "\n",
    "my_t1 = tuple()\n",
    "print(type(my_t1))"
   ]
  },
  {
   "cell_type": "code",
   "execution_count": 4,
   "id": "d7e1e47d",
   "metadata": {},
   "outputs": [
    {
     "name": "stdout",
     "output_type": "stream",
     "text": [
      "<class 'tuple'>\n",
      "<class 'str'>\n",
      "<class 'tuple'>\n"
     ]
    }
   ],
   "source": [
    "# tuple with single element\n",
    "\n",
    "my_tu = (1,)  # without ',' it becomes int\n",
    "print(type(my_tu))\n",
    "\n",
    "fruits = (\"Apple\")\n",
    "print(type(fruits))\n",
    "\n",
    "colour = (\"Black\",)\n",
    "print(type(colour))"
   ]
  },
  {
   "cell_type": "code",
   "execution_count": 9,
   "metadata": {},
   "outputs": [
    {
     "name": "stdout",
     "output_type": "stream",
     "text": [
      "(1, 2, 3)\n",
      "<class 'tuple'>\n"
     ]
    }
   ],
   "source": [
    "# packing\n",
    "\n",
    "a = 1\n",
    "b = 2\n",
    "c = 3\n",
    "\n",
    "t1 = (a,b,c)\n",
    "print(t1)\n",
    "print(type(t1))\n"
   ]
  },
  {
   "cell_type": "code",
   "execution_count": 8,
   "metadata": {},
   "outputs": [
    {
     "ename": "TypeError",
     "evalue": "tuple expected at most 1 argument, got 3",
     "output_type": "error",
     "traceback": [
      "\u001b[1;31m---------------------------------------------------------------------------\u001b[0m",
      "\u001b[1;31mTypeError\u001b[0m                                 Traceback (most recent call last)",
      "\u001b[1;32md:\\_02_CS\\02_PYTHON\\Lecture_Files\\10. Tuple .ipynb Cell 9\u001b[0m line \u001b[0;36m5\n\u001b[0;32m      <a href='vscode-notebook-cell:/d%3A/_02_CS/02_PYTHON/Lecture_Files/10.%20Tuple%20.ipynb#X41sZmlsZQ%3D%3D?line=1'>2</a>\u001b[0m b \u001b[39m=\u001b[39m \u001b[39m2\u001b[39m\n\u001b[0;32m      <a href='vscode-notebook-cell:/d%3A/_02_CS/02_PYTHON/Lecture_Files/10.%20Tuple%20.ipynb#X41sZmlsZQ%3D%3D?line=2'>3</a>\u001b[0m c \u001b[39m=\u001b[39m \u001b[39m3\u001b[39m\n\u001b[1;32m----> <a href='vscode-notebook-cell:/d%3A/_02_CS/02_PYTHON/Lecture_Files/10.%20Tuple%20.ipynb#X41sZmlsZQ%3D%3D?line=4'>5</a>\u001b[0m t1 \u001b[39m=\u001b[39m \u001b[39mtuple\u001b[39;49m(a,b,c)\n\u001b[0;32m      <a href='vscode-notebook-cell:/d%3A/_02_CS/02_PYTHON/Lecture_Files/10.%20Tuple%20.ipynb#X41sZmlsZQ%3D%3D?line=5'>6</a>\u001b[0m \u001b[39mprint\u001b[39m(t1)\n\u001b[0;32m      <a href='vscode-notebook-cell:/d%3A/_02_CS/02_PYTHON/Lecture_Files/10.%20Tuple%20.ipynb#X41sZmlsZQ%3D%3D?line=6'>7</a>\u001b[0m \u001b[39mprint\u001b[39m(\u001b[39mtype\u001b[39m(t1))\n",
      "\u001b[1;31mTypeError\u001b[0m: tuple expected at most 1 argument, got 3"
     ]
    }
   ],
   "source": [
    "a = 1\n",
    "b = 2\n",
    "c = 3\n",
    "\n",
    "t1 = tuple(a,b,c)\n",
    "print(t1)\n",
    "print(type(t1))\n"
   ]
  },
  {
   "cell_type": "code",
   "execution_count": 10,
   "id": "48d569c5",
   "metadata": {},
   "outputs": [
    {
     "name": "stdout",
     "output_type": "stream",
     "text": [
      "1\n",
      "(1, 1, 1, 12, 3)\n",
      "(1, 2, 3, 4)\n",
      "True\n",
      "False\n",
      "(20, 30)\n",
      "1 2 3\n",
      "fred\n"
     ]
    }
   ],
   "source": [
    "# 1. Accessing elements\n",
    "\n",
    "my_tuple = (1,1,1,12, 3)\n",
    "print(my_tuple[0])\n",
    "print(my_tuple) # repeated values are printed (unlike set,frozenset) (similar to list)\n",
    "\n",
    "\n",
    "# 2. Concatenation: You can concatenate two or more tuples using the + operator\n",
    "\n",
    "a =(1, 2)\n",
    "b =(3, 4)\n",
    "c = a+b\n",
    "print(c)\n",
    "\n",
    "\n",
    "# 3. Membership testing \n",
    "\n",
    "t = (10,20,30,'USA','IND')\n",
    "print(10 in t)\n",
    "print(\"USA\" not in t)\n",
    "\n",
    "\n",
    "# 4. Slicing: You can slice a tuple to extract a subset of its elements, just like with lists\n",
    "\n",
    "t = (10,20,30,'USA','IND')\n",
    "print(t[1:3])\n",
    "\n",
    "\n",
    "# 5. Unpacking: You can unpack the elements of a tuple into individual variables\n",
    "\n",
    "my_tuple = (1, 2, 3)\n",
    "a, b, c = my_tuple\n",
    "print(a,b,c)\n",
    "\n",
    "(x,y) = (4,'fred')\n",
    "print(y)\n"
   ]
  },
  {
   "cell_type": "code",
   "execution_count": null,
   "metadata": {},
   "outputs": [],
   "source": [
    "my_tuple = (1, 1, 1, 12, 3)"
   ]
  },
  {
   "cell_type": "code",
   "execution_count": 11,
   "id": "bc15c5a9",
   "metadata": {},
   "outputs": [
    {
     "name": "stdout",
     "output_type": "stream",
     "text": [
      "(1, 2, 1, 2, 1, 2)\n",
      "(10, 10, 10)\n",
      "<class 'tuple'>\n",
      "30\n",
      "<class 'int'>\n",
      "()\n",
      "<class 'tuple'>\n",
      "[1, 2, 1, 2, 1, 2]\n",
      "<class 'list'>\n"
     ]
    }
   ],
   "source": [
    "# 6. Repetition: You can repeat a tuple a specified number of times using the * operator\n",
    "\n",
    "a = (1, 2) * 3\n",
    "print(a)\n",
    "\n",
    "b = ((10,))*3  # tuple conataining 3 copiies ans: (10,10,10)\n",
    "print(b)\n",
    "print(type(b))\n",
    "\n",
    "a = (10)*3  # integer is multiply by 3 ans:30\n",
    "print(a)\n",
    "print(type(a))\n",
    "\n",
    "c = (())*3  # it will print only one empty tuple\n",
    "print(c)\n",
    "print(type(c))\n",
    "\n",
    "# same can be done for list and string\n",
    "a = [1, 2] * 3\n",
    "print(a)\n",
    "print(type(a))"
   ]
  },
  {
   "cell_type": "code",
   "execution_count": 12,
   "id": "37ca712a",
   "metadata": {},
   "outputs": [
    {
     "name": "stdout",
     "output_type": "stream",
     "text": [
      "(10, 20, 30, 40, 50, 60)\n"
     ]
    }
   ],
   "source": [
    "t1=(10,20,30) \n",
    "t2=(40,50,60) \n",
    "t3=t1+t2 \n",
    "print(t3)"
   ]
  },
  {
   "cell_type": "code",
   "execution_count": 13,
   "id": "bd55b100",
   "metadata": {},
   "outputs": [
    {
     "name": "stdout",
     "output_type": "stream",
     "text": [
      "csev 2\n",
      "cwen 4\n",
      "dict_items([('csev', 2), ('cwen', 4)])\n",
      "<class 'dict_items'>\n"
     ]
    }
   ],
   "source": [
    "# tuples and dictionaries\n",
    "\n",
    "d=dict()\n",
    "d['csev'] = 2\n",
    "d['cwen'] = 4\n",
    "for (k,v) in d.items():\n",
    "    print(k,v)\n",
    "\n",
    "tups = d.items()\n",
    "print(tups)\n",
    "print(type(tups)) # elements in it are tuples ex. ('csev', 2) is a tuple\n",
    "\n",
    "# see its application further in dictionaries. where we can sort dictionary by key or values."
   ]
  },
  {
   "cell_type": "code",
   "execution_count": 15,
   "id": "83c6dd7a",
   "metadata": {},
   "outputs": [
    {
     "name": "stdout",
     "output_type": "stream",
     "text": [
      "True\n",
      "False\n",
      "True\n"
     ]
    }
   ],
   "source": [
    "# tuples are compareable\n",
    "\n",
    "print((0,1,2)<(5,1,2))\n",
    "\n",
    "print((0,1,200000)>(0,3,4))\n",
    "\n",
    "print((0,3,2)<(5,1,2))\n"
   ]
  },
  {
   "cell_type": "code",
   "execution_count": 16,
   "id": "76b16d65",
   "metadata": {},
   "outputs": [
    {
     "name": "stdout",
     "output_type": "stream",
     "text": [
      "dict_items([('b', 10), ('a', 1), ('c', 22)])\n",
      "[('a', 1), ('b', 10), ('c', 22)]\n",
      "<class 'list'>\n",
      "a 1\n",
      "b 10\n",
      "c 22\n",
      "[(10, 'a'), (1, 'b'), (22, 'c')]\n",
      "<class 'list'>\n",
      "<class 'tuple'>\n",
      "[(22, 'c'), (10, 'a'), (1, 'b')]\n",
      "[(1, 'b'), (10, 'a'), (22, 'c')]\n"
     ]
    }
   ],
   "source": [
    "# sorting lists of tuples\n",
    "\n",
    "# we can take advantage of the ability to sort a list of tuples to get a sorted version of dictionary\n",
    "# first we sort the dictionary by the key using the items() method and sorted() function\n",
    "\n",
    "d={'b':10, 'a':1, 'c':22}\n",
    "print(d.items())\n",
    "\n",
    "print(sorted(d.items()))\n",
    "print(type(sorted(d.items()))) # list\n",
    "# but elements in it ('a', 10) are tuple\n",
    "\n",
    "for (k,v) in sorted(d.items()): # sort by key\n",
    "    print(k,v)\n",
    "\n",
    "c={'a':10, 'b':1, 'c':22}\n",
    "# tmp = []\n",
    "tmp = list() # this can also be used to create an empty  list\n",
    "for k,v in c.items(): # sort by values\n",
    "    tmp.append((v,k))\n",
    "\n",
    "print(tmp)\n",
    "print(type(tmp))\n",
    "print(type(tmp[0])) # tuple # WOw! this is cool we can know the data types of elements in a list\n",
    "\n",
    "tmp = sorted(tmp, reverse=True)\n",
    "print(tmp)\n",
    "\n",
    "c={'a':10, 'b':1, 'c':22}\n",
    "print(sorted([(v,k) for k,v in c.items() ])) # sort by values\n"
   ]
  },
  {
   "attachments": {},
   "cell_type": "markdown",
   "id": "78e20578",
   "metadata": {},
   "source": [
    "# Tuple comprehension\n"
   ]
  },
  {
   "cell_type": "code",
   "execution_count": null,
   "id": "7ac6c27b",
   "metadata": {},
   "outputs": [],
   "source": [
    "### when we try to create tuple comprehension it will create generator object.\n",
    "# we can say this is because tuples are immutable"
   ]
  },
  {
   "cell_type": "code",
   "execution_count": 3,
   "id": "cce6f91d",
   "metadata": {},
   "outputs": [
    {
     "name": "stdout",
     "output_type": "stream",
     "text": [
      "<generator object <genexpr> at 0x000002B126700790>\n",
      "<class 'generator'>\n",
      "0\n",
      "1\n",
      "2\n",
      "3\n",
      "4\n",
      "5\n",
      "6\n",
      "7\n",
      "8\n",
      "9\n"
     ]
    }
   ],
   "source": [
    "tuple_comp = (i for i in range(10))\n",
    "print(tuple_comp) # generator object\n",
    "print(type(tuple_comp))\n",
    "\n",
    "for j in tuple_comp:\n",
    "    print(j) # this will print elements in generator object\n",
    "\n",
    "# print(next(tuple_comp)) # tuple"
   ]
  },
  {
   "attachments": {},
   "cell_type": "markdown",
   "id": "008d4cbb",
   "metadata": {},
   "source": [
    "# Diff between List and Tuple"
   ]
  },
  {
   "cell_type": "code",
   "execution_count": null,
   "id": "75dd2837",
   "metadata": {},
   "outputs": [],
   "source": [
    "# 1.index\n",
    "# 2.mutability\n",
    "# 3.usage\n",
    "# 4.memory consumption\n",
    "# a. for list Python creates a dynamic array and allocates memory for it. As items are added or removed from the list, \n",
    "#    the array may need to be resized and reallocated in memory, which can result in more memory usage\n",
    "# b. Tuples, on the other hand, are implemented as a fixed-size array in memory, which means that the memory allocated \n",
    "#    for a tuple is fixed at the time of creation and does not change."
   ]
  },
  {
   "cell_type": "code",
   "execution_count": 4,
   "id": "e4a770b2",
   "metadata": {},
   "outputs": [
    {
     "name": "stdout",
     "output_type": "stream",
     "text": [
      "2440641367312\n",
      "80\n",
      "(10, 20, 30, 40, [100, 'python', 300])\n",
      "<class 'tuple'>\n",
      "80\n",
      "2440641367312\n"
     ]
    }
   ],
   "source": [
    "import sys\n",
    "\n",
    "_tuple = (10,20,30,40,[100,200,300])\n",
    "print(id(_tuple))\n",
    "# _tuple[3] = 50   #This will get an error like tuple object does not support assign \n",
    "\n",
    "print(sys.getsizeof(_tuple))\n",
    "\n",
    "_tuple[4][1] = \"python\" ### list in tuple can be modified??? \n",
    "## then this may mean mutable and what about memory usage?????(we cannot append so the question of memory usage won't rise may be)\n",
    "\n",
    "print(_tuple)\n",
    "print(type(_tuple))\n",
    "print(sys.getsizeof(_tuple))\n",
    "print(id(_tuple))"
   ]
  },
  {
   "cell_type": "code",
   "execution_count": 5,
   "id": "052e0230",
   "metadata": {},
   "outputs": [
    {
     "name": "stdout",
     "output_type": "stream",
     "text": [
      "2440639954544\n",
      "80\n",
      "(10, 20, 30, 40, [100, [1, 2, 3, 4, 5, 6, 6, 7, 8, 9, 0, 1, 2, 3, 4, 5, 6, 6, 66, 6, 66, 6, 66, 6, 66, 6, 66, 66, 6, 6, 66, 66, 6], 300])\n",
      "<class 'tuple'>\n",
      "80\n",
      "2440639954544\n"
     ]
    }
   ],
   "source": [
    "import sys\n",
    "\n",
    "_tuple = (10,20,30,40,[100,200,300])\n",
    "print(id(_tuple))\n",
    "# _tuple[3] = 50   #This will get an error like tuple object does not support assign \n",
    "\n",
    "print(sys.getsizeof(_tuple))\n",
    "\n",
    "_tuple[4][1] = [1,2,3,4,5,6,6,7,8,9,0,1,2,3,4,5,6,6,66,6,66,6,66,6,66,6,66,66,6,6,66,66,6] ### list in tuple can be modified??? \n",
    "## then this may mean mutable and what about memory usage?????(we cannot append so the question of memory usage won't rise may be)\n",
    "\n",
    "print(_tuple)\n",
    "print(type(_tuple))\n",
    "print(sys.getsizeof(_tuple))\n",
    "print(id(_tuple))"
   ]
  },
  {
   "cell_type": "code",
   "execution_count": null,
   "metadata": {},
   "outputs": [],
   "source": [
    "_tuple = (10,20,30,40,[100,200,300])\n",
    "\n",
    "# _tuple[3] = 50   #This will get an error like tuple object does not support assign \n",
    "\n"
   ]
  },
  {
   "cell_type": "code",
   "execution_count": null,
   "id": "191d16e6",
   "metadata": {},
   "outputs": [],
   "source": [
    "_tuple = (10,20,30,40,{'a':1,'b':2})\n",
    "_tuple[4]['a']=3\n",
    "print(_tuple)\n",
    "# here dictionary element's value is changes"
   ]
  },
  {
   "cell_type": "code",
   "execution_count": null,
   "id": "992eb923",
   "metadata": {},
   "outputs": [],
   "source": [
    "print(dir(list))"
   ]
  },
  {
   "cell_type": "code",
   "execution_count": null,
   "id": "5bef8045",
   "metadata": {},
   "outputs": [],
   "source": [
    "print(dir(tuple))"
   ]
  },
  {
   "cell_type": "code",
   "execution_count": null,
   "id": "97b286c2",
   "metadata": {},
   "outputs": [],
   "source": [
    "print(dir(dict))"
   ]
  },
  {
   "cell_type": "code",
   "execution_count": null,
   "id": "b82c9bd8",
   "metadata": {},
   "outputs": [],
   "source": [
    "print(dir(set))"
   ]
  },
  {
   "cell_type": "code",
   "execution_count": null,
   "id": "ffd77345",
   "metadata": {},
   "outputs": [],
   "source": [
    "print(dir(str))"
   ]
  },
  {
   "cell_type": "code",
   "execution_count": null,
   "id": "be2e5c21",
   "metadata": {},
   "outputs": [],
   "source": [
    "print(dir(frozenset()))"
   ]
  }
 ],
 "metadata": {
  "kernelspec": {
   "display_name": "Python 3 (ipykernel)",
   "language": "python",
   "name": "python3"
  },
  "language_info": {
   "codemirror_mode": {
    "name": "ipython",
    "version": 3
   },
   "file_extension": ".py",
   "mimetype": "text/x-python",
   "name": "python",
   "nbconvert_exporter": "python",
   "pygments_lexer": "ipython3",
   "version": "3.11.3"
  }
 },
 "nbformat": 4,
 "nbformat_minor": 5
}

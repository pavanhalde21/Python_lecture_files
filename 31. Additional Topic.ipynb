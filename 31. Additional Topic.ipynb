{
 "cells": [
  {
   "cell_type": "code",
   "execution_count": null,
   "metadata": {},
   "outputs": [],
   "source": [
    "__name__ \n",
    "# runs this and you eill see that the above mentioned variable is a predefined variable in python whose value is '__main__'"
   ]
  },
  {
   "cell_type": "code",
   "execution_count": null,
   "metadata": {},
   "outputs": [],
   "source": [
    "if __name__ == \"__main__\":\n",
    "# this is used as a entry point in python"
   ]
  },
  {
   "cell_type": "code",
   "execution_count": null,
   "metadata": {},
   "outputs": [],
   "source": [
    "# in C or JAVA the entry point is the main function as shown below\n",
    "\n",
    "# C\n",
    "# #include <stdio.h>\n",
    "# void main()\n",
    "# {\n",
    "#     //Do something\n",
    "# }\n",
    "\n",
    "# JAVA\n",
    "# public static void main(String[] args) {\n",
    "#      // Do something\n",
    "# }\n",
    "\n"
   ]
  },
  {
   "cell_type": "code",
   "execution_count": null,
   "metadata": {},
   "outputs": [],
   "source": [
    "# when is the value of variable __name__ other than \"__main__\"\n",
    "# if you have another file called caller.py where you are importing area module\n",
    "# this could be well explained by creating .py files so look at aera.py and caller.py\n",
    "\n",
    "# we can see that when we import a file which has if __name__ == \"__main__\": \n",
    "# the variable __name__ changes to the name of the imported module"
   ]
  },
  {
   "cell_type": "code",
   "execution_count": null,
   "metadata": {},
   "outputs": [],
   "source": [
    "import argparse"
   ]
  },
  {
   "cell_type": "code",
   "execution_count": null,
   "metadata": {},
   "outputs": [],
   "source": [
    "if __name__ == \"__main__\":\n",
    "    parser = argparse.ArgumentParser()\n",
    "    parser.add_argument(\"number\",help = \"first number\")      # positional argument\n",
    "    parser.add_argument(\"number2\", help = \"second number\")   # positional argument\n",
    "    parser.add_argument(\"operation\", help = \"operation\")     # operational argument\n",
    "\n",
    "    # args = parser.parse_args()\n",
    "    args, unknown = parser.parse_known_args()\n",
    "\n",
    "    print(args.number1)\n",
    "    print(args.number2)\n",
    "    print(args.operation)\n",
    "\n",
    "    n1 = int(args.number1)\n",
    "    n2 = int(args.number2)\n",
    "    result = None\n",
    "\n",
    "    if args.operation == \"add\":\n",
    "        result = n1 + n2\n",
    "\n",
    "    elif args.operation == \"subtract\":\n",
    "        result = n1 - n2\n",
    "\n",
    "    elif args.operation == \"multiply\":\n",
    "        result = n1*n2\n",
    "    \n",
    "    print(result)\n",
    "\n",
    "\n",
    "# should work fine with .py files\n"
   ]
  },
  {
   "cell_type": "code",
   "execution_count": null,
   "metadata": {},
   "outputs": [],
   "source": [
    "class DurgaMath:\n",
    "\t@staticmethod\n",
    "\tdef add(x, y): \n",
    "\t\tprint('The Sum:', x+y)\n",
    "DurgaMath.add(10,20)\n",
    "\n",
    "# op:\n",
    "# The Sum: 30"
   ]
  },
  {
   "cell_type": "code",
   "execution_count": null,
   "metadata": {},
   "outputs": [],
   "source": [
    "# Pickling and unpickling, also known as serialization and deserialization, respectively,\n",
    "#  in Python refer to the process of converting a Python object into a byte stream and reconstructing \n",
    "# the original object from that byte stream. This is commonly used for tasks such as storing Python objects in\n",
    "#  files or transferring data over networks.\n",
    "\n",
    "# Here's an example demonstrating pickling and unpickling using Python's built-in pickle module:\n",
    "\n",
    "# python\n",
    "# Copy code\n",
    "\n"
   ]
  },
  {
   "cell_type": "code",
   "execution_count": null,
   "metadata": {},
   "outputs": [],
   "source": [
    "\n",
    "import pickle\n",
    "\n",
    "# Example Python object\n",
    "data = {'name': 'John', 'age': 30, 'city': 'New York'}\n",
    "\n",
    "# Pickle the object\n",
    "with open('data.pickle', 'wb') as file:\n",
    "    pickle.dump(data, file)\n",
    "\n",
    "# Unpickle the object\n",
    "with open('data.pickle', 'rb') as file:\n",
    "    loaded_data = pickle.load(file)\n",
    "\n",
    "print(loaded_data)\n",
    "\n"
   ]
  },
  {
   "cell_type": "code",
   "execution_count": null,
   "metadata": {},
   "outputs": [],
   "source": [
    "\n",
    "# In this example:\n",
    "\n",
    "# We define a Python dictionary data.\n",
    "# We pickle the data object using pickle.dump() function, and write it to a file named data.pickle in binary mode ('wb').\n",
    "# We then unpickle the object from the data.pickle file using pickle.load() function, reading it in binary mode ('rb').\n",
    "# Finally, we print the loaded_data, which should be the same as the original data object.\n",
    "# The output will be:\n",
    "\n",
    "# arduino\n",
    "# Copy code\n",
    "# {'name': 'John', 'age': 30, 'city': 'New York'}\n",
    "# This demonstrates the process of pickling (serialization) and unpickling (deserialization) in Python using the pickle module. Keep in mind that pickle can handle a wide range of Python objects, but not all objects can be pickled (e.g., file objects, sockets, etc.).\n"
   ]
  },
  {
   "cell_type": "code",
   "execution_count": null,
   "metadata": {},
   "outputs": [],
   "source": [
    "\n",
    "\n",
    "# Serialization (pickling) and deserialization (unpickling) are used for various purposes, such as:\n",
    "\n",
    "# Data Persistence: Storing Python objects persistently in files or databases. This is useful for saving program state or configurations.\n",
    "# Inter-Process Communication: Transmitting Python objects between different processes or systems.\n",
    "# Network Communication: Sending Python objects over networks between clients and servers.\n",
    "# Caching: Storing precomputed results or frequently used data structures to avoid recomputation.\n",
    "# Data Exchange: Converting Python objects to formats like JSON or YAML for interoperability with other programming languages or systems.\n",
    "# JSON (JavaScript Object Notation) and YAML (YAML Ain't Markup Language) are popular formats for serializing and deserializing data. They are human-readable and widely supported in various programming languages.\n",
    "\n",
    "# Here's how JSON and YAML can be used for serialization and deserialization in Python:\n",
    "\n",
    "# JSON Example:\n",
    "# python\n",
    "# Copy code\n"
   ]
  },
  {
   "cell_type": "code",
   "execution_count": null,
   "metadata": {},
   "outputs": [],
   "source": [
    "\n",
    "import json\n",
    "\n",
    "# Example Python object\n",
    "data = {'name': 'John', 'age': 30, 'city': 'New York'}\n",
    "\n",
    "# Serialize the object to JSON\n",
    "json_data = json.dumps(data)\n",
    "\n",
    "# Write JSON data to a file\n",
    "with open('data.json', 'w') as file:\n",
    "    file.write(json_data)\n",
    "\n",
    "# Read JSON data from file and deserialize it\n",
    "with open('data.json', 'r') as file:\n",
    "    loaded_data = json.load(file)\n",
    "\n",
    "print(loaded_data)\n"
   ]
  },
  {
   "cell_type": "code",
   "execution_count": null,
   "metadata": {},
   "outputs": [],
   "source": [
    "\n",
    "# YAML Example:\n",
    "# python\n",
    "# Copy code\n"
   ]
  },
  {
   "cell_type": "code",
   "execution_count": null,
   "metadata": {},
   "outputs": [],
   "source": [
    "import yaml\n",
    "\n",
    "# Example Python object\n",
    "data = {'name': 'John', 'age': 30, 'city': 'New York'}\n",
    "\n",
    "# Serialize the object to YAML\n",
    "yaml_data = yaml.dump(data)\n",
    "\n",
    "# Write YAML data to a file\n",
    "with open('data.yaml', 'w') as file:\n",
    "    file.write(yaml_data)\n",
    "\n",
    "# Read YAML data from file and deserialize it\n",
    "with open('data.yaml', 'r') as file:\n",
    "    loaded_data = yaml.load(file, Loader=yaml.FullLoader)\n",
    "\n",
    "print(loaded_data)\n"
   ]
  },
  {
   "cell_type": "code",
   "execution_count": null,
   "metadata": {},
   "outputs": [],
   "source": [
    "\n",
    "# In both examples:\n",
    "\n",
    "# We define a Python dictionary data.\n",
    "# We serialize the data object to JSON or YAML using json.dumps() or yaml.dump() functions.\n",
    "# We write the serialized data to a file.\n",
    "# We read the serialized data from the file and deserialize it using json.load() or yaml.load() functions.\n",
    "# Finally, we print the loaded_data, which should be the same as the original data object.\n",
    "# JSON and YAML provide a convenient way to exchange data between different systems or store configuration settings in a human-readable format."
   ]
  },
  {
   "cell_type": "code",
   "execution_count": null,
   "metadata": {},
   "outputs": [],
   "source": [
    "# The process of converting an object from python supported form to either file supported form or nrtwork supported form, is called serialization(Marshaling or pickling)"
   ]
  },
  {
   "cell_type": "code",
   "execution_count": null,
   "metadata": {},
   "outputs": [],
   "source": [
    "# The process of converting an object from file supported form or network supported form to python supported form is Deserializatio (Unmarshaling or unpickling)."
   ]
  },
  {
   "cell_type": "code",
   "execution_count": null,
   "metadata": {},
   "outputs": [],
   "source": []
  },
  {
   "cell_type": "code",
   "execution_count": null,
   "metadata": {},
   "outputs": [],
   "source": []
  },
  {
   "cell_type": "code",
   "execution_count": null,
   "metadata": {},
   "outputs": [],
   "source": []
  },
  {
   "cell_type": "code",
   "execution_count": null,
   "metadata": {},
   "outputs": [],
   "source": []
  }
 ],
 "metadata": {
  "kernelspec": {
   "display_name": "Python 3",
   "language": "python",
   "name": "python3"
  },
  "language_info": {
   "codemirror_mode": {
    "name": "ipython",
    "version": 3
   },
   "file_extension": ".py",
   "mimetype": "text/x-python",
   "name": "python",
   "nbconvert_exporter": "python",
   "pygments_lexer": "ipython3",
   "version": "3.11.3"
  },
  "orig_nbformat": 4
 },
 "nbformat": 4,
 "nbformat_minor": 2
}

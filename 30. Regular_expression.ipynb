{
 "cells": [
  {
   "cell_type": "code",
   "execution_count": null,
   "id": "5ef22671",
   "metadata": {},
   "outputs": [],
   "source": [
    "# Regular Expressions\n",
    "\n",
    "\n",
    "# >> A regular expression is a powerful tool for matching text, based on a pre-defined pattern.\n",
    "# >> It can detect the presence or absence of a text by matching with a particular pattern,\n",
    "    # and also can split a pattern into one or more sub-patterns."
   ]
  },
  {
   "cell_type": "code",
   "execution_count": null,
   "id": "87245025",
   "metadata": {},
   "outputs": [],
   "source": [
    "# << mostly used >>>\n",
    "# We can write a regular expression to represent all mobile numbers\n",
    "# We can write a regular expression to represent all mail ids"
   ]
  },
  {
   "cell_type": "code",
   "execution_count": null,
   "id": "5b1d3265",
   "metadata": {},
   "outputs": [],
   "source": [
    "# 1. compile()\n",
    "# re module contains compile() function to compile a pattern into RegexObject.\n",
    "import re\n",
    "pattern = re.compile(\"ab\")\n",
    "\n",
    "# 2. finditer()\n",
    "# Returns an Iterator object which yields Match object for every Match\n",
    "matcher = pattern.finditer(\"abaababa\")\n",
    "\n",
    "for i in matcher:\n",
    "    print(i)"
   ]
  },
  {
   "cell_type": "code",
   "execution_count": null,
   "id": "f877d2e7",
   "metadata": {},
   "outputs": [],
   "source": [
    "import re \n",
    "count=0 \n",
    "pattern=re.compile(\"ab\") \n",
    "matcher=pattern.finditer(\"abaababaabhkbadkfjhabjfjldjlfkab\") \n",
    "for match in matcher: \n",
    "    count+=1 \n",
    "    print(match.start(),\"...\",match.end(),\"...\",match.group()) \n",
    "    \n",
    "print(\"The number of occurrences: \",count) \n",
    "\n",
    "# 1. start()  >> Returns start index of the match\n",
    "# 2. end()    >> Returns end+1 index of the match\n",
    "# 3. group()  >> Returns the matched string"
   ]
  },
  {
   "cell_type": "code",
   "execution_count": null,
   "id": "129df973",
   "metadata": {},
   "outputs": [],
   "source": [
    "# Character classes:\n",
    "    \n",
    "# We can use character classes to search a group of characters\n",
    "\n",
    "# 1. [abc]--------->Either a or b or c\n",
    "# 2. [^abc]-------->Except a and b and c\n",
    "# 3. [a-z]--------->Any Lower case alphabet symbol\n",
    "# 4. [A-Z]--------->Any upper case alphabet symbol\n",
    "# 5. [a-zA-Z]------>Any alphabet symbol\n",
    "# 6. [0-9]--------->Any digit from 0 to 9\n",
    "# 7. [a-zA-Z0-9]--->Any alphanumeric character\n",
    "# 8. [^a-zA-Z0-9]-->Except alphanumeric characters(Special Characters)"
   ]
  },
  {
   "cell_type": "code",
   "execution_count": null,
   "id": "1a44829e",
   "metadata": {},
   "outputs": [],
   "source": [
    "import re \n",
    "print(\"--------------------------[abkz]--------------------------\")\n",
    "matcher=re.finditer(\"[abkz]\",\"a7b@k9z\") \n",
    "for match in matcher: \n",
    "    print(match.start(),\"......\",match.group()) \n",
    "    "
   ]
  },
  {
   "cell_type": "code",
   "execution_count": null,
   "id": "27ff081d",
   "metadata": {},
   "outputs": [],
   "source": [
    "\n",
    "print(\"--------------------------[^abk]--------------------------\")\n",
    "matcher=re.finditer(\"[^abkz]\",\"a7b@k9z\") \n",
    "for match in matcher: \n",
    "    print(match.start(),\"......\",match.group())\n",
    "    "
   ]
  },
  {
   "cell_type": "code",
   "execution_count": null,
   "id": "2ee98b05",
   "metadata": {},
   "outputs": [],
   "source": [
    "\n",
    "print(\"--------------------------[a-z]--------------------------\")\n",
    "matcher=re.finditer(\"[a-z]\",\"a7b@k9jhdfewydgjgdz\") \n",
    "for match in matcher: \n",
    "    print(match.start(),\"......\",match.group()) \n",
    "    "
   ]
  },
  {
   "cell_type": "code",
   "execution_count": null,
   "id": "f532a477",
   "metadata": {},
   "outputs": [],
   "source": [
    "print(\"--------------------------[A-Z]--------------------------\")\n",
    "matcher=re.finditer(\"[A-Z]\",\"a7b@Ak9z\") \n",
    "for match in matcher: \n",
    "    print(match.start(),\"......\",match.group())\n",
    "    \n",
    "   "
   ]
  },
  {
   "cell_type": "code",
   "execution_count": null,
   "id": "f6127157",
   "metadata": {},
   "outputs": [],
   "source": [
    " \n",
    "print(\"--------------------------[a-zA-Z]--------------------------\")\n",
    "matcher=re.finditer(\"[a-zA-Z]\",\"a7b@k9zBB\") \n",
    "for match in matcher: \n",
    "    print(match.start(),\"......\",match.group())\n",
    "    "
   ]
  },
  {
   "cell_type": "code",
   "execution_count": null,
   "id": "28adcf39",
   "metadata": {},
   "outputs": [],
   "source": [
    "print(\"------------------------[0-9]--------------------------\")\n",
    "matcher=re.finditer(\"[0-9]\",\"a7b@k9z\") \n",
    "for match in matcher: \n",
    "    print(match.start(),\"......\",match.group())\n",
    "    "
   ]
  },
  {
   "cell_type": "code",
   "execution_count": null,
   "id": "306aef62",
   "metadata": {},
   "outputs": [],
   "source": [
    "    \n",
    "print(\"--------------------------[a-zA-Z0-9]--------------------------\")\n",
    "matcher=re.finditer(\"[a-zA-Z0-9]\",\"a7b@k9aaWQz\") \n",
    "for match in matcher: \n",
    "    print(match.start(),\"......\",match.group())\n"
   ]
  },
  {
   "cell_type": "code",
   "execution_count": null,
   "id": "b01bdc02",
   "metadata": {},
   "outputs": [],
   "source": [
    "print(\"--------------------------[^a-zA-Z0-9]--------------------------\")\n",
    "matcher=re.finditer(\"[^a-zA-Z0-9]\",\"a7b@k9#aaWQz\") \n",
    "for match in matcher: \n",
    "    print(match.start(),\"......\",match.group())"
   ]
  },
  {
   "cell_type": "code",
   "execution_count": null,
   "id": "0d31eb5e",
   "metadata": {},
   "outputs": [],
   "source": [
    "# Qunatifiers:\n",
    "\n",
    "# We can use quantifiers to specify the number of occurrences to match.\n",
    "\n",
    "# a  ----> Exactly one 'a'\n",
    "# a+ ----> Atleast one 'a'\n",
    "# a* ----> Any number of a's including zero number\n",
    "# a? ----> Atmost one 'a' i.e. either zero number or one number\n",
    "# a{m} --> Exactly m number of a's\n"
   ]
  },
  {
   "cell_type": "code",
   "execution_count": null,
   "id": "79d5e9f5",
   "metadata": {},
   "outputs": [],
   "source": [
    "import re \n",
    "\n",
    "matcher=re.finditer(\"a\",\"abaabaaab\") \n",
    "for match in matcher: \n",
    "    print(match.start(),\"......\",match.group())\n",
    "    \n"
   ]
  },
  {
   "cell_type": "code",
   "execution_count": null,
   "id": "e0a9c513",
   "metadata": {},
   "outputs": [],
   "source": [
    "\n",
    "matcher=re.finditer(\"a+\",\"abaabaaab\") \n",
    "for match in matcher: \n",
    "    print(match.start(),\"......\",match.group())\n"
   ]
  },
  {
   "cell_type": "code",
   "execution_count": null,
   "id": "239fd53a",
   "metadata": {},
   "outputs": [],
   "source": [
    "\n",
    "matcher=re.finditer(\"a*\",\"abaabaaab\") \n",
    "for match in matcher: \n",
    "    print(match.start(),\"......\",match.group())\n"
   ]
  },
  {
   "cell_type": "code",
   "execution_count": null,
   "id": "a4a7715e",
   "metadata": {},
   "outputs": [],
   "source": [
    "\n",
    "matcher=re.finditer(\"a?\",\"abaabaaab\") \n",
    "for match in matcher: \n",
    "    print(match.start(),\"......\",match.group())\n"
   ]
  },
  {
   "cell_type": "code",
   "execution_count": null,
   "id": "fc490f83",
   "metadata": {},
   "outputs": [],
   "source": [
    "\n",
    "matcher=re.finditer(\"a{3}\",\"abaabaaab\") \n",
    "for match in matcher: \n",
    "    print(match.start(),\"......\",match.group())\n",
    "    "
   ]
  },
  {
   "cell_type": "code",
   "execution_count": null,
   "id": "9154ae6a",
   "metadata": {},
   "outputs": [],
   "source": [
    "# Important functions of re module:\n",
    "\n",
    "# 1. match()\n",
    "# 2. fullmatch()\n",
    "# 3. search()\n",
    "# 4. findall()\n",
    "# 5. finditer()\n",
    "# 6. sub()\n",
    "# 7. subn()\n",
    "# 8. split()\n",
    "# 9. compile()\n"
   ]
  },
  {
   "cell_type": "code",
   "execution_count": null,
   "id": "42fa7e0c",
   "metadata": {},
   "outputs": [],
   "source": [
    "# 1. match():\n",
    "\n",
    "# We can use match function to check the given pattern at BEGINNING of target string.\n",
    "# If the match is available then we will get Match object, otherwise we will get None.\n",
    "\n",
    "import re \n",
    "s=input(\"Enter pattern to check: \") \n",
    "m=re.match(s,\"BrainworksDataEngineerBatch\") \n",
    "if m!= None:  \n",
    "    print(\"Start Index:\",m.start(), \"and End Index:\",m.end())\n",
    "else: \n",
    "    print(\"Match is not available at the beginning\") "
   ]
  },
  {
   "cell_type": "code",
   "execution_count": null,
   "id": "e4b55f8d",
   "metadata": {},
   "outputs": [],
   "source": [
    "\n",
    "s = input(\"Enter pattern to check: \") \n",
    "m = re.match(s,\"BrainworksDataEngineerBatch\") \n",
    "print(m)"
   ]
  },
  {
   "cell_type": "code",
   "execution_count": null,
   "id": "a7dff24b",
   "metadata": {},
   "outputs": [],
   "source": [
    "# 2. fullmatch():\n",
    "\n",
    "# We can use fullmatch() function to match a pattern to all of target string. \n",
    "        # i.e complete string should be matched according to given pattern.\n",
    "# If complete string matched then this function returns Match object otherwise it returns None.\n",
    "\n",
    "import re \n",
    "s=input(\"Enter pattern to check: \") \n",
    "m=re.fullmatch(s,\"BrainworksDataEngineerBatch\")\n",
    "if m!= None: \n",
    "    print(\"Full String Matched\") \n",
    "else: \n",
    "    print(\"Full String not Matched\") "
   ]
  },
  {
   "cell_type": "code",
   "execution_count": null,
   "id": "490a6f14",
   "metadata": {},
   "outputs": [],
   "source": [
    "# 3. search():\n",
    "\n",
    "# We can use search() function to search the given pattern in the target string.\n",
    "# If the match is available then it returns the Match object which represents first occurrence of the match.\n",
    "# If the match is not available then it returns None\n",
    "\n",
    "import re \n",
    "s = input(\"Enter pattern to check: \") \n",
    "m = re.search(s,\"BrainworksDataEngineerBatch\") \n",
    "\n",
    "if m!= None: \n",
    "    print(f\"Match of {s} is available\") \n",
    "    print(\"First Occurrence of match with start index:\",m.start(),\"and end index:\",m.end()) \n",
    "else: \n",
    "    print(f\"Match of {s} is not available\") "
   ]
  },
  {
   "cell_type": "code",
   "execution_count": null,
   "id": "8be3c306",
   "metadata": {},
   "outputs": [],
   "source": [
    "# 4. findall():\n",
    "\n",
    "# To find all occurrences of the match.\n",
    "# This function returns a list object which contains all occurrences.\n",
    "\n",
    "import re \n",
    "num = re.findall(\"[0-9]\",\"a7b9c47734735kzdhskjdhks79798317\") \n",
    "char = re.findall(\"[a-zA-Z]\",\"a7b9cASKAS47734735kzdhskjdhks79798317\")\n",
    "print(num) \n",
    "print(char)"
   ]
  },
  {
   "cell_type": "code",
   "execution_count": null,
   "id": "12af44ab",
   "metadata": {},
   "outputs": [],
   "source": [
    "# 5. finditer():\n",
    "\n",
    "# Returns the iterator yielding a match object for each match.\n",
    "# On each match object we can call start(), end() and group() functions.\n",
    "\n",
    "import re \n",
    "itr=re.finditer(\"[a-z]\",\"a7b9c5k8z\") \n",
    "for m in itr: \n",
    "    print(m.start(),\"-\",m.end(),\"-->\",m.group()) "
   ]
  },
  {
   "cell_type": "code",
   "execution_count": null,
   "id": "4f8197b5",
   "metadata": {},
   "outputs": [],
   "source": [
    "# 6. sub():\n",
    "\n",
    "# re.sub(regex,replacement,targetstring)\n",
    "\n",
    "# sub means substitution or replacement\n",
    "# In the target string every matched pattern will be replaced with provided replacement.\n",
    "\n",
    "import re \n",
    "s=re.sub(\"[0-9]\",\"-\",\"Brainworks99Data9Engineer99Batch\") \n",
    "print(s) "
   ]
  },
  {
   "cell_type": "code",
   "execution_count": null,
   "id": "74fa22b7",
   "metadata": {},
   "outputs": [],
   "source": [
    "# 7. subn():\n",
    "\n",
    "# It is exactly same as sub except it can also returns the number of replacements.\n",
    "# This function returns a tuple where first element is result string and second element is number of replacements.\n",
    "# (resultstring, number of replacements)\n",
    "\n",
    "import re \n",
    "t = re.subn(\"[a-z]\",\"#\",\"a7b9c5k8z\") \n",
    "print(t) \n",
    "print(\"The Result String:\",t[0]) \n",
    "print(\"The number of replacements:\",t[1]) "
   ]
  },
  {
   "cell_type": "code",
   "execution_count": null,
   "id": "be44f21c",
   "metadata": {},
   "outputs": [],
   "source": [
    "# ^ symbol:\n",
    "\n",
    "# We can use ^ symbol to check whether the given target string\n",
    "# starts with our provided pattern or not\n",
    "\n",
    "import re \n",
    "s=\"Learning Python is Very Easy\" \n",
    "res=re.search(\"^Learn\",s) \n",
    "if res != None: \n",
    "    print(\"Target String starts with Learn\") \n",
    "else: \n",
    "    print(\"Target String Not starts with Learn\")\n",
    "    \n"
   ]
  },
  {
   "cell_type": "code",
   "execution_count": null,
   "id": "450e660c",
   "metadata": {},
   "outputs": [],
   "source": [
    "# $ symbol:\n",
    "\n",
    "# We can use $ symbol to check whether the given target string ends with our provided pattern or not\n",
    "\n",
    "import re \n",
    "s=\"Learning Python is Very Easy\" \n",
    "res=re.search(\"Easy$\",s) \n",
    "if res != None: \n",
    "    print(\"Target String ends with Easy\") \n",
    "else: \n",
    "    print(\"Target String Not ends with Easy\") "
   ]
  },
  {
   "cell_type": "code",
   "execution_count": null,
   "id": "84866a70",
   "metadata": {},
   "outputs": [],
   "source": [
    "# Q. Write a Python Program to check whether the given number is valid mobile number or not?\n",
    "\n",
    "import re \n",
    "n=input(\"Enter number:\") \n",
    "m=re.fullmatch(\"[6-9]\\d{9}\",n) \n",
    "if m!= None: \n",
    "    print(\"Valid Mobile Number\") \n",
    "else: \n",
    "    print(\"Invalid Mobile Number\")"
   ]
  },
  {
   "cell_type": "code",
   "execution_count": null,
   "id": "fc936ad4",
   "metadata": {},
   "outputs": [],
   "source": [
    "# Q. Write a Python Program to check whether the given mail id is valid gmail id or not?\n",
    "\n",
    "import re \n",
    "s=input(\"Enter Mail id:\") \n",
    "m=re.fullmatch(\"\\w[a-zA-Z0-9_.]*@gmail[.]com\",s) \n",
    "if m!=None: \n",
    "    print(\"Valid Mail Id\"); \n",
    "else: \n",
    "    print(\"Invalid Mail id\")"
   ]
  },
  {
   "cell_type": "code",
   "execution_count": null,
   "id": "9832a80e",
   "metadata": {},
   "outputs": [],
   "source": [
    "# Q. Write a python program to check whether given car registration number is valid Maharashtra State Registration number or not?\n",
    "\n",
    "import re \n",
    "s=input(\"Enter Vehicle Registration Number:\") \n",
    "m=re.fullmatch(\"MH[012][0-9][A-Z]{2}\\d{4}\",s) \n",
    "if m!=None: \n",
    "    print(\"Valid Vehicle Registration Number\"); \n",
    "else: \n",
    "    print(\"Invalid Vehicle Registration Number\")"
   ]
  },
  {
   "cell_type": "code",
   "execution_count": null,
   "id": "7b000a74",
   "metadata": {},
   "outputs": [],
   "source": []
  }
 ],
 "metadata": {
  "kernelspec": {
   "display_name": "Python 3 (ipykernel)",
   "language": "python",
   "name": "python3"
  },
  "language_info": {
   "codemirror_mode": {
    "name": "ipython",
    "version": 3
   },
   "file_extension": ".py",
   "mimetype": "text/x-python",
   "name": "python",
   "nbconvert_exporter": "python",
   "pygments_lexer": "ipython3",
   "version": "3.11.3"
  }
 },
 "nbformat": 4,
 "nbformat_minor": 5
}

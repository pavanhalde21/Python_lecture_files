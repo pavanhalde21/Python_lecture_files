{
 "cells": [
  {
   "attachments": {},
   "cell_type": "markdown",
   "id": "ed786e81",
   "metadata": {},
   "source": [
    "#  Control flow "
   ]
  },
  {
   "cell_type": "code",
   "execution_count": null,
   "id": "35a3bc5d",
   "metadata": {},
   "outputs": [],
   "source": [
    "# Control Flow describes the order in which statements will be executed at runtime. "
   ]
  },
  {
   "attachments": {},
   "cell_type": "markdown",
   "id": "974a9f1b",
   "metadata": {},
   "source": [
    "![Alt text](Control_flow.png)"
   ]
  },
  {
   "attachments": {},
   "cell_type": "markdown",
   "id": "53546adb",
   "metadata": {},
   "source": [
    "# Conditional statements (if ,elif ,else)"
   ]
  },
  {
   "cell_type": "code",
   "execution_count": null,
   "id": "b6ed4e62",
   "metadata": {},
   "outputs": [],
   "source": [
    "# if ,elif ,else\n",
    "\n",
    "# Conditional statements in Python are used to execute different blocks of code \n",
    "# depending on whether a certain condition is true or false.\n",
    "\n",
    "# The basic Syntax of a conditional statement in Python is as follows:\n",
    "\n",
    "# if condition1:\n",
    "#     statement1\n",
    "# elif condition2:\n",
    "#     statement2\n",
    "# else:\n",
    "#     statement3\n",
    "\n",
    "\n",
    "x = 10\n",
    "if x > 5:\n",
    "    print(\"x is greater than 5\")\n",
    "elif x == 5:\n",
    "    print(\"x is equal to 5\")\n",
    "else:\n",
    "    print(\"x is less than 5\")\n",
    "\n",
    "    \n",
    "age = 61\n",
    "if age < 18:\n",
    "    print(\"You are a minor\")\n",
    "elif age >= 18 and age < 30:\n",
    "    print(\"You are a young adult\")\n",
    "elif age >= 30 and age < 60:\n",
    "    print(\"You are a middle-aged adult\")\n",
    "else:\n",
    "    print(\"You are a senior citizen\")\n"
   ]
  },
  {
   "attachments": {},
   "cell_type": "markdown",
   "id": "f46cfb2f",
   "metadata": {},
   "source": [
    "#  Taking input from 'user'."
   ]
  },
  {
   "cell_type": "code",
   "execution_count": 3,
   "id": "700d4cc3",
   "metadata": {},
   "outputs": [
    {
     "name": "stdout",
     "output_type": "stream",
     "text": [
      "Not matched\n",
      "23\n"
     ]
    }
   ],
   "source": [
    "\n",
    "name = str(input('Enter the name :'))\n",
    "if name == \"vilas\":\n",
    "    print('matched')\n",
    "else:\n",
    "    print('Not matched')\n",
    "\n",
    "\n",
    "number = int(input('Enter the age: '))\n",
    "print(number)\n"
   ]
  },
  {
   "cell_type": "code",
   "execution_count": null,
   "metadata": {},
   "outputs": [],
   "source": [
    "\n",
    "expression = eval(input('Enter expression. eg. \"9+2\":'))   # for eval() refer 32.SOME_IMP.ipynb\n",
    "if expression < 0 :\n",
    "    print('you have entered negative number')\n",
    "elif expression > 0:\n",
    "    print('you have entered positive number: ')\n",
    "    \n"
   ]
  },
  {
   "cell_type": "code",
   "execution_count": null,
   "metadata": {},
   "outputs": [],
   "source": [
    "    \n",
    "# Get user input\n",
    "email = input(\"Enter your email address: \")\n",
    "\n",
    "if \"@example.com\" in email:\n",
    "    print(\"You are part of the 'example.com' domain.\")\n",
    "elif \"@example.net\" in email:\n",
    "    print(\"You are part of the 'example.net' domain.\")\n",
    "elif \"@example.org\" in email:\n",
    "    print(\"You are part of the 'example.org' domain.\")\n",
    "else:\n",
    "    print(\"You are not part of any of the specified domains.\")\n"
   ]
  },
  {
   "attachments": {},
   "cell_type": "markdown",
   "id": "ba12cd5a",
   "metadata": {},
   "source": [
    "#  Nested if else"
   ]
  },
  {
   "cell_type": "code",
   "execution_count": null,
   "id": "79b9c681",
   "metadata": {},
   "outputs": [],
   "source": [
    "# Get user input\n",
    "age = int(input(\"Enter your age: \"))\n",
    "\n",
    "# Check if the user is old enough to vote\n",
    "if age >= 18:\n",
    "    # Check if the user is a citizen\n",
    "    citizenship = input(\"Are you a citizen? (y/n): \")\n",
    "    if citizenship == \"y\":\n",
    "        print(\"You are eligible to vote.\")\n",
    "    else:\n",
    "        print(\"You must be a citizen to vote.\")\n",
    "else:\n",
    "    print(\"You must be at least 18 years old to vote.\")\n"
   ]
  },
  {
   "attachments": {},
   "cell_type": "markdown",
   "id": "e7ece039",
   "metadata": {},
   "source": [
    "# Nested if , elif and else"
   ]
  },
  {
   "cell_type": "code",
   "execution_count": null,
   "id": "7352704c",
   "metadata": {},
   "outputs": [],
   "source": [
    "# we use nested if-elif-else statements to test multiple conditions within other conditions\n",
    "# Depending on the complexity of the conditions,\n",
    "# we can use nested if-elif-else statements to write more complex logical structures.\n",
    "\n",
    "# Get user input\n",
    "age = int(input()) \n",
    "\n",
    "# Check if the user is old enough to vote and whether they are a citizen or not\n",
    "if age >= 18:\n",
    "    citizenship = input(\"Are you a citizen? (y/n): \")\n",
    "    if citizenship == \"y\":\n",
    "        print(\"You are eligible to vote.\")\n",
    "    elif citizenship == \"n\":\n",
    "        print(\"Sorry, only citizens can vote.\")\n",
    "    else:\n",
    "        print(\"Invalid input. Please enter 'y' or 'n'.\")\n",
    "else:\n",
    "    print(\"You must be at least 18 years old to vote.\")"
   ]
  },
  {
   "attachments": {},
   "cell_type": "markdown",
   "id": "82de113f",
   "metadata": {},
   "source": [
    "# Practice"
   ]
  },
  {
   "cell_type": "code",
   "execution_count": null,
   "id": "c26b94d8",
   "metadata": {},
   "outputs": [],
   "source": [
    "# if-elif-else ladder in Python\n",
    "\n",
    "y=input('enter no. ')\n",
    "x=int(y)\n",
    "if x<2:\n",
    "    print('below 2')\n",
    "elif x<20:\n",
    "    print('below 20')\n",
    "elif x<10:   # replacing 'elif' with 'if' will make this run. that is x<10 is asked. \n",
    "    print('below 10')\n",
    " #this is never going to run. because it follows sequence.\n",
    " #x<20 will already be true before x<10 question is even asked\n",
    "else:\n",
    "    print('something else')"
   ]
  },
  {
   "cell_type": "code",
   "execution_count": 1,
   "id": "053bcef4",
   "metadata": {},
   "outputs": [
    {
     "name": "stdout",
     "output_type": "stream",
     "text": [
      "below 20\n",
      "below 10\n"
     ]
    }
   ],
   "source": [
    "# Multiple if statements\n",
    "\n",
    "y=input('enter no. ')\n",
    "x=int(y)\n",
    "if x<2:\n",
    "    print('below 2')\n",
    "if x<20:\n",
    "    print('below 20')\n",
    "if x<10:   # in this case it will always be checked\n",
    "    print('below 10')\n",
    "\n",
    "else:\n",
    "    print('something else')"
   ]
  },
  {
   "cell_type": "code",
   "execution_count": 3,
   "id": "ddc9247c",
   "metadata": {},
   "outputs": [
    {
     "name": "stdout",
     "output_type": "stream",
     "text": [
      "medium\n",
      "came here\n"
     ]
    }
   ],
   "source": [
    "# \n",
    "\n",
    "y=input('Enter Number:')\n",
    "x=int(y)\n",
    "if x<2:\n",
    "    print('small')\n",
    "elif x<10:\n",
    "    print('medium')\n",
    "elif x<20:\n",
    "    print('big')\n",
    "elif x<40:\n",
    "    print('large')\n",
    "elif x<100:\n",
    "    print('huge')\n",
    "else:\n",
    "    print('ginourmous')\n",
    "\n",
    "print('came here')\n"
   ]
  },
  {
   "cell_type": "code",
   "execution_count": null,
   "id": "4548869e",
   "metadata": {},
   "outputs": [],
   "source": [
    "# \n",
    "\n",
    "y=input('Enter number ')\n",
    "x=int(y)\n",
    "if x==5:\n",
    "    print('Equals 5')\n",
    "if x>4:\n",
    "    print('Greater than 4')\n",
    "if x>=5:\n",
    "    print('Greater than or Equals 5')\n",
    "if x<6 :\n",
    "    print('Less than 6')\n",
    "if x<=5:\n",
    "    print('Less than or Equals 5')\n",
    "if x!=6:\n",
    "    print('Not equal 6')\n"
   ]
  },
  {
   "cell_type": "code",
   "execution_count": null,
   "id": "653509d2",
   "metadata": {},
   "outputs": [],
   "source": [
    "#\n",
    "\n",
    "y=input('enter no. ')\n",
    "x=int(y)\n",
    "if x<2:\n",
    "    print('below 2')\n",
    "elif x>=2:\n",
    "    print('two or more')\n",
    "else :\n",
    "    print('something else') #this is never going to run\n"
   ]
  },
  {
   "cell_type": "code",
   "execution_count": null,
   "id": "b2b86c19",
   "metadata": {},
   "outputs": [],
   "source": [
    "# or\n",
    "\n",
    "age = int(input(\"Enter your age: \"))\n",
    "if(age>34 or age<56):\n",
    "    print(\"You can work with us\")\n",
    "\n",
    "else:\n",
    "    print(\"You cannot work with us\")"
   ]
  },
  {
   "cell_type": "code",
   "execution_count": null,
   "id": "1129cda2",
   "metadata": {},
   "outputs": [],
   "source": [
    "# and\n",
    "\n",
    "age = int(input(\"Enter your age: \"))\n",
    "pro = input('enter your profession')\n",
    "\n",
    "if(age>34 and pro == 'sde'):\n",
    "    print(\"You can work with us\")\n",
    "\n",
    "else:\n",
    "    print(\"You cannot work with us\")"
   ]
  },
  {
   "cell_type": "code",
   "execution_count": 4,
   "id": "a45f333b",
   "metadata": {},
   "outputs": [
    {
     "name": "stdout",
     "output_type": "stream",
     "text": [
      "Yes\n"
     ]
    }
   ],
   "source": [
    "# is, None\n",
    "\n",
    "a = None\n",
    "if (a is None):\n",
    "    print(\"Yes\")\n",
    "else:\n",
    "    print(\"No\")\n"
   ]
  },
  {
   "cell_type": "code",
   "execution_count": 5,
   "id": "1b188885",
   "metadata": {},
   "outputs": [
    {
     "name": "stdout",
     "output_type": "stream",
     "text": [
      "Yes\n"
     ]
    },
    {
     "name": "stderr",
     "output_type": "stream",
     "text": [
      "<>:4: SyntaxWarning: \"is\" with a literal. Did you mean \"==\"?\n",
      "<>:4: SyntaxWarning: \"is\" with a literal. Did you mean \"==\"?\n",
      "C:\\Users\\aloor\\AppData\\Local\\Temp\\ipykernel_2112\\8454239.py:4: SyntaxWarning: \"is\" with a literal. Did you mean \"==\"?\n",
      "  if (a is 'non'):\n"
     ]
    }
   ],
   "source": [
    "# is\n",
    "\n",
    "a = 'non'\n",
    "if (a is 'non'):\n",
    "    print(\"Yes\")\n",
    "else:\n",
    "    print(\"No\")"
   ]
  },
  {
   "cell_type": "code",
   "execution_count": 6,
   "id": "c4758a3b",
   "metadata": {},
   "outputs": [
    {
     "name": "stdout",
     "output_type": "stream",
     "text": [
      "No\n"
     ]
    }
   ],
   "source": [
    "# in\n",
    "\n",
    "a = [45, 56, 6]\n",
    "if 435 in a:\n",
    "    print('yes')\n",
    "\n",
    "else:\n",
    "    print('No')"
   ]
  },
  {
   "cell_type": "code",
   "execution_count": 7,
   "id": "03b4b7ad",
   "metadata": {},
   "outputs": [
    {
     "name": "stdout",
     "output_type": "stream",
     "text": [
      "B\n"
     ]
    }
   ],
   "source": [
    "# 1. Write a program to prompt for a score between 0.0 and 1.0. If the score is out of range, print an error.\n",
    "    # If the score is between 0.0 and 1.0, print a grade using the following table:\n",
    "    # Score Grade\n",
    "    # >= 0.9 A\n",
    "    # >= 0.8 B\n",
    "    # >= 0.7 C\n",
    "    # >= 0.6 D\n",
    "    # < 0.6 F\n",
    "    # If the user enters a value out of range, print a suitable error message and exit.\n",
    "    # For the test, enter a score of 0.85.\n",
    "\n",
    "\n",
    "score = input('Enter score: ')\n",
    "x=float(score)\n",
    "if 0.0<=x<0.6:\n",
    "    print('F')\n",
    "elif 0.6<=x<0.7:\n",
    "    print('D')\n",
    "elif 0.7<=x<0.8:\n",
    "    print('C')\n",
    "elif 0.8<=x<0.9:\n",
    "    print('B')\n",
    "elif 0.9<=x<1.0:\n",
    "    print('A')\n",
    "else:\n",
    "    print('Error, enter a numeric value between 0.0 and 1.0')\n",
    "\n",
    "\n",
    "# enter score 0.6 and take a note that the grade shown is D.\n"
   ]
  },
  {
   "cell_type": "code",
   "execution_count": null,
   "metadata": {},
   "outputs": [],
   "source": [
    "\n",
    "score = input('Enter score: ')\n",
    "x=float(score)\n",
    "if 0.0<=x<0.6:\n",
    "    print('F')\n",
    "elif x<0.7:\n",
    "    print('D')\n",
    "elif x<0.8:\n",
    "    print('C')\n",
    "elif x<0.9:\n",
    "    print('B')\n",
    "elif x<1.0:\n",
    "    print('A')\n",
    "else:\n",
    "    print('Error, enter a numeric value between 0.0 and 1.0')\n"
   ]
  },
  {
   "cell_type": "code",
   "execution_count": 8,
   "id": "c8c88f38",
   "metadata": {},
   "outputs": [
    {
     "name": "stdout",
     "output_type": "stream",
     "text": [
      "Pay 25.0\n"
     ]
    }
   ],
   "source": [
    "# 2. Write your pay computation to give the employee 1.5 times the hourly rate for hours worked above 40 hours.\n",
    "\n",
    "hrs = input('Enter Hours: ')\n",
    "h = float(hrs)\n",
    "rate = input('Enter rate: ')\n",
    "r = float(rate)\n",
    "\n",
    "if h<=40:\n",
    "    pay = h*r\n",
    "elif h>40:\n",
    "    pay = h*r+(h-40)*r*0.5\n",
    "\n",
    "print('Pay',pay)\n"
   ]
  },
  {
   "cell_type": "code",
   "execution_count": 9,
   "id": "701d98b4",
   "metadata": {},
   "outputs": [
    {
     "name": "stdout",
     "output_type": "stream",
     "text": [
      "20 is greatest\n"
     ]
    }
   ],
   "source": [
    "# 3. Greatest of four numbers\n",
    "\n",
    "num1 = int(input(\"Enter number 1: \"))\n",
    "num2 = int(input(\"Enter number 2: \"))\n",
    "num3 = int(input(\"Enter number 3: \"))\n",
    "num4 = int(input(\"Enter number 4: \"))\n",
    "\n",
    "if(num1>num4):\n",
    "    f1 = num1\n",
    "else:\n",
    "    f1 = num4\n",
    "\n",
    "if(num2>num3):\n",
    "    f2 = num2\n",
    "else:\n",
    "    f2 = num3\n",
    "\n",
    "if(f1>f2):\n",
    "    print(str(f1) + \" is greatest\") # note the concatination\n",
    "else:\n",
    "    print(str(f2) + \" is greatest\")"
   ]
  },
  {
   "cell_type": "code",
   "execution_count": 13,
   "id": "118e7aba",
   "metadata": {},
   "outputs": [
    {
     "name": "stdout",
     "output_type": "stream",
     "text": [
      "Passed\n"
     ]
    }
   ],
   "source": [
    "# 4. Write a program to find weather a student is pass or fail, if it requires total of 40% to and at least 33% in each subject to pass. \n",
    "    \n",
    "m1=int(input('enter marks of subject 1: \\n'))\n",
    "m2=int(input('enter marks of subject 2: \\n'))\n",
    "m3=int(input('enter marks of subject 3: \\n'))\n",
    "\n",
    "t=m1+m2+m3\n",
    "\n",
    "if t/3 >= 40:\n",
    "    if m1>=33 and m2>=33 and m3>=33:\n",
    "        print('Passed')\n",
    "    else:\n",
    "        print('Failed')\n",
    "else:\n",
    "    print('Failed') "
   ]
  },
  {
   "cell_type": "code",
   "execution_count": null,
   "id": "09476def",
   "metadata": {},
   "outputs": [],
   "source": [
    "sub1 = int(input(\"Enter first subject marks\\n\"))\n",
    "sub2 = int(input(\"Enter second subject marks\\n\"))\n",
    "sub3 = int(input(\"Enter third subject marks\\n\"))\n",
    "\n",
    "if(sub1<33 or sub2<33 or sub3<33):\n",
    "    print(\"You are fail because you have less than 33% in one of the subjects\")\n",
    "elif(sub1+sub2+sub3)/3 < 40:\n",
    "    print(\"You are fail due to total percentage less than 40\")\n",
    "else:\n",
    "    print(\"Congatulations! You passed the exam\")"
   ]
  },
  {
   "cell_type": "code",
   "execution_count": 14,
   "id": "7fcdf576",
   "metadata": {},
   "outputs": [
    {
     "name": "stdout",
     "output_type": "stream",
     "text": [
      "This text is not spam\n"
     ]
    }
   ],
   "source": [
    "# 5. Spam detector\n",
    "\n",
    "text = input(\"Enter the text\\n\")\n",
    "\n",
    "if(\"make a lot of money\" in text):\n",
    "    spam = True\n",
    "elif(\"buy now\" in text):\n",
    "    spam = True\n",
    "elif(\"click this\" in text):\n",
    "    spam = True\n",
    "elif(\"subscribe this\" in text):\n",
    "    spam = True\n",
    "else:\n",
    "    spam = False\n",
    "\n",
    "if(spam):\n",
    "    print(\"This text is spam\")\n",
    "else:\n",
    "    print(\"This text is not spam\")"
   ]
  },
  {
   "cell_type": "code",
   "execution_count": null,
   "id": "aef3c1c5",
   "metadata": {},
   "outputs": [],
   "source": [
    "# 6. Write a program to find weather a given username contains less than 10 characters or not\n",
    "\n",
    "username = input('enter username: ')\n",
    "\n",
    "if len(username) < 10:\n",
    "    print('Yes')\n",
    "\n",
    "else:\n",
    "    print('No')"
   ]
  },
  {
   "cell_type": "code",
   "execution_count": null,
   "id": "fc0cb43d",
   "metadata": {},
   "outputs": [],
   "source": [
    "# 7. Write a program to find weather a given name is present in the list or not\n",
    "\n",
    "names = [\"harry\", \"shubham\", \"rohit\", \"rohan\", \"aditi\", \"shipra\"]\n",
    "name = input(\"Enter the name to check\\n\")\n",
    "\n",
    "if name in names:\n",
    "    print(\"Your name is present in the list\")\n",
    "else:\n",
    "    print(\"Your name is not present in the list\")"
   ]
  },
  {
   "cell_type": "code",
   "execution_count": null,
   "id": "748149cb",
   "metadata": {},
   "outputs": [],
   "source": [
    "# 8. largest, smallest\n",
    "\n",
    "largest = None\n",
    "smallest = None\n",
    "while True:\n",
    "    num = input(\"Enter a number: \")\n",
    "    if num == 'done':\n",
    "        break\n",
    "    try:\n",
    "        value=int(num)\n",
    "        if smallest is None:\n",
    "            smallest = value\n",
    "        elif value < smallest:\n",
    "            smallest = value\n",
    "        elif largest is None:\n",
    "            largest = value\n",
    "        elif value > largest:\n",
    "            largest=value\n",
    "    except:\n",
    "        print(\"Invalid input\")\n",
    "        \n",
    "    \n",
    "print('Maximum is',largest)\n",
    "print('Minimum is',smallest)\n",
    "\n",
    "# see elif restricts the below elif condition to run (consider the case where a smaller number than the previous number is entered every time)"
   ]
  },
  {
   "cell_type": "code",
   "execution_count": null,
   "id": "3ad20164",
   "metadata": {},
   "outputs": [],
   "source": [
    "largest = None\n",
    "smallest = None\n",
    "while True:\n",
    "    num = input(\"Enter a number: \")\n",
    "    if num == 'done':\n",
    "        break\n",
    "    try:\n",
    "        value=int(num)\n",
    "        if smallest is None:\n",
    "            smallest = value\n",
    "        if value < smallest: \n",
    "            smallest = value\n",
    "        if largest is None: #\n",
    "            largest = value\n",
    "        if value > largest:\n",
    "            largest=value\n",
    "    except:\n",
    "        print(\"Invalid input\")\n",
    "        \n",
    "    \n",
    "print('Maximum is',largest)\n",
    "print('Minimum is',smallest)\n",
    "\n",
    "# this code is error proof.\n",
    "# cases:\n",
    "    # one input\n",
    "    # two input\n",
    "    # every time smaller number than the previous number is entered\n"
   ]
  },
  {
   "cell_type": "code",
   "execution_count": 1,
   "id": "60174460",
   "metadata": {},
   "outputs": [
    {
     "name": "stdout",
     "output_type": "stream",
     "text": [
      "5\n",
      "asaaa\n"
     ]
    }
   ],
   "source": [
    "\n",
    "n = 5\n",
    "\n",
    "if n==5:\n",
    "    print(5)\n",
    "elif n==5:\n",
    "    print(\"ssad\")\n",
    "\n",
    "if n==5:\n",
    "    print(\"asaaa\")\n"
   ]
  },
  {
   "cell_type": "code",
   "execution_count": null,
   "id": "142e8e55",
   "metadata": {},
   "outputs": [],
   "source": [
    "num = input(\"Enter a number: \")\n",
    "\n",
    "value=int(num)\n",
    "if smallest is None:\n",
    "    smallest = value\n",
    "elif value < smallest:\n",
    "    smallest = value\n",
    "elif largest is None:\n",
    "    largest = value\n",
    "elif value > largest:\n",
    "    largest=value"
   ]
  },
  {
   "cell_type": "code",
   "execution_count": 1,
   "id": "d12d0ff0",
   "metadata": {},
   "outputs": [
    {
     "name": "stdout",
     "output_type": "stream",
     "text": [
      "5\n"
     ]
    }
   ],
   "source": []
  }
 ],
 "metadata": {
  "kernelspec": {
   "display_name": "Python 3",
   "language": "python",
   "name": "python3"
  },
  "language_info": {
   "codemirror_mode": {
    "name": "ipython",
    "version": 3
   },
   "file_extension": ".py",
   "mimetype": "text/x-python",
   "name": "python",
   "nbconvert_exporter": "python",
   "pygments_lexer": "ipython3",
   "version": "3.13.5"
  }
 },
 "nbformat": 4,
 "nbformat_minor": 5
}

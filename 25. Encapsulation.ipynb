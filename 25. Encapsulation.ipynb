{
 "cells": [
  {
   "cell_type": "code",
   "execution_count": null,
   "id": "5cb44f7f",
   "metadata": {},
   "outputs": [],
   "source": [
    "# Encapsulation:-\n",
    "    \n",
    "# This is the concept of wrapping data and methods that work with data in one unit. \n",
    "# This prevents data modification by limiting access to variables and methods.\n",
    "# An object's method can change a variable's value to prevent accidental changes.\n"
   ]
  },
  {
   "attachments": {
    "image.png": {
     "image/png": "[encoded data removed]"
    }
   },
   "cell_type": "markdown",
   "id": "667590db",
   "metadata": {},
   "source": [
    "![image.png](attachment:image.png)"
   ]
  },
  {
   "cell_type": "code",
   "execution_count": 1,
   "id": "655cd581",
   "metadata": {},
   "outputs": [
    {
     "name": "stdout",
     "output_type": "stream",
     "text": [
      "John\n",
      "25\n"
     ]
    },
    {
     "ename": "AttributeError",
     "evalue": "'Person' object has no attribute '__gender'",
     "output_type": "error",
     "traceback": [
      "\u001b[1;31m---------------------------------------------------------------------------\u001b[0m",
      "\u001b[1;31mAttributeError\u001b[0m                            Traceback (most recent call last)",
      "\u001b[1;32md:\\_02_CS\\02_PYTHON\\Lecture_Files\\25. Encapsulation.ipynb Cell 3\u001b[0m line \u001b[0;36m1\n\u001b[0;32m      <a href='vscode-notebook-cell:/d%3A/_02_CS/02_PYTHON/Lecture_Files/25.%20Encapsulation.ipynb#W2sZmlsZQ%3D%3D?line=8'>9</a>\u001b[0m \u001b[39mprint\u001b[39m(p\u001b[39m.\u001b[39mname)        \n\u001b[0;32m     <a href='vscode-notebook-cell:/d%3A/_02_CS/02_PYTHON/Lecture_Files/25.%20Encapsulation.ipynb#W2sZmlsZQ%3D%3D?line=9'>10</a>\u001b[0m \u001b[39mprint\u001b[39m(p\u001b[39m.\u001b[39m_age)        \n\u001b[1;32m---> <a href='vscode-notebook-cell:/d%3A/_02_CS/02_PYTHON/Lecture_Files/25.%20Encapsulation.ipynb#W2sZmlsZQ%3D%3D?line=10'>11</a>\u001b[0m \u001b[39mprint\u001b[39m(p\u001b[39m.\u001b[39;49m__gender)    \n",
      "\u001b[1;31mAttributeError\u001b[0m: 'Person' object has no attribute '__gender'"
     ]
    }
   ],
   "source": [
    "class Person:\n",
    "    def __init__(self, name, age, gender):\n",
    "        self.name = name           # public attribute\n",
    "        self._age = age            # protected attribute\n",
    "        self.__gender = gender     # private attribute\n",
    "\n",
    "p = Person(\"John\", 25, \"male\")\n",
    "\n",
    "print(p.name)        \n",
    "print(p._age)        \n",
    "print(p.__gender)    \n"
   ]
  },
  {
   "cell_type": "code",
   "execution_count": 2,
   "id": "4056858c",
   "metadata": {},
   "outputs": [
    {
     "name": "stdout",
     "output_type": "stream",
     "text": [
      "John\n",
      "25\n",
      "male\n",
      "female\n"
     ]
    }
   ],
   "source": [
    "class Person:\n",
    "    def __init__(self, name, age, gender):\n",
    "        self.name = name           # public attribute\n",
    "        self._age = age            # protected attribute\n",
    "        self.__gender = gender     # private attribute\n",
    "\n",
    "    def get_gender(self):\n",
    "        return self.__gender\n",
    "\n",
    "    def set_gender(self, gender):\n",
    "        self.__gender = gender\n",
    "\n",
    "p = Person(\"John\", 25, \"male\")\n",
    "\n",
    "print(p.name)           # accessing public attribute - no error\n",
    "print(p._age)           # accessing protected attribute - no error\n",
    "# print(p.__gender)     # error - 'Person' object has no attribute '__gender' -  as it is a private attribute\n",
    "\n",
    "print(p.get_gender())   # accessing private attribute using getter method - no error\n",
    "p.set_gender(\"female\")  # setting the value of private attribute using setter method\n",
    "print(p.get_gender())   # accessing the updated value of private attribute using getter method\n"
   ]
  },
  {
   "cell_type": "code",
   "execution_count": 2,
   "id": "9b38218c",
   "metadata": {},
   "outputs": [],
   "source": [
    "# private attribute __gender can only be accessed and modified through the getter and setter methods.\n",
    "# When you call the setter method set_gender() with a new value,\n",
    "# it updates the private attribute __gender safely, and when you call the getter method get_gender(), \n",
    "# it retrieves the updated value of the private attribute."
   ]
  },
  {
   "cell_type": "code",
   "execution_count": null,
   "metadata": {},
   "outputs": [],
   "source": []
  },
  {
   "cell_type": "code",
   "execution_count": 1,
   "id": "93b0dee5",
   "metadata": {},
   "outputs": [
    {
     "name": "stdout",
     "output_type": "stream",
     "text": [
      "Current balance: 1000.0\n",
      "New balance: 1500.0\n"
     ]
    }
   ],
   "source": [
    "class BankAccount:\n",
    "    def __init__(self, account_number, balance):\n",
    "        self.__account_number = account_number  # Private attribute\n",
    "        self.__balance = balance                # Private attribute\n",
    "\n",
    "    def get_balance(self):\n",
    "        return self.__balance\n",
    "\n",
    "    def set_balance(self, balance):\n",
    "        self.__balance = balance\n",
    "\n",
    "  \n",
    "account1 = BankAccount(\"1234567890\", 1000.0)\n",
    "\n",
    "# Get the current balance\n",
    "balance = account1.get_balance()\n",
    "print(\"Current balance:\", balance)\n",
    "\n",
    "# Update the balance\n",
    "account1.set_balance(1500.0)\n",
    "print(\"New balance:\", account1.get_balance())\n"
   ]
  },
  {
   "cell_type": "code",
   "execution_count": 7,
   "id": "634f6e16",
   "metadata": {},
   "outputs": [
    {
     "name": "stdout",
     "output_type": "stream",
     "text": [
      "Balance for Alice: 1000\n"
     ]
    }
   ],
   "source": [
    "class BankAccount:\n",
    "    def __init__(self, account_number, balance):\n",
    "        self._account_number = account_number  # Protected attribute\n",
    "        self._balance = balance                # Protected attribute\n",
    "\n",
    "    def deposit(self, amount):\n",
    "        self._balance += amount\n",
    "\n",
    "    def withdraw(self, amount):\n",
    "        if amount <= self._balance:\n",
    "            self._balance -= amount\n",
    "        else:\n",
    "            print(\"Insufficient funds.\")\n",
    "\n",
    "    def _show_balance(self):  # Protected method\n",
    "        return self._balance\n",
    "\n",
    "class BankCustomer:\n",
    "    def __init__(self, name):\n",
    "        self._name = name\n",
    "\n",
    "    def display_balance(self, account):\n",
    "        balance = account._show_balance()  # Accessing protected method\n",
    "        print(f\"Balance for {self._name}: {balance}\")\n",
    "\n",
    "\n",
    "account1 = BankAccount(\"12345\", 1000)\n",
    "customer1 = BankCustomer(\"Alice\")\n",
    "\n",
    "customer1.display_balance(account1)  # Accessing protected data through a method\n"
   ]
  },
  {
   "cell_type": "code",
   "execution_count": null,
   "id": "488fa82a",
   "metadata": {},
   "outputs": [],
   "source": [
    "# # PRIVATE v/s PROTECTED ATTRIBUTES\n",
    "\n",
    "# Protected Attributes:\n",
    "\n",
    "# Conventionally indicated by a single leading underscore _ (e.g., _variable).\n",
    "# Intended to be accessed and modified only within the class and its subclasses (inheritors).\n",
    "# Not strictly enforced by the language; they can still be accessed from outside the class, \n",
    "# but it's a signal that these attributes are intended for internal use.\n",
    "# Provides a way to give a hint to other developers that a particular attribute or method is part of the internal implementation \n",
    "# and should not be used directly.\n",
    "\n",
    "\n",
    "\n",
    "# Private Attributes:\n",
    "\n",
    "# Indicated by a double leading underscore __ (e.g., __variable).\n",
    "# Intended to be accessed and modified only within the class.\n",
    "# Name mangling is applied to private attributes, which changes the attribute name in a way that makes it harder to accidentally override in subclasses. \n",
    "# The transformation involves adding _classname as a prefix (e.g., __variable becomes _classname__variable).\n",
    "# Offers more strict encapsulation than protected attributes, as the name mangling makes it less likely \n",
    "# to be accidentally accessed in derived classes or externally.\n",
    "\n",
    "\n",
    "\n",
    "# +---------------------+-----------------------+-----------------------+\n",
    "# |      Aspect         |  Protected Attributes |   Private Attributes  |\n",
    "# +---------------------+-----------------------+-----------------------+\n",
    "# | Naming Convention   | _variable             | __variable            |\n",
    "\n",
    "# | Access within Class | Allowed               | Allowed               |\n",
    "\n",
    "# | Access in Subclasses| Allowed               | Not allowed without   |\n",
    "# |                     |                       | name mangling         |\n",
    "\n",
    "# | Access Outside Class| Allowed               | Not allowed           |\n",
    "\n",
    "# | Name Mangling       | No name mangling      | Name mangling applied |\n",
    "\n",
    "# +---------------------+-----------------------+-----------------------+\n"
   ]
  },
  {
   "cell_type": "code",
   "execution_count": 8,
   "id": "160bc160",
   "metadata": {},
   "outputs": [
    {
     "name": "stdout",
     "output_type": "stream",
     "text": [
      "Alice\n"
     ]
    }
   ],
   "source": [
    "# Protected Attributes\n",
    "\n",
    "class Person:\n",
    "    def __init__(self, name, age):\n",
    "        self._name = name  # Protected attribute\n",
    "        self._age = age    # Protected attribute\n",
    "\n",
    "    def display(self):\n",
    "        print(f\"Name: {self._name}, Age: {self._age}\")\n",
    "\n",
    "\n",
    "p = Person(\"Alice\", 30)\n",
    "print(p._name)  # Accessing protected attribute (not recommended, but possible)\n"
   ]
  },
  {
   "cell_type": "code",
   "execution_count": 13,
   "id": "5076a36f",
   "metadata": {},
   "outputs": [
    {
     "name": "stdout",
     "output_type": "stream",
     "text": [
      "Bob\n"
     ]
    }
   ],
   "source": [
    "# Private Attributes\n",
    "\n",
    "class Employee:\n",
    "    def __init__(self, name, salary):\n",
    "        self.__name = name      # Private attribute\n",
    "        self.__salary = salary  # Private attribute\n",
    "\n",
    "    def display(self):\n",
    "        print(f\"Name: {self.__name}, Salary: {self.__salary}\")\n",
    "\n",
    "\n",
    "e = Employee(\"Bob\", 50000)\n",
    "print(e._Employee__name)  # Accessing private attribute using name mangling (not recommended, but possible)\n"
   ]
  },
  {
   "cell_type": "code",
   "execution_count": 14,
   "id": "eb2ef905",
   "metadata": {},
   "outputs": [
    {
     "name": "stdout",
     "output_type": "stream",
     "text": [
      "42\n"
     ]
    }
   ],
   "source": [
    "# Name mangling\n",
    "\n",
    "class MyClass:\n",
    "    def __init__(self):\n",
    "        self.__private_var = 42\n",
    "\n",
    "    def display(self):\n",
    "        print(self.__private_var)\n",
    "\n",
    "\n",
    "obj = MyClass()\n",
    "# print(obj.__private_var)  # This will result in an AttributeError\n",
    "print(obj._MyClass__private_var)  # Access using name mangling\n"
   ]
  },
  {
   "cell_type": "code",
   "execution_count": 15,
   "id": "13569b73",
   "metadata": {},
   "outputs": [
    {
     "name": "stdout",
     "output_type": "stream",
     "text": [
      "5\n"
     ]
    }
   ],
   "source": [
    "# Property method\n",
    "\n",
    "class Circle:\n",
    "    def __init__(self, radius):\n",
    "        self._radius = radius\n",
    "\n",
    "    @property\n",
    "    def radius_1(self):\n",
    "        return self._radius\n",
    "\n",
    "    @radius_1.setter\n",
    "    def radius_1(self, value):\n",
    "        if value >= 0:\n",
    "            self._radius = value\n",
    "        else:\n",
    "            raise ValueError(\"Radius cannot be negative.\")\n",
    "\n",
    "\n",
    "c = Circle(5)\n",
    "print(c.radius_1)  # Using the getter method\n",
    "c.radius_1 = 7     # Using the setter method\n",
    "\n",
    "# note that both the function have same name\n",
    "\n",
    "# By using property methods, you can encapsulate the internal details of attribute access and modification. \n",
    "# This allows you to add validation, computation, or other behavior when getting or setting attributes."
   ]
  },
  {
   "cell_type": "code",
   "execution_count": 12,
   "id": "ab9366a1",
   "metadata": {},
   "outputs": [
    {
     "name": "stdout",
     "output_type": "stream",
     "text": [
      "Deposited $100 into the wallet.\n",
      "Deducted $30 from the wallet.\n",
      "Payment of $30 made successfully.\n",
      "Current balance: 70\n"
     ]
    }
   ],
   "source": [
    "# example 1\n",
    "\n",
    "class VirtualWallet:\n",
    "    def __init__(self):\n",
    "        self._balance = 0  # Encapsulated attribute, not directly accessible\n",
    "\n",
    "    def deposit(self, amount):\n",
    "        if amount > 0:\n",
    "            self._balance += amount\n",
    "            print(f\"Deposited ${amount} into the wallet.\")\n",
    "\n",
    "    def _deduct(self, amount):  # Encapsulated method, meant for internal use\n",
    "        if amount > 0 and amount <= self._balance:\n",
    "            self._balance -= amount\n",
    "            print(f\"Deducted ${amount} from the wallet.\")\n",
    "\n",
    "    def make_payment(self, amount):\n",
    "        if amount > 0 and amount <= self._balance:\n",
    "            self._deduct(amount)  # Using the encapsulated method\n",
    "            print(f\"Payment of ${amount} made successfully.\")\n",
    "        else:\n",
    "            print(\"Insufficient funds for payment.\")\n",
    "\n",
    "    def get_balance(self):\n",
    "        return self._balance\n",
    "\n",
    "\n",
    "# Using the VirtualWallet class\n",
    "wallet = VirtualWallet()\n",
    "\n",
    "wallet.deposit(100)\n",
    "wallet.make_payment(30)\n",
    "\n",
    "print(\"Current balance:\", wallet.get_balance())\n"
   ]
  },
  {
   "cell_type": "code",
   "execution_count": 16,
   "id": "09a0cf4b",
   "metadata": {},
   "outputs": [
    {
     "name": "stdout",
     "output_type": "stream",
     "text": [
      "Alice, your total is $1589.97\n"
     ]
    }
   ],
   "source": [
    "# example 2\n",
    "# SimpleShopApp: An Example of Encapsulation in Python\n",
    "\n",
    "class Product:\n",
    "    def __init__(self, name, price):\n",
    "        self._name = name  # Protected attribute\n",
    "        self._price = price  # Protected attribute\n",
    "\n",
    "    def get_info(self):\n",
    "        return f\"{self._name} - ₹{self._price:.2f}\" # :.2f is used to specify two digits after decimal\n",
    "\n",
    "\n",
    "class ShoppingCart:\n",
    "    def __init__(self):\n",
    "        self._items = []  # Protected attribute to store items\n",
    "\n",
    "    def add_item(self, product):\n",
    "        self._items.append(product)  # Adding product to cart\n",
    "\n",
    "    def calculate_total(self):\n",
    "        total = sum(product._price for product in self._items)  # Using protected attribute\n",
    "        return total\n",
    "\n",
    "\n",
    "class Customer:\n",
    "    def __init__(self, name):\n",
    "        self._name = name  # Protected attribute\n",
    "        self._cart = ShoppingCart()  # Composition: A customer has a shopping cart\n",
    "\n",
    "    def add_to_cart(self, product):\n",
    "        self._cart.add_item(product)  # Adding product to cart\n",
    "\n",
    "    def checkout(self):\n",
    "        total = self._cart.calculate_total()  # Calculating total using cart's method\n",
    "        return f\"{self._name}, your total is ${total:.2f}\"\n",
    "\n",
    "\n",
    "# Creating products\n",
    "product1 = Product(\"Laptop\", 899.99)\n",
    "product2 = Product(\"Phone\", 599.99)\n",
    "product3 = Product(\"Headphones\", 89.99)\n",
    "\n",
    "# Creating a customer\n",
    "customer = Customer(\"Alice\")\n",
    "\n",
    "# Adding products to the cart\n",
    "customer.add_to_cart(product1)\n",
    "customer.add_to_cart(product2)\n",
    "customer.add_to_cart(product3)\n",
    "\n",
    "# Checking out\n",
    "checkout_result = customer.checkout()\n",
    "print(checkout_result)\n"
   ]
  },
  {
   "cell_type": "code",
   "execution_count": null,
   "id": "0ef32d00",
   "metadata": {},
   "outputs": [],
   "source": [
    "# example 3\n",
    "\n",
    "class Book:\n",
    "    def __init__(self, title, author, isbn):\n",
    "        self._title = title\n",
    "        self._author = author\n",
    "        self._isbn = isbn\n",
    "        self._available = True\n",
    "\n",
    "    def get_info(self):\n",
    "        return f\"Title: {self._title}\\nAuthor: {self._author}\\nISBN: {self._isbn}\"\n",
    "\n",
    "    def checkout(self):\n",
    "        if self._available:\n",
    "            self._available = False\n",
    "            return \"Book checked out successfully.\"\n",
    "        else:\n",
    "            return \"Book is already checked out.\"\n",
    "\n",
    "    def checkin(self):\n",
    "        if not self._available:\n",
    "            self._available = True\n",
    "            return \"Book checked in successfully.\"\n",
    "        else:\n",
    "            return \"Book is already checked in.\"\n",
    "\n",
    "\n",
    "class Library:\n",
    "    def __init__(self, name):\n",
    "        self._name = name\n",
    "        self._books = []\n",
    "\n",
    "    def add_book(self, book):\n",
    "        self._books.append(book)\n",
    "\n",
    "    def display_books(self):\n",
    "        return \"\\n\".join([book.get_info() for book in self._books])\n",
    "\n",
    "    def search_book(self, title):\n",
    "        for book in self._books:\n",
    "            if book._title.lower() == title.lower():  # Using protected attribute\n",
    "                return book.get_info()\n",
    "        return \"Book not found.\"\n",
    "\n",
    "\n",
    "# Creating books\n",
    "book1 = Book(\"The Great Gatsby\", \"F. Scott Fitzgerald\", \"978-3-16-148410-0\")\n",
    "book2 = Book(\"To Kill a Mockingbird\", \"Harper Lee\", \"978-0-06-112008-4\")\n",
    "book3 = Book(\"1984\", \"George Orwell\", \"978-0-45-152493-5\")\n",
    "\n",
    "# Creating a library\n",
    "library = Library(\"City Public Library\")\n",
    "\n",
    "# Adding books to the library\n",
    "library.add_book(book1)\n",
    "library.add_book(book2)\n",
    "library.add_book(book3)\n",
    "\n",
    "# Displaying and searching for books\n",
    "print(\"Available Books:\\n\", library.display_books())\n",
    "search_title = \"To Kill a Mockingbird\"\n",
    "print(\"\\nSearching for\", search_title)\n",
    "print(library.search_book(search_title))\n"
   ]
  },
  {
   "cell_type": "code",
   "execution_count": null,
   "id": "f874446e",
   "metadata": {},
   "outputs": [],
   "source": []
  },
  {
   "attachments": {},
   "cell_type": "markdown",
   "id": "82a75158",
   "metadata": {},
   "source": [
    "# Practice"
   ]
  },
  {
   "cell_type": "code",
   "execution_count": null,
   "id": "d44152a0",
   "metadata": {},
   "outputs": [],
   "source": [
    "# Encapsulation is a mechanism that binds code and data that it manipulates.\n",
    "\n",
    "# It is the protective shield that prevents the data from being accessed by the code outside the shield \n",
    "# and in this the variable or the data of the class is hidden from any other class \n",
    "# and can be accessed through any member function of the own class in which that they are declared.\n",
    "\n",
    "# Through encapsulation the methods and the variables of a class are very well hidden and safe.\n",
    "\n",
    "# we can relate encapsulation to vending machine."
   ]
  },
  {
   "cell_type": "code",
   "execution_count": null,
   "id": "71c69111",
   "metadata": {},
   "outputs": [],
   "source": [
    "# Benifits of encapsulation\n",
    "\n",
    "# 1. Data Hiding :user will have no idea about the inner implementation of the class.\n",
    "                # user will also not be aware of how the class is storing values in the variables.\n",
    "                # user can only see passing the value to a method and the variables are getting initialized with that value.\n",
    "\n",
    "# 2. Increased Flexibility : we make the variables of the class according to how we want them to use. \n",
    "                        # in case we want it to be read-only method or can be write-only depending on what we require.\n",
    "\n",
    "# 3. Reusability : It becomes easy to change with new requirements."
   ]
  },
  {
   "cell_type": "code",
   "execution_count": null,
   "id": "bd13dba5",
   "metadata": {},
   "outputs": [],
   "source": [
    "# How encapsulation works in Python\n",
    "\n",
    "# In Python plain attributes are used in order to achieve encapsulation\n",
    "# this can also be done with the help of naming conventions through which we are able to distinguish between protected and private members.\n",
    "\n",
    "# we can use double underscore in front of the variable and function name.\n",
    "# it can hide them when accessing them from out of the class or out of the scope of the class.\n",
    "\n",
    "# example : __name, __methods()\n",
    "# python does not have any real private methods \n",
    "# but we can use this double underscore naming convention by which we can make them private methods(sort of)\n"
   ]
  },
  {
   "cell_type": "code",
   "execution_count": 8,
   "id": "4d4b740b",
   "metadata": {},
   "outputs": [
    {
     "name": "stdout",
     "output_type": "stream",
     "text": [
      "Python programming course\n",
      "Python\n",
      "Python programming course Python\n"
     ]
    }
   ],
   "source": [
    "class Edureka():\n",
    "    def __init__(self):\n",
    "        self.course = \"Python programming course\"\n",
    "        self.tech = \"Python\"\n",
    "    def CourseName(self):\n",
    "        return self.course + \" \" + self.tech\n",
    "\n",
    "ob = Edureka()\n",
    "\n",
    "print(ob.course)\n",
    "print(ob.tech)\n",
    "print(ob.CourseName())\n",
    " "
   ]
  },
  {
   "cell_type": "code",
   "execution_count": 9,
   "id": "f4434816",
   "metadata": {},
   "outputs": [
    {
     "name": "stdout",
     "output_type": "stream",
     "text": [
      "Python programming course\n"
     ]
    }
   ],
   "source": [
    "class Edureka():\n",
    "    def __init__(self):\n",
    "        self.course = \"Python programming course\"\n",
    "        self.__tech = \"Python\"\n",
    "    def CourseName(self):\n",
    "        return self.course + \" \" + self.__tech\n",
    "\n",
    "ob = Edureka()\n",
    "\n",
    "print(ob.course)\n",
    "# print(ob.__tech) # error\n",
    "# print(ob.CourseName())   # error"
   ]
  },
  {
   "cell_type": "code",
   "execution_count": null,
   "id": "e48aaa4b",
   "metadata": {},
   "outputs": [],
   "source": [
    "# Name Mangling\n",
    "\n",
    "# This is a technique by which we will be able to access this private variable that we have made.\n",
    "# So in python mangling is used for private class members which are designed in such a way that \n",
    "# we just give them a name with two underscores and no more one trailing underscores."
   ]
  },
  {
   "cell_type": "code",
   "execution_count": 10,
   "id": "abae0d5c",
   "metadata": {},
   "outputs": [
    {
     "name": "stdout",
     "output_type": "stream",
     "text": [
      "Python programming course\n",
      "Python\n",
      "Python programming course Python\n"
     ]
    }
   ],
   "source": [
    "# using name mangling\n",
    "class Edureka():\n",
    "    def __init__(self):\n",
    "        self.course = \"Python programming course\"\n",
    "        self.__tech = \"Python\"\n",
    "    def CourseName(self):\n",
    "        return self.course + \" \" + self.__tech\n",
    "\n",
    "ob = Edureka()\n",
    "\n",
    "print(ob.course)\n",
    "print(ob._Edureka__tech) # name mangling\n",
    "print(ob.CourseName())   "
   ]
  },
  {
   "cell_type": "code",
   "execution_count": 11,
   "id": "b09a65c1",
   "metadata": {},
   "outputs": [
    {
     "name": "stdout",
     "output_type": "stream",
     "text": [
      "machine learning ----using getter method\n",
      "Python programming course ----class variable\n",
      "machine learning ----using name mangling\n",
      "Python programming course machine learning\n"
     ]
    }
   ],
   "source": [
    "# using getter \n",
    "\n",
    "class Edureka():\n",
    "    def __init__(self):\n",
    "        self.course = \"Python programming course\"\n",
    "        self.__tech = \"Python\"\n",
    "    def CourseName(self):\n",
    "        return self.course + \" \" + self.__tech\n",
    "    \n",
    "    def get__tech(self):\n",
    "        return self.__tech\n",
    "    \n",
    "    def set__tech(self, t):\n",
    "        self.__tech = t\n",
    "\n",
    "ob = Edureka()\n",
    "ob.set__tech(\"machine learning\")  # setter method\n",
    "print(ob.get__tech(), \"----using getter method\")\n",
    "print(ob.course,\"----class variable\")\n",
    "print(ob._Edureka__tech, \"----using name mangling\") \n",
    "print(ob.CourseName())   "
   ]
  },
  {
   "cell_type": "code",
   "execution_count": 12,
   "id": "c36b4c58",
   "metadata": {},
   "outputs": [
    {
     "name": "stdout",
     "output_type": "stream",
     "text": [
      "machine learning\n"
     ]
    }
   ],
   "source": [
    "class Edureka():\n",
    "    def __init__(self):\n",
    "        self.course = \"Python programming course\"\n",
    "        self.__tech = \"Python\"\n",
    "    def CourseName(self):\n",
    "        return self.course + \" \" + self.__tech\n",
    "    \n",
    "    def set__tech(self,x):\n",
    "        self.__tech = x\n",
    "\n",
    "    def get__tech(self):\n",
    "        return self.__tech\n",
    "\n",
    "ob = Edureka()\n",
    "ob.set__tech(\"machine learning\")\n",
    "print(ob.get__tech())  "
   ]
  },
  {
   "cell_type": "code",
   "execution_count": null,
   "id": "7cebb1cb",
   "metadata": {},
   "outputs": [],
   "source": []
  }
 ],
 "metadata": {
  "kernelspec": {
   "display_name": "Python 3 (ipykernel)",
   "language": "python",
   "name": "python3"
  },
  "language_info": {
   "codemirror_mode": {
    "name": "ipython",
    "version": 3
   },
   "file_extension": ".py",
   "mimetype": "text/x-python",
   "name": "python",
   "nbconvert_exporter": "python",
   "pygments_lexer": "ipython3",
   "version": "3.11.3"
  }
 },
 "nbformat": 4,
 "nbformat_minor": 5
}

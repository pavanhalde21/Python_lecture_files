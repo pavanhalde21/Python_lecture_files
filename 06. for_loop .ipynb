{
 "cells": [
  {
   "attachments": {},
   "cell_type": "markdown",
   "id": "804e0553",
   "metadata": {},
   "source": [
    "# for loop\n"
   ]
  },
  {
   "cell_type": "code",
   "execution_count": null,
   "id": "b3f0274f",
   "metadata": {},
   "outputs": [],
   "source": [
    "# for loop :- for loop is a way to automate repetitive tasks in a program by iterating over a sequence of values\n",
    "#             objects like list,tuple,set, dictionary string etc. \n",
    "#             and performing a certain operation on each item in the sequence\n",
    "\n",
    "\n",
    "# syntax:\n",
    "    \n",
    "# for variable in sequence:\n",
    "#     statement to be executed"
   ]
  },
  {
   "cell_type": "code",
   "execution_count": 1,
   "id": "90abb1f3",
   "metadata": {},
   "outputs": [],
   "source": [
    "# When you run a for loop, interpreter performs the following steps:\n",
    "\n",
    "# 1. It checks the iterable objects (list,tuple,dictionary,set,string etc.) to see whether it contains any elements.\n",
    "    # If the iterable contains elements, it assigns the first element to the variable specified in the loop header \n",
    "\n",
    "# 2. It then executes the code within the loop body, using the current value of the variable.\n",
    "    # After the loop body has finished executing, \n",
    "    # the interpreter goes back to step 1 and checks whether there are any more elements in the iterable.\n",
    "\n",
    "# 3. If there are more elements, it assigns the next element to the loop variable and executes the loop body again.\n",
    "    # This process continues until the iterable object is exhausted\n"
   ]
  },
  {
   "cell_type": "code",
   "execution_count": 1,
   "id": "7e8b56cc",
   "metadata": {},
   "outputs": [
    {
     "name": "stdout",
     "output_type": "stream",
     "text": [
      "10\n",
      "20\n",
      "30\n",
      "40\n"
     ]
    }
   ],
   "source": [
    "\n",
    "# 1. using iterator you can iterate(repeat) over iterable things like list,tuple,dict etc.\n",
    "\n",
    "list1 = [10,20,30,40]\n",
    "for i in list1:\n",
    "    print(i)\n"
   ]
  },
  {
   "cell_type": "code",
   "execution_count": 2,
   "id": "d2ab11a3",
   "metadata": {},
   "outputs": [],
   "source": [
    "list2 = []\n",
    "for i in list2:\n",
    "    print(i)  # no output"
   ]
  },
  {
   "cell_type": "code",
   "execution_count": 3,
   "id": "6c7c2d35",
   "metadata": {},
   "outputs": [
    {
     "name": "stdout",
     "output_type": "stream",
     "text": [
      "apple\n",
      "banana\n",
      "cherry\n"
     ]
    }
   ],
   "source": [
    "fruits = ['apple', 'banana', 'cherry']\n",
    "\n",
    "for fruit in fruits:\n",
    "    print(fruit)"
   ]
  },
  {
   "cell_type": "code",
   "execution_count": 5,
   "id": "cdfbe8b5",
   "metadata": {},
   "outputs": [
    {
     "name": "stdout",
     "output_type": "stream",
     "text": [
      "Index: 0 Fruit: apple\n",
      "Index: 1 Fruit: banana\n",
      "Index: 2 Fruit: orange\n"
     ]
    }
   ],
   "source": [
    "# 2. len()\n",
    "\n",
    "fruits = [\"apple\", \"banana\", \"orange\"]\n",
    "\n",
    "for i in range(len(fruits)):\n",
    "    print(\"Index:\", i, \"Fruit:\", fruits[i])\n"
   ]
  },
  {
   "cell_type": "code",
   "execution_count": 6,
   "id": "758397c6",
   "metadata": {},
   "outputs": [
    {
     "name": "stdout",
     "output_type": "stream",
     "text": [
      "0 Hello, World!\n",
      "1 Hello, World!\n",
      "2 Hello, World!\n",
      "3 Hello, World!\n",
      "4 Hello, World!\n",
      "5 Hello, World!\n"
     ]
    }
   ],
   "source": [
    "# 2. range\n",
    "\n",
    "for i in range(5+1):\n",
    "    print(i,\"Hello, World!\")\n"
   ]
  },
  {
   "cell_type": "code",
   "execution_count": 7,
   "id": "da6fb91a",
   "metadata": {},
   "outputs": [
    {
     "name": "stdout",
     "output_type": "stream",
     "text": [
      "5\n",
      "4\n",
      "3\n",
      "2\n",
      "1\n"
     ]
    }
   ],
   "source": [
    "for i in range(5,0,-1): # reverse\n",
    "    print(i)"
   ]
  },
  {
   "cell_type": "code",
   "execution_count": 8,
   "id": "30494183",
   "metadata": {},
   "outputs": [
    {
     "name": "stdout",
     "output_type": "stream",
     "text": [
      "5\n",
      "4\n",
      "3\n",
      "2\n",
      "1\n",
      "0\n"
     ]
    }
   ],
   "source": [
    "for i in range(5,-1,-1): \n",
    "    print(i)"
   ]
  },
  {
   "cell_type": "code",
   "execution_count": 9,
   "id": "33328b56",
   "metadata": {},
   "outputs": [
    {
     "name": "stdout",
     "output_type": "stream",
     "text": [
      "5\n",
      "4\n",
      "3\n",
      "2\n",
      "1\n",
      "0\n",
      "-1\n"
     ]
    }
   ],
   "source": [
    "for i in range(5,-2,-1): \n",
    "    print(i)"
   ]
  },
  {
   "cell_type": "code",
   "execution_count": 10,
   "id": "3c1173e3",
   "metadata": {},
   "outputs": [],
   "source": [
    "for i in range(5,-2): \n",
    "    print(i)  # no output"
   ]
  },
  {
   "cell_type": "code",
   "execution_count": 11,
   "id": "75235d55",
   "metadata": {},
   "outputs": [
    {
     "name": "stdout",
     "output_type": "stream",
     "text": [
      "* * * * * "
     ]
    }
   ],
   "source": [
    "for i in range(5,0,-1):\n",
    "    print('*',end=' ')\n"
   ]
  },
  {
   "cell_type": "code",
   "execution_count": 12,
   "id": "7cc9d630",
   "metadata": {},
   "outputs": [
    {
     "name": "stdout",
     "output_type": "stream",
     "text": [
      "0 1 2 3 4 5 6 7 8 9 "
     ]
    }
   ],
   "source": [
    "### 3. end = ' ' -- this end tells to the print() function to use space character instead of newline character at the end of each call to print()\n",
    "\n",
    "for i in range(10):\n",
    "    print(i,end=' ')"
   ]
  },
  {
   "cell_type": "code",
   "execution_count": 13,
   "id": "cfc05f45",
   "metadata": {},
   "outputs": [
    {
     "name": "stdout",
     "output_type": "stream",
     "text": [
      "0\n"
     ]
    }
   ],
   "source": [
    "# count\n",
    "\n",
    "lst = []\n",
    "count = 0\n",
    "for i in lst:\n",
    "    count+=1\n",
    "    print(i)\n",
    "    \n",
    "print(count)"
   ]
  },
  {
   "attachments": {},
   "cell_type": "markdown",
   "id": "2cd12f19",
   "metadata": {},
   "source": [
    "“else” condition inside a “for” loop"
   ]
  },
  {
   "cell_type": "code",
   "execution_count": null,
   "id": "0a1e586b",
   "metadata": {},
   "outputs": [],
   "source": [
    "\n",
    "numbers = [2, 4, 6, 8, 9]\n",
    "\n",
    "for number in numbers:\n",
    "    if number % 2 == 1:\n",
    "        print(number)\n",
    "        \n",
    "else:\n",
    "    print(\"No odd numbers\")\n",
    "\n",
    "# else condition runs when the for loop runs fully without any break statement\n"
   ]
  },
  {
   "cell_type": "code",
   "execution_count": null,
   "id": "120dd423",
   "metadata": {},
   "outputs": [],
   "source": [
    "\n",
    "numbers = [2, 4, 6, 8, 9]\n",
    "\n",
    "for number in numbers:\n",
    "    if number % 2 == 1:\n",
    "        print(number)\n",
    "        break\n",
    "else:\n",
    "    print(\"No odd numbers\")\n",
    "\n",
    "# here due to break statement the else condition will not run. "
   ]
  },
  {
   "attachments": {},
   "cell_type": "markdown",
   "id": "cdd72599",
   "metadata": {},
   "source": [
    "\"for\" loop with \"if-else\" condition"
   ]
  },
  {
   "cell_type": "code",
   "execution_count": null,
   "id": "07a00fcb",
   "metadata": {},
   "outputs": [],
   "source": [
    "# you can use a for loop with an if-else statement to perform a conditional operation for each element in a sequence.\n",
    "\n",
    "lst1 = [1, 'a', 'b', 4, 5]\n",
    "\n",
    "for i in lst1:\n",
    "    if i == str(i):\n",
    "        print(i, \"is string\")\n",
    "    else:\n",
    "        print(i, \"is integer\")\n"
   ]
  },
  {
   "attachments": {},
   "cell_type": "markdown",
   "id": "65186664",
   "metadata": {},
   "source": [
    "\"for\" loop with \"if-elif-else\""
   ]
  },
  {
   "cell_type": "code",
   "execution_count": null,
   "id": "4a029686",
   "metadata": {},
   "outputs": [],
   "source": [
    "fruits = [\"apple\", \"banana\", \"cherry\", \"date\", \"elderberry\"]\n",
    "\n",
    "for fruit in fruits:\n",
    "    if len(fruit) == 5:\n",
    "        print(fruit, \"has 5 letters\")\n",
    "    elif len(fruit) > 5:\n",
    "        print(fruit, \"has more than 5 letters\")\n",
    "    else:\n",
    "        print(fruit, \"has fewer than 5 letters\")\n"
   ]
  },
  {
   "attachments": {},
   "cell_type": "markdown",
   "id": "b414cdc0",
   "metadata": {},
   "source": [
    "\"for\" loop with \"nested-if-else\""
   ]
  },
  {
   "cell_type": "code",
   "execution_count": null,
   "id": "08166b99",
   "metadata": {},
   "outputs": [],
   "source": [
    "numbers = [1, 2, 3, 4, 5]\n",
    "\n",
    "for num in numbers:\n",
    "    if num % 2 == 0:\n",
    "        if num > 2:\n",
    "            print(num, \"is even and greater than 2\")\n",
    "        else:\n",
    "            print(num, \"is even and less than or equal to 2\")\n",
    "    else:\n",
    "        print(num, \"is odd\")\n"
   ]
  },
  {
   "attachments": {},
   "cell_type": "markdown",
   "id": "ed4d6791",
   "metadata": {},
   "source": [
    "break, continue, & pass  (transfer statement)"
   ]
  },
  {
   "cell_type": "code",
   "execution_count": null,
   "id": "a448a0bb",
   "metadata": {},
   "outputs": [],
   "source": [
    "# break, continue, pass, can also be used for while loop"
   ]
  },
  {
   "cell_type": "code",
   "execution_count": null,
   "id": "abf99b07",
   "metadata": {},
   "outputs": [],
   "source": [
    "# break statement -- goes out of the loop\n",
    "for i in range(1, 10):\n",
    "    if i == 5:\n",
    "        break\n",
    "    print(i,end=' ')\n",
    "\n",
    "\n",
    "\n",
    "# continue statement -- goes to the start of the loop\n",
    "for i in range(1, 20):\n",
    "    if i == 10:\n",
    "        continue\n",
    "    print(i,end=' ') # see there 10 is not printed\n",
    "\n",
    "\n",
    "\n",
    "## pass statement  -- used as a placeholder. when the pass statement is executed nothing happens, \n",
    "# but you avoid getting an error when empty code is not allowed.\n",
    "# empty code is not allowed in loops, function definations, class definations, or in if statements.\n",
    "for i in range(1, 20):\n",
    "    pass\n",
    "\n"
   ]
  },
  {
   "attachments": {},
   "cell_type": "markdown",
   "id": "e788f06a",
   "metadata": {},
   "source": [
    "reversed for loop"
   ]
  },
  {
   "cell_type": "code",
   "execution_count": null,
   "id": "e8caf6c6",
   "metadata": {},
   "outputs": [],
   "source": [
    "my_list = [1, 2, 3, 4, 5]\n",
    "\n",
    "for element in reversed(my_list):\n",
    "    print(element,end=' ')"
   ]
  },
  {
   "attachments": {},
   "cell_type": "markdown",
   "id": "7149bfae",
   "metadata": {},
   "source": [
    "nested for loop"
   ]
  },
  {
   "cell_type": "code",
   "execution_count": null,
   "id": "57075ee0",
   "metadata": {},
   "outputs": [],
   "source": [
    "for i in range(6):\n",
    "    for j in range(i):\n",
    "        print('*',end=' ')\n",
    "    print()"
   ]
  },
  {
   "cell_type": "code",
   "execution_count": null,
   "id": "58bd16f9",
   "metadata": {},
   "outputs": [],
   "source": [
    "for i in range(5, 0, -1):\n",
    "    for j in range(i):\n",
    "        print('*', end=' ')\n",
    "    print()\n"
   ]
  },
  {
   "cell_type": "code",
   "execution_count": null,
   "id": "9f265542",
   "metadata": {},
   "outputs": [],
   "source": [
    "# tables\n",
    "for i in range(2, 10+1):\n",
    "    for j in range(1, 10+1):\n",
    "        print(i * j, end=' ')\n",
    "    print()"
   ]
  },
  {
   "attachments": {},
   "cell_type": "markdown",
   "id": "531608ee",
   "metadata": {},
   "source": [
    "# Interview purpose"
   ]
  },
  {
   "cell_type": "code",
   "execution_count": null,
   "id": "83460d0f",
   "metadata": {},
   "outputs": [],
   "source": [
    "# Q. when you use a for loop to iterate over an iterable object which methods/functions it calls?\n",
    "    # Ans. --> __iter__() and __next__() methods are actually being called behind the scenes to get the iterator and iterate over the items."
   ]
  },
  {
   "cell_type": "code",
   "execution_count": null,
   "id": "10b40ddf",
   "metadata": {},
   "outputs": [],
   "source": [
    "# when we know how many values are to be iterated then we use for loop or else while is used"
   ]
  },
  {
   "attachments": {},
   "cell_type": "markdown",
   "id": "f0bb1b03",
   "metadata": {},
   "source": [
    "# Exercise"
   ]
  },
  {
   "cell_type": "code",
   "execution_count": null,
   "id": "0c6b138a",
   "metadata": {},
   "outputs": [],
   "source": [
    "# 1. searching\n",
    "\n",
    "found=False\n",
    "print('Before',found)\n",
    "for value in [4,6,2,77,62,66,22,7,51,91,12]:\n",
    "    if value==22:\n",
    "        found=True\n",
    "        break\n",
    "print('After',found)\n"
   ]
  },
  {
   "cell_type": "code",
   "execution_count": null,
   "id": "fc4a15af",
   "metadata": {},
   "outputs": [],
   "source": [
    "# 2. Program to print out all consonants in a string\n",
    "\n",
    "string = \"Hello, World!\"\n",
    "vowels = \"aeiouAEIOU\"\n",
    "for char in string:\n",
    "    if char in vowels:\n",
    "        continue\n",
    "    print(char,end='') # prints consonant letters only\n",
    "\n",
    "    "
   ]
  },
  {
   "cell_type": "code",
   "execution_count": null,
   "id": "c2059df7",
   "metadata": {},
   "outputs": [],
   "source": [
    "# 3. counting\n",
    "\n",
    "my_tuple = (42, 3.14, \"hello\", 7, 2.718, \"world\", 10, 1.618, \"python\", 5, 34, 76, 98.00, 34, 22, 123, 345, 78,\n",
    "           'abc', 'pqr' , 'a', 'e', 'i', 'o', 'u', 'movies', 'sports', 200, 300, 3456, 'Java')\n",
    "\n",
    "integer_count = 0\n",
    "float_count = 0\n",
    "string_count = 0\n",
    "\n",
    "for i in my_tuple:\n",
    "    if i == str(i):\n",
    "#         print(i,\"string\")\n",
    "        string_count +=1\n",
    "    elif i == int(i):\n",
    "        integer_count +=1       \n",
    "    elif i == float(i):\n",
    "#         print(i,'this is float')\n",
    "        float_count +=1\n",
    "   \n",
    "        \n",
    "\n",
    "        \n",
    "print('no. of integer: ',integer_count)\n",
    "print('no. of strings: ',string_count)\n",
    "print('no. of float values: ',float_count)\n",
    "\n",
    "print(len(my_tuple))\n",
    "\n"
   ]
  },
  {
   "attachments": {},
   "cell_type": "markdown",
   "id": "7b4db3a6",
   "metadata": {},
   "source": [
    "# Practice"
   ]
  },
  {
   "cell_type": "code",
   "execution_count": null,
   "id": "75494172",
   "metadata": {},
   "outputs": [],
   "source": [
    "# count, sum, average\n",
    "\n",
    "count=0\n",
    "sum=0\n",
    "\n",
    "for value in [9,50,62,65,139,154]:\n",
    "    count=count+1\n",
    "    sum=sum+value\n",
    "\n",
    "print(f\"countis {count}. sum is {sum}. average is {sum/count}\")"
   ]
  },
  {
   "cell_type": "code",
   "execution_count": null,
   "id": "5f442901",
   "metadata": {},
   "outputs": [],
   "source": [
    "# filtering\n",
    "\n",
    "for value in [9,41,5,62,16,74]:\n",
    "    if value>20:\n",
    "        print ('larger number',value)\n",
    "\n"
   ]
  },
  {
   "cell_type": "code",
   "execution_count": null,
   "id": "0c09e07b",
   "metadata": {},
   "outputs": [],
   "source": [
    "# string\n",
    "\n",
    "fruit = 'banana'\n",
    "for letter in fruit :\n",
    "    print(letter)\n",
    "    "
   ]
  },
  {
   "cell_type": "code",
   "execution_count": null,
   "id": "6319184f",
   "metadata": {},
   "outputs": [],
   "source": [
    "# largest number\n",
    "\n",
    "largest_so_far = -1\n",
    "print('Before',largest_so_far)\n",
    "for the_num in [-2,44,56,98,23,776,31,54]:\n",
    "    if the_num > largest_so_far:\n",
    "        largest_so_far = the_num\n",
    "    print(largest_so_far, the_num)\n",
    "print('After', largest_so_far)\n"
   ]
  },
  {
   "cell_type": "code",
   "execution_count": null,
   "id": "5b421a21",
   "metadata": {},
   "outputs": [],
   "source": [
    "# smallest number\n",
    "\n",
    "largest_so_far = -1\n",
    "print('Before',largest_so_far)\n",
    "for the_num in [44,56,98,23,776,31,54]:\n",
    "    if the_num > largest_so_far:\n",
    "        largest_so_far = the_num\n",
    "print(largest_so_far)\n",
    "smallest_so_far = largest_so_far\n",
    "for the_num in [44,56,98,23,776,31,54]:\n",
    "    if the_num < smallest_so_far:\n",
    "        smallest_so_far = the_num\n",
    "print('After',smallest_so_far)\n"
   ]
  },
  {
   "cell_type": "code",
   "execution_count": null,
   "id": "35334ace",
   "metadata": {},
   "outputs": [],
   "source": [
    "# smallest number with None\n",
    "\n",
    "smallest = None\n",
    "print('Before')\n",
    "for value in [9,41,12,3,74,15]:\n",
    "    if smallest is None:\n",
    "        smallest = value\n",
    "    elif value < smallest:\n",
    "        smallest = value\n",
    "    print(smallest, value)\n",
    "print('After', smallest)\n"
   ]
  },
  {
   "cell_type": "code",
   "execution_count": null,
   "id": "0cd2c5bd",
   "metadata": {},
   "outputs": [],
   "source": [
    "# largest number with None\n",
    "\n",
    "largest_so_far = None\n",
    "print('Before',largest_so_far)\n",
    "for the_num in [-2,-44,-56,-98,-23,-776,-31,-54]:\n",
    "    if largest_so_far is None:\n",
    "        largest_so_far = the_num\n",
    "    elif the_num > largest_so_far:\n",
    "        largest_so_far = the_num\n",
    "    print(largest_so_far, the_num)\n",
    "print('After', largest_so_far)\n",
    "\n",
    "# see that using None we can tell the largest even if all the values are negative\n"
   ]
  },
  {
   "cell_type": "code",
   "execution_count": null,
   "id": "1cb1def5",
   "metadata": {},
   "outputs": [],
   "source": [
    "# write a multiplication table using for loop\n",
    "\n",
    "num = int(input(\"Enter the number\"))\n",
    "for i in range(1, 11):\n",
    "    # print(str(num) + \" X \" + str(i) + \"=\" + str(i*num))\n",
    "    print(f\"{num}X{i}={num*i}\")\n",
    "    # using f gives the variables its value\n",
    "    # here variables are written in {}"
   ]
  },
  {
   "cell_type": "code",
   "execution_count": null,
   "id": "8d2f4bf7",
   "metadata": {},
   "outputs": [],
   "source": [
    "# greet persons from list whose name starts with 'S'\n",
    "\n",
    "l1 = [\"Harry\", \"Sohan\", \"Sachin\", \"Rahul\"]\n",
    "\n",
    "for name in l1:\n",
    "    if name.startswith(\"S\"):\n",
    "        print(\"Hello \" + name)"
   ]
  },
  {
   "cell_type": "code",
   "execution_count": null,
   "id": "703374d9",
   "metadata": {},
   "outputs": [],
   "source": [
    "# prime number or not\n",
    "\n",
    "n = int(input())\n",
    "\n",
    "for i in range(2,n):\n",
    "    if n%i == 0:\n",
    "        print('Not a prime number')\n",
    "        break\n",
    "\n",
    "else:\n",
    "    print('Prime number')\n"
   ]
  },
  {
   "cell_type": "code",
   "execution_count": null,
   "id": "1e3e9965",
   "metadata": {},
   "outputs": [],
   "source": [
    "num = int(input(\"Enter the number: \"))\n",
    "prime = True\n",
    "\n",
    "for i in range(2, num):\n",
    "    if(num%i == 0):\n",
    "        prime = False\n",
    "        break\n",
    "if prime:\n",
    "    print(\"This number is Prime\")\n",
    "else:\n",
    "    print(\"This number is not Prime\")"
   ]
  },
  {
   "cell_type": "code",
   "execution_count": null,
   "id": "abb79176",
   "metadata": {},
   "outputs": [],
   "source": [
    "# Find factorial\n",
    "\n",
    "n = int(input())\n",
    "f = 1\n",
    "\n",
    "for i in range(2,n+1):\n",
    "    f = f*i\n",
    "\n",
    "print(f)\n"
   ]
  },
  {
   "cell_type": "code",
   "execution_count": null,
   "id": "956bac4b",
   "metadata": {},
   "outputs": [],
   "source": [
    "# multiplication table in reverse order\n",
    "\n",
    "n =int(input('enter a no.: '))\n",
    "\n",
    "for i in range(10):\n",
    "    print(f'{n}x{10-i}={n*(10-i)}')\n"
   ]
  },
  {
   "cell_type": "code",
   "execution_count": 3,
   "id": "62e178b4",
   "metadata": {},
   "outputs": [
    {
     "name": "stdout",
     "output_type": "stream",
     "text": [
      "*\n",
      "**\n",
      "***\n",
      "****\n"
     ]
    }
   ],
   "source": [
    "# *\n",
    "# **\n",
    "# ***\n",
    "# ****\n",
    "# print above pattern\n",
    "\n",
    "n = 4\n",
    "for i in range(n):\n",
    "    print(\"*\" * (i+1))\n",
    "    "
   ]
  },
  {
   "cell_type": "code",
   "execution_count": 4,
   "id": "c8ddf8dd",
   "metadata": {},
   "outputs": [
    {
     "name": "stdout",
     "output_type": "stream",
     "text": [
      "\n",
      "*\n",
      "**\n",
      "***\n",
      "****\n"
     ]
    }
   ],
   "source": [
    "for i in range (n+1):\n",
    "    for j in range(i):\n",
    "        print('*',end='')\n",
    "    print()"
   ]
  },
  {
   "cell_type": "code",
   "execution_count": null,
   "id": "2542fc0a",
   "metadata": {},
   "outputs": [],
   "source": [
    "#   *  \n",
    "#  *** \n",
    "# *****\n",
    "# print above pattern\n",
    "\n",
    "n = 3\n",
    "for i in range(3): \n",
    "    print(\" \" * (n-i-1),end=\"\")\n",
    "    print(\"*\" * (2*i+1), end=\"\")\n",
    "    print(\" \" * (n-i-1))"
   ]
  },
  {
   "cell_type": "code",
   "execution_count": null,
   "id": "fee49334",
   "metadata": {},
   "outputs": [],
   "source": [
    "# ***\n",
    "# **\n",
    "# *\n",
    "# print above pattern\n",
    "\n",
    "\n",
    "n = 3\n",
    "for i in range(n):\n",
    "    print(\"*\" * (n-i)) # Prints * n-i times"
   ]
  },
  {
   "cell_type": "code",
   "execution_count": 15,
   "id": "9b1754d4",
   "metadata": {},
   "outputs": [
    {
     "name": "stdout",
     "output_type": "stream",
     "text": [
      "not prime\n"
     ]
    }
   ],
   "source": [
    "# check if the given number is prime number\n",
    "\n",
    "n = 9\n",
    "\n",
    "for i in range(2,n):\n",
    "    if n%i == 0:\n",
    "        print('not prime')\n",
    "        break\n",
    "else:    \n",
    "    print('prime')\n",
    "\n",
    "# else block only runs when all the iterations of the for loop are completed normally. \n",
    "# if there is a break anywhere(that means it completes less iterations) then the else block won't run."
   ]
  },
  {
   "cell_type": "code",
   "execution_count": 16,
   "id": "66031e08",
   "metadata": {},
   "outputs": [
    {
     "name": "stdout",
     "output_type": "stream",
     "text": [
      "non prime\n"
     ]
    }
   ],
   "source": [
    "n = 9\n",
    "\n",
    "s = True \n",
    "\n",
    "for i in range(2,n):\n",
    "    if n%i ==0:\n",
    "        s = False\n",
    "    \n",
    "if s == False:\n",
    "    print('non prime')\n",
    "else:\n",
    "    print('prime')\n",
    "\n",
    "\n"
   ]
  },
  {
   "cell_type": "code",
   "execution_count": null,
   "id": "82361ba5",
   "metadata": {},
   "outputs": [],
   "source": []
  }
 ],
 "metadata": {
  "kernelspec": {
   "display_name": "Python 3",
   "language": "python",
   "name": "python3"
  },
  "language_info": {
   "codemirror_mode": {
    "name": "ipython",
    "version": 3
   },
   "file_extension": ".py",
   "mimetype": "text/x-python",
   "name": "python",
   "nbconvert_exporter": "python",
   "pygments_lexer": "ipython3",
   "version": "3.13.5"
  }
 },
 "nbformat": 4,
 "nbformat_minor": 5
}
